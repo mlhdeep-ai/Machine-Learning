{
 "cells": [
  {
   "cell_type": "markdown",
   "id": "17a18518-8089-4050-91e4-cb6ceb7a0629",
   "metadata": {},
   "source": [
    "# Pandas Lib\n",
    "\n",
    "Source = https://pandas.pydata.org/docs/user_guide/"
   ]
  },
  {
   "cell_type": "code",
   "execution_count": 1,
   "id": "1f1cea9e-ea4c-435d-b263-c41ce9774c97",
   "metadata": {},
   "outputs": [],
   "source": [
    "import pandas as pd\n",
    "import numpy as np"
   ]
  },
  {
   "cell_type": "code",
   "execution_count": 2,
   "id": "b0d293b3-5733-46bc-9d16-81044e3cfddc",
   "metadata": {},
   "outputs": [
    {
     "data": {
      "text/plain": [
       "0         1\n",
       "1         2\n",
       "2         3\n",
       "3    Malihe\n",
       "4         0\n",
       "5       NaN\n",
       "6        -1\n",
       "dtype: object"
      ]
     },
     "execution_count": 2,
     "metadata": {},
     "output_type": "execute_result"
    }
   ],
   "source": [
    "series1 = pd.Series([1, 2, 3, 'Malihe', 0, np.nan, -1])\n",
    "series1"
   ]
  },
  {
   "cell_type": "code",
   "execution_count": 3,
   "id": "ef404d6f-8bc7-4ce7-afe1-2d86978466c0",
   "metadata": {},
   "outputs": [
    {
     "data": {
      "text/plain": [
       "str"
      ]
     },
     "execution_count": 3,
     "metadata": {},
     "output_type": "execute_result"
    }
   ],
   "source": [
    "type(series1[3])"
   ]
  },
  {
   "cell_type": "code",
   "execution_count": 4,
   "id": "73fdeed1-9adb-4da2-b978-fb4c5b2a3b17",
   "metadata": {},
   "outputs": [
    {
     "data": {
      "text/plain": [
       "-1"
      ]
     },
     "execution_count": 4,
     "metadata": {},
     "output_type": "execute_result"
    }
   ],
   "source": [
    "series1[len(series1) - 1]"
   ]
  },
  {
   "cell_type": "code",
   "execution_count": 5,
   "id": "56e07446-0454-4ee3-b8ac-90bc6d46c838",
   "metadata": {},
   "outputs": [
    {
     "data": {
      "text/plain": [
       "int"
      ]
     },
     "execution_count": 5,
     "metadata": {},
     "output_type": "execute_result"
    }
   ],
   "source": [
    "type(series1[len(series1) - 1])"
   ]
  },
  {
   "cell_type": "code",
   "execution_count": 6,
   "id": "834318d4-f297-4e7c-8ab2-9b8dfa9b808f",
   "metadata": {},
   "outputs": [
    {
     "data": {
      "text/plain": [
       "pandas.core.series.Series"
      ]
     },
     "execution_count": 6,
     "metadata": {},
     "output_type": "execute_result"
    }
   ],
   "source": [
    "type(series1)"
   ]
  },
  {
   "cell_type": "code",
   "execution_count": 7,
   "id": "b20f52d4-383b-49a3-b3cf-c4d91eb7ebc3",
   "metadata": {},
   "outputs": [
    {
     "data": {
      "text/plain": [
       "DatetimeIndex(['2024-10-15', '2024-10-16', '2024-10-17', '2024-10-18',\n",
       "               '2024-10-19', '2024-10-20', '2024-10-21', '2024-10-22',\n",
       "               '2024-10-23', '2024-10-24'],\n",
       "              dtype='datetime64[ns]', freq='D')"
      ]
     },
     "execution_count": 7,
     "metadata": {},
     "output_type": "execute_result"
    }
   ],
   "source": [
    "dates = pd.date_range(\"20241015\", periods = 10)\n",
    "dates"
   ]
  },
  {
   "cell_type": "code",
   "execution_count": 8,
   "id": "d25649d8-5493-492c-94a8-60204c52140e",
   "metadata": {},
   "outputs": [
    {
     "name": "stdout",
     "output_type": "stream",
     "text": [
      "[Timestamp('2024-10-15 00:00:00'), Timestamp('2024-10-16 00:00:00'), Timestamp('2024-10-17 00:00:00'), Timestamp('2024-10-18 00:00:00'), Timestamp('2024-10-19 00:00:00'), Timestamp('2024-10-20 00:00:00'), Timestamp('2024-10-21 00:00:00'), Timestamp('2024-10-22 00:00:00'), Timestamp('2024-10-23 00:00:00'), Timestamp('2024-10-24 00:00:00')]\n"
     ]
    }
   ],
   "source": [
    "print([d for d in dates])"
   ]
  },
  {
   "cell_type": "code",
   "execution_count": 9,
   "id": "264557b5-4231-4129-8434-1f2ac2e0e4cb",
   "metadata": {},
   "outputs": [
    {
     "name": "stdout",
     "output_type": "stream",
     "text": [
      "2024-10-15 00:00:00\n",
      "2024-10-16 00:00:00\n",
      "2024-10-17 00:00:00\n",
      "2024-10-18 00:00:00\n",
      "2024-10-19 00:00:00\n",
      "2024-10-20 00:00:00\n",
      "2024-10-21 00:00:00\n",
      "2024-10-22 00:00:00\n",
      "2024-10-23 00:00:00\n",
      "2024-10-24 00:00:00\n"
     ]
    }
   ],
   "source": [
    "print('\\n'.join(map(str, dates)))"
   ]
  },
  {
   "cell_type": "code",
   "execution_count": 10,
   "id": "63415a52-9287-4afc-946e-2c3ba389d914",
   "metadata": {},
   "outputs": [
    {
     "name": "stdout",
     "output_type": "stream",
     "text": [
      "2024-10-15 00:00:00\n",
      "2024-10-16 00:00:00\n",
      "2024-10-17 00:00:00\n",
      "2024-10-18 00:00:00\n",
      "2024-10-19 00:00:00\n",
      "2024-10-20 00:00:00\n",
      "2024-10-21 00:00:00\n",
      "2024-10-22 00:00:00\n",
      "2024-10-23 00:00:00\n",
      "2024-10-24 00:00:00\n"
     ]
    }
   ],
   "source": [
    "for d in dates:\n",
    "    print(d)"
   ]
  },
  {
   "cell_type": "markdown",
   "id": "98495b9c-3911-4eee-b48f-1600089c08cb",
   "metadata": {},
   "source": [
    "## DataFrame"
   ]
  },
  {
   "cell_type": "code",
   "execution_count": 11,
   "id": "68e57e3a-4c32-47a5-84d0-0e8d1d1366fd",
   "metadata": {},
   "outputs": [],
   "source": [
    "df = pd.DataFrame(np.random.randn(10, 4), index = dates, columns = ['A', 'B', 'C', 'D'])"
   ]
  },
  {
   "cell_type": "code",
   "execution_count": 12,
   "id": "de3243fe-5b34-4658-a039-4480cebe39a1",
   "metadata": {},
   "outputs": [
    {
     "data": {
      "text/html": [
       "<div>\n",
       "<style scoped>\n",
       "    .dataframe tbody tr th:only-of-type {\n",
       "        vertical-align: middle;\n",
       "    }\n",
       "\n",
       "    .dataframe tbody tr th {\n",
       "        vertical-align: top;\n",
       "    }\n",
       "\n",
       "    .dataframe thead th {\n",
       "        text-align: right;\n",
       "    }\n",
       "</style>\n",
       "<table border=\"1\" class=\"dataframe\">\n",
       "  <thead>\n",
       "    <tr style=\"text-align: right;\">\n",
       "      <th></th>\n",
       "      <th>A</th>\n",
       "      <th>B</th>\n",
       "      <th>C</th>\n",
       "      <th>D</th>\n",
       "    </tr>\n",
       "  </thead>\n",
       "  <tbody>\n",
       "    <tr>\n",
       "      <th>2024-10-15</th>\n",
       "      <td>0.099167</td>\n",
       "      <td>0.079288</td>\n",
       "      <td>-0.054775</td>\n",
       "      <td>-0.770853</td>\n",
       "    </tr>\n",
       "    <tr>\n",
       "      <th>2024-10-16</th>\n",
       "      <td>1.775845</td>\n",
       "      <td>-0.571162</td>\n",
       "      <td>0.022230</td>\n",
       "      <td>-0.740248</td>\n",
       "    </tr>\n",
       "    <tr>\n",
       "      <th>2024-10-17</th>\n",
       "      <td>-0.088840</td>\n",
       "      <td>1.208406</td>\n",
       "      <td>-0.802657</td>\n",
       "      <td>1.070321</td>\n",
       "    </tr>\n",
       "    <tr>\n",
       "      <th>2024-10-18</th>\n",
       "      <td>-1.361773</td>\n",
       "      <td>-0.319626</td>\n",
       "      <td>0.763728</td>\n",
       "      <td>0.151292</td>\n",
       "    </tr>\n",
       "    <tr>\n",
       "      <th>2024-10-19</th>\n",
       "      <td>2.478647</td>\n",
       "      <td>-0.678783</td>\n",
       "      <td>0.745558</td>\n",
       "      <td>-0.896008</td>\n",
       "    </tr>\n",
       "    <tr>\n",
       "      <th>2024-10-20</th>\n",
       "      <td>-1.201021</td>\n",
       "      <td>-0.602363</td>\n",
       "      <td>0.437264</td>\n",
       "      <td>1.137598</td>\n",
       "    </tr>\n",
       "    <tr>\n",
       "      <th>2024-10-21</th>\n",
       "      <td>0.633254</td>\n",
       "      <td>-0.375140</td>\n",
       "      <td>-0.817155</td>\n",
       "      <td>0.169319</td>\n",
       "    </tr>\n",
       "    <tr>\n",
       "      <th>2024-10-22</th>\n",
       "      <td>1.097421</td>\n",
       "      <td>-0.514981</td>\n",
       "      <td>-0.245980</td>\n",
       "      <td>-1.563304</td>\n",
       "    </tr>\n",
       "    <tr>\n",
       "      <th>2024-10-23</th>\n",
       "      <td>-0.496762</td>\n",
       "      <td>-0.963155</td>\n",
       "      <td>2.301437</td>\n",
       "      <td>1.855274</td>\n",
       "    </tr>\n",
       "    <tr>\n",
       "      <th>2024-10-24</th>\n",
       "      <td>-0.154019</td>\n",
       "      <td>-0.079882</td>\n",
       "      <td>-0.516889</td>\n",
       "      <td>0.011808</td>\n",
       "    </tr>\n",
       "  </tbody>\n",
       "</table>\n",
       "</div>"
      ],
      "text/plain": [
       "                   A         B         C         D\n",
       "2024-10-15  0.099167  0.079288 -0.054775 -0.770853\n",
       "2024-10-16  1.775845 -0.571162  0.022230 -0.740248\n",
       "2024-10-17 -0.088840  1.208406 -0.802657  1.070321\n",
       "2024-10-18 -1.361773 -0.319626  0.763728  0.151292\n",
       "2024-10-19  2.478647 -0.678783  0.745558 -0.896008\n",
       "2024-10-20 -1.201021 -0.602363  0.437264  1.137598\n",
       "2024-10-21  0.633254 -0.375140 -0.817155  0.169319\n",
       "2024-10-22  1.097421 -0.514981 -0.245980 -1.563304\n",
       "2024-10-23 -0.496762 -0.963155  2.301437  1.855274\n",
       "2024-10-24 -0.154019 -0.079882 -0.516889  0.011808"
      ]
     },
     "execution_count": 12,
     "metadata": {},
     "output_type": "execute_result"
    }
   ],
   "source": [
    "df"
   ]
  },
  {
   "cell_type": "code",
   "execution_count": 13,
   "id": "814f737f-3517-4fa0-9d3a-e7f5916b3559",
   "metadata": {},
   "outputs": [
    {
     "data": {
      "text/plain": [
       "pandas.core.frame.DataFrame"
      ]
     },
     "execution_count": 13,
     "metadata": {},
     "output_type": "execute_result"
    }
   ],
   "source": [
    "type(df)"
   ]
  },
  {
   "cell_type": "code",
   "execution_count": 14,
   "id": "1eb62105-6f01-453d-b2b6-9a6fafb05c3c",
   "metadata": {},
   "outputs": [
    {
     "data": {
      "text/plain": [
       "Timestamp('2024-10-16 00:00:00')"
      ]
     },
     "execution_count": 14,
     "metadata": {},
     "output_type": "execute_result"
    }
   ],
   "source": [
    "dates[1]"
   ]
  },
  {
   "cell_type": "code",
   "execution_count": 15,
   "id": "07371ea6-491a-4421-9654-0888604176b5",
   "metadata": {},
   "outputs": [
    {
     "data": {
      "text/plain": [
       "A    float64\n",
       "B    float64\n",
       "C    float64\n",
       "D    float64\n",
       "dtype: object"
      ]
     },
     "execution_count": 15,
     "metadata": {},
     "output_type": "execute_result"
    }
   ],
   "source": [
    "df.dtypes"
   ]
  },
  {
   "cell_type": "code",
   "execution_count": 16,
   "id": "8c8300fd-427a-46a7-ba9d-74e5463f9f8b",
   "metadata": {},
   "outputs": [
    {
     "name": "stdout",
     "output_type": "stream",
     "text": [
      "<class 'pandas.core.frame.DataFrame'>\n",
      "DatetimeIndex: 10 entries, 2024-10-15 to 2024-10-24\n",
      "Freq: D\n",
      "Data columns (total 4 columns):\n",
      " #   Column  Non-Null Count  Dtype  \n",
      "---  ------  --------------  -----  \n",
      " 0   A       10 non-null     float64\n",
      " 1   B       10 non-null     float64\n",
      " 2   C       10 non-null     float64\n",
      " 3   D       10 non-null     float64\n",
      "dtypes: float64(4)\n",
      "memory usage: 400.0 bytes\n"
     ]
    }
   ],
   "source": [
    "df.info()"
   ]
  },
  {
   "cell_type": "code",
   "execution_count": 17,
   "id": "3f916fea-2dc8-44df-905d-eee1e9886961",
   "metadata": {},
   "outputs": [
    {
     "data": {
      "text/plain": [
       "2024-10-15    0.099167\n",
       "2024-10-16    1.775845\n",
       "2024-10-17   -0.088840\n",
       "2024-10-18   -1.361773\n",
       "2024-10-19    2.478647\n",
       "2024-10-20   -1.201021\n",
       "2024-10-21    0.633254\n",
       "2024-10-22    1.097421\n",
       "2024-10-23   -0.496762\n",
       "2024-10-24   -0.154019\n",
       "Freq: D, Name: A, dtype: float64"
      ]
     },
     "execution_count": 17,
     "metadata": {},
     "output_type": "execute_result"
    }
   ],
   "source": [
    " df['A']"
   ]
  },
  {
   "cell_type": "code",
   "execution_count": 18,
   "id": "5129d5a8-2fac-4815-b00f-9ae1c633021f",
   "metadata": {},
   "outputs": [
    {
     "data": {
      "text/html": [
       "<div>\n",
       "<style scoped>\n",
       "    .dataframe tbody tr th:only-of-type {\n",
       "        vertical-align: middle;\n",
       "    }\n",
       "\n",
       "    .dataframe tbody tr th {\n",
       "        vertical-align: top;\n",
       "    }\n",
       "\n",
       "    .dataframe thead th {\n",
       "        text-align: right;\n",
       "    }\n",
       "</style>\n",
       "<table border=\"1\" class=\"dataframe\">\n",
       "  <thead>\n",
       "    <tr style=\"text-align: right;\">\n",
       "      <th></th>\n",
       "      <th>A</th>\n",
       "      <th>B</th>\n",
       "      <th>C</th>\n",
       "      <th>D</th>\n",
       "    </tr>\n",
       "  </thead>\n",
       "  <tbody>\n",
       "    <tr>\n",
       "      <th>2024-10-15</th>\n",
       "      <td>0.099167</td>\n",
       "      <td>0.079288</td>\n",
       "      <td>-0.054775</td>\n",
       "      <td>-0.770853</td>\n",
       "    </tr>\n",
       "    <tr>\n",
       "      <th>2024-10-16</th>\n",
       "      <td>1.775845</td>\n",
       "      <td>-0.571162</td>\n",
       "      <td>0.022230</td>\n",
       "      <td>-0.740248</td>\n",
       "    </tr>\n",
       "    <tr>\n",
       "      <th>2024-10-17</th>\n",
       "      <td>-0.088840</td>\n",
       "      <td>1.208406</td>\n",
       "      <td>-0.802657</td>\n",
       "      <td>1.070321</td>\n",
       "    </tr>\n",
       "    <tr>\n",
       "      <th>2024-10-18</th>\n",
       "      <td>-1.361773</td>\n",
       "      <td>-0.319626</td>\n",
       "      <td>0.763728</td>\n",
       "      <td>0.151292</td>\n",
       "    </tr>\n",
       "    <tr>\n",
       "      <th>2024-10-19</th>\n",
       "      <td>2.478647</td>\n",
       "      <td>-0.678783</td>\n",
       "      <td>0.745558</td>\n",
       "      <td>-0.896008</td>\n",
       "    </tr>\n",
       "    <tr>\n",
       "      <th>2024-10-20</th>\n",
       "      <td>-1.201021</td>\n",
       "      <td>-0.602363</td>\n",
       "      <td>0.437264</td>\n",
       "      <td>1.137598</td>\n",
       "    </tr>\n",
       "    <tr>\n",
       "      <th>2024-10-21</th>\n",
       "      <td>0.633254</td>\n",
       "      <td>-0.375140</td>\n",
       "      <td>-0.817155</td>\n",
       "      <td>0.169319</td>\n",
       "    </tr>\n",
       "    <tr>\n",
       "      <th>2024-10-22</th>\n",
       "      <td>1.097421</td>\n",
       "      <td>-0.514981</td>\n",
       "      <td>-0.245980</td>\n",
       "      <td>-1.563304</td>\n",
       "    </tr>\n",
       "    <tr>\n",
       "      <th>2024-10-23</th>\n",
       "      <td>-0.496762</td>\n",
       "      <td>-0.963155</td>\n",
       "      <td>2.301437</td>\n",
       "      <td>1.855274</td>\n",
       "    </tr>\n",
       "    <tr>\n",
       "      <th>2024-10-24</th>\n",
       "      <td>-0.154019</td>\n",
       "      <td>-0.079882</td>\n",
       "      <td>-0.516889</td>\n",
       "      <td>0.011808</td>\n",
       "    </tr>\n",
       "  </tbody>\n",
       "</table>\n",
       "</div>"
      ],
      "text/plain": [
       "                   A         B         C         D\n",
       "2024-10-15  0.099167  0.079288 -0.054775 -0.770853\n",
       "2024-10-16  1.775845 -0.571162  0.022230 -0.740248\n",
       "2024-10-17 -0.088840  1.208406 -0.802657  1.070321\n",
       "2024-10-18 -1.361773 -0.319626  0.763728  0.151292\n",
       "2024-10-19  2.478647 -0.678783  0.745558 -0.896008\n",
       "2024-10-20 -1.201021 -0.602363  0.437264  1.137598\n",
       "2024-10-21  0.633254 -0.375140 -0.817155  0.169319\n",
       "2024-10-22  1.097421 -0.514981 -0.245980 -1.563304\n",
       "2024-10-23 -0.496762 -0.963155  2.301437  1.855274\n",
       "2024-10-24 -0.154019 -0.079882 -0.516889  0.011808"
      ]
     },
     "execution_count": 18,
     "metadata": {},
     "output_type": "execute_result"
    }
   ],
   "source": [
    "df"
   ]
  },
  {
   "cell_type": "code",
   "execution_count": 19,
   "id": "4a299b3f-8a93-4dfc-a96c-d89f840c5891",
   "metadata": {},
   "outputs": [
    {
     "data": {
      "text/html": [
       "<div>\n",
       "<style scoped>\n",
       "    .dataframe tbody tr th:only-of-type {\n",
       "        vertical-align: middle;\n",
       "    }\n",
       "\n",
       "    .dataframe tbody tr th {\n",
       "        vertical-align: top;\n",
       "    }\n",
       "\n",
       "    .dataframe thead th {\n",
       "        text-align: right;\n",
       "    }\n",
       "</style>\n",
       "<table border=\"1\" class=\"dataframe\">\n",
       "  <thead>\n",
       "    <tr style=\"text-align: right;\">\n",
       "      <th></th>\n",
       "      <th>A</th>\n",
       "      <th>B</th>\n",
       "      <th>C</th>\n",
       "      <th>D</th>\n",
       "    </tr>\n",
       "  </thead>\n",
       "  <tbody>\n",
       "    <tr>\n",
       "      <th>2024-10-15</th>\n",
       "      <td>0.099167</td>\n",
       "      <td>0.079288</td>\n",
       "      <td>-0.054775</td>\n",
       "      <td>-0.770853</td>\n",
       "    </tr>\n",
       "    <tr>\n",
       "      <th>2024-10-16</th>\n",
       "      <td>1.775845</td>\n",
       "      <td>-0.571162</td>\n",
       "      <td>0.022230</td>\n",
       "      <td>-0.740248</td>\n",
       "    </tr>\n",
       "    <tr>\n",
       "      <th>2024-10-17</th>\n",
       "      <td>-0.088840</td>\n",
       "      <td>1.208406</td>\n",
       "      <td>-0.802657</td>\n",
       "      <td>1.070321</td>\n",
       "    </tr>\n",
       "    <tr>\n",
       "      <th>2024-10-18</th>\n",
       "      <td>-1.361773</td>\n",
       "      <td>-0.319626</td>\n",
       "      <td>0.763728</td>\n",
       "      <td>0.151292</td>\n",
       "    </tr>\n",
       "    <tr>\n",
       "      <th>2024-10-19</th>\n",
       "      <td>2.478647</td>\n",
       "      <td>-0.678783</td>\n",
       "      <td>0.745558</td>\n",
       "      <td>-0.896008</td>\n",
       "    </tr>\n",
       "  </tbody>\n",
       "</table>\n",
       "</div>"
      ],
      "text/plain": [
       "                   A         B         C         D\n",
       "2024-10-15  0.099167  0.079288 -0.054775 -0.770853\n",
       "2024-10-16  1.775845 -0.571162  0.022230 -0.740248\n",
       "2024-10-17 -0.088840  1.208406 -0.802657  1.070321\n",
       "2024-10-18 -1.361773 -0.319626  0.763728  0.151292\n",
       "2024-10-19  2.478647 -0.678783  0.745558 -0.896008"
      ]
     },
     "execution_count": 19,
     "metadata": {},
     "output_type": "execute_result"
    }
   ],
   "source": [
    "df.head()"
   ]
  },
  {
   "cell_type": "code",
   "execution_count": 20,
   "id": "8d61f332-0ed6-4bb5-947f-c066f0edc07f",
   "metadata": {},
   "outputs": [
    {
     "data": {
      "text/html": [
       "<div>\n",
       "<style scoped>\n",
       "    .dataframe tbody tr th:only-of-type {\n",
       "        vertical-align: middle;\n",
       "    }\n",
       "\n",
       "    .dataframe tbody tr th {\n",
       "        vertical-align: top;\n",
       "    }\n",
       "\n",
       "    .dataframe thead th {\n",
       "        text-align: right;\n",
       "    }\n",
       "</style>\n",
       "<table border=\"1\" class=\"dataframe\">\n",
       "  <thead>\n",
       "    <tr style=\"text-align: right;\">\n",
       "      <th></th>\n",
       "      <th>A</th>\n",
       "      <th>B</th>\n",
       "      <th>C</th>\n",
       "      <th>D</th>\n",
       "    </tr>\n",
       "  </thead>\n",
       "  <tbody>\n",
       "    <tr>\n",
       "      <th>2024-10-15</th>\n",
       "      <td>0.099167</td>\n",
       "      <td>0.079288</td>\n",
       "      <td>-0.054775</td>\n",
       "      <td>-0.770853</td>\n",
       "    </tr>\n",
       "    <tr>\n",
       "      <th>2024-10-16</th>\n",
       "      <td>1.775845</td>\n",
       "      <td>-0.571162</td>\n",
       "      <td>0.022230</td>\n",
       "      <td>-0.740248</td>\n",
       "    </tr>\n",
       "    <tr>\n",
       "      <th>2024-10-17</th>\n",
       "      <td>-0.088840</td>\n",
       "      <td>1.208406</td>\n",
       "      <td>-0.802657</td>\n",
       "      <td>1.070321</td>\n",
       "    </tr>\n",
       "  </tbody>\n",
       "</table>\n",
       "</div>"
      ],
      "text/plain": [
       "                   A         B         C         D\n",
       "2024-10-15  0.099167  0.079288 -0.054775 -0.770853\n",
       "2024-10-16  1.775845 -0.571162  0.022230 -0.740248\n",
       "2024-10-17 -0.088840  1.208406 -0.802657  1.070321"
      ]
     },
     "execution_count": 20,
     "metadata": {},
     "output_type": "execute_result"
    }
   ],
   "source": [
    "df.head(3)"
   ]
  },
  {
   "cell_type": "code",
   "execution_count": 21,
   "id": "c1580e3b-95ea-4e12-ab87-8d9ca3848b85",
   "metadata": {},
   "outputs": [
    {
     "data": {
      "text/html": [
       "<div>\n",
       "<style scoped>\n",
       "    .dataframe tbody tr th:only-of-type {\n",
       "        vertical-align: middle;\n",
       "    }\n",
       "\n",
       "    .dataframe tbody tr th {\n",
       "        vertical-align: top;\n",
       "    }\n",
       "\n",
       "    .dataframe thead th {\n",
       "        text-align: right;\n",
       "    }\n",
       "</style>\n",
       "<table border=\"1\" class=\"dataframe\">\n",
       "  <thead>\n",
       "    <tr style=\"text-align: right;\">\n",
       "      <th></th>\n",
       "      <th>A</th>\n",
       "      <th>B</th>\n",
       "      <th>C</th>\n",
       "      <th>D</th>\n",
       "    </tr>\n",
       "  </thead>\n",
       "  <tbody>\n",
       "    <tr>\n",
       "      <th>2024-10-20</th>\n",
       "      <td>-1.201021</td>\n",
       "      <td>-0.602363</td>\n",
       "      <td>0.437264</td>\n",
       "      <td>1.137598</td>\n",
       "    </tr>\n",
       "    <tr>\n",
       "      <th>2024-10-21</th>\n",
       "      <td>0.633254</td>\n",
       "      <td>-0.375140</td>\n",
       "      <td>-0.817155</td>\n",
       "      <td>0.169319</td>\n",
       "    </tr>\n",
       "    <tr>\n",
       "      <th>2024-10-22</th>\n",
       "      <td>1.097421</td>\n",
       "      <td>-0.514981</td>\n",
       "      <td>-0.245980</td>\n",
       "      <td>-1.563304</td>\n",
       "    </tr>\n",
       "    <tr>\n",
       "      <th>2024-10-23</th>\n",
       "      <td>-0.496762</td>\n",
       "      <td>-0.963155</td>\n",
       "      <td>2.301437</td>\n",
       "      <td>1.855274</td>\n",
       "    </tr>\n",
       "    <tr>\n",
       "      <th>2024-10-24</th>\n",
       "      <td>-0.154019</td>\n",
       "      <td>-0.079882</td>\n",
       "      <td>-0.516889</td>\n",
       "      <td>0.011808</td>\n",
       "    </tr>\n",
       "  </tbody>\n",
       "</table>\n",
       "</div>"
      ],
      "text/plain": [
       "                   A         B         C         D\n",
       "2024-10-20 -1.201021 -0.602363  0.437264  1.137598\n",
       "2024-10-21  0.633254 -0.375140 -0.817155  0.169319\n",
       "2024-10-22  1.097421 -0.514981 -0.245980 -1.563304\n",
       "2024-10-23 -0.496762 -0.963155  2.301437  1.855274\n",
       "2024-10-24 -0.154019 -0.079882 -0.516889  0.011808"
      ]
     },
     "execution_count": 21,
     "metadata": {},
     "output_type": "execute_result"
    }
   ],
   "source": [
    "df.tail()"
   ]
  },
  {
   "cell_type": "code",
   "execution_count": 22,
   "id": "531423f6-2008-4cd3-9b8e-9763fc82470d",
   "metadata": {},
   "outputs": [
    {
     "data": {
      "text/html": [
       "<div>\n",
       "<style scoped>\n",
       "    .dataframe tbody tr th:only-of-type {\n",
       "        vertical-align: middle;\n",
       "    }\n",
       "\n",
       "    .dataframe tbody tr th {\n",
       "        vertical-align: top;\n",
       "    }\n",
       "\n",
       "    .dataframe thead th {\n",
       "        text-align: right;\n",
       "    }\n",
       "</style>\n",
       "<table border=\"1\" class=\"dataframe\">\n",
       "  <thead>\n",
       "    <tr style=\"text-align: right;\">\n",
       "      <th></th>\n",
       "      <th>A</th>\n",
       "      <th>B</th>\n",
       "      <th>C</th>\n",
       "      <th>D</th>\n",
       "    </tr>\n",
       "  </thead>\n",
       "  <tbody>\n",
       "    <tr>\n",
       "      <th>2024-10-22</th>\n",
       "      <td>1.097421</td>\n",
       "      <td>-0.514981</td>\n",
       "      <td>-0.245980</td>\n",
       "      <td>-1.563304</td>\n",
       "    </tr>\n",
       "    <tr>\n",
       "      <th>2024-10-23</th>\n",
       "      <td>-0.496762</td>\n",
       "      <td>-0.963155</td>\n",
       "      <td>2.301437</td>\n",
       "      <td>1.855274</td>\n",
       "    </tr>\n",
       "    <tr>\n",
       "      <th>2024-10-24</th>\n",
       "      <td>-0.154019</td>\n",
       "      <td>-0.079882</td>\n",
       "      <td>-0.516889</td>\n",
       "      <td>0.011808</td>\n",
       "    </tr>\n",
       "  </tbody>\n",
       "</table>\n",
       "</div>"
      ],
      "text/plain": [
       "                   A         B         C         D\n",
       "2024-10-22  1.097421 -0.514981 -0.245980 -1.563304\n",
       "2024-10-23 -0.496762 -0.963155  2.301437  1.855274\n",
       "2024-10-24 -0.154019 -0.079882 -0.516889  0.011808"
      ]
     },
     "execution_count": 22,
     "metadata": {},
     "output_type": "execute_result"
    }
   ],
   "source": [
    "df.tail(3)"
   ]
  },
  {
   "cell_type": "code",
   "execution_count": 23,
   "id": "6b10a43f-e2a0-4dfb-89d7-bc24938d9d22",
   "metadata": {},
   "outputs": [
    {
     "data": {
      "text/html": [
       "<div>\n",
       "<style scoped>\n",
       "    .dataframe tbody tr th:only-of-type {\n",
       "        vertical-align: middle;\n",
       "    }\n",
       "\n",
       "    .dataframe tbody tr th {\n",
       "        vertical-align: top;\n",
       "    }\n",
       "\n",
       "    .dataframe thead th {\n",
       "        text-align: right;\n",
       "    }\n",
       "</style>\n",
       "<table border=\"1\" class=\"dataframe\">\n",
       "  <thead>\n",
       "    <tr style=\"text-align: right;\">\n",
       "      <th></th>\n",
       "      <th>A</th>\n",
       "      <th>B</th>\n",
       "      <th>C</th>\n",
       "      <th>D</th>\n",
       "    </tr>\n",
       "  </thead>\n",
       "  <tbody>\n",
       "    <tr>\n",
       "      <th>count</th>\n",
       "      <td>10.000000</td>\n",
       "      <td>10.000000</td>\n",
       "      <td>10.000000</td>\n",
       "      <td>10.000000</td>\n",
       "    </tr>\n",
       "    <tr>\n",
       "      <th>mean</th>\n",
       "      <td>0.278192</td>\n",
       "      <td>-0.281740</td>\n",
       "      <td>0.183276</td>\n",
       "      <td>0.042520</td>\n",
       "    </tr>\n",
       "    <tr>\n",
       "      <th>std</th>\n",
       "      <td>1.234407</td>\n",
       "      <td>0.602284</td>\n",
       "      <td>0.938925</td>\n",
       "      <td>1.070011</td>\n",
       "    </tr>\n",
       "    <tr>\n",
       "      <th>min</th>\n",
       "      <td>-1.361773</td>\n",
       "      <td>-0.963155</td>\n",
       "      <td>-0.817155</td>\n",
       "      <td>-1.563304</td>\n",
       "    </tr>\n",
       "    <tr>\n",
       "      <th>25%</th>\n",
       "      <td>-0.411076</td>\n",
       "      <td>-0.594563</td>\n",
       "      <td>-0.449162</td>\n",
       "      <td>-0.763201</td>\n",
       "    </tr>\n",
       "    <tr>\n",
       "      <th>50%</th>\n",
       "      <td>0.005164</td>\n",
       "      <td>-0.445060</td>\n",
       "      <td>-0.016273</td>\n",
       "      <td>0.081550</td>\n",
       "    </tr>\n",
       "    <tr>\n",
       "      <th>75%</th>\n",
       "      <td>0.981379</td>\n",
       "      <td>-0.139818</td>\n",
       "      <td>0.668485</td>\n",
       "      <td>0.845071</td>\n",
       "    </tr>\n",
       "    <tr>\n",
       "      <th>max</th>\n",
       "      <td>2.478647</td>\n",
       "      <td>1.208406</td>\n",
       "      <td>2.301437</td>\n",
       "      <td>1.855274</td>\n",
       "    </tr>\n",
       "  </tbody>\n",
       "</table>\n",
       "</div>"
      ],
      "text/plain": [
       "               A          B          C          D\n",
       "count  10.000000  10.000000  10.000000  10.000000\n",
       "mean    0.278192  -0.281740   0.183276   0.042520\n",
       "std     1.234407   0.602284   0.938925   1.070011\n",
       "min    -1.361773  -0.963155  -0.817155  -1.563304\n",
       "25%    -0.411076  -0.594563  -0.449162  -0.763201\n",
       "50%     0.005164  -0.445060  -0.016273   0.081550\n",
       "75%     0.981379  -0.139818   0.668485   0.845071\n",
       "max     2.478647   1.208406   2.301437   1.855274"
      ]
     },
     "execution_count": 23,
     "metadata": {},
     "output_type": "execute_result"
    }
   ],
   "source": [
    "df.describe()"
   ]
  },
  {
   "cell_type": "code",
   "execution_count": 24,
   "id": "3f20ae8c-f001-4717-a256-843943eb7eb4",
   "metadata": {},
   "outputs": [
    {
     "data": {
      "text/plain": [
       "A    0.278192\n",
       "B   -0.281740\n",
       "C    0.183276\n",
       "D    0.042520\n",
       "dtype: float64"
      ]
     },
     "execution_count": 24,
     "metadata": {},
     "output_type": "execute_result"
    }
   ],
   "source": [
    "df.mean()"
   ]
  },
  {
   "cell_type": "code",
   "execution_count": 25,
   "id": "c81fe31a-8b8b-4615-8f2c-4ae141f57ac8",
   "metadata": {},
   "outputs": [
    {
     "data": {
      "text/plain": [
       "0.2781919821237865"
      ]
     },
     "execution_count": 25,
     "metadata": {},
     "output_type": "execute_result"
    }
   ],
   "source": [
    "df['A'].mean()"
   ]
  },
  {
   "cell_type": "code",
   "execution_count": 26,
   "id": "c81bf19b-709c-480e-a223-7958babe9fc1",
   "metadata": {},
   "outputs": [
    {
     "data": {
      "text/plain": [
       "1.8552740621516053"
      ]
     },
     "execution_count": 26,
     "metadata": {},
     "output_type": "execute_result"
    }
   ],
   "source": [
    "df['D'].max()"
   ]
  },
  {
   "cell_type": "code",
   "execution_count": 27,
   "id": "f6f09846-8fd4-4e57-9b32-6cd9268b683b",
   "metadata": {},
   "outputs": [
    {
     "data": {
      "text/html": [
       "<div>\n",
       "<style scoped>\n",
       "    .dataframe tbody tr th:only-of-type {\n",
       "        vertical-align: middle;\n",
       "    }\n",
       "\n",
       "    .dataframe tbody tr th {\n",
       "        vertical-align: top;\n",
       "    }\n",
       "\n",
       "    .dataframe thead th {\n",
       "        text-align: right;\n",
       "    }\n",
       "</style>\n",
       "<table border=\"1\" class=\"dataframe\">\n",
       "  <thead>\n",
       "    <tr style=\"text-align: right;\">\n",
       "      <th></th>\n",
       "      <th>A</th>\n",
       "      <th>B</th>\n",
       "      <th>C</th>\n",
       "      <th>D</th>\n",
       "    </tr>\n",
       "  </thead>\n",
       "  <tbody>\n",
       "    <tr>\n",
       "      <th>2024-10-16</th>\n",
       "      <td>1.775845</td>\n",
       "      <td>-0.571162</td>\n",
       "      <td>0.022230</td>\n",
       "      <td>-0.740248</td>\n",
       "    </tr>\n",
       "    <tr>\n",
       "      <th>2024-10-17</th>\n",
       "      <td>-0.088840</td>\n",
       "      <td>1.208406</td>\n",
       "      <td>-0.802657</td>\n",
       "      <td>1.070321</td>\n",
       "    </tr>\n",
       "  </tbody>\n",
       "</table>\n",
       "</div>"
      ],
      "text/plain": [
       "                   A         B         C         D\n",
       "2024-10-16  1.775845 -0.571162  0.022230 -0.740248\n",
       "2024-10-17 -0.088840  1.208406 -0.802657  1.070321"
      ]
     },
     "execution_count": 27,
     "metadata": {},
     "output_type": "execute_result"
    }
   ],
   "source": [
    "df[1 : 3]"
   ]
  },
  {
   "cell_type": "code",
   "execution_count": 28,
   "id": "44d1a19a-818f-4ce6-9db1-51b57918717a",
   "metadata": {},
   "outputs": [
    {
     "data": {
      "text/plain": [
       "2024-10-16   -0.571162\n",
       "2024-10-17    1.208406\n",
       "Freq: D, Name: B, dtype: float64"
      ]
     },
     "execution_count": 28,
     "metadata": {},
     "output_type": "execute_result"
    }
   ],
   "source": [
    "df[1 : 3]['B']"
   ]
  },
  {
   "cell_type": "code",
   "execution_count": 29,
   "id": "0f776bdc-ae0e-441f-a3f9-f4682042274d",
   "metadata": {},
   "outputs": [],
   "source": [
    "df_t = df.T"
   ]
  },
  {
   "cell_type": "code",
   "execution_count": 30,
   "id": "87cc8d23-a848-46b9-b8c2-96d4593880c2",
   "metadata": {},
   "outputs": [
    {
     "data": {
      "text/html": [
       "<div>\n",
       "<style scoped>\n",
       "    .dataframe tbody tr th:only-of-type {\n",
       "        vertical-align: middle;\n",
       "    }\n",
       "\n",
       "    .dataframe tbody tr th {\n",
       "        vertical-align: top;\n",
       "    }\n",
       "\n",
       "    .dataframe thead th {\n",
       "        text-align: right;\n",
       "    }\n",
       "</style>\n",
       "<table border=\"1\" class=\"dataframe\">\n",
       "  <thead>\n",
       "    <tr style=\"text-align: right;\">\n",
       "      <th></th>\n",
       "      <th>2024-10-15</th>\n",
       "      <th>2024-10-16</th>\n",
       "      <th>2024-10-17</th>\n",
       "      <th>2024-10-18</th>\n",
       "      <th>2024-10-19</th>\n",
       "      <th>2024-10-20</th>\n",
       "      <th>2024-10-21</th>\n",
       "      <th>2024-10-22</th>\n",
       "      <th>2024-10-23</th>\n",
       "      <th>2024-10-24</th>\n",
       "    </tr>\n",
       "  </thead>\n",
       "  <tbody>\n",
       "    <tr>\n",
       "      <th>A</th>\n",
       "      <td>0.099167</td>\n",
       "      <td>1.775845</td>\n",
       "      <td>-0.088840</td>\n",
       "      <td>-1.361773</td>\n",
       "      <td>2.478647</td>\n",
       "      <td>-1.201021</td>\n",
       "      <td>0.633254</td>\n",
       "      <td>1.097421</td>\n",
       "      <td>-0.496762</td>\n",
       "      <td>-0.154019</td>\n",
       "    </tr>\n",
       "    <tr>\n",
       "      <th>B</th>\n",
       "      <td>0.079288</td>\n",
       "      <td>-0.571162</td>\n",
       "      <td>1.208406</td>\n",
       "      <td>-0.319626</td>\n",
       "      <td>-0.678783</td>\n",
       "      <td>-0.602363</td>\n",
       "      <td>-0.375140</td>\n",
       "      <td>-0.514981</td>\n",
       "      <td>-0.963155</td>\n",
       "      <td>-0.079882</td>\n",
       "    </tr>\n",
       "    <tr>\n",
       "      <th>C</th>\n",
       "      <td>-0.054775</td>\n",
       "      <td>0.022230</td>\n",
       "      <td>-0.802657</td>\n",
       "      <td>0.763728</td>\n",
       "      <td>0.745558</td>\n",
       "      <td>0.437264</td>\n",
       "      <td>-0.817155</td>\n",
       "      <td>-0.245980</td>\n",
       "      <td>2.301437</td>\n",
       "      <td>-0.516889</td>\n",
       "    </tr>\n",
       "    <tr>\n",
       "      <th>D</th>\n",
       "      <td>-0.770853</td>\n",
       "      <td>-0.740248</td>\n",
       "      <td>1.070321</td>\n",
       "      <td>0.151292</td>\n",
       "      <td>-0.896008</td>\n",
       "      <td>1.137598</td>\n",
       "      <td>0.169319</td>\n",
       "      <td>-1.563304</td>\n",
       "      <td>1.855274</td>\n",
       "      <td>0.011808</td>\n",
       "    </tr>\n",
       "  </tbody>\n",
       "</table>\n",
       "</div>"
      ],
      "text/plain": [
       "   2024-10-15  2024-10-16  2024-10-17  2024-10-18  2024-10-19  2024-10-20  \\\n",
       "A    0.099167    1.775845   -0.088840   -1.361773    2.478647   -1.201021   \n",
       "B    0.079288   -0.571162    1.208406   -0.319626   -0.678783   -0.602363   \n",
       "C   -0.054775    0.022230   -0.802657    0.763728    0.745558    0.437264   \n",
       "D   -0.770853   -0.740248    1.070321    0.151292   -0.896008    1.137598   \n",
       "\n",
       "   2024-10-21  2024-10-22  2024-10-23  2024-10-24  \n",
       "A    0.633254    1.097421   -0.496762   -0.154019  \n",
       "B   -0.375140   -0.514981   -0.963155   -0.079882  \n",
       "C   -0.817155   -0.245980    2.301437   -0.516889  \n",
       "D    0.169319   -1.563304    1.855274    0.011808  "
      ]
     },
     "execution_count": 30,
     "metadata": {},
     "output_type": "execute_result"
    }
   ],
   "source": [
    "df_t"
   ]
  },
  {
   "cell_type": "code",
   "execution_count": 31,
   "id": "ac8232ea-81de-43e1-b2a0-9a3b503f852b",
   "metadata": {},
   "outputs": [
    {
     "data": {
      "text/html": [
       "<div>\n",
       "<style scoped>\n",
       "    .dataframe tbody tr th:only-of-type {\n",
       "        vertical-align: middle;\n",
       "    }\n",
       "\n",
       "    .dataframe tbody tr th {\n",
       "        vertical-align: top;\n",
       "    }\n",
       "\n",
       "    .dataframe thead th {\n",
       "        text-align: right;\n",
       "    }\n",
       "</style>\n",
       "<table border=\"1\" class=\"dataframe\">\n",
       "  <thead>\n",
       "    <tr style=\"text-align: right;\">\n",
       "      <th></th>\n",
       "      <th>A</th>\n",
       "      <th>B</th>\n",
       "      <th>C</th>\n",
       "      <th>D</th>\n",
       "    </tr>\n",
       "  </thead>\n",
       "  <tbody>\n",
       "    <tr>\n",
       "      <th>2024-10-23</th>\n",
       "      <td>-0.496762</td>\n",
       "      <td>-0.963155</td>\n",
       "      <td>2.301437</td>\n",
       "      <td>1.855274</td>\n",
       "    </tr>\n",
       "    <tr>\n",
       "      <th>2024-10-19</th>\n",
       "      <td>2.478647</td>\n",
       "      <td>-0.678783</td>\n",
       "      <td>0.745558</td>\n",
       "      <td>-0.896008</td>\n",
       "    </tr>\n",
       "    <tr>\n",
       "      <th>2024-10-20</th>\n",
       "      <td>-1.201021</td>\n",
       "      <td>-0.602363</td>\n",
       "      <td>0.437264</td>\n",
       "      <td>1.137598</td>\n",
       "    </tr>\n",
       "    <tr>\n",
       "      <th>2024-10-16</th>\n",
       "      <td>1.775845</td>\n",
       "      <td>-0.571162</td>\n",
       "      <td>0.022230</td>\n",
       "      <td>-0.740248</td>\n",
       "    </tr>\n",
       "    <tr>\n",
       "      <th>2024-10-22</th>\n",
       "      <td>1.097421</td>\n",
       "      <td>-0.514981</td>\n",
       "      <td>-0.245980</td>\n",
       "      <td>-1.563304</td>\n",
       "    </tr>\n",
       "    <tr>\n",
       "      <th>2024-10-21</th>\n",
       "      <td>0.633254</td>\n",
       "      <td>-0.375140</td>\n",
       "      <td>-0.817155</td>\n",
       "      <td>0.169319</td>\n",
       "    </tr>\n",
       "    <tr>\n",
       "      <th>2024-10-18</th>\n",
       "      <td>-1.361773</td>\n",
       "      <td>-0.319626</td>\n",
       "      <td>0.763728</td>\n",
       "      <td>0.151292</td>\n",
       "    </tr>\n",
       "    <tr>\n",
       "      <th>2024-10-24</th>\n",
       "      <td>-0.154019</td>\n",
       "      <td>-0.079882</td>\n",
       "      <td>-0.516889</td>\n",
       "      <td>0.011808</td>\n",
       "    </tr>\n",
       "    <tr>\n",
       "      <th>2024-10-15</th>\n",
       "      <td>0.099167</td>\n",
       "      <td>0.079288</td>\n",
       "      <td>-0.054775</td>\n",
       "      <td>-0.770853</td>\n",
       "    </tr>\n",
       "    <tr>\n",
       "      <th>2024-10-17</th>\n",
       "      <td>-0.088840</td>\n",
       "      <td>1.208406</td>\n",
       "      <td>-0.802657</td>\n",
       "      <td>1.070321</td>\n",
       "    </tr>\n",
       "  </tbody>\n",
       "</table>\n",
       "</div>"
      ],
      "text/plain": [
       "                   A         B         C         D\n",
       "2024-10-23 -0.496762 -0.963155  2.301437  1.855274\n",
       "2024-10-19  2.478647 -0.678783  0.745558 -0.896008\n",
       "2024-10-20 -1.201021 -0.602363  0.437264  1.137598\n",
       "2024-10-16  1.775845 -0.571162  0.022230 -0.740248\n",
       "2024-10-22  1.097421 -0.514981 -0.245980 -1.563304\n",
       "2024-10-21  0.633254 -0.375140 -0.817155  0.169319\n",
       "2024-10-18 -1.361773 -0.319626  0.763728  0.151292\n",
       "2024-10-24 -0.154019 -0.079882 -0.516889  0.011808\n",
       "2024-10-15  0.099167  0.079288 -0.054775 -0.770853\n",
       "2024-10-17 -0.088840  1.208406 -0.802657  1.070321"
      ]
     },
     "execution_count": 31,
     "metadata": {},
     "output_type": "execute_result"
    }
   ],
   "source": [
    "df.sort_values(by = \"B\")"
   ]
  },
  {
   "cell_type": "code",
   "execution_count": 32,
   "id": "3b0298af-4dd4-415b-a9e6-ed19ce2bb460",
   "metadata": {},
   "outputs": [
    {
     "data": {
      "text/html": [
       "<div>\n",
       "<style scoped>\n",
       "    .dataframe tbody tr th:only-of-type {\n",
       "        vertical-align: middle;\n",
       "    }\n",
       "\n",
       "    .dataframe tbody tr th {\n",
       "        vertical-align: top;\n",
       "    }\n",
       "\n",
       "    .dataframe thead th {\n",
       "        text-align: right;\n",
       "    }\n",
       "</style>\n",
       "<table border=\"1\" class=\"dataframe\">\n",
       "  <thead>\n",
       "    <tr style=\"text-align: right;\">\n",
       "      <th></th>\n",
       "      <th>A</th>\n",
       "      <th>B</th>\n",
       "      <th>C</th>\n",
       "      <th>D</th>\n",
       "    </tr>\n",
       "  </thead>\n",
       "  <tbody>\n",
       "    <tr>\n",
       "      <th>2024-10-15</th>\n",
       "      <td>0.099167</td>\n",
       "      <td>0.079288</td>\n",
       "      <td>-0.054775</td>\n",
       "      <td>-0.770853</td>\n",
       "    </tr>\n",
       "    <tr>\n",
       "      <th>2024-10-16</th>\n",
       "      <td>1.775845</td>\n",
       "      <td>-0.571162</td>\n",
       "      <td>0.022230</td>\n",
       "      <td>-0.740248</td>\n",
       "    </tr>\n",
       "    <tr>\n",
       "      <th>2024-10-19</th>\n",
       "      <td>2.478647</td>\n",
       "      <td>-0.678783</td>\n",
       "      <td>0.745558</td>\n",
       "      <td>-0.896008</td>\n",
       "    </tr>\n",
       "    <tr>\n",
       "      <th>2024-10-21</th>\n",
       "      <td>0.633254</td>\n",
       "      <td>-0.375140</td>\n",
       "      <td>-0.817155</td>\n",
       "      <td>0.169319</td>\n",
       "    </tr>\n",
       "    <tr>\n",
       "      <th>2024-10-22</th>\n",
       "      <td>1.097421</td>\n",
       "      <td>-0.514981</td>\n",
       "      <td>-0.245980</td>\n",
       "      <td>-1.563304</td>\n",
       "    </tr>\n",
       "  </tbody>\n",
       "</table>\n",
       "</div>"
      ],
      "text/plain": [
       "                   A         B         C         D\n",
       "2024-10-15  0.099167  0.079288 -0.054775 -0.770853\n",
       "2024-10-16  1.775845 -0.571162  0.022230 -0.740248\n",
       "2024-10-19  2.478647 -0.678783  0.745558 -0.896008\n",
       "2024-10-21  0.633254 -0.375140 -0.817155  0.169319\n",
       "2024-10-22  1.097421 -0.514981 -0.245980 -1.563304"
      ]
     },
     "execution_count": 32,
     "metadata": {},
     "output_type": "execute_result"
    }
   ],
   "source": [
    "df[df['A'] > 0]"
   ]
  },
  {
   "cell_type": "code",
   "execution_count": 33,
   "id": "28a07ffc-ad7a-45f5-aba9-d7d863f3e7a7",
   "metadata": {},
   "outputs": [
    {
     "data": {
      "text/html": [
       "<div>\n",
       "<style scoped>\n",
       "    .dataframe tbody tr th:only-of-type {\n",
       "        vertical-align: middle;\n",
       "    }\n",
       "\n",
       "    .dataframe tbody tr th {\n",
       "        vertical-align: top;\n",
       "    }\n",
       "\n",
       "    .dataframe thead th {\n",
       "        text-align: right;\n",
       "    }\n",
       "</style>\n",
       "<table border=\"1\" class=\"dataframe\">\n",
       "  <thead>\n",
       "    <tr style=\"text-align: right;\">\n",
       "      <th></th>\n",
       "      <th>A</th>\n",
       "      <th>B</th>\n",
       "      <th>C</th>\n",
       "      <th>D</th>\n",
       "      <th>E</th>\n",
       "      <th>F</th>\n",
       "    </tr>\n",
       "  </thead>\n",
       "  <tbody>\n",
       "    <tr>\n",
       "      <th>0</th>\n",
       "      <td>1.0</td>\n",
       "      <td>2024-10-16</td>\n",
       "      <td>1.0</td>\n",
       "      <td>3</td>\n",
       "      <td>test</td>\n",
       "      <td>foo</td>\n",
       "    </tr>\n",
       "    <tr>\n",
       "      <th>1</th>\n",
       "      <td>1.0</td>\n",
       "      <td>2024-10-16</td>\n",
       "      <td>1.0</td>\n",
       "      <td>3</td>\n",
       "      <td>train</td>\n",
       "      <td>foo</td>\n",
       "    </tr>\n",
       "    <tr>\n",
       "      <th>2</th>\n",
       "      <td>1.0</td>\n",
       "      <td>2024-10-16</td>\n",
       "      <td>1.0</td>\n",
       "      <td>3</td>\n",
       "      <td>test</td>\n",
       "      <td>foo</td>\n",
       "    </tr>\n",
       "    <tr>\n",
       "      <th>3</th>\n",
       "      <td>1.0</td>\n",
       "      <td>2024-10-16</td>\n",
       "      <td>1.0</td>\n",
       "      <td>3</td>\n",
       "      <td>train</td>\n",
       "      <td>foo</td>\n",
       "    </tr>\n",
       "  </tbody>\n",
       "</table>\n",
       "</div>"
      ],
      "text/plain": [
       "     A          B    C  D      E    F\n",
       "0  1.0 2024-10-16  1.0  3   test  foo\n",
       "1  1.0 2024-10-16  1.0  3  train  foo\n",
       "2  1.0 2024-10-16  1.0  3   test  foo\n",
       "3  1.0 2024-10-16  1.0  3  train  foo"
      ]
     },
     "execution_count": 33,
     "metadata": {},
     "output_type": "execute_result"
    }
   ],
   "source": [
    "df2 = pd.DataFrame(\n",
    "    {\n",
    "        \"A\" : 1.0,\n",
    "        \"B\" : pd.Timestamp(\"20241016\"),\n",
    "        \"C\" : pd.Series(1, index = list(range(4)), dtype = \"float32\"),\n",
    "        \"D\" : np.array([3] * 4, dtype = \"int32\"),\n",
    "        \"E\" : pd.Categorical([\"test\", \"train\", \"test\", \"train\"]),\n",
    "        \"F\" : \"foo\",\n",
    "    }\n",
    ")\n",
    "\n",
    "df2"
   ]
  },
  {
   "cell_type": "code",
   "execution_count": 34,
   "id": "2086516f-bf85-4398-9b2e-02e6b49a57dd",
   "metadata": {},
   "outputs": [
    {
     "data": {
      "text/plain": [
       "A          float64\n",
       "B    datetime64[s]\n",
       "C          float32\n",
       "D            int32\n",
       "E         category\n",
       "F           object\n",
       "dtype: object"
      ]
     },
     "execution_count": 34,
     "metadata": {},
     "output_type": "execute_result"
    }
   ],
   "source": [
    "df2.dtypes"
   ]
  },
  {
   "cell_type": "code",
   "execution_count": 35,
   "id": "3e2a8de6-456c-4442-a85d-43d4f0bafeca",
   "metadata": {},
   "outputs": [
    {
     "data": {
      "text/plain": [
       "Index([0, 1, 2, 3], dtype='int64')"
      ]
     },
     "execution_count": 35,
     "metadata": {},
     "output_type": "execute_result"
    }
   ],
   "source": [
    "df2.index"
   ]
  },
  {
   "cell_type": "code",
   "execution_count": 36,
   "id": "7447f141-e8f8-4066-a784-2451e3bff3e1",
   "metadata": {},
   "outputs": [
    {
     "data": {
      "text/plain": [
       "array([[1.0, Timestamp('2024-10-16 00:00:00'), 1.0, 3, 'test', 'foo'],\n",
       "       [1.0, Timestamp('2024-10-16 00:00:00'), 1.0, 3, 'train', 'foo'],\n",
       "       [1.0, Timestamp('2024-10-16 00:00:00'), 1.0, 3, 'test', 'foo'],\n",
       "       [1.0, Timestamp('2024-10-16 00:00:00'), 1.0, 3, 'train', 'foo']],\n",
       "      dtype=object)"
      ]
     },
     "execution_count": 36,
     "metadata": {},
     "output_type": "execute_result"
    }
   ],
   "source": [
    "df2.to_numpy()"
   ]
  },
  {
   "cell_type": "code",
   "execution_count": 37,
   "id": "5a719936-9534-40a4-8eb8-54d64367373c",
   "metadata": {},
   "outputs": [
    {
     "data": {
      "text/html": [
       "<div>\n",
       "<style scoped>\n",
       "    .dataframe tbody tr th:only-of-type {\n",
       "        vertical-align: middle;\n",
       "    }\n",
       "\n",
       "    .dataframe tbody tr th {\n",
       "        vertical-align: top;\n",
       "    }\n",
       "\n",
       "    .dataframe thead th {\n",
       "        text-align: right;\n",
       "    }\n",
       "</style>\n",
       "<table border=\"1\" class=\"dataframe\">\n",
       "  <thead>\n",
       "    <tr style=\"text-align: right;\">\n",
       "      <th></th>\n",
       "      <th>A</th>\n",
       "      <th>B</th>\n",
       "      <th>C</th>\n",
       "      <th>D</th>\n",
       "      <th>E</th>\n",
       "      <th>F</th>\n",
       "    </tr>\n",
       "  </thead>\n",
       "  <tbody>\n",
       "    <tr>\n",
       "      <th>0</th>\n",
       "      <td>1.0</td>\n",
       "      <td>2024-10-16</td>\n",
       "      <td>1.0</td>\n",
       "      <td>3</td>\n",
       "      <td>test</td>\n",
       "      <td>foo</td>\n",
       "    </tr>\n",
       "    <tr>\n",
       "      <th>1</th>\n",
       "      <td>1.0</td>\n",
       "      <td>2024-10-16</td>\n",
       "      <td>1.0</td>\n",
       "      <td>3</td>\n",
       "      <td>train</td>\n",
       "      <td>foo</td>\n",
       "    </tr>\n",
       "    <tr>\n",
       "      <th>2</th>\n",
       "      <td>1.0</td>\n",
       "      <td>2024-10-16</td>\n",
       "      <td>1.0</td>\n",
       "      <td>3</td>\n",
       "      <td>test</td>\n",
       "      <td>foo</td>\n",
       "    </tr>\n",
       "    <tr>\n",
       "      <th>3</th>\n",
       "      <td>1.0</td>\n",
       "      <td>2024-10-16</td>\n",
       "      <td>1.0</td>\n",
       "      <td>3</td>\n",
       "      <td>train</td>\n",
       "      <td>foo</td>\n",
       "    </tr>\n",
       "  </tbody>\n",
       "</table>\n",
       "</div>"
      ],
      "text/plain": [
       "     A          B    C  D      E    F\n",
       "0  1.0 2024-10-16  1.0  3   test  foo\n",
       "1  1.0 2024-10-16  1.0  3  train  foo\n",
       "2  1.0 2024-10-16  1.0  3   test  foo\n",
       "3  1.0 2024-10-16  1.0  3  train  foo"
      ]
     },
     "execution_count": 37,
     "metadata": {},
     "output_type": "execute_result"
    }
   ],
   "source": [
    "df2"
   ]
  },
  {
   "cell_type": "code",
   "execution_count": 38,
   "id": "5c4f0189-0178-4ac0-ae55-42ee9d7a9e86",
   "metadata": {},
   "outputs": [
    {
     "data": {
      "text/plain": [
       "0    1.0\n",
       "1    1.0\n",
       "2    1.0\n",
       "3    1.0\n",
       "Name: A, dtype: float64"
      ]
     },
     "execution_count": 38,
     "metadata": {},
     "output_type": "execute_result"
    }
   ],
   "source": [
    "df2['A']"
   ]
  },
  {
   "cell_type": "code",
   "execution_count": 39,
   "id": "b5ca762b-ad71-41de-b517-09e941ddbbac",
   "metadata": {},
   "outputs": [
    {
     "data": {
      "text/plain": [
       "0    1.0\n",
       "1    1.0\n",
       "2    1.0\n",
       "3    1.0\n",
       "Name: A, dtype: float64"
      ]
     },
     "execution_count": 39,
     "metadata": {},
     "output_type": "execute_result"
    }
   ],
   "source": [
    "df2.A"
   ]
  },
  {
   "cell_type": "code",
   "execution_count": 40,
   "id": "e07abc7f-72da-4d31-94eb-f102bd5fa58d",
   "metadata": {},
   "outputs": [
    {
     "data": {
      "text/html": [
       "<div>\n",
       "<style scoped>\n",
       "    .dataframe tbody tr th:only-of-type {\n",
       "        vertical-align: middle;\n",
       "    }\n",
       "\n",
       "    .dataframe tbody tr th {\n",
       "        vertical-align: top;\n",
       "    }\n",
       "\n",
       "    .dataframe thead th {\n",
       "        text-align: right;\n",
       "    }\n",
       "</style>\n",
       "<table border=\"1\" class=\"dataframe\">\n",
       "  <thead>\n",
       "    <tr style=\"text-align: right;\">\n",
       "      <th></th>\n",
       "      <th>A</th>\n",
       "      <th>B</th>\n",
       "      <th>C</th>\n",
       "      <th>D</th>\n",
       "      <th>E</th>\n",
       "      <th>F</th>\n",
       "    </tr>\n",
       "  </thead>\n",
       "  <tbody>\n",
       "    <tr>\n",
       "      <th>1</th>\n",
       "      <td>1.0</td>\n",
       "      <td>2024-10-16</td>\n",
       "      <td>1.0</td>\n",
       "      <td>3</td>\n",
       "      <td>train</td>\n",
       "      <td>foo</td>\n",
       "    </tr>\n",
       "    <tr>\n",
       "      <th>2</th>\n",
       "      <td>1.0</td>\n",
       "      <td>2024-10-16</td>\n",
       "      <td>1.0</td>\n",
       "      <td>3</td>\n",
       "      <td>test</td>\n",
       "      <td>foo</td>\n",
       "    </tr>\n",
       "  </tbody>\n",
       "</table>\n",
       "</div>"
      ],
      "text/plain": [
       "     A          B    C  D      E    F\n",
       "1  1.0 2024-10-16  1.0  3  train  foo\n",
       "2  1.0 2024-10-16  1.0  3   test  foo"
      ]
     },
     "execution_count": 40,
     "metadata": {},
     "output_type": "execute_result"
    }
   ],
   "source": [
    "df2[1 : 3]"
   ]
  },
  {
   "cell_type": "code",
   "execution_count": 41,
   "id": "f0b96265-c487-41c5-b13d-c8758e9c02cd",
   "metadata": {},
   "outputs": [
    {
     "data": {
      "text/html": [
       "<div>\n",
       "<style scoped>\n",
       "    .dataframe tbody tr th:only-of-type {\n",
       "        vertical-align: middle;\n",
       "    }\n",
       "\n",
       "    .dataframe tbody tr th {\n",
       "        vertical-align: top;\n",
       "    }\n",
       "\n",
       "    .dataframe thead th {\n",
       "        text-align: right;\n",
       "    }\n",
       "</style>\n",
       "<table border=\"1\" class=\"dataframe\">\n",
       "  <thead>\n",
       "    <tr style=\"text-align: right;\">\n",
       "      <th></th>\n",
       "      <th>A</th>\n",
       "      <th>B</th>\n",
       "      <th>C</th>\n",
       "      <th>D</th>\n",
       "    </tr>\n",
       "  </thead>\n",
       "  <tbody>\n",
       "    <tr>\n",
       "      <th>2024-10-15</th>\n",
       "      <td>0.099167</td>\n",
       "      <td>0.079288</td>\n",
       "      <td>-0.054775</td>\n",
       "      <td>-0.770853</td>\n",
       "    </tr>\n",
       "    <tr>\n",
       "      <th>2024-10-16</th>\n",
       "      <td>1.775845</td>\n",
       "      <td>-0.571162</td>\n",
       "      <td>0.022230</td>\n",
       "      <td>-0.740248</td>\n",
       "    </tr>\n",
       "    <tr>\n",
       "      <th>2024-10-17</th>\n",
       "      <td>-0.088840</td>\n",
       "      <td>1.208406</td>\n",
       "      <td>-0.802657</td>\n",
       "      <td>1.070321</td>\n",
       "    </tr>\n",
       "    <tr>\n",
       "      <th>2024-10-18</th>\n",
       "      <td>-1.361773</td>\n",
       "      <td>-0.319626</td>\n",
       "      <td>0.763728</td>\n",
       "      <td>0.151292</td>\n",
       "    </tr>\n",
       "    <tr>\n",
       "      <th>2024-10-19</th>\n",
       "      <td>2.478647</td>\n",
       "      <td>-0.678783</td>\n",
       "      <td>0.745558</td>\n",
       "      <td>-0.896008</td>\n",
       "    </tr>\n",
       "    <tr>\n",
       "      <th>2024-10-20</th>\n",
       "      <td>-1.201021</td>\n",
       "      <td>-0.602363</td>\n",
       "      <td>0.437264</td>\n",
       "      <td>1.137598</td>\n",
       "    </tr>\n",
       "    <tr>\n",
       "      <th>2024-10-21</th>\n",
       "      <td>0.633254</td>\n",
       "      <td>-0.375140</td>\n",
       "      <td>-0.817155</td>\n",
       "      <td>0.169319</td>\n",
       "    </tr>\n",
       "    <tr>\n",
       "      <th>2024-10-22</th>\n",
       "      <td>1.097421</td>\n",
       "      <td>-0.514981</td>\n",
       "      <td>-0.245980</td>\n",
       "      <td>-1.563304</td>\n",
       "    </tr>\n",
       "    <tr>\n",
       "      <th>2024-10-23</th>\n",
       "      <td>-0.496762</td>\n",
       "      <td>-0.963155</td>\n",
       "      <td>2.301437</td>\n",
       "      <td>1.855274</td>\n",
       "    </tr>\n",
       "    <tr>\n",
       "      <th>2024-10-24</th>\n",
       "      <td>-0.154019</td>\n",
       "      <td>-0.079882</td>\n",
       "      <td>-0.516889</td>\n",
       "      <td>0.011808</td>\n",
       "    </tr>\n",
       "  </tbody>\n",
       "</table>\n",
       "</div>"
      ],
      "text/plain": [
       "                   A         B         C         D\n",
       "2024-10-15  0.099167  0.079288 -0.054775 -0.770853\n",
       "2024-10-16  1.775845 -0.571162  0.022230 -0.740248\n",
       "2024-10-17 -0.088840  1.208406 -0.802657  1.070321\n",
       "2024-10-18 -1.361773 -0.319626  0.763728  0.151292\n",
       "2024-10-19  2.478647 -0.678783  0.745558 -0.896008\n",
       "2024-10-20 -1.201021 -0.602363  0.437264  1.137598\n",
       "2024-10-21  0.633254 -0.375140 -0.817155  0.169319\n",
       "2024-10-22  1.097421 -0.514981 -0.245980 -1.563304\n",
       "2024-10-23 -0.496762 -0.963155  2.301437  1.855274\n",
       "2024-10-24 -0.154019 -0.079882 -0.516889  0.011808"
      ]
     },
     "execution_count": 41,
     "metadata": {},
     "output_type": "execute_result"
    }
   ],
   "source": [
    "df"
   ]
  },
  {
   "cell_type": "code",
   "execution_count": 42,
   "id": "94dad612-3eb3-4b95-9fe8-5376ac8fbcaf",
   "metadata": {},
   "outputs": [
    {
     "data": {
      "text/html": [
       "<div>\n",
       "<style scoped>\n",
       "    .dataframe tbody tr th:only-of-type {\n",
       "        vertical-align: middle;\n",
       "    }\n",
       "\n",
       "    .dataframe tbody tr th {\n",
       "        vertical-align: top;\n",
       "    }\n",
       "\n",
       "    .dataframe thead th {\n",
       "        text-align: right;\n",
       "    }\n",
       "</style>\n",
       "<table border=\"1\" class=\"dataframe\">\n",
       "  <thead>\n",
       "    <tr style=\"text-align: right;\">\n",
       "      <th></th>\n",
       "      <th>A</th>\n",
       "      <th>B</th>\n",
       "      <th>C</th>\n",
       "      <th>D</th>\n",
       "    </tr>\n",
       "  </thead>\n",
       "  <tbody>\n",
       "    <tr>\n",
       "      <th>2024-10-18</th>\n",
       "      <td>-1.361773</td>\n",
       "      <td>-0.319626</td>\n",
       "      <td>0.763728</td>\n",
       "      <td>0.151292</td>\n",
       "    </tr>\n",
       "    <tr>\n",
       "      <th>2024-10-19</th>\n",
       "      <td>2.478647</td>\n",
       "      <td>-0.678783</td>\n",
       "      <td>0.745558</td>\n",
       "      <td>-0.896008</td>\n",
       "    </tr>\n",
       "    <tr>\n",
       "      <th>2024-10-20</th>\n",
       "      <td>-1.201021</td>\n",
       "      <td>-0.602363</td>\n",
       "      <td>0.437264</td>\n",
       "      <td>1.137598</td>\n",
       "    </tr>\n",
       "  </tbody>\n",
       "</table>\n",
       "</div>"
      ],
      "text/plain": [
       "                   A         B         C         D\n",
       "2024-10-18 -1.361773 -0.319626  0.763728  0.151292\n",
       "2024-10-19  2.478647 -0.678783  0.745558 -0.896008\n",
       "2024-10-20 -1.201021 -0.602363  0.437264  1.137598"
      ]
     },
     "execution_count": 42,
     "metadata": {},
     "output_type": "execute_result"
    }
   ],
   "source": [
    "df[\"20241018\" : \"20241020\"]"
   ]
  },
  {
   "cell_type": "code",
   "execution_count": 43,
   "id": "0eb10765-e707-4ea2-bd91-e0095b94134c",
   "metadata": {},
   "outputs": [
    {
     "data": {
      "text/plain": [
       "A    0.099167\n",
       "B    0.079288\n",
       "C   -0.054775\n",
       "D   -0.770853\n",
       "Name: 2024-10-15 00:00:00, dtype: float64"
      ]
     },
     "execution_count": 43,
     "metadata": {},
     "output_type": "execute_result"
    }
   ],
   "source": [
    "df.loc[dates[0]]"
   ]
  },
  {
   "cell_type": "code",
   "execution_count": 44,
   "id": "5d7c5157-f759-4759-b881-c9a01f8253d2",
   "metadata": {},
   "outputs": [
    {
     "data": {
      "text/plain": [
       "A   -1.361773\n",
       "B   -0.319626\n",
       "C    0.763728\n",
       "D    0.151292\n",
       "Name: 2024-10-18 00:00:00, dtype: float64"
      ]
     },
     "execution_count": 44,
     "metadata": {},
     "output_type": "execute_result"
    }
   ],
   "source": [
    "df.loc['2024-10-18']"
   ]
  },
  {
   "cell_type": "code",
   "execution_count": 45,
   "id": "c606a69b-f1df-4dca-9852-9caca40f6e55",
   "metadata": {},
   "outputs": [
    {
     "data": {
      "text/html": [
       "<div>\n",
       "<style scoped>\n",
       "    .dataframe tbody tr th:only-of-type {\n",
       "        vertical-align: middle;\n",
       "    }\n",
       "\n",
       "    .dataframe tbody tr th {\n",
       "        vertical-align: top;\n",
       "    }\n",
       "\n",
       "    .dataframe thead th {\n",
       "        text-align: right;\n",
       "    }\n",
       "</style>\n",
       "<table border=\"1\" class=\"dataframe\">\n",
       "  <thead>\n",
       "    <tr style=\"text-align: right;\">\n",
       "      <th></th>\n",
       "      <th>B</th>\n",
       "      <th>D</th>\n",
       "    </tr>\n",
       "  </thead>\n",
       "  <tbody>\n",
       "    <tr>\n",
       "      <th>2024-10-15</th>\n",
       "      <td>0.079288</td>\n",
       "      <td>-0.770853</td>\n",
       "    </tr>\n",
       "    <tr>\n",
       "      <th>2024-10-16</th>\n",
       "      <td>-0.571162</td>\n",
       "      <td>-0.740248</td>\n",
       "    </tr>\n",
       "    <tr>\n",
       "      <th>2024-10-17</th>\n",
       "      <td>1.208406</td>\n",
       "      <td>1.070321</td>\n",
       "    </tr>\n",
       "    <tr>\n",
       "      <th>2024-10-18</th>\n",
       "      <td>-0.319626</td>\n",
       "      <td>0.151292</td>\n",
       "    </tr>\n",
       "    <tr>\n",
       "      <th>2024-10-19</th>\n",
       "      <td>-0.678783</td>\n",
       "      <td>-0.896008</td>\n",
       "    </tr>\n",
       "    <tr>\n",
       "      <th>2024-10-20</th>\n",
       "      <td>-0.602363</td>\n",
       "      <td>1.137598</td>\n",
       "    </tr>\n",
       "    <tr>\n",
       "      <th>2024-10-21</th>\n",
       "      <td>-0.375140</td>\n",
       "      <td>0.169319</td>\n",
       "    </tr>\n",
       "    <tr>\n",
       "      <th>2024-10-22</th>\n",
       "      <td>-0.514981</td>\n",
       "      <td>-1.563304</td>\n",
       "    </tr>\n",
       "    <tr>\n",
       "      <th>2024-10-23</th>\n",
       "      <td>-0.963155</td>\n",
       "      <td>1.855274</td>\n",
       "    </tr>\n",
       "    <tr>\n",
       "      <th>2024-10-24</th>\n",
       "      <td>-0.079882</td>\n",
       "      <td>0.011808</td>\n",
       "    </tr>\n",
       "  </tbody>\n",
       "</table>\n",
       "</div>"
      ],
      "text/plain": [
       "                   B         D\n",
       "2024-10-15  0.079288 -0.770853\n",
       "2024-10-16 -0.571162 -0.740248\n",
       "2024-10-17  1.208406  1.070321\n",
       "2024-10-18 -0.319626  0.151292\n",
       "2024-10-19 -0.678783 -0.896008\n",
       "2024-10-20 -0.602363  1.137598\n",
       "2024-10-21 -0.375140  0.169319\n",
       "2024-10-22 -0.514981 -1.563304\n",
       "2024-10-23 -0.963155  1.855274\n",
       "2024-10-24 -0.079882  0.011808"
      ]
     },
     "execution_count": 45,
     "metadata": {},
     "output_type": "execute_result"
    }
   ],
   "source": [
    "df.loc[:, [\"B\", \"D\"]]"
   ]
  },
  {
   "cell_type": "code",
   "execution_count": 46,
   "id": "e2596e65-a55d-4074-b267-cc636cddb194",
   "metadata": {},
   "outputs": [
    {
     "data": {
      "text/html": [
       "<div>\n",
       "<style scoped>\n",
       "    .dataframe tbody tr th:only-of-type {\n",
       "        vertical-align: middle;\n",
       "    }\n",
       "\n",
       "    .dataframe tbody tr th {\n",
       "        vertical-align: top;\n",
       "    }\n",
       "\n",
       "    .dataframe thead th {\n",
       "        text-align: right;\n",
       "    }\n",
       "</style>\n",
       "<table border=\"1\" class=\"dataframe\">\n",
       "  <thead>\n",
       "    <tr style=\"text-align: right;\">\n",
       "      <th></th>\n",
       "      <th>A</th>\n",
       "      <th>B</th>\n",
       "    </tr>\n",
       "  </thead>\n",
       "  <tbody>\n",
       "    <tr>\n",
       "      <th>2024-10-20</th>\n",
       "      <td>-1.201021</td>\n",
       "      <td>-0.602363</td>\n",
       "    </tr>\n",
       "    <tr>\n",
       "      <th>2024-10-21</th>\n",
       "      <td>0.633254</td>\n",
       "      <td>-0.375140</td>\n",
       "    </tr>\n",
       "    <tr>\n",
       "      <th>2024-10-22</th>\n",
       "      <td>1.097421</td>\n",
       "      <td>-0.514981</td>\n",
       "    </tr>\n",
       "    <tr>\n",
       "      <th>2024-10-23</th>\n",
       "      <td>-0.496762</td>\n",
       "      <td>-0.963155</td>\n",
       "    </tr>\n",
       "    <tr>\n",
       "      <th>2024-10-24</th>\n",
       "      <td>-0.154019</td>\n",
       "      <td>-0.079882</td>\n",
       "    </tr>\n",
       "  </tbody>\n",
       "</table>\n",
       "</div>"
      ],
      "text/plain": [
       "                   A         B\n",
       "2024-10-20 -1.201021 -0.602363\n",
       "2024-10-21  0.633254 -0.375140\n",
       "2024-10-22  1.097421 -0.514981\n",
       "2024-10-23 -0.496762 -0.963155\n",
       "2024-10-24 -0.154019 -0.079882"
      ]
     },
     "execution_count": 46,
     "metadata": {},
     "output_type": "execute_result"
    }
   ],
   "source": [
    "df.loc[\"2024-10-20\" : \"2024-10-24\", [\"A\", \"B\"]]"
   ]
  },
  {
   "cell_type": "code",
   "execution_count": 47,
   "id": "e0f22ddc-5ee9-4ba1-bc7a-fba96351b7d4",
   "metadata": {},
   "outputs": [
    {
     "data": {
      "text/plain": [
       "0.09916693223517291"
      ]
     },
     "execution_count": 47,
     "metadata": {},
     "output_type": "execute_result"
    }
   ],
   "source": [
    "df.loc[dates[0], \"A\"]"
   ]
  },
  {
   "cell_type": "code",
   "execution_count": 48,
   "id": "47af48fc-3fb7-49e7-8396-3bbe760efe19",
   "metadata": {},
   "outputs": [
    {
     "data": {
      "text/plain": [
       "0.09916693223517291"
      ]
     },
     "execution_count": 48,
     "metadata": {},
     "output_type": "execute_result"
    }
   ],
   "source": [
    "df.at[dates[0], \"A\"]"
   ]
  },
  {
   "cell_type": "code",
   "execution_count": 49,
   "id": "0000d75c-5824-4c77-8eed-a008baf41c8f",
   "metadata": {},
   "outputs": [
    {
     "data": {
      "text/html": [
       "<div>\n",
       "<style scoped>\n",
       "    .dataframe tbody tr th:only-of-type {\n",
       "        vertical-align: middle;\n",
       "    }\n",
       "\n",
       "    .dataframe tbody tr th {\n",
       "        vertical-align: top;\n",
       "    }\n",
       "\n",
       "    .dataframe thead th {\n",
       "        text-align: right;\n",
       "    }\n",
       "</style>\n",
       "<table border=\"1\" class=\"dataframe\">\n",
       "  <thead>\n",
       "    <tr style=\"text-align: right;\">\n",
       "      <th></th>\n",
       "      <th>A</th>\n",
       "      <th>B</th>\n",
       "      <th>C</th>\n",
       "      <th>D</th>\n",
       "    </tr>\n",
       "  </thead>\n",
       "  <tbody>\n",
       "    <tr>\n",
       "      <th>2024-10-15</th>\n",
       "      <td>0.099167</td>\n",
       "      <td>0.079288</td>\n",
       "      <td>-0.054775</td>\n",
       "      <td>-0.770853</td>\n",
       "    </tr>\n",
       "    <tr>\n",
       "      <th>2024-10-16</th>\n",
       "      <td>1.775845</td>\n",
       "      <td>-0.571162</td>\n",
       "      <td>0.022230</td>\n",
       "      <td>-0.740248</td>\n",
       "    </tr>\n",
       "    <tr>\n",
       "      <th>2024-10-17</th>\n",
       "      <td>-0.088840</td>\n",
       "      <td>1.208406</td>\n",
       "      <td>-0.802657</td>\n",
       "      <td>1.070321</td>\n",
       "    </tr>\n",
       "    <tr>\n",
       "      <th>2024-10-18</th>\n",
       "      <td>-1.361773</td>\n",
       "      <td>-0.319626</td>\n",
       "      <td>0.763728</td>\n",
       "      <td>0.151292</td>\n",
       "    </tr>\n",
       "    <tr>\n",
       "      <th>2024-10-19</th>\n",
       "      <td>2.478647</td>\n",
       "      <td>-0.678783</td>\n",
       "      <td>0.745558</td>\n",
       "      <td>-0.896008</td>\n",
       "    </tr>\n",
       "    <tr>\n",
       "      <th>2024-10-20</th>\n",
       "      <td>-1.201021</td>\n",
       "      <td>-0.602363</td>\n",
       "      <td>0.437264</td>\n",
       "      <td>1.137598</td>\n",
       "    </tr>\n",
       "    <tr>\n",
       "      <th>2024-10-21</th>\n",
       "      <td>0.633254</td>\n",
       "      <td>-0.375140</td>\n",
       "      <td>-0.817155</td>\n",
       "      <td>0.169319</td>\n",
       "    </tr>\n",
       "    <tr>\n",
       "      <th>2024-10-22</th>\n",
       "      <td>1.097421</td>\n",
       "      <td>-0.514981</td>\n",
       "      <td>-0.245980</td>\n",
       "      <td>-1.563304</td>\n",
       "    </tr>\n",
       "    <tr>\n",
       "      <th>2024-10-23</th>\n",
       "      <td>-0.496762</td>\n",
       "      <td>-0.963155</td>\n",
       "      <td>2.301437</td>\n",
       "      <td>1.855274</td>\n",
       "    </tr>\n",
       "    <tr>\n",
       "      <th>2024-10-24</th>\n",
       "      <td>-0.154019</td>\n",
       "      <td>-0.079882</td>\n",
       "      <td>-0.516889</td>\n",
       "      <td>0.011808</td>\n",
       "    </tr>\n",
       "  </tbody>\n",
       "</table>\n",
       "</div>"
      ],
      "text/plain": [
       "                   A         B         C         D\n",
       "2024-10-15  0.099167  0.079288 -0.054775 -0.770853\n",
       "2024-10-16  1.775845 -0.571162  0.022230 -0.740248\n",
       "2024-10-17 -0.088840  1.208406 -0.802657  1.070321\n",
       "2024-10-18 -1.361773 -0.319626  0.763728  0.151292\n",
       "2024-10-19  2.478647 -0.678783  0.745558 -0.896008\n",
       "2024-10-20 -1.201021 -0.602363  0.437264  1.137598\n",
       "2024-10-21  0.633254 -0.375140 -0.817155  0.169319\n",
       "2024-10-22  1.097421 -0.514981 -0.245980 -1.563304\n",
       "2024-10-23 -0.496762 -0.963155  2.301437  1.855274\n",
       "2024-10-24 -0.154019 -0.079882 -0.516889  0.011808"
      ]
     },
     "execution_count": 49,
     "metadata": {},
     "output_type": "execute_result"
    }
   ],
   "source": [
    "df"
   ]
  },
  {
   "cell_type": "code",
   "execution_count": 50,
   "id": "521f669b-0a38-45a4-8c60-7e2e15b3c091",
   "metadata": {},
   "outputs": [
    {
     "data": {
      "text/plain": [
       "A   -1.361773\n",
       "B   -0.319626\n",
       "C    0.763728\n",
       "D    0.151292\n",
       "Name: 2024-10-18 00:00:00, dtype: float64"
      ]
     },
     "execution_count": 50,
     "metadata": {},
     "output_type": "execute_result"
    }
   ],
   "source": [
    "df.iloc[3]"
   ]
  },
  {
   "cell_type": "code",
   "execution_count": 51,
   "id": "82679db8-ea4f-4b32-b4e6-4a16524d2588",
   "metadata": {},
   "outputs": [
    {
     "data": {
      "text/plain": [
       "dtype('float64')"
      ]
     },
     "execution_count": 51,
     "metadata": {},
     "output_type": "execute_result"
    }
   ],
   "source": [
    "df.iloc[3].dtypes"
   ]
  },
  {
   "cell_type": "code",
   "execution_count": 52,
   "id": "9bf2a946-0bd9-4d58-883a-42284f1f4274",
   "metadata": {},
   "outputs": [
    {
     "data": {
      "text/plain": [
       "pandas.core.series.Series"
      ]
     },
     "execution_count": 52,
     "metadata": {},
     "output_type": "execute_result"
    }
   ],
   "source": [
    "type(df.iloc[3])"
   ]
  },
  {
   "cell_type": "code",
   "execution_count": 53,
   "id": "7d940caf-7f3b-4949-94b1-f912e44c6064",
   "metadata": {},
   "outputs": [
    {
     "data": {
      "text/html": [
       "<div>\n",
       "<style scoped>\n",
       "    .dataframe tbody tr th:only-of-type {\n",
       "        vertical-align: middle;\n",
       "    }\n",
       "\n",
       "    .dataframe tbody tr th {\n",
       "        vertical-align: top;\n",
       "    }\n",
       "\n",
       "    .dataframe thead th {\n",
       "        text-align: right;\n",
       "    }\n",
       "</style>\n",
       "<table border=\"1\" class=\"dataframe\">\n",
       "  <thead>\n",
       "    <tr style=\"text-align: right;\">\n",
       "      <th></th>\n",
       "      <th>A</th>\n",
       "      <th>B</th>\n",
       "    </tr>\n",
       "  </thead>\n",
       "  <tbody>\n",
       "    <tr>\n",
       "      <th>2024-10-18</th>\n",
       "      <td>-1.361773</td>\n",
       "      <td>-0.319626</td>\n",
       "    </tr>\n",
       "    <tr>\n",
       "      <th>2024-10-19</th>\n",
       "      <td>2.478647</td>\n",
       "      <td>-0.678783</td>\n",
       "    </tr>\n",
       "  </tbody>\n",
       "</table>\n",
       "</div>"
      ],
      "text/plain": [
       "                   A         B\n",
       "2024-10-18 -1.361773 -0.319626\n",
       "2024-10-19  2.478647 -0.678783"
      ]
     },
     "execution_count": 53,
     "metadata": {},
     "output_type": "execute_result"
    }
   ],
   "source": [
    "df.iloc[3 : 5, 0 : 2]"
   ]
  },
  {
   "cell_type": "code",
   "execution_count": 54,
   "id": "48f81826-fd43-4c1c-b2c6-359601c06c0e",
   "metadata": {},
   "outputs": [
    {
     "data": {
      "text/html": [
       "<div>\n",
       "<style scoped>\n",
       "    .dataframe tbody tr th:only-of-type {\n",
       "        vertical-align: middle;\n",
       "    }\n",
       "\n",
       "    .dataframe tbody tr th {\n",
       "        vertical-align: top;\n",
       "    }\n",
       "\n",
       "    .dataframe thead th {\n",
       "        text-align: right;\n",
       "    }\n",
       "</style>\n",
       "<table border=\"1\" class=\"dataframe\">\n",
       "  <thead>\n",
       "    <tr style=\"text-align: right;\">\n",
       "      <th></th>\n",
       "      <th>A</th>\n",
       "      <th>C</th>\n",
       "    </tr>\n",
       "  </thead>\n",
       "  <tbody>\n",
       "    <tr>\n",
       "      <th>2024-10-16</th>\n",
       "      <td>1.775845</td>\n",
       "      <td>0.022230</td>\n",
       "    </tr>\n",
       "    <tr>\n",
       "      <th>2024-10-17</th>\n",
       "      <td>-0.088840</td>\n",
       "      <td>-0.802657</td>\n",
       "    </tr>\n",
       "    <tr>\n",
       "      <th>2024-10-19</th>\n",
       "      <td>2.478647</td>\n",
       "      <td>0.745558</td>\n",
       "    </tr>\n",
       "  </tbody>\n",
       "</table>\n",
       "</div>"
      ],
      "text/plain": [
       "                   A         C\n",
       "2024-10-16  1.775845  0.022230\n",
       "2024-10-17 -0.088840 -0.802657\n",
       "2024-10-19  2.478647  0.745558"
      ]
     },
     "execution_count": 54,
     "metadata": {},
     "output_type": "execute_result"
    }
   ],
   "source": [
    "df.iloc[[1, 2, 4], [0, 2]]"
   ]
  },
  {
   "cell_type": "code",
   "execution_count": 55,
   "id": "f4e9ba29-86da-4bf0-b98f-f333ccefd6a6",
   "metadata": {},
   "outputs": [
    {
     "data": {
      "text/html": [
       "<div>\n",
       "<style scoped>\n",
       "    .dataframe tbody tr th:only-of-type {\n",
       "        vertical-align: middle;\n",
       "    }\n",
       "\n",
       "    .dataframe tbody tr th {\n",
       "        vertical-align: top;\n",
       "    }\n",
       "\n",
       "    .dataframe thead th {\n",
       "        text-align: right;\n",
       "    }\n",
       "</style>\n",
       "<table border=\"1\" class=\"dataframe\">\n",
       "  <thead>\n",
       "    <tr style=\"text-align: right;\">\n",
       "      <th></th>\n",
       "      <th>A</th>\n",
       "      <th>B</th>\n",
       "      <th>C</th>\n",
       "      <th>D</th>\n",
       "    </tr>\n",
       "  </thead>\n",
       "  <tbody>\n",
       "    <tr>\n",
       "      <th>2024-10-16</th>\n",
       "      <td>1.775845</td>\n",
       "      <td>-0.571162</td>\n",
       "      <td>0.022230</td>\n",
       "      <td>-0.740248</td>\n",
       "    </tr>\n",
       "    <tr>\n",
       "      <th>2024-10-17</th>\n",
       "      <td>-0.088840</td>\n",
       "      <td>1.208406</td>\n",
       "      <td>-0.802657</td>\n",
       "      <td>1.070321</td>\n",
       "    </tr>\n",
       "  </tbody>\n",
       "</table>\n",
       "</div>"
      ],
      "text/plain": [
       "                   A         B         C         D\n",
       "2024-10-16  1.775845 -0.571162  0.022230 -0.740248\n",
       "2024-10-17 -0.088840  1.208406 -0.802657  1.070321"
      ]
     },
     "execution_count": 55,
     "metadata": {},
     "output_type": "execute_result"
    }
   ],
   "source": [
    "df.iloc[1 : 3, :]"
   ]
  },
  {
   "cell_type": "code",
   "execution_count": 56,
   "id": "4d0c57e9-0202-479d-84ca-bf1b5eedd662",
   "metadata": {},
   "outputs": [
    {
     "data": {
      "text/html": [
       "<div>\n",
       "<style scoped>\n",
       "    .dataframe tbody tr th:only-of-type {\n",
       "        vertical-align: middle;\n",
       "    }\n",
       "\n",
       "    .dataframe tbody tr th {\n",
       "        vertical-align: top;\n",
       "    }\n",
       "\n",
       "    .dataframe thead th {\n",
       "        text-align: right;\n",
       "    }\n",
       "</style>\n",
       "<table border=\"1\" class=\"dataframe\">\n",
       "  <thead>\n",
       "    <tr style=\"text-align: right;\">\n",
       "      <th></th>\n",
       "      <th>B</th>\n",
       "      <th>C</th>\n",
       "    </tr>\n",
       "  </thead>\n",
       "  <tbody>\n",
       "    <tr>\n",
       "      <th>2024-10-15</th>\n",
       "      <td>0.079288</td>\n",
       "      <td>-0.054775</td>\n",
       "    </tr>\n",
       "    <tr>\n",
       "      <th>2024-10-16</th>\n",
       "      <td>-0.571162</td>\n",
       "      <td>0.022230</td>\n",
       "    </tr>\n",
       "    <tr>\n",
       "      <th>2024-10-17</th>\n",
       "      <td>1.208406</td>\n",
       "      <td>-0.802657</td>\n",
       "    </tr>\n",
       "    <tr>\n",
       "      <th>2024-10-18</th>\n",
       "      <td>-0.319626</td>\n",
       "      <td>0.763728</td>\n",
       "    </tr>\n",
       "    <tr>\n",
       "      <th>2024-10-19</th>\n",
       "      <td>-0.678783</td>\n",
       "      <td>0.745558</td>\n",
       "    </tr>\n",
       "    <tr>\n",
       "      <th>2024-10-20</th>\n",
       "      <td>-0.602363</td>\n",
       "      <td>0.437264</td>\n",
       "    </tr>\n",
       "    <tr>\n",
       "      <th>2024-10-21</th>\n",
       "      <td>-0.375140</td>\n",
       "      <td>-0.817155</td>\n",
       "    </tr>\n",
       "    <tr>\n",
       "      <th>2024-10-22</th>\n",
       "      <td>-0.514981</td>\n",
       "      <td>-0.245980</td>\n",
       "    </tr>\n",
       "    <tr>\n",
       "      <th>2024-10-23</th>\n",
       "      <td>-0.963155</td>\n",
       "      <td>2.301437</td>\n",
       "    </tr>\n",
       "    <tr>\n",
       "      <th>2024-10-24</th>\n",
       "      <td>-0.079882</td>\n",
       "      <td>-0.516889</td>\n",
       "    </tr>\n",
       "  </tbody>\n",
       "</table>\n",
       "</div>"
      ],
      "text/plain": [
       "                   B         C\n",
       "2024-10-15  0.079288 -0.054775\n",
       "2024-10-16 -0.571162  0.022230\n",
       "2024-10-17  1.208406 -0.802657\n",
       "2024-10-18 -0.319626  0.763728\n",
       "2024-10-19 -0.678783  0.745558\n",
       "2024-10-20 -0.602363  0.437264\n",
       "2024-10-21 -0.375140 -0.817155\n",
       "2024-10-22 -0.514981 -0.245980\n",
       "2024-10-23 -0.963155  2.301437\n",
       "2024-10-24 -0.079882 -0.516889"
      ]
     },
     "execution_count": 56,
     "metadata": {},
     "output_type": "execute_result"
    }
   ],
   "source": [
    "df.iloc[:, 1 : 3]"
   ]
  },
  {
   "cell_type": "code",
   "execution_count": 57,
   "id": "bdf4862f-63a1-41c7-82dd-85b34dbccb49",
   "metadata": {},
   "outputs": [
    {
     "data": {
      "text/plain": [
       "-0.5711623300362445"
      ]
     },
     "execution_count": 57,
     "metadata": {},
     "output_type": "execute_result"
    }
   ],
   "source": [
    "df.iloc[1, 1]"
   ]
  },
  {
   "cell_type": "code",
   "execution_count": 58,
   "id": "1aff4182-4020-405f-8a02-4b593a031ff2",
   "metadata": {},
   "outputs": [
    {
     "data": {
      "text/html": [
       "<div>\n",
       "<style scoped>\n",
       "    .dataframe tbody tr th:only-of-type {\n",
       "        vertical-align: middle;\n",
       "    }\n",
       "\n",
       "    .dataframe tbody tr th {\n",
       "        vertical-align: top;\n",
       "    }\n",
       "\n",
       "    .dataframe thead th {\n",
       "        text-align: right;\n",
       "    }\n",
       "</style>\n",
       "<table border=\"1\" class=\"dataframe\">\n",
       "  <thead>\n",
       "    <tr style=\"text-align: right;\">\n",
       "      <th></th>\n",
       "      <th>A</th>\n",
       "      <th>B</th>\n",
       "      <th>C</th>\n",
       "      <th>D</th>\n",
       "    </tr>\n",
       "  </thead>\n",
       "  <tbody>\n",
       "    <tr>\n",
       "      <th>2024-10-15</th>\n",
       "      <td>0.099167</td>\n",
       "      <td>0.079288</td>\n",
       "      <td>-0.054775</td>\n",
       "      <td>-0.770853</td>\n",
       "    </tr>\n",
       "    <tr>\n",
       "      <th>2024-10-16</th>\n",
       "      <td>1.775845</td>\n",
       "      <td>-0.571162</td>\n",
       "      <td>0.022230</td>\n",
       "      <td>-0.740248</td>\n",
       "    </tr>\n",
       "    <tr>\n",
       "      <th>2024-10-17</th>\n",
       "      <td>-0.088840</td>\n",
       "      <td>1.208406</td>\n",
       "      <td>-0.802657</td>\n",
       "      <td>1.070321</td>\n",
       "    </tr>\n",
       "    <tr>\n",
       "      <th>2024-10-18</th>\n",
       "      <td>-1.361773</td>\n",
       "      <td>-0.319626</td>\n",
       "      <td>0.763728</td>\n",
       "      <td>0.151292</td>\n",
       "    </tr>\n",
       "    <tr>\n",
       "      <th>2024-10-19</th>\n",
       "      <td>2.478647</td>\n",
       "      <td>-0.678783</td>\n",
       "      <td>0.745558</td>\n",
       "      <td>-0.896008</td>\n",
       "    </tr>\n",
       "    <tr>\n",
       "      <th>2024-10-20</th>\n",
       "      <td>-1.201021</td>\n",
       "      <td>-0.602363</td>\n",
       "      <td>0.437264</td>\n",
       "      <td>1.137598</td>\n",
       "    </tr>\n",
       "    <tr>\n",
       "      <th>2024-10-21</th>\n",
       "      <td>0.633254</td>\n",
       "      <td>-0.375140</td>\n",
       "      <td>-0.817155</td>\n",
       "      <td>0.169319</td>\n",
       "    </tr>\n",
       "    <tr>\n",
       "      <th>2024-10-22</th>\n",
       "      <td>1.097421</td>\n",
       "      <td>-0.514981</td>\n",
       "      <td>-0.245980</td>\n",
       "      <td>-1.563304</td>\n",
       "    </tr>\n",
       "    <tr>\n",
       "      <th>2024-10-23</th>\n",
       "      <td>-0.496762</td>\n",
       "      <td>-0.963155</td>\n",
       "      <td>2.301437</td>\n",
       "      <td>1.855274</td>\n",
       "    </tr>\n",
       "    <tr>\n",
       "      <th>2024-10-24</th>\n",
       "      <td>-0.154019</td>\n",
       "      <td>-0.079882</td>\n",
       "      <td>-0.516889</td>\n",
       "      <td>0.011808</td>\n",
       "    </tr>\n",
       "  </tbody>\n",
       "</table>\n",
       "</div>"
      ],
      "text/plain": [
       "                   A         B         C         D\n",
       "2024-10-15  0.099167  0.079288 -0.054775 -0.770853\n",
       "2024-10-16  1.775845 -0.571162  0.022230 -0.740248\n",
       "2024-10-17 -0.088840  1.208406 -0.802657  1.070321\n",
       "2024-10-18 -1.361773 -0.319626  0.763728  0.151292\n",
       "2024-10-19  2.478647 -0.678783  0.745558 -0.896008\n",
       "2024-10-20 -1.201021 -0.602363  0.437264  1.137598\n",
       "2024-10-21  0.633254 -0.375140 -0.817155  0.169319\n",
       "2024-10-22  1.097421 -0.514981 -0.245980 -1.563304\n",
       "2024-10-23 -0.496762 -0.963155  2.301437  1.855274\n",
       "2024-10-24 -0.154019 -0.079882 -0.516889  0.011808"
      ]
     },
     "execution_count": 58,
     "metadata": {},
     "output_type": "execute_result"
    }
   ],
   "source": [
    "df"
   ]
  },
  {
   "cell_type": "code",
   "execution_count": 59,
   "id": "5a6806df-69b9-4044-a4f5-8ec63f837de2",
   "metadata": {},
   "outputs": [
    {
     "data": {
      "text/plain": [
       "-0.5711623300362445"
      ]
     },
     "execution_count": 59,
     "metadata": {},
     "output_type": "execute_result"
    }
   ],
   "source": [
    "df.iat[1, 1]"
   ]
  },
  {
   "cell_type": "code",
   "execution_count": 60,
   "id": "0234e2f7-6e2f-4ebe-9482-5370ef5a4fe6",
   "metadata": {},
   "outputs": [
    {
     "data": {
      "text/html": [
       "<div>\n",
       "<style scoped>\n",
       "    .dataframe tbody tr th:only-of-type {\n",
       "        vertical-align: middle;\n",
       "    }\n",
       "\n",
       "    .dataframe tbody tr th {\n",
       "        vertical-align: top;\n",
       "    }\n",
       "\n",
       "    .dataframe thead th {\n",
       "        text-align: right;\n",
       "    }\n",
       "</style>\n",
       "<table border=\"1\" class=\"dataframe\">\n",
       "  <thead>\n",
       "    <tr style=\"text-align: right;\">\n",
       "      <th></th>\n",
       "      <th>A</th>\n",
       "      <th>B</th>\n",
       "      <th>C</th>\n",
       "      <th>D</th>\n",
       "    </tr>\n",
       "  </thead>\n",
       "  <tbody>\n",
       "    <tr>\n",
       "      <th>2024-10-15</th>\n",
       "      <td>0.099167</td>\n",
       "      <td>0.079288</td>\n",
       "      <td>-0.054775</td>\n",
       "      <td>-0.770853</td>\n",
       "    </tr>\n",
       "    <tr>\n",
       "      <th>2024-10-16</th>\n",
       "      <td>1.775845</td>\n",
       "      <td>-0.571162</td>\n",
       "      <td>0.022230</td>\n",
       "      <td>-0.740248</td>\n",
       "    </tr>\n",
       "    <tr>\n",
       "      <th>2024-10-19</th>\n",
       "      <td>2.478647</td>\n",
       "      <td>-0.678783</td>\n",
       "      <td>0.745558</td>\n",
       "      <td>-0.896008</td>\n",
       "    </tr>\n",
       "    <tr>\n",
       "      <th>2024-10-21</th>\n",
       "      <td>0.633254</td>\n",
       "      <td>-0.375140</td>\n",
       "      <td>-0.817155</td>\n",
       "      <td>0.169319</td>\n",
       "    </tr>\n",
       "    <tr>\n",
       "      <th>2024-10-22</th>\n",
       "      <td>1.097421</td>\n",
       "      <td>-0.514981</td>\n",
       "      <td>-0.245980</td>\n",
       "      <td>-1.563304</td>\n",
       "    </tr>\n",
       "  </tbody>\n",
       "</table>\n",
       "</div>"
      ],
      "text/plain": [
       "                   A         B         C         D\n",
       "2024-10-15  0.099167  0.079288 -0.054775 -0.770853\n",
       "2024-10-16  1.775845 -0.571162  0.022230 -0.740248\n",
       "2024-10-19  2.478647 -0.678783  0.745558 -0.896008\n",
       "2024-10-21  0.633254 -0.375140 -0.817155  0.169319\n",
       "2024-10-22  1.097421 -0.514981 -0.245980 -1.563304"
      ]
     },
     "execution_count": 60,
     "metadata": {},
     "output_type": "execute_result"
    }
   ],
   "source": [
    "df[df[\"A\"] > 0]"
   ]
  },
  {
   "cell_type": "code",
   "execution_count": 61,
   "id": "129f76ac-1317-4e4d-b019-6f7dcb0956ab",
   "metadata": {},
   "outputs": [
    {
     "data": {
      "text/html": [
       "<div>\n",
       "<style scoped>\n",
       "    .dataframe tbody tr th:only-of-type {\n",
       "        vertical-align: middle;\n",
       "    }\n",
       "\n",
       "    .dataframe tbody tr th {\n",
       "        vertical-align: top;\n",
       "    }\n",
       "\n",
       "    .dataframe thead th {\n",
       "        text-align: right;\n",
       "    }\n",
       "</style>\n",
       "<table border=\"1\" class=\"dataframe\">\n",
       "  <thead>\n",
       "    <tr style=\"text-align: right;\">\n",
       "      <th></th>\n",
       "      <th>A</th>\n",
       "      <th>B</th>\n",
       "      <th>C</th>\n",
       "      <th>D</th>\n",
       "    </tr>\n",
       "  </thead>\n",
       "  <tbody>\n",
       "    <tr>\n",
       "      <th>2024-10-15</th>\n",
       "      <td>0.099167</td>\n",
       "      <td>0.079288</td>\n",
       "      <td>NaN</td>\n",
       "      <td>NaN</td>\n",
       "    </tr>\n",
       "    <tr>\n",
       "      <th>2024-10-16</th>\n",
       "      <td>1.775845</td>\n",
       "      <td>NaN</td>\n",
       "      <td>0.022230</td>\n",
       "      <td>NaN</td>\n",
       "    </tr>\n",
       "    <tr>\n",
       "      <th>2024-10-17</th>\n",
       "      <td>NaN</td>\n",
       "      <td>1.208406</td>\n",
       "      <td>NaN</td>\n",
       "      <td>1.070321</td>\n",
       "    </tr>\n",
       "    <tr>\n",
       "      <th>2024-10-18</th>\n",
       "      <td>NaN</td>\n",
       "      <td>NaN</td>\n",
       "      <td>0.763728</td>\n",
       "      <td>0.151292</td>\n",
       "    </tr>\n",
       "    <tr>\n",
       "      <th>2024-10-19</th>\n",
       "      <td>2.478647</td>\n",
       "      <td>NaN</td>\n",
       "      <td>0.745558</td>\n",
       "      <td>NaN</td>\n",
       "    </tr>\n",
       "    <tr>\n",
       "      <th>2024-10-20</th>\n",
       "      <td>NaN</td>\n",
       "      <td>NaN</td>\n",
       "      <td>0.437264</td>\n",
       "      <td>1.137598</td>\n",
       "    </tr>\n",
       "    <tr>\n",
       "      <th>2024-10-21</th>\n",
       "      <td>0.633254</td>\n",
       "      <td>NaN</td>\n",
       "      <td>NaN</td>\n",
       "      <td>0.169319</td>\n",
       "    </tr>\n",
       "    <tr>\n",
       "      <th>2024-10-22</th>\n",
       "      <td>1.097421</td>\n",
       "      <td>NaN</td>\n",
       "      <td>NaN</td>\n",
       "      <td>NaN</td>\n",
       "    </tr>\n",
       "    <tr>\n",
       "      <th>2024-10-23</th>\n",
       "      <td>NaN</td>\n",
       "      <td>NaN</td>\n",
       "      <td>2.301437</td>\n",
       "      <td>1.855274</td>\n",
       "    </tr>\n",
       "    <tr>\n",
       "      <th>2024-10-24</th>\n",
       "      <td>NaN</td>\n",
       "      <td>NaN</td>\n",
       "      <td>NaN</td>\n",
       "      <td>0.011808</td>\n",
       "    </tr>\n",
       "  </tbody>\n",
       "</table>\n",
       "</div>"
      ],
      "text/plain": [
       "                   A         B         C         D\n",
       "2024-10-15  0.099167  0.079288       NaN       NaN\n",
       "2024-10-16  1.775845       NaN  0.022230       NaN\n",
       "2024-10-17       NaN  1.208406       NaN  1.070321\n",
       "2024-10-18       NaN       NaN  0.763728  0.151292\n",
       "2024-10-19  2.478647       NaN  0.745558       NaN\n",
       "2024-10-20       NaN       NaN  0.437264  1.137598\n",
       "2024-10-21  0.633254       NaN       NaN  0.169319\n",
       "2024-10-22  1.097421       NaN       NaN       NaN\n",
       "2024-10-23       NaN       NaN  2.301437  1.855274\n",
       "2024-10-24       NaN       NaN       NaN  0.011808"
      ]
     },
     "execution_count": 61,
     "metadata": {},
     "output_type": "execute_result"
    }
   ],
   "source": [
    "df[df > 0]"
   ]
  },
  {
   "cell_type": "code",
   "execution_count": 62,
   "id": "b2526be3-d163-4524-9a76-642f175fa7f4",
   "metadata": {},
   "outputs": [],
   "source": [
    "df2 = df.copy()"
   ]
  },
  {
   "cell_type": "code",
   "execution_count": 63,
   "id": "b789999c-c148-420f-be9b-f6c317854059",
   "metadata": {},
   "outputs": [],
   "source": [
    "df2[\"E\"] = [\"one\", \"two\", \"three\", \"four\", \"five\", \"six\", \"seven\", \"eight\", \"nine\", \"ten\"]"
   ]
  },
  {
   "cell_type": "code",
   "execution_count": 64,
   "id": "d349315b-74be-41ae-8bac-05244b2d15af",
   "metadata": {},
   "outputs": [
    {
     "data": {
      "text/html": [
       "<div>\n",
       "<style scoped>\n",
       "    .dataframe tbody tr th:only-of-type {\n",
       "        vertical-align: middle;\n",
       "    }\n",
       "\n",
       "    .dataframe tbody tr th {\n",
       "        vertical-align: top;\n",
       "    }\n",
       "\n",
       "    .dataframe thead th {\n",
       "        text-align: right;\n",
       "    }\n",
       "</style>\n",
       "<table border=\"1\" class=\"dataframe\">\n",
       "  <thead>\n",
       "    <tr style=\"text-align: right;\">\n",
       "      <th></th>\n",
       "      <th>A</th>\n",
       "      <th>B</th>\n",
       "      <th>C</th>\n",
       "      <th>D</th>\n",
       "      <th>E</th>\n",
       "    </tr>\n",
       "  </thead>\n",
       "  <tbody>\n",
       "    <tr>\n",
       "      <th>2024-10-15</th>\n",
       "      <td>0.099167</td>\n",
       "      <td>0.079288</td>\n",
       "      <td>-0.054775</td>\n",
       "      <td>-0.770853</td>\n",
       "      <td>one</td>\n",
       "    </tr>\n",
       "    <tr>\n",
       "      <th>2024-10-16</th>\n",
       "      <td>1.775845</td>\n",
       "      <td>-0.571162</td>\n",
       "      <td>0.022230</td>\n",
       "      <td>-0.740248</td>\n",
       "      <td>two</td>\n",
       "    </tr>\n",
       "    <tr>\n",
       "      <th>2024-10-17</th>\n",
       "      <td>-0.088840</td>\n",
       "      <td>1.208406</td>\n",
       "      <td>-0.802657</td>\n",
       "      <td>1.070321</td>\n",
       "      <td>three</td>\n",
       "    </tr>\n",
       "    <tr>\n",
       "      <th>2024-10-18</th>\n",
       "      <td>-1.361773</td>\n",
       "      <td>-0.319626</td>\n",
       "      <td>0.763728</td>\n",
       "      <td>0.151292</td>\n",
       "      <td>four</td>\n",
       "    </tr>\n",
       "    <tr>\n",
       "      <th>2024-10-19</th>\n",
       "      <td>2.478647</td>\n",
       "      <td>-0.678783</td>\n",
       "      <td>0.745558</td>\n",
       "      <td>-0.896008</td>\n",
       "      <td>five</td>\n",
       "    </tr>\n",
       "    <tr>\n",
       "      <th>2024-10-20</th>\n",
       "      <td>-1.201021</td>\n",
       "      <td>-0.602363</td>\n",
       "      <td>0.437264</td>\n",
       "      <td>1.137598</td>\n",
       "      <td>six</td>\n",
       "    </tr>\n",
       "    <tr>\n",
       "      <th>2024-10-21</th>\n",
       "      <td>0.633254</td>\n",
       "      <td>-0.375140</td>\n",
       "      <td>-0.817155</td>\n",
       "      <td>0.169319</td>\n",
       "      <td>seven</td>\n",
       "    </tr>\n",
       "    <tr>\n",
       "      <th>2024-10-22</th>\n",
       "      <td>1.097421</td>\n",
       "      <td>-0.514981</td>\n",
       "      <td>-0.245980</td>\n",
       "      <td>-1.563304</td>\n",
       "      <td>eight</td>\n",
       "    </tr>\n",
       "    <tr>\n",
       "      <th>2024-10-23</th>\n",
       "      <td>-0.496762</td>\n",
       "      <td>-0.963155</td>\n",
       "      <td>2.301437</td>\n",
       "      <td>1.855274</td>\n",
       "      <td>nine</td>\n",
       "    </tr>\n",
       "    <tr>\n",
       "      <th>2024-10-24</th>\n",
       "      <td>-0.154019</td>\n",
       "      <td>-0.079882</td>\n",
       "      <td>-0.516889</td>\n",
       "      <td>0.011808</td>\n",
       "      <td>ten</td>\n",
       "    </tr>\n",
       "  </tbody>\n",
       "</table>\n",
       "</div>"
      ],
      "text/plain": [
       "                   A         B         C         D      E\n",
       "2024-10-15  0.099167  0.079288 -0.054775 -0.770853    one\n",
       "2024-10-16  1.775845 -0.571162  0.022230 -0.740248    two\n",
       "2024-10-17 -0.088840  1.208406 -0.802657  1.070321  three\n",
       "2024-10-18 -1.361773 -0.319626  0.763728  0.151292   four\n",
       "2024-10-19  2.478647 -0.678783  0.745558 -0.896008   five\n",
       "2024-10-20 -1.201021 -0.602363  0.437264  1.137598    six\n",
       "2024-10-21  0.633254 -0.375140 -0.817155  0.169319  seven\n",
       "2024-10-22  1.097421 -0.514981 -0.245980 -1.563304  eight\n",
       "2024-10-23 -0.496762 -0.963155  2.301437  1.855274   nine\n",
       "2024-10-24 -0.154019 -0.079882 -0.516889  0.011808    ten"
      ]
     },
     "execution_count": 64,
     "metadata": {},
     "output_type": "execute_result"
    }
   ],
   "source": [
    "df2"
   ]
  },
  {
   "cell_type": "code",
   "execution_count": 65,
   "id": "c24a7cae-29a1-465c-bbf4-ff27cadedcfd",
   "metadata": {},
   "outputs": [
    {
     "data": {
      "text/html": [
       "<div>\n",
       "<style scoped>\n",
       "    .dataframe tbody tr th:only-of-type {\n",
       "        vertical-align: middle;\n",
       "    }\n",
       "\n",
       "    .dataframe tbody tr th {\n",
       "        vertical-align: top;\n",
       "    }\n",
       "\n",
       "    .dataframe thead th {\n",
       "        text-align: right;\n",
       "    }\n",
       "</style>\n",
       "<table border=\"1\" class=\"dataframe\">\n",
       "  <thead>\n",
       "    <tr style=\"text-align: right;\">\n",
       "      <th></th>\n",
       "      <th>A</th>\n",
       "      <th>B</th>\n",
       "      <th>C</th>\n",
       "      <th>D</th>\n",
       "      <th>E</th>\n",
       "    </tr>\n",
       "  </thead>\n",
       "  <tbody>\n",
       "    <tr>\n",
       "      <th>2024-10-16</th>\n",
       "      <td>1.775845</td>\n",
       "      <td>-0.571162</td>\n",
       "      <td>0.022230</td>\n",
       "      <td>-0.740248</td>\n",
       "      <td>two</td>\n",
       "    </tr>\n",
       "    <tr>\n",
       "      <th>2024-10-19</th>\n",
       "      <td>2.478647</td>\n",
       "      <td>-0.678783</td>\n",
       "      <td>0.745558</td>\n",
       "      <td>-0.896008</td>\n",
       "      <td>five</td>\n",
       "    </tr>\n",
       "  </tbody>\n",
       "</table>\n",
       "</div>"
      ],
      "text/plain": [
       "                   A         B         C         D     E\n",
       "2024-10-16  1.775845 -0.571162  0.022230 -0.740248   two\n",
       "2024-10-19  2.478647 -0.678783  0.745558 -0.896008  five"
      ]
     },
     "execution_count": 65,
     "metadata": {},
     "output_type": "execute_result"
    }
   ],
   "source": [
    "df2[df2[\"E\"].isin([\"two\", \"five\"])]"
   ]
  },
  {
   "cell_type": "code",
   "execution_count": 66,
   "id": "8f89a8c1-7cf0-46cf-8588-840249aa84df",
   "metadata": {},
   "outputs": [
    {
     "data": {
      "text/html": [
       "<div>\n",
       "<style scoped>\n",
       "    .dataframe tbody tr th:only-of-type {\n",
       "        vertical-align: middle;\n",
       "    }\n",
       "\n",
       "    .dataframe tbody tr th {\n",
       "        vertical-align: top;\n",
       "    }\n",
       "\n",
       "    .dataframe thead th {\n",
       "        text-align: right;\n",
       "    }\n",
       "</style>\n",
       "<table border=\"1\" class=\"dataframe\">\n",
       "  <thead>\n",
       "    <tr style=\"text-align: right;\">\n",
       "      <th></th>\n",
       "      <th>A</th>\n",
       "      <th>B</th>\n",
       "      <th>C</th>\n",
       "      <th>D</th>\n",
       "    </tr>\n",
       "  </thead>\n",
       "  <tbody>\n",
       "    <tr>\n",
       "      <th>2024-10-15</th>\n",
       "      <td>0.099167</td>\n",
       "      <td>0.079288</td>\n",
       "      <td>-0.054775</td>\n",
       "      <td>-0.770853</td>\n",
       "    </tr>\n",
       "    <tr>\n",
       "      <th>2024-10-16</th>\n",
       "      <td>1.775845</td>\n",
       "      <td>-0.571162</td>\n",
       "      <td>0.022230</td>\n",
       "      <td>-0.740248</td>\n",
       "    </tr>\n",
       "    <tr>\n",
       "      <th>2024-10-17</th>\n",
       "      <td>-0.088840</td>\n",
       "      <td>1.208406</td>\n",
       "      <td>-0.802657</td>\n",
       "      <td>1.070321</td>\n",
       "    </tr>\n",
       "    <tr>\n",
       "      <th>2024-10-18</th>\n",
       "      <td>-1.361773</td>\n",
       "      <td>-0.319626</td>\n",
       "      <td>0.763728</td>\n",
       "      <td>0.151292</td>\n",
       "    </tr>\n",
       "    <tr>\n",
       "      <th>2024-10-19</th>\n",
       "      <td>2.478647</td>\n",
       "      <td>-0.678783</td>\n",
       "      <td>0.745558</td>\n",
       "      <td>-0.896008</td>\n",
       "    </tr>\n",
       "    <tr>\n",
       "      <th>2024-10-20</th>\n",
       "      <td>-1.201021</td>\n",
       "      <td>-0.602363</td>\n",
       "      <td>0.437264</td>\n",
       "      <td>1.137598</td>\n",
       "    </tr>\n",
       "    <tr>\n",
       "      <th>2024-10-21</th>\n",
       "      <td>0.633254</td>\n",
       "      <td>-0.375140</td>\n",
       "      <td>-0.817155</td>\n",
       "      <td>0.169319</td>\n",
       "    </tr>\n",
       "    <tr>\n",
       "      <th>2024-10-22</th>\n",
       "      <td>1.097421</td>\n",
       "      <td>-0.514981</td>\n",
       "      <td>-0.245980</td>\n",
       "      <td>-1.563304</td>\n",
       "    </tr>\n",
       "    <tr>\n",
       "      <th>2024-10-23</th>\n",
       "      <td>-0.496762</td>\n",
       "      <td>-0.963155</td>\n",
       "      <td>2.301437</td>\n",
       "      <td>1.855274</td>\n",
       "    </tr>\n",
       "    <tr>\n",
       "      <th>2024-10-24</th>\n",
       "      <td>-0.154019</td>\n",
       "      <td>-0.079882</td>\n",
       "      <td>-0.516889</td>\n",
       "      <td>0.011808</td>\n",
       "    </tr>\n",
       "  </tbody>\n",
       "</table>\n",
       "</div>"
      ],
      "text/plain": [
       "                   A         B         C         D\n",
       "2024-10-15  0.099167  0.079288 -0.054775 -0.770853\n",
       "2024-10-16  1.775845 -0.571162  0.022230 -0.740248\n",
       "2024-10-17 -0.088840  1.208406 -0.802657  1.070321\n",
       "2024-10-18 -1.361773 -0.319626  0.763728  0.151292\n",
       "2024-10-19  2.478647 -0.678783  0.745558 -0.896008\n",
       "2024-10-20 -1.201021 -0.602363  0.437264  1.137598\n",
       "2024-10-21  0.633254 -0.375140 -0.817155  0.169319\n",
       "2024-10-22  1.097421 -0.514981 -0.245980 -1.563304\n",
       "2024-10-23 -0.496762 -0.963155  2.301437  1.855274\n",
       "2024-10-24 -0.154019 -0.079882 -0.516889  0.011808"
      ]
     },
     "execution_count": 66,
     "metadata": {},
     "output_type": "execute_result"
    }
   ],
   "source": [
    "df"
   ]
  },
  {
   "cell_type": "code",
   "execution_count": 67,
   "id": "34202104-677d-4ba1-94ff-9a2ed895aded",
   "metadata": {},
   "outputs": [
    {
     "data": {
      "text/plain": [
       "10"
      ]
     },
     "execution_count": 67,
     "metadata": {},
     "output_type": "execute_result"
    }
   ],
   "source": [
    "len(df)"
   ]
  },
  {
   "cell_type": "code",
   "execution_count": 68,
   "id": "fa2735f1-16fa-4a0f-89d1-08ffacacef8c",
   "metadata": {},
   "outputs": [],
   "source": [
    "s1 = pd.Series([1, 2, 3, 4, 5, 6], index = pd.date_range(\"20240101\", periods = 6))"
   ]
  },
  {
   "cell_type": "code",
   "execution_count": 69,
   "id": "431b64ed-cba7-48b4-83ef-35b518eb9ded",
   "metadata": {},
   "outputs": [
    {
     "data": {
      "text/plain": [
       "2024-01-01    1\n",
       "2024-01-02    2\n",
       "2024-01-03    3\n",
       "2024-01-04    4\n",
       "2024-01-05    5\n",
       "2024-01-06    6\n",
       "Freq: D, dtype: int64"
      ]
     },
     "execution_count": 69,
     "metadata": {},
     "output_type": "execute_result"
    }
   ],
   "source": [
    "s1"
   ]
  },
  {
   "cell_type": "code",
   "execution_count": 70,
   "id": "2d6f5e91-1c1c-4a3f-8dcf-840682ab085b",
   "metadata": {},
   "outputs": [],
   "source": [
    "df.at[dates[0], \"A\"] = 0"
   ]
  },
  {
   "cell_type": "code",
   "execution_count": 71,
   "id": "c4aac926-b59a-4d0b-95b1-45171df0c37f",
   "metadata": {},
   "outputs": [
    {
     "data": {
      "text/html": [
       "<div>\n",
       "<style scoped>\n",
       "    .dataframe tbody tr th:only-of-type {\n",
       "        vertical-align: middle;\n",
       "    }\n",
       "\n",
       "    .dataframe tbody tr th {\n",
       "        vertical-align: top;\n",
       "    }\n",
       "\n",
       "    .dataframe thead th {\n",
       "        text-align: right;\n",
       "    }\n",
       "</style>\n",
       "<table border=\"1\" class=\"dataframe\">\n",
       "  <thead>\n",
       "    <tr style=\"text-align: right;\">\n",
       "      <th></th>\n",
       "      <th>A</th>\n",
       "      <th>B</th>\n",
       "      <th>C</th>\n",
       "      <th>D</th>\n",
       "    </tr>\n",
       "  </thead>\n",
       "  <tbody>\n",
       "    <tr>\n",
       "      <th>2024-10-15</th>\n",
       "      <td>0.000000</td>\n",
       "      <td>0.079288</td>\n",
       "      <td>-0.054775</td>\n",
       "      <td>-0.770853</td>\n",
       "    </tr>\n",
       "    <tr>\n",
       "      <th>2024-10-16</th>\n",
       "      <td>1.775845</td>\n",
       "      <td>-0.571162</td>\n",
       "      <td>0.022230</td>\n",
       "      <td>-0.740248</td>\n",
       "    </tr>\n",
       "    <tr>\n",
       "      <th>2024-10-17</th>\n",
       "      <td>-0.088840</td>\n",
       "      <td>1.208406</td>\n",
       "      <td>-0.802657</td>\n",
       "      <td>1.070321</td>\n",
       "    </tr>\n",
       "    <tr>\n",
       "      <th>2024-10-18</th>\n",
       "      <td>-1.361773</td>\n",
       "      <td>-0.319626</td>\n",
       "      <td>0.763728</td>\n",
       "      <td>0.151292</td>\n",
       "    </tr>\n",
       "    <tr>\n",
       "      <th>2024-10-19</th>\n",
       "      <td>2.478647</td>\n",
       "      <td>-0.678783</td>\n",
       "      <td>0.745558</td>\n",
       "      <td>-0.896008</td>\n",
       "    </tr>\n",
       "    <tr>\n",
       "      <th>2024-10-20</th>\n",
       "      <td>-1.201021</td>\n",
       "      <td>-0.602363</td>\n",
       "      <td>0.437264</td>\n",
       "      <td>1.137598</td>\n",
       "    </tr>\n",
       "    <tr>\n",
       "      <th>2024-10-21</th>\n",
       "      <td>0.633254</td>\n",
       "      <td>-0.375140</td>\n",
       "      <td>-0.817155</td>\n",
       "      <td>0.169319</td>\n",
       "    </tr>\n",
       "    <tr>\n",
       "      <th>2024-10-22</th>\n",
       "      <td>1.097421</td>\n",
       "      <td>-0.514981</td>\n",
       "      <td>-0.245980</td>\n",
       "      <td>-1.563304</td>\n",
       "    </tr>\n",
       "    <tr>\n",
       "      <th>2024-10-23</th>\n",
       "      <td>-0.496762</td>\n",
       "      <td>-0.963155</td>\n",
       "      <td>2.301437</td>\n",
       "      <td>1.855274</td>\n",
       "    </tr>\n",
       "    <tr>\n",
       "      <th>2024-10-24</th>\n",
       "      <td>-0.154019</td>\n",
       "      <td>-0.079882</td>\n",
       "      <td>-0.516889</td>\n",
       "      <td>0.011808</td>\n",
       "    </tr>\n",
       "  </tbody>\n",
       "</table>\n",
       "</div>"
      ],
      "text/plain": [
       "                   A         B         C         D\n",
       "2024-10-15  0.000000  0.079288 -0.054775 -0.770853\n",
       "2024-10-16  1.775845 -0.571162  0.022230 -0.740248\n",
       "2024-10-17 -0.088840  1.208406 -0.802657  1.070321\n",
       "2024-10-18 -1.361773 -0.319626  0.763728  0.151292\n",
       "2024-10-19  2.478647 -0.678783  0.745558 -0.896008\n",
       "2024-10-20 -1.201021 -0.602363  0.437264  1.137598\n",
       "2024-10-21  0.633254 -0.375140 -0.817155  0.169319\n",
       "2024-10-22  1.097421 -0.514981 -0.245980 -1.563304\n",
       "2024-10-23 -0.496762 -0.963155  2.301437  1.855274\n",
       "2024-10-24 -0.154019 -0.079882 -0.516889  0.011808"
      ]
     },
     "execution_count": 71,
     "metadata": {},
     "output_type": "execute_result"
    }
   ],
   "source": [
    "df"
   ]
  },
  {
   "cell_type": "code",
   "execution_count": 72,
   "id": "6eba5c15-537c-491d-953e-3934bffefa79",
   "metadata": {},
   "outputs": [],
   "source": [
    "df.iat[0, 1] = 0"
   ]
  },
  {
   "cell_type": "code",
   "execution_count": 73,
   "id": "c2168053-f338-4f91-8dd3-125cc614a225",
   "metadata": {},
   "outputs": [
    {
     "data": {
      "text/html": [
       "<div>\n",
       "<style scoped>\n",
       "    .dataframe tbody tr th:only-of-type {\n",
       "        vertical-align: middle;\n",
       "    }\n",
       "\n",
       "    .dataframe tbody tr th {\n",
       "        vertical-align: top;\n",
       "    }\n",
       "\n",
       "    .dataframe thead th {\n",
       "        text-align: right;\n",
       "    }\n",
       "</style>\n",
       "<table border=\"1\" class=\"dataframe\">\n",
       "  <thead>\n",
       "    <tr style=\"text-align: right;\">\n",
       "      <th></th>\n",
       "      <th>A</th>\n",
       "      <th>B</th>\n",
       "      <th>C</th>\n",
       "      <th>D</th>\n",
       "    </tr>\n",
       "  </thead>\n",
       "  <tbody>\n",
       "    <tr>\n",
       "      <th>2024-10-15</th>\n",
       "      <td>0.000000</td>\n",
       "      <td>0.000000</td>\n",
       "      <td>-0.054775</td>\n",
       "      <td>-0.770853</td>\n",
       "    </tr>\n",
       "    <tr>\n",
       "      <th>2024-10-16</th>\n",
       "      <td>1.775845</td>\n",
       "      <td>-0.571162</td>\n",
       "      <td>0.022230</td>\n",
       "      <td>-0.740248</td>\n",
       "    </tr>\n",
       "    <tr>\n",
       "      <th>2024-10-17</th>\n",
       "      <td>-0.088840</td>\n",
       "      <td>1.208406</td>\n",
       "      <td>-0.802657</td>\n",
       "      <td>1.070321</td>\n",
       "    </tr>\n",
       "    <tr>\n",
       "      <th>2024-10-18</th>\n",
       "      <td>-1.361773</td>\n",
       "      <td>-0.319626</td>\n",
       "      <td>0.763728</td>\n",
       "      <td>0.151292</td>\n",
       "    </tr>\n",
       "    <tr>\n",
       "      <th>2024-10-19</th>\n",
       "      <td>2.478647</td>\n",
       "      <td>-0.678783</td>\n",
       "      <td>0.745558</td>\n",
       "      <td>-0.896008</td>\n",
       "    </tr>\n",
       "    <tr>\n",
       "      <th>2024-10-20</th>\n",
       "      <td>-1.201021</td>\n",
       "      <td>-0.602363</td>\n",
       "      <td>0.437264</td>\n",
       "      <td>1.137598</td>\n",
       "    </tr>\n",
       "    <tr>\n",
       "      <th>2024-10-21</th>\n",
       "      <td>0.633254</td>\n",
       "      <td>-0.375140</td>\n",
       "      <td>-0.817155</td>\n",
       "      <td>0.169319</td>\n",
       "    </tr>\n",
       "    <tr>\n",
       "      <th>2024-10-22</th>\n",
       "      <td>1.097421</td>\n",
       "      <td>-0.514981</td>\n",
       "      <td>-0.245980</td>\n",
       "      <td>-1.563304</td>\n",
       "    </tr>\n",
       "    <tr>\n",
       "      <th>2024-10-23</th>\n",
       "      <td>-0.496762</td>\n",
       "      <td>-0.963155</td>\n",
       "      <td>2.301437</td>\n",
       "      <td>1.855274</td>\n",
       "    </tr>\n",
       "    <tr>\n",
       "      <th>2024-10-24</th>\n",
       "      <td>-0.154019</td>\n",
       "      <td>-0.079882</td>\n",
       "      <td>-0.516889</td>\n",
       "      <td>0.011808</td>\n",
       "    </tr>\n",
       "  </tbody>\n",
       "</table>\n",
       "</div>"
      ],
      "text/plain": [
       "                   A         B         C         D\n",
       "2024-10-15  0.000000  0.000000 -0.054775 -0.770853\n",
       "2024-10-16  1.775845 -0.571162  0.022230 -0.740248\n",
       "2024-10-17 -0.088840  1.208406 -0.802657  1.070321\n",
       "2024-10-18 -1.361773 -0.319626  0.763728  0.151292\n",
       "2024-10-19  2.478647 -0.678783  0.745558 -0.896008\n",
       "2024-10-20 -1.201021 -0.602363  0.437264  1.137598\n",
       "2024-10-21  0.633254 -0.375140 -0.817155  0.169319\n",
       "2024-10-22  1.097421 -0.514981 -0.245980 -1.563304\n",
       "2024-10-23 -0.496762 -0.963155  2.301437  1.855274\n",
       "2024-10-24 -0.154019 -0.079882 -0.516889  0.011808"
      ]
     },
     "execution_count": 73,
     "metadata": {},
     "output_type": "execute_result"
    }
   ],
   "source": [
    "df"
   ]
  },
  {
   "cell_type": "code",
   "execution_count": 74,
   "id": "f9a2936d-de79-40d2-9f94-137e5dd99f35",
   "metadata": {},
   "outputs": [],
   "source": [
    "df.loc[:, \"D\"] = np.array([5] * len(df))"
   ]
  },
  {
   "cell_type": "code",
   "execution_count": 75,
   "id": "f36085cb-9c99-447d-a283-f5af2b39d8a9",
   "metadata": {},
   "outputs": [
    {
     "data": {
      "text/html": [
       "<div>\n",
       "<style scoped>\n",
       "    .dataframe tbody tr th:only-of-type {\n",
       "        vertical-align: middle;\n",
       "    }\n",
       "\n",
       "    .dataframe tbody tr th {\n",
       "        vertical-align: top;\n",
       "    }\n",
       "\n",
       "    .dataframe thead th {\n",
       "        text-align: right;\n",
       "    }\n",
       "</style>\n",
       "<table border=\"1\" class=\"dataframe\">\n",
       "  <thead>\n",
       "    <tr style=\"text-align: right;\">\n",
       "      <th></th>\n",
       "      <th>A</th>\n",
       "      <th>B</th>\n",
       "      <th>C</th>\n",
       "      <th>D</th>\n",
       "    </tr>\n",
       "  </thead>\n",
       "  <tbody>\n",
       "    <tr>\n",
       "      <th>2024-10-15</th>\n",
       "      <td>0.000000</td>\n",
       "      <td>0.000000</td>\n",
       "      <td>-0.054775</td>\n",
       "      <td>5.0</td>\n",
       "    </tr>\n",
       "    <tr>\n",
       "      <th>2024-10-16</th>\n",
       "      <td>1.775845</td>\n",
       "      <td>-0.571162</td>\n",
       "      <td>0.022230</td>\n",
       "      <td>5.0</td>\n",
       "    </tr>\n",
       "    <tr>\n",
       "      <th>2024-10-17</th>\n",
       "      <td>-0.088840</td>\n",
       "      <td>1.208406</td>\n",
       "      <td>-0.802657</td>\n",
       "      <td>5.0</td>\n",
       "    </tr>\n",
       "    <tr>\n",
       "      <th>2024-10-18</th>\n",
       "      <td>-1.361773</td>\n",
       "      <td>-0.319626</td>\n",
       "      <td>0.763728</td>\n",
       "      <td>5.0</td>\n",
       "    </tr>\n",
       "    <tr>\n",
       "      <th>2024-10-19</th>\n",
       "      <td>2.478647</td>\n",
       "      <td>-0.678783</td>\n",
       "      <td>0.745558</td>\n",
       "      <td>5.0</td>\n",
       "    </tr>\n",
       "    <tr>\n",
       "      <th>2024-10-20</th>\n",
       "      <td>-1.201021</td>\n",
       "      <td>-0.602363</td>\n",
       "      <td>0.437264</td>\n",
       "      <td>5.0</td>\n",
       "    </tr>\n",
       "    <tr>\n",
       "      <th>2024-10-21</th>\n",
       "      <td>0.633254</td>\n",
       "      <td>-0.375140</td>\n",
       "      <td>-0.817155</td>\n",
       "      <td>5.0</td>\n",
       "    </tr>\n",
       "    <tr>\n",
       "      <th>2024-10-22</th>\n",
       "      <td>1.097421</td>\n",
       "      <td>-0.514981</td>\n",
       "      <td>-0.245980</td>\n",
       "      <td>5.0</td>\n",
       "    </tr>\n",
       "    <tr>\n",
       "      <th>2024-10-23</th>\n",
       "      <td>-0.496762</td>\n",
       "      <td>-0.963155</td>\n",
       "      <td>2.301437</td>\n",
       "      <td>5.0</td>\n",
       "    </tr>\n",
       "    <tr>\n",
       "      <th>2024-10-24</th>\n",
       "      <td>-0.154019</td>\n",
       "      <td>-0.079882</td>\n",
       "      <td>-0.516889</td>\n",
       "      <td>5.0</td>\n",
       "    </tr>\n",
       "  </tbody>\n",
       "</table>\n",
       "</div>"
      ],
      "text/plain": [
       "                   A         B         C    D\n",
       "2024-10-15  0.000000  0.000000 -0.054775  5.0\n",
       "2024-10-16  1.775845 -0.571162  0.022230  5.0\n",
       "2024-10-17 -0.088840  1.208406 -0.802657  5.0\n",
       "2024-10-18 -1.361773 -0.319626  0.763728  5.0\n",
       "2024-10-19  2.478647 -0.678783  0.745558  5.0\n",
       "2024-10-20 -1.201021 -0.602363  0.437264  5.0\n",
       "2024-10-21  0.633254 -0.375140 -0.817155  5.0\n",
       "2024-10-22  1.097421 -0.514981 -0.245980  5.0\n",
       "2024-10-23 -0.496762 -0.963155  2.301437  5.0\n",
       "2024-10-24 -0.154019 -0.079882 -0.516889  5.0"
      ]
     },
     "execution_count": 75,
     "metadata": {},
     "output_type": "execute_result"
    }
   ],
   "source": [
    "df"
   ]
  },
  {
   "cell_type": "code",
   "execution_count": 76,
   "id": "bef5fff0-22d6-4390-9a4d-c239013c4b96",
   "metadata": {},
   "outputs": [
    {
     "data": {
      "text/plain": [
       "array([3, 3, 3, 3, 3])"
      ]
     },
     "execution_count": 76,
     "metadata": {},
     "output_type": "execute_result"
    }
   ],
   "source": [
    "arr = np.array([3] * 5)\n",
    "arr"
   ]
  },
  {
   "cell_type": "code",
   "execution_count": 77,
   "id": "13fff95a-fc96-4c78-ac26-0e3095d2638f",
   "metadata": {},
   "outputs": [
    {
     "data": {
      "text/plain": [
       "dtype('int32')"
      ]
     },
     "execution_count": 77,
     "metadata": {},
     "output_type": "execute_result"
    }
   ],
   "source": [
    "arr.dtype"
   ]
  },
  {
   "cell_type": "code",
   "execution_count": 78,
   "id": "86f6bdb5-32a8-4769-9ecf-59f84118e4c3",
   "metadata": {},
   "outputs": [
    {
     "data": {
      "text/plain": [
       "numpy.ndarray"
      ]
     },
     "execution_count": 78,
     "metadata": {},
     "output_type": "execute_result"
    }
   ],
   "source": [
    "type(arr)"
   ]
  },
  {
   "cell_type": "code",
   "execution_count": 79,
   "id": "99d75003-c11d-433a-aac3-89d0542b4137",
   "metadata": {},
   "outputs": [
    {
     "data": {
      "text/plain": [
       "5"
      ]
     },
     "execution_count": 79,
     "metadata": {},
     "output_type": "execute_result"
    }
   ],
   "source": [
    "len(arr)"
   ]
  },
  {
   "cell_type": "code",
   "execution_count": 80,
   "id": "7b247c22-287c-4fd5-bfcf-0378817e6f69",
   "metadata": {},
   "outputs": [
    {
     "data": {
      "text/plain": [
       "(                   A         B         C    D\n",
       " 2024-10-15  0.000000  0.000000 -0.054775  5.0\n",
       " 2024-10-16  1.775845 -0.571162  0.022230  5.0\n",
       " 2024-10-17 -0.088840  1.208406 -0.802657  5.0\n",
       " 2024-10-18 -1.361773 -0.319626  0.763728  5.0\n",
       " 2024-10-19  2.478647 -0.678783  0.745558  5.0\n",
       " 2024-10-20 -1.201021 -0.602363  0.437264  5.0\n",
       " 2024-10-21  0.633254 -0.375140 -0.817155  5.0\n",
       " 2024-10-22  1.097421 -0.514981 -0.245980  5.0\n",
       " 2024-10-23 -0.496762 -0.963155  2.301437  5.0\n",
       " 2024-10-24 -0.154019 -0.079882 -0.516889  5.0,\n",
       "                    A         B         C    D\n",
       " 2024-10-15  0.000000  0.000000 -0.054775 -5.0\n",
       " 2024-10-16 -1.775845 -0.571162 -0.022230 -5.0\n",
       " 2024-10-17 -0.088840 -1.208406 -0.802657 -5.0\n",
       " 2024-10-18 -1.361773 -0.319626 -0.763728 -5.0\n",
       " 2024-10-19 -2.478647 -0.678783 -0.745558 -5.0\n",
       " 2024-10-20 -1.201021 -0.602363 -0.437264 -5.0\n",
       " 2024-10-21 -0.633254 -0.375140 -0.817155 -5.0\n",
       " 2024-10-22 -1.097421 -0.514981 -0.245980 -5.0\n",
       " 2024-10-23 -0.496762 -0.963155 -2.301437 -5.0\n",
       " 2024-10-24 -0.154019 -0.079882 -0.516889 -5.0)"
      ]
     },
     "execution_count": 80,
     "metadata": {},
     "output_type": "execute_result"
    }
   ],
   "source": [
    "df2 = df.copy()\n",
    "df2[df2 > 0] = -df2\n",
    "df, df2"
   ]
  },
  {
   "cell_type": "code",
   "execution_count": 81,
   "id": "626625ad-1a49-42eb-b9a0-906bec2ba4f4",
   "metadata": {},
   "outputs": [
    {
     "data": {
      "text/html": [
       "<div>\n",
       "<style scoped>\n",
       "    .dataframe tbody tr th:only-of-type {\n",
       "        vertical-align: middle;\n",
       "    }\n",
       "\n",
       "    .dataframe tbody tr th {\n",
       "        vertical-align: top;\n",
       "    }\n",
       "\n",
       "    .dataframe thead th {\n",
       "        text-align: right;\n",
       "    }\n",
       "</style>\n",
       "<table border=\"1\" class=\"dataframe\">\n",
       "  <thead>\n",
       "    <tr style=\"text-align: right;\">\n",
       "      <th></th>\n",
       "      <th>A</th>\n",
       "      <th>B</th>\n",
       "      <th>C</th>\n",
       "      <th>D</th>\n",
       "    </tr>\n",
       "  </thead>\n",
       "  <tbody>\n",
       "    <tr>\n",
       "      <th>2024-10-15</th>\n",
       "      <td>NaN</td>\n",
       "      <td>NaN</td>\n",
       "      <td>NaN</td>\n",
       "      <td>NaN</td>\n",
       "    </tr>\n",
       "    <tr>\n",
       "      <th>2024-10-16</th>\n",
       "      <td>NaN</td>\n",
       "      <td>NaN</td>\n",
       "      <td>NaN</td>\n",
       "      <td>NaN</td>\n",
       "    </tr>\n",
       "    <tr>\n",
       "      <th>2024-10-17</th>\n",
       "      <td>NaN</td>\n",
       "      <td>NaN</td>\n",
       "      <td>NaN</td>\n",
       "      <td>NaN</td>\n",
       "    </tr>\n",
       "    <tr>\n",
       "      <th>2024-10-18</th>\n",
       "      <td>NaN</td>\n",
       "      <td>NaN</td>\n",
       "      <td>NaN</td>\n",
       "      <td>NaN</td>\n",
       "    </tr>\n",
       "    <tr>\n",
       "      <th>2024-10-19</th>\n",
       "      <td>NaN</td>\n",
       "      <td>NaN</td>\n",
       "      <td>NaN</td>\n",
       "      <td>NaN</td>\n",
       "    </tr>\n",
       "    <tr>\n",
       "      <th>2024-10-20</th>\n",
       "      <td>NaN</td>\n",
       "      <td>NaN</td>\n",
       "      <td>NaN</td>\n",
       "      <td>NaN</td>\n",
       "    </tr>\n",
       "    <tr>\n",
       "      <th>2024-10-21</th>\n",
       "      <td>NaN</td>\n",
       "      <td>NaN</td>\n",
       "      <td>NaN</td>\n",
       "      <td>NaN</td>\n",
       "    </tr>\n",
       "    <tr>\n",
       "      <th>2024-10-22</th>\n",
       "      <td>NaN</td>\n",
       "      <td>NaN</td>\n",
       "      <td>NaN</td>\n",
       "      <td>NaN</td>\n",
       "    </tr>\n",
       "    <tr>\n",
       "      <th>2024-10-23</th>\n",
       "      <td>NaN</td>\n",
       "      <td>NaN</td>\n",
       "      <td>NaN</td>\n",
       "      <td>NaN</td>\n",
       "    </tr>\n",
       "    <tr>\n",
       "      <th>2024-10-24</th>\n",
       "      <td>NaN</td>\n",
       "      <td>NaN</td>\n",
       "      <td>NaN</td>\n",
       "      <td>NaN</td>\n",
       "    </tr>\n",
       "  </tbody>\n",
       "</table>\n",
       "</div>"
      ],
      "text/plain": [
       "             A   B   C   D\n",
       "2024-10-15 NaN NaN NaN NaN\n",
       "2024-10-16 NaN NaN NaN NaN\n",
       "2024-10-17 NaN NaN NaN NaN\n",
       "2024-10-18 NaN NaN NaN NaN\n",
       "2024-10-19 NaN NaN NaN NaN\n",
       "2024-10-20 NaN NaN NaN NaN\n",
       "2024-10-21 NaN NaN NaN NaN\n",
       "2024-10-22 NaN NaN NaN NaN\n",
       "2024-10-23 NaN NaN NaN NaN\n",
       "2024-10-24 NaN NaN NaN NaN"
      ]
     },
     "execution_count": 81,
     "metadata": {},
     "output_type": "execute_result"
    }
   ],
   "source": [
    "df2[df2 > 0]"
   ]
  },
  {
   "cell_type": "code",
   "execution_count": 82,
   "id": "85db2a5e-5dbb-451b-901d-ffbedd774e34",
   "metadata": {},
   "outputs": [
    {
     "data": {
      "text/html": [
       "<div>\n",
       "<style scoped>\n",
       "    .dataframe tbody tr th:only-of-type {\n",
       "        vertical-align: middle;\n",
       "    }\n",
       "\n",
       "    .dataframe tbody tr th {\n",
       "        vertical-align: top;\n",
       "    }\n",
       "\n",
       "    .dataframe thead th {\n",
       "        text-align: right;\n",
       "    }\n",
       "</style>\n",
       "<table border=\"1\" class=\"dataframe\">\n",
       "  <thead>\n",
       "    <tr style=\"text-align: right;\">\n",
       "      <th></th>\n",
       "      <th>A</th>\n",
       "      <th>B</th>\n",
       "      <th>C</th>\n",
       "      <th>D</th>\n",
       "    </tr>\n",
       "  </thead>\n",
       "  <tbody>\n",
       "    <tr>\n",
       "      <th>2024-10-15</th>\n",
       "      <td>0.0</td>\n",
       "      <td>0.0</td>\n",
       "      <td>NaN</td>\n",
       "      <td>NaN</td>\n",
       "    </tr>\n",
       "    <tr>\n",
       "      <th>2024-10-16</th>\n",
       "      <td>NaN</td>\n",
       "      <td>NaN</td>\n",
       "      <td>NaN</td>\n",
       "      <td>NaN</td>\n",
       "    </tr>\n",
       "    <tr>\n",
       "      <th>2024-10-17</th>\n",
       "      <td>NaN</td>\n",
       "      <td>NaN</td>\n",
       "      <td>NaN</td>\n",
       "      <td>NaN</td>\n",
       "    </tr>\n",
       "    <tr>\n",
       "      <th>2024-10-18</th>\n",
       "      <td>NaN</td>\n",
       "      <td>NaN</td>\n",
       "      <td>NaN</td>\n",
       "      <td>NaN</td>\n",
       "    </tr>\n",
       "    <tr>\n",
       "      <th>2024-10-19</th>\n",
       "      <td>NaN</td>\n",
       "      <td>NaN</td>\n",
       "      <td>NaN</td>\n",
       "      <td>NaN</td>\n",
       "    </tr>\n",
       "    <tr>\n",
       "      <th>2024-10-20</th>\n",
       "      <td>NaN</td>\n",
       "      <td>NaN</td>\n",
       "      <td>NaN</td>\n",
       "      <td>NaN</td>\n",
       "    </tr>\n",
       "    <tr>\n",
       "      <th>2024-10-21</th>\n",
       "      <td>NaN</td>\n",
       "      <td>NaN</td>\n",
       "      <td>NaN</td>\n",
       "      <td>NaN</td>\n",
       "    </tr>\n",
       "    <tr>\n",
       "      <th>2024-10-22</th>\n",
       "      <td>NaN</td>\n",
       "      <td>NaN</td>\n",
       "      <td>NaN</td>\n",
       "      <td>NaN</td>\n",
       "    </tr>\n",
       "    <tr>\n",
       "      <th>2024-10-23</th>\n",
       "      <td>NaN</td>\n",
       "      <td>NaN</td>\n",
       "      <td>NaN</td>\n",
       "      <td>NaN</td>\n",
       "    </tr>\n",
       "    <tr>\n",
       "      <th>2024-10-24</th>\n",
       "      <td>NaN</td>\n",
       "      <td>NaN</td>\n",
       "      <td>NaN</td>\n",
       "      <td>NaN</td>\n",
       "    </tr>\n",
       "  </tbody>\n",
       "</table>\n",
       "</div>"
      ],
      "text/plain": [
       "              A    B   C   D\n",
       "2024-10-15  0.0  0.0 NaN NaN\n",
       "2024-10-16  NaN  NaN NaN NaN\n",
       "2024-10-17  NaN  NaN NaN NaN\n",
       "2024-10-18  NaN  NaN NaN NaN\n",
       "2024-10-19  NaN  NaN NaN NaN\n",
       "2024-10-20  NaN  NaN NaN NaN\n",
       "2024-10-21  NaN  NaN NaN NaN\n",
       "2024-10-22  NaN  NaN NaN NaN\n",
       "2024-10-23  NaN  NaN NaN NaN\n",
       "2024-10-24  NaN  NaN NaN NaN"
      ]
     },
     "execution_count": 82,
     "metadata": {},
     "output_type": "execute_result"
    }
   ],
   "source": [
    "df2[df2 == 0]"
   ]
  },
  {
   "cell_type": "code",
   "execution_count": 83,
   "id": "bb2da557-255c-4cb2-8219-6b632a605817",
   "metadata": {},
   "outputs": [
    {
     "data": {
      "text/html": [
       "<div>\n",
       "<style scoped>\n",
       "    .dataframe tbody tr th:only-of-type {\n",
       "        vertical-align: middle;\n",
       "    }\n",
       "\n",
       "    .dataframe tbody tr th {\n",
       "        vertical-align: top;\n",
       "    }\n",
       "\n",
       "    .dataframe thead th {\n",
       "        text-align: right;\n",
       "    }\n",
       "</style>\n",
       "<table border=\"1\" class=\"dataframe\">\n",
       "  <thead>\n",
       "    <tr style=\"text-align: right;\">\n",
       "      <th></th>\n",
       "      <th>A</th>\n",
       "      <th>B</th>\n",
       "      <th>C</th>\n",
       "      <th>D</th>\n",
       "    </tr>\n",
       "  </thead>\n",
       "  <tbody>\n",
       "    <tr>\n",
       "      <th>2024-10-15</th>\n",
       "      <td>0.000000</td>\n",
       "      <td>0.000000</td>\n",
       "      <td>-0.054775</td>\n",
       "      <td>5.0</td>\n",
       "    </tr>\n",
       "    <tr>\n",
       "      <th>2024-10-16</th>\n",
       "      <td>1.775845</td>\n",
       "      <td>-0.571162</td>\n",
       "      <td>0.022230</td>\n",
       "      <td>5.0</td>\n",
       "    </tr>\n",
       "    <tr>\n",
       "      <th>2024-10-17</th>\n",
       "      <td>-0.088840</td>\n",
       "      <td>1.208406</td>\n",
       "      <td>-0.802657</td>\n",
       "      <td>5.0</td>\n",
       "    </tr>\n",
       "    <tr>\n",
       "      <th>2024-10-18</th>\n",
       "      <td>-1.361773</td>\n",
       "      <td>-0.319626</td>\n",
       "      <td>0.763728</td>\n",
       "      <td>5.0</td>\n",
       "    </tr>\n",
       "    <tr>\n",
       "      <th>2024-10-19</th>\n",
       "      <td>2.478647</td>\n",
       "      <td>-0.678783</td>\n",
       "      <td>0.745558</td>\n",
       "      <td>5.0</td>\n",
       "    </tr>\n",
       "    <tr>\n",
       "      <th>2024-10-20</th>\n",
       "      <td>-1.201021</td>\n",
       "      <td>-0.602363</td>\n",
       "      <td>0.437264</td>\n",
       "      <td>5.0</td>\n",
       "    </tr>\n",
       "    <tr>\n",
       "      <th>2024-10-21</th>\n",
       "      <td>0.633254</td>\n",
       "      <td>-0.375140</td>\n",
       "      <td>-0.817155</td>\n",
       "      <td>5.0</td>\n",
       "    </tr>\n",
       "    <tr>\n",
       "      <th>2024-10-22</th>\n",
       "      <td>1.097421</td>\n",
       "      <td>-0.514981</td>\n",
       "      <td>-0.245980</td>\n",
       "      <td>5.0</td>\n",
       "    </tr>\n",
       "    <tr>\n",
       "      <th>2024-10-23</th>\n",
       "      <td>-0.496762</td>\n",
       "      <td>-0.963155</td>\n",
       "      <td>2.301437</td>\n",
       "      <td>5.0</td>\n",
       "    </tr>\n",
       "    <tr>\n",
       "      <th>2024-10-24</th>\n",
       "      <td>-0.154019</td>\n",
       "      <td>-0.079882</td>\n",
       "      <td>-0.516889</td>\n",
       "      <td>5.0</td>\n",
       "    </tr>\n",
       "  </tbody>\n",
       "</table>\n",
       "</div>"
      ],
      "text/plain": [
       "                   A         B         C    D\n",
       "2024-10-15  0.000000  0.000000 -0.054775  5.0\n",
       "2024-10-16  1.775845 -0.571162  0.022230  5.0\n",
       "2024-10-17 -0.088840  1.208406 -0.802657  5.0\n",
       "2024-10-18 -1.361773 -0.319626  0.763728  5.0\n",
       "2024-10-19  2.478647 -0.678783  0.745558  5.0\n",
       "2024-10-20 -1.201021 -0.602363  0.437264  5.0\n",
       "2024-10-21  0.633254 -0.375140 -0.817155  5.0\n",
       "2024-10-22  1.097421 -0.514981 -0.245980  5.0\n",
       "2024-10-23 -0.496762 -0.963155  2.301437  5.0\n",
       "2024-10-24 -0.154019 -0.079882 -0.516889  5.0"
      ]
     },
     "execution_count": 83,
     "metadata": {},
     "output_type": "execute_result"
    }
   ],
   "source": [
    "df"
   ]
  },
  {
   "cell_type": "code",
   "execution_count": 84,
   "id": "dd2e83ed-dd73-4b72-a464-0fb49271c04d",
   "metadata": {},
   "outputs": [],
   "source": [
    "df1 = df.reindex(index = dates[0 : 4], columns = list(df.columns) + [\"E\", \"F\"])"
   ]
  },
  {
   "cell_type": "code",
   "execution_count": 85,
   "id": "2ee0606d-a9b4-47c7-a648-fbc5775bf454",
   "metadata": {},
   "outputs": [
    {
     "data": {
      "text/html": [
       "<div>\n",
       "<style scoped>\n",
       "    .dataframe tbody tr th:only-of-type {\n",
       "        vertical-align: middle;\n",
       "    }\n",
       "\n",
       "    .dataframe tbody tr th {\n",
       "        vertical-align: top;\n",
       "    }\n",
       "\n",
       "    .dataframe thead th {\n",
       "        text-align: right;\n",
       "    }\n",
       "</style>\n",
       "<table border=\"1\" class=\"dataframe\">\n",
       "  <thead>\n",
       "    <tr style=\"text-align: right;\">\n",
       "      <th></th>\n",
       "      <th>A</th>\n",
       "      <th>B</th>\n",
       "      <th>C</th>\n",
       "      <th>D</th>\n",
       "      <th>E</th>\n",
       "      <th>F</th>\n",
       "    </tr>\n",
       "  </thead>\n",
       "  <tbody>\n",
       "    <tr>\n",
       "      <th>2024-10-15</th>\n",
       "      <td>0.000000</td>\n",
       "      <td>0.000000</td>\n",
       "      <td>-0.054775</td>\n",
       "      <td>5.0</td>\n",
       "      <td>NaN</td>\n",
       "      <td>NaN</td>\n",
       "    </tr>\n",
       "    <tr>\n",
       "      <th>2024-10-16</th>\n",
       "      <td>1.775845</td>\n",
       "      <td>-0.571162</td>\n",
       "      <td>0.022230</td>\n",
       "      <td>5.0</td>\n",
       "      <td>NaN</td>\n",
       "      <td>NaN</td>\n",
       "    </tr>\n",
       "    <tr>\n",
       "      <th>2024-10-17</th>\n",
       "      <td>-0.088840</td>\n",
       "      <td>1.208406</td>\n",
       "      <td>-0.802657</td>\n",
       "      <td>5.0</td>\n",
       "      <td>NaN</td>\n",
       "      <td>NaN</td>\n",
       "    </tr>\n",
       "    <tr>\n",
       "      <th>2024-10-18</th>\n",
       "      <td>-1.361773</td>\n",
       "      <td>-0.319626</td>\n",
       "      <td>0.763728</td>\n",
       "      <td>5.0</td>\n",
       "      <td>NaN</td>\n",
       "      <td>NaN</td>\n",
       "    </tr>\n",
       "  </tbody>\n",
       "</table>\n",
       "</div>"
      ],
      "text/plain": [
       "                   A         B         C    D   E   F\n",
       "2024-10-15  0.000000  0.000000 -0.054775  5.0 NaN NaN\n",
       "2024-10-16  1.775845 -0.571162  0.022230  5.0 NaN NaN\n",
       "2024-10-17 -0.088840  1.208406 -0.802657  5.0 NaN NaN\n",
       "2024-10-18 -1.361773 -0.319626  0.763728  5.0 NaN NaN"
      ]
     },
     "execution_count": 85,
     "metadata": {},
     "output_type": "execute_result"
    }
   ],
   "source": [
    "df1"
   ]
  },
  {
   "cell_type": "code",
   "execution_count": 86,
   "id": "8822475a-0329-4dd8-890b-b2e1e85a8e1e",
   "metadata": {},
   "outputs": [],
   "source": [
    "df1.loc[dates[0] : dates[1], \"E\"] = 1"
   ]
  },
  {
   "cell_type": "code",
   "execution_count": 87,
   "id": "13fb5359-c497-48d2-b460-36932188c272",
   "metadata": {},
   "outputs": [
    {
     "data": {
      "text/html": [
       "<div>\n",
       "<style scoped>\n",
       "    .dataframe tbody tr th:only-of-type {\n",
       "        vertical-align: middle;\n",
       "    }\n",
       "\n",
       "    .dataframe tbody tr th {\n",
       "        vertical-align: top;\n",
       "    }\n",
       "\n",
       "    .dataframe thead th {\n",
       "        text-align: right;\n",
       "    }\n",
       "</style>\n",
       "<table border=\"1\" class=\"dataframe\">\n",
       "  <thead>\n",
       "    <tr style=\"text-align: right;\">\n",
       "      <th></th>\n",
       "      <th>A</th>\n",
       "      <th>B</th>\n",
       "      <th>C</th>\n",
       "      <th>D</th>\n",
       "      <th>E</th>\n",
       "      <th>F</th>\n",
       "    </tr>\n",
       "  </thead>\n",
       "  <tbody>\n",
       "    <tr>\n",
       "      <th>2024-10-15</th>\n",
       "      <td>0.000000</td>\n",
       "      <td>0.000000</td>\n",
       "      <td>-0.054775</td>\n",
       "      <td>5.0</td>\n",
       "      <td>1.0</td>\n",
       "      <td>NaN</td>\n",
       "    </tr>\n",
       "    <tr>\n",
       "      <th>2024-10-16</th>\n",
       "      <td>1.775845</td>\n",
       "      <td>-0.571162</td>\n",
       "      <td>0.022230</td>\n",
       "      <td>5.0</td>\n",
       "      <td>1.0</td>\n",
       "      <td>NaN</td>\n",
       "    </tr>\n",
       "    <tr>\n",
       "      <th>2024-10-17</th>\n",
       "      <td>-0.088840</td>\n",
       "      <td>1.208406</td>\n",
       "      <td>-0.802657</td>\n",
       "      <td>5.0</td>\n",
       "      <td>NaN</td>\n",
       "      <td>NaN</td>\n",
       "    </tr>\n",
       "    <tr>\n",
       "      <th>2024-10-18</th>\n",
       "      <td>-1.361773</td>\n",
       "      <td>-0.319626</td>\n",
       "      <td>0.763728</td>\n",
       "      <td>5.0</td>\n",
       "      <td>NaN</td>\n",
       "      <td>NaN</td>\n",
       "    </tr>\n",
       "  </tbody>\n",
       "</table>\n",
       "</div>"
      ],
      "text/plain": [
       "                   A         B         C    D    E   F\n",
       "2024-10-15  0.000000  0.000000 -0.054775  5.0  1.0 NaN\n",
       "2024-10-16  1.775845 -0.571162  0.022230  5.0  1.0 NaN\n",
       "2024-10-17 -0.088840  1.208406 -0.802657  5.0  NaN NaN\n",
       "2024-10-18 -1.361773 -0.319626  0.763728  5.0  NaN NaN"
      ]
     },
     "execution_count": 87,
     "metadata": {},
     "output_type": "execute_result"
    }
   ],
   "source": [
    "df1"
   ]
  },
  {
   "cell_type": "code",
   "execution_count": 88,
   "id": "99923294-ca39-46e7-8f23-d630c708b5dc",
   "metadata": {},
   "outputs": [
    {
     "data": {
      "text/html": [
       "<div>\n",
       "<style scoped>\n",
       "    .dataframe tbody tr th:only-of-type {\n",
       "        vertical-align: middle;\n",
       "    }\n",
       "\n",
       "    .dataframe tbody tr th {\n",
       "        vertical-align: top;\n",
       "    }\n",
       "\n",
       "    .dataframe thead th {\n",
       "        text-align: right;\n",
       "    }\n",
       "</style>\n",
       "<table border=\"1\" class=\"dataframe\">\n",
       "  <thead>\n",
       "    <tr style=\"text-align: right;\">\n",
       "      <th></th>\n",
       "      <th>A</th>\n",
       "      <th>B</th>\n",
       "      <th>C</th>\n",
       "      <th>D</th>\n",
       "      <th>E</th>\n",
       "      <th>F</th>\n",
       "    </tr>\n",
       "  </thead>\n",
       "  <tbody>\n",
       "  </tbody>\n",
       "</table>\n",
       "</div>"
      ],
      "text/plain": [
       "Empty DataFrame\n",
       "Columns: [A, B, C, D, E, F]\n",
       "Index: []"
      ]
     },
     "execution_count": 88,
     "metadata": {},
     "output_type": "execute_result"
    }
   ],
   "source": [
    "df1.dropna(how = \"any\")"
   ]
  },
  {
   "cell_type": "code",
   "execution_count": 89,
   "id": "b60196df-21fe-4559-a7d1-8b98130ca919",
   "metadata": {},
   "outputs": [
    {
     "data": {
      "text/html": [
       "<div>\n",
       "<style scoped>\n",
       "    .dataframe tbody tr th:only-of-type {\n",
       "        vertical-align: middle;\n",
       "    }\n",
       "\n",
       "    .dataframe tbody tr th {\n",
       "        vertical-align: top;\n",
       "    }\n",
       "\n",
       "    .dataframe thead th {\n",
       "        text-align: right;\n",
       "    }\n",
       "</style>\n",
       "<table border=\"1\" class=\"dataframe\">\n",
       "  <thead>\n",
       "    <tr style=\"text-align: right;\">\n",
       "      <th></th>\n",
       "      <th>A</th>\n",
       "      <th>B</th>\n",
       "      <th>C</th>\n",
       "      <th>D</th>\n",
       "      <th>E</th>\n",
       "      <th>F</th>\n",
       "    </tr>\n",
       "  </thead>\n",
       "  <tbody>\n",
       "    <tr>\n",
       "      <th>2024-10-15</th>\n",
       "      <td>0.000000</td>\n",
       "      <td>0.000000</td>\n",
       "      <td>-0.054775</td>\n",
       "      <td>5.0</td>\n",
       "      <td>1.0</td>\n",
       "      <td>NaN</td>\n",
       "    </tr>\n",
       "    <tr>\n",
       "      <th>2024-10-16</th>\n",
       "      <td>1.775845</td>\n",
       "      <td>-0.571162</td>\n",
       "      <td>0.022230</td>\n",
       "      <td>5.0</td>\n",
       "      <td>1.0</td>\n",
       "      <td>NaN</td>\n",
       "    </tr>\n",
       "    <tr>\n",
       "      <th>2024-10-17</th>\n",
       "      <td>-0.088840</td>\n",
       "      <td>1.208406</td>\n",
       "      <td>-0.802657</td>\n",
       "      <td>5.0</td>\n",
       "      <td>NaN</td>\n",
       "      <td>NaN</td>\n",
       "    </tr>\n",
       "    <tr>\n",
       "      <th>2024-10-18</th>\n",
       "      <td>-1.361773</td>\n",
       "      <td>-0.319626</td>\n",
       "      <td>0.763728</td>\n",
       "      <td>5.0</td>\n",
       "      <td>NaN</td>\n",
       "      <td>NaN</td>\n",
       "    </tr>\n",
       "  </tbody>\n",
       "</table>\n",
       "</div>"
      ],
      "text/plain": [
       "                   A         B         C    D    E   F\n",
       "2024-10-15  0.000000  0.000000 -0.054775  5.0  1.0 NaN\n",
       "2024-10-16  1.775845 -0.571162  0.022230  5.0  1.0 NaN\n",
       "2024-10-17 -0.088840  1.208406 -0.802657  5.0  NaN NaN\n",
       "2024-10-18 -1.361773 -0.319626  0.763728  5.0  NaN NaN"
      ]
     },
     "execution_count": 89,
     "metadata": {},
     "output_type": "execute_result"
    }
   ],
   "source": [
    "df1"
   ]
  },
  {
   "cell_type": "code",
   "execution_count": 90,
   "id": "6d6c3f7f-040f-47c3-823e-62e64199322f",
   "metadata": {},
   "outputs": [
    {
     "data": {
      "text/html": [
       "<div>\n",
       "<style scoped>\n",
       "    .dataframe tbody tr th:only-of-type {\n",
       "        vertical-align: middle;\n",
       "    }\n",
       "\n",
       "    .dataframe tbody tr th {\n",
       "        vertical-align: top;\n",
       "    }\n",
       "\n",
       "    .dataframe thead th {\n",
       "        text-align: right;\n",
       "    }\n",
       "</style>\n",
       "<table border=\"1\" class=\"dataframe\">\n",
       "  <thead>\n",
       "    <tr style=\"text-align: right;\">\n",
       "      <th></th>\n",
       "      <th>A</th>\n",
       "      <th>B</th>\n",
       "      <th>C</th>\n",
       "      <th>D</th>\n",
       "      <th>E</th>\n",
       "      <th>F</th>\n",
       "    </tr>\n",
       "  </thead>\n",
       "  <tbody>\n",
       "    <tr>\n",
       "      <th>2024-10-15</th>\n",
       "      <td>0.000000</td>\n",
       "      <td>0.000000</td>\n",
       "      <td>-0.054775</td>\n",
       "      <td>5.0</td>\n",
       "      <td>1.0</td>\n",
       "      <td>3.0</td>\n",
       "    </tr>\n",
       "    <tr>\n",
       "      <th>2024-10-16</th>\n",
       "      <td>1.775845</td>\n",
       "      <td>-0.571162</td>\n",
       "      <td>0.022230</td>\n",
       "      <td>5.0</td>\n",
       "      <td>1.0</td>\n",
       "      <td>3.0</td>\n",
       "    </tr>\n",
       "    <tr>\n",
       "      <th>2024-10-17</th>\n",
       "      <td>-0.088840</td>\n",
       "      <td>1.208406</td>\n",
       "      <td>-0.802657</td>\n",
       "      <td>5.0</td>\n",
       "      <td>3.0</td>\n",
       "      <td>3.0</td>\n",
       "    </tr>\n",
       "    <tr>\n",
       "      <th>2024-10-18</th>\n",
       "      <td>-1.361773</td>\n",
       "      <td>-0.319626</td>\n",
       "      <td>0.763728</td>\n",
       "      <td>5.0</td>\n",
       "      <td>3.0</td>\n",
       "      <td>3.0</td>\n",
       "    </tr>\n",
       "  </tbody>\n",
       "</table>\n",
       "</div>"
      ],
      "text/plain": [
       "                   A         B         C    D    E    F\n",
       "2024-10-15  0.000000  0.000000 -0.054775  5.0  1.0  3.0\n",
       "2024-10-16  1.775845 -0.571162  0.022230  5.0  1.0  3.0\n",
       "2024-10-17 -0.088840  1.208406 -0.802657  5.0  3.0  3.0\n",
       "2024-10-18 -1.361773 -0.319626  0.763728  5.0  3.0  3.0"
      ]
     },
     "execution_count": 90,
     "metadata": {},
     "output_type": "execute_result"
    }
   ],
   "source": [
    "df1.fillna(value = 3)"
   ]
  },
  {
   "cell_type": "code",
   "execution_count": 91,
   "id": "098ce9de-8692-4df3-9cb6-464afe595d0d",
   "metadata": {},
   "outputs": [
    {
     "data": {
      "text/html": [
       "<div>\n",
       "<style scoped>\n",
       "    .dataframe tbody tr th:only-of-type {\n",
       "        vertical-align: middle;\n",
       "    }\n",
       "\n",
       "    .dataframe tbody tr th {\n",
       "        vertical-align: top;\n",
       "    }\n",
       "\n",
       "    .dataframe thead th {\n",
       "        text-align: right;\n",
       "    }\n",
       "</style>\n",
       "<table border=\"1\" class=\"dataframe\">\n",
       "  <thead>\n",
       "    <tr style=\"text-align: right;\">\n",
       "      <th></th>\n",
       "      <th>A</th>\n",
       "      <th>B</th>\n",
       "      <th>C</th>\n",
       "      <th>D</th>\n",
       "      <th>E</th>\n",
       "      <th>F</th>\n",
       "    </tr>\n",
       "  </thead>\n",
       "  <tbody>\n",
       "    <tr>\n",
       "      <th>2024-10-15</th>\n",
       "      <td>0.000000</td>\n",
       "      <td>0.000000</td>\n",
       "      <td>-0.054775</td>\n",
       "      <td>5.0</td>\n",
       "      <td>1.0</td>\n",
       "      <td>NaN</td>\n",
       "    </tr>\n",
       "    <tr>\n",
       "      <th>2024-10-16</th>\n",
       "      <td>1.775845</td>\n",
       "      <td>-0.571162</td>\n",
       "      <td>0.022230</td>\n",
       "      <td>5.0</td>\n",
       "      <td>1.0</td>\n",
       "      <td>NaN</td>\n",
       "    </tr>\n",
       "    <tr>\n",
       "      <th>2024-10-17</th>\n",
       "      <td>-0.088840</td>\n",
       "      <td>1.208406</td>\n",
       "      <td>-0.802657</td>\n",
       "      <td>5.0</td>\n",
       "      <td>NaN</td>\n",
       "      <td>NaN</td>\n",
       "    </tr>\n",
       "    <tr>\n",
       "      <th>2024-10-18</th>\n",
       "      <td>-1.361773</td>\n",
       "      <td>-0.319626</td>\n",
       "      <td>0.763728</td>\n",
       "      <td>5.0</td>\n",
       "      <td>NaN</td>\n",
       "      <td>NaN</td>\n",
       "    </tr>\n",
       "  </tbody>\n",
       "</table>\n",
       "</div>"
      ],
      "text/plain": [
       "                   A         B         C    D    E   F\n",
       "2024-10-15  0.000000  0.000000 -0.054775  5.0  1.0 NaN\n",
       "2024-10-16  1.775845 -0.571162  0.022230  5.0  1.0 NaN\n",
       "2024-10-17 -0.088840  1.208406 -0.802657  5.0  NaN NaN\n",
       "2024-10-18 -1.361773 -0.319626  0.763728  5.0  NaN NaN"
      ]
     },
     "execution_count": 91,
     "metadata": {},
     "output_type": "execute_result"
    }
   ],
   "source": [
    "df1"
   ]
  },
  {
   "cell_type": "code",
   "execution_count": 92,
   "id": "693fe0fe-3f2b-4968-b667-34b6838631aa",
   "metadata": {},
   "outputs": [
    {
     "data": {
      "text/html": [
       "<div>\n",
       "<style scoped>\n",
       "    .dataframe tbody tr th:only-of-type {\n",
       "        vertical-align: middle;\n",
       "    }\n",
       "\n",
       "    .dataframe tbody tr th {\n",
       "        vertical-align: top;\n",
       "    }\n",
       "\n",
       "    .dataframe thead th {\n",
       "        text-align: right;\n",
       "    }\n",
       "</style>\n",
       "<table border=\"1\" class=\"dataframe\">\n",
       "  <thead>\n",
       "    <tr style=\"text-align: right;\">\n",
       "      <th></th>\n",
       "      <th>A</th>\n",
       "      <th>B</th>\n",
       "      <th>C</th>\n",
       "      <th>D</th>\n",
       "      <th>E</th>\n",
       "      <th>F</th>\n",
       "    </tr>\n",
       "  </thead>\n",
       "  <tbody>\n",
       "    <tr>\n",
       "      <th>2024-10-15</th>\n",
       "      <td>False</td>\n",
       "      <td>False</td>\n",
       "      <td>False</td>\n",
       "      <td>False</td>\n",
       "      <td>False</td>\n",
       "      <td>True</td>\n",
       "    </tr>\n",
       "    <tr>\n",
       "      <th>2024-10-16</th>\n",
       "      <td>False</td>\n",
       "      <td>False</td>\n",
       "      <td>False</td>\n",
       "      <td>False</td>\n",
       "      <td>False</td>\n",
       "      <td>True</td>\n",
       "    </tr>\n",
       "    <tr>\n",
       "      <th>2024-10-17</th>\n",
       "      <td>False</td>\n",
       "      <td>False</td>\n",
       "      <td>False</td>\n",
       "      <td>False</td>\n",
       "      <td>True</td>\n",
       "      <td>True</td>\n",
       "    </tr>\n",
       "    <tr>\n",
       "      <th>2024-10-18</th>\n",
       "      <td>False</td>\n",
       "      <td>False</td>\n",
       "      <td>False</td>\n",
       "      <td>False</td>\n",
       "      <td>True</td>\n",
       "      <td>True</td>\n",
       "    </tr>\n",
       "  </tbody>\n",
       "</table>\n",
       "</div>"
      ],
      "text/plain": [
       "                A      B      C      D      E     F\n",
       "2024-10-15  False  False  False  False  False  True\n",
       "2024-10-16  False  False  False  False  False  True\n",
       "2024-10-17  False  False  False  False   True  True\n",
       "2024-10-18  False  False  False  False   True  True"
      ]
     },
     "execution_count": 92,
     "metadata": {},
     "output_type": "execute_result"
    }
   ],
   "source": [
    "df1.isna()"
   ]
  },
  {
   "cell_type": "code",
   "execution_count": 93,
   "id": "f551e0e9-f7ec-47fc-b0ef-190cc521fdc1",
   "metadata": {},
   "outputs": [
    {
     "data": {
      "text/html": [
       "<div>\n",
       "<style scoped>\n",
       "    .dataframe tbody tr th:only-of-type {\n",
       "        vertical-align: middle;\n",
       "    }\n",
       "\n",
       "    .dataframe tbody tr th {\n",
       "        vertical-align: top;\n",
       "    }\n",
       "\n",
       "    .dataframe thead th {\n",
       "        text-align: right;\n",
       "    }\n",
       "</style>\n",
       "<table border=\"1\" class=\"dataframe\">\n",
       "  <thead>\n",
       "    <tr style=\"text-align: right;\">\n",
       "      <th></th>\n",
       "      <th>A</th>\n",
       "      <th>B</th>\n",
       "      <th>C</th>\n",
       "      <th>D</th>\n",
       "      <th>E</th>\n",
       "      <th>F</th>\n",
       "    </tr>\n",
       "  </thead>\n",
       "  <tbody>\n",
       "    <tr>\n",
       "      <th>2024-10-15</th>\n",
       "      <td>False</td>\n",
       "      <td>False</td>\n",
       "      <td>False</td>\n",
       "      <td>False</td>\n",
       "      <td>False</td>\n",
       "      <td>True</td>\n",
       "    </tr>\n",
       "    <tr>\n",
       "      <th>2024-10-16</th>\n",
       "      <td>False</td>\n",
       "      <td>False</td>\n",
       "      <td>False</td>\n",
       "      <td>False</td>\n",
       "      <td>False</td>\n",
       "      <td>True</td>\n",
       "    </tr>\n",
       "    <tr>\n",
       "      <th>2024-10-17</th>\n",
       "      <td>False</td>\n",
       "      <td>False</td>\n",
       "      <td>False</td>\n",
       "      <td>False</td>\n",
       "      <td>True</td>\n",
       "      <td>True</td>\n",
       "    </tr>\n",
       "    <tr>\n",
       "      <th>2024-10-18</th>\n",
       "      <td>False</td>\n",
       "      <td>False</td>\n",
       "      <td>False</td>\n",
       "      <td>False</td>\n",
       "      <td>True</td>\n",
       "      <td>True</td>\n",
       "    </tr>\n",
       "  </tbody>\n",
       "</table>\n",
       "</div>"
      ],
      "text/plain": [
       "                A      B      C      D      E     F\n",
       "2024-10-15  False  False  False  False  False  True\n",
       "2024-10-16  False  False  False  False  False  True\n",
       "2024-10-17  False  False  False  False   True  True\n",
       "2024-10-18  False  False  False  False   True  True"
      ]
     },
     "execution_count": 93,
     "metadata": {},
     "output_type": "execute_result"
    }
   ],
   "source": [
    "pd.isna(df1)"
   ]
  },
  {
   "cell_type": "code",
   "execution_count": 94,
   "id": "f0ae4d69-3957-49f4-a200-2b4f788d8a87",
   "metadata": {},
   "outputs": [
    {
     "data": {
      "text/html": [
       "<div>\n",
       "<style scoped>\n",
       "    .dataframe tbody tr th:only-of-type {\n",
       "        vertical-align: middle;\n",
       "    }\n",
       "\n",
       "    .dataframe tbody tr th {\n",
       "        vertical-align: top;\n",
       "    }\n",
       "\n",
       "    .dataframe thead th {\n",
       "        text-align: right;\n",
       "    }\n",
       "</style>\n",
       "<table border=\"1\" class=\"dataframe\">\n",
       "  <thead>\n",
       "    <tr style=\"text-align: right;\">\n",
       "      <th></th>\n",
       "      <th>A</th>\n",
       "      <th>B</th>\n",
       "      <th>C</th>\n",
       "      <th>D</th>\n",
       "    </tr>\n",
       "  </thead>\n",
       "  <tbody>\n",
       "    <tr>\n",
       "      <th>2024-10-15</th>\n",
       "      <td>0.000000</td>\n",
       "      <td>0.000000</td>\n",
       "      <td>-0.054775</td>\n",
       "      <td>5.0</td>\n",
       "    </tr>\n",
       "    <tr>\n",
       "      <th>2024-10-16</th>\n",
       "      <td>1.775845</td>\n",
       "      <td>-0.571162</td>\n",
       "      <td>0.022230</td>\n",
       "      <td>5.0</td>\n",
       "    </tr>\n",
       "    <tr>\n",
       "      <th>2024-10-17</th>\n",
       "      <td>-0.088840</td>\n",
       "      <td>1.208406</td>\n",
       "      <td>-0.802657</td>\n",
       "      <td>5.0</td>\n",
       "    </tr>\n",
       "    <tr>\n",
       "      <th>2024-10-18</th>\n",
       "      <td>-1.361773</td>\n",
       "      <td>-0.319626</td>\n",
       "      <td>0.763728</td>\n",
       "      <td>5.0</td>\n",
       "    </tr>\n",
       "    <tr>\n",
       "      <th>2024-10-19</th>\n",
       "      <td>2.478647</td>\n",
       "      <td>-0.678783</td>\n",
       "      <td>0.745558</td>\n",
       "      <td>5.0</td>\n",
       "    </tr>\n",
       "    <tr>\n",
       "      <th>2024-10-20</th>\n",
       "      <td>-1.201021</td>\n",
       "      <td>-0.602363</td>\n",
       "      <td>0.437264</td>\n",
       "      <td>5.0</td>\n",
       "    </tr>\n",
       "    <tr>\n",
       "      <th>2024-10-21</th>\n",
       "      <td>0.633254</td>\n",
       "      <td>-0.375140</td>\n",
       "      <td>-0.817155</td>\n",
       "      <td>5.0</td>\n",
       "    </tr>\n",
       "    <tr>\n",
       "      <th>2024-10-22</th>\n",
       "      <td>1.097421</td>\n",
       "      <td>-0.514981</td>\n",
       "      <td>-0.245980</td>\n",
       "      <td>5.0</td>\n",
       "    </tr>\n",
       "    <tr>\n",
       "      <th>2024-10-23</th>\n",
       "      <td>-0.496762</td>\n",
       "      <td>-0.963155</td>\n",
       "      <td>2.301437</td>\n",
       "      <td>5.0</td>\n",
       "    </tr>\n",
       "    <tr>\n",
       "      <th>2024-10-24</th>\n",
       "      <td>-0.154019</td>\n",
       "      <td>-0.079882</td>\n",
       "      <td>-0.516889</td>\n",
       "      <td>5.0</td>\n",
       "    </tr>\n",
       "  </tbody>\n",
       "</table>\n",
       "</div>"
      ],
      "text/plain": [
       "                   A         B         C    D\n",
       "2024-10-15  0.000000  0.000000 -0.054775  5.0\n",
       "2024-10-16  1.775845 -0.571162  0.022230  5.0\n",
       "2024-10-17 -0.088840  1.208406 -0.802657  5.0\n",
       "2024-10-18 -1.361773 -0.319626  0.763728  5.0\n",
       "2024-10-19  2.478647 -0.678783  0.745558  5.0\n",
       "2024-10-20 -1.201021 -0.602363  0.437264  5.0\n",
       "2024-10-21  0.633254 -0.375140 -0.817155  5.0\n",
       "2024-10-22  1.097421 -0.514981 -0.245980  5.0\n",
       "2024-10-23 -0.496762 -0.963155  2.301437  5.0\n",
       "2024-10-24 -0.154019 -0.079882 -0.516889  5.0"
      ]
     },
     "execution_count": 94,
     "metadata": {},
     "output_type": "execute_result"
    }
   ],
   "source": [
    "df"
   ]
  },
  {
   "cell_type": "code",
   "execution_count": 95,
   "id": "e5d1521c-6d5d-4c4b-b6b1-444e34b32cfd",
   "metadata": {},
   "outputs": [
    {
     "data": {
      "text/plain": [
       "A    0.268275\n",
       "B   -0.289669\n",
       "C    0.183276\n",
       "D    5.000000\n",
       "dtype: float64"
      ]
     },
     "execution_count": 95,
     "metadata": {},
     "output_type": "execute_result"
    }
   ],
   "source": [
    "df.mean()"
   ]
  },
  {
   "cell_type": "code",
   "execution_count": 96,
   "id": "b383f842-dd9c-4443-88e0-9072d2d3a57b",
   "metadata": {},
   "outputs": [
    {
     "data": {
      "text/plain": [
       "2024-10-15    1.236306\n",
       "2024-10-16    1.556728\n",
       "2024-10-17    1.329227\n",
       "2024-10-18    1.020582\n",
       "2024-10-19    1.886356\n",
       "2024-10-20    0.908470\n",
       "2024-10-21    1.110240\n",
       "2024-10-22    1.334115\n",
       "2024-10-23    1.460380\n",
       "2024-10-24    1.062303\n",
       "Freq: D, dtype: float64"
      ]
     },
     "execution_count": 96,
     "metadata": {},
     "output_type": "execute_result"
    }
   ],
   "source": [
    "df.mean(axis  = 1)"
   ]
  },
  {
   "cell_type": "code",
   "execution_count": 97,
   "id": "a3b563dc-c114-4707-8f71-7091960e291c",
   "metadata": {},
   "outputs": [],
   "source": [
    "s = pd.Series([1, 2 , 3, np.nan, 4, 5, np.nan, 6, 8, \"Malihe\"], index = dates)"
   ]
  },
  {
   "cell_type": "code",
   "execution_count": 98,
   "id": "acb86fde-8098-4714-a1f3-c96c15256315",
   "metadata": {},
   "outputs": [
    {
     "data": {
      "text/plain": [
       "2024-10-15         1\n",
       "2024-10-16         2\n",
       "2024-10-17         3\n",
       "2024-10-18       NaN\n",
       "2024-10-19         4\n",
       "2024-10-20         5\n",
       "2024-10-21       NaN\n",
       "2024-10-22         6\n",
       "2024-10-23         8\n",
       "2024-10-24    Malihe\n",
       "Freq: D, dtype: object"
      ]
     },
     "execution_count": 98,
     "metadata": {},
     "output_type": "execute_result"
    }
   ],
   "source": [
    "s"
   ]
  },
  {
   "cell_type": "code",
   "execution_count": 99,
   "id": "8b73e7cc-f1df-4b30-ad5b-283f980f0b90",
   "metadata": {},
   "outputs": [],
   "source": [
    "s1 = s.shift(2)"
   ]
  },
  {
   "cell_type": "code",
   "execution_count": 100,
   "id": "9a441af5-933d-42c8-ac63-9bf4ed99003d",
   "metadata": {},
   "outputs": [
    {
     "data": {
      "text/plain": [
       "2024-10-15    None\n",
       "2024-10-16    None\n",
       "2024-10-17       1\n",
       "2024-10-18       2\n",
       "2024-10-19       3\n",
       "2024-10-20     NaN\n",
       "2024-10-21       4\n",
       "2024-10-22       5\n",
       "2024-10-23     NaN\n",
       "2024-10-24       6\n",
       "Freq: D, dtype: object"
      ]
     },
     "execution_count": 100,
     "metadata": {},
     "output_type": "execute_result"
    }
   ],
   "source": [
    "s1"
   ]
  },
  {
   "cell_type": "code",
   "execution_count": 101,
   "id": "8a2fe1f0-372c-491e-a047-0d4e088b0477",
   "metadata": {},
   "outputs": [
    {
     "data": {
      "text/plain": [
       "1"
      ]
     },
     "execution_count": 101,
     "metadata": {},
     "output_type": "execute_result"
    }
   ],
   "source": [
    "s1['2024-10-17']"
   ]
  },
  {
   "cell_type": "code",
   "execution_count": 102,
   "id": "7172f496-24a3-456f-8e1e-455860596d47",
   "metadata": {},
   "outputs": [
    {
     "data": {
      "text/plain": [
       "float"
      ]
     },
     "execution_count": 102,
     "metadata": {},
     "output_type": "execute_result"
    }
   ],
   "source": [
    "type(s1['2024-10-20'])"
   ]
  },
  {
   "cell_type": "code",
   "execution_count": 103,
   "id": "49479456-fb3e-4a39-9e90-bea8a75906d9",
   "metadata": {},
   "outputs": [
    {
     "data": {
      "text/plain": [
       "NoneType"
      ]
     },
     "execution_count": 103,
     "metadata": {},
     "output_type": "execute_result"
    }
   ],
   "source": [
    "type(s1[\"2024-10-15\"])"
   ]
  },
  {
   "cell_type": "code",
   "execution_count": 104,
   "id": "c0a54aea-b13c-4fb9-a90e-e58cd742f672",
   "metadata": {},
   "outputs": [
    {
     "data": {
      "text/plain": [
       "int"
      ]
     },
     "execution_count": 104,
     "metadata": {},
     "output_type": "execute_result"
    }
   ],
   "source": [
    "type(s1[\"2024-10-21\"])"
   ]
  },
  {
   "cell_type": "code",
   "execution_count": 105,
   "id": "da13f228-8b56-4fef-8771-ae9babaf052c",
   "metadata": {},
   "outputs": [
    {
     "data": {
      "text/plain": [
       "pandas.core.series.Series"
      ]
     },
     "execution_count": 105,
     "metadata": {},
     "output_type": "execute_result"
    }
   ],
   "source": [
    "type(s)"
   ]
  },
  {
   "cell_type": "code",
   "execution_count": 106,
   "id": "946e860e-efc2-4cbe-9152-8fd588ca10b5",
   "metadata": {},
   "outputs": [
    {
     "data": {
      "text/html": [
       "<div>\n",
       "<style scoped>\n",
       "    .dataframe tbody tr th:only-of-type {\n",
       "        vertical-align: middle;\n",
       "    }\n",
       "\n",
       "    .dataframe tbody tr th {\n",
       "        vertical-align: top;\n",
       "    }\n",
       "\n",
       "    .dataframe thead th {\n",
       "        text-align: right;\n",
       "    }\n",
       "</style>\n",
       "<table border=\"1\" class=\"dataframe\">\n",
       "  <thead>\n",
       "    <tr style=\"text-align: right;\">\n",
       "      <th></th>\n",
       "      <th>A</th>\n",
       "      <th>B</th>\n",
       "      <th>C</th>\n",
       "      <th>D</th>\n",
       "    </tr>\n",
       "  </thead>\n",
       "  <tbody>\n",
       "    <tr>\n",
       "      <th>2024-10-15</th>\n",
       "      <td>0.000000</td>\n",
       "      <td>0.000000</td>\n",
       "      <td>-0.054775</td>\n",
       "      <td>5.0</td>\n",
       "    </tr>\n",
       "    <tr>\n",
       "      <th>2024-10-16</th>\n",
       "      <td>1.775845</td>\n",
       "      <td>-0.571162</td>\n",
       "      <td>0.022230</td>\n",
       "      <td>5.0</td>\n",
       "    </tr>\n",
       "    <tr>\n",
       "      <th>2024-10-17</th>\n",
       "      <td>-0.088840</td>\n",
       "      <td>1.208406</td>\n",
       "      <td>-0.802657</td>\n",
       "      <td>5.0</td>\n",
       "    </tr>\n",
       "    <tr>\n",
       "      <th>2024-10-18</th>\n",
       "      <td>-1.361773</td>\n",
       "      <td>-0.319626</td>\n",
       "      <td>0.763728</td>\n",
       "      <td>5.0</td>\n",
       "    </tr>\n",
       "    <tr>\n",
       "      <th>2024-10-19</th>\n",
       "      <td>2.478647</td>\n",
       "      <td>-0.678783</td>\n",
       "      <td>0.745558</td>\n",
       "      <td>5.0</td>\n",
       "    </tr>\n",
       "    <tr>\n",
       "      <th>2024-10-20</th>\n",
       "      <td>-1.201021</td>\n",
       "      <td>-0.602363</td>\n",
       "      <td>0.437264</td>\n",
       "      <td>5.0</td>\n",
       "    </tr>\n",
       "    <tr>\n",
       "      <th>2024-10-21</th>\n",
       "      <td>0.633254</td>\n",
       "      <td>-0.375140</td>\n",
       "      <td>-0.817155</td>\n",
       "      <td>5.0</td>\n",
       "    </tr>\n",
       "    <tr>\n",
       "      <th>2024-10-22</th>\n",
       "      <td>1.097421</td>\n",
       "      <td>-0.514981</td>\n",
       "      <td>-0.245980</td>\n",
       "      <td>5.0</td>\n",
       "    </tr>\n",
       "    <tr>\n",
       "      <th>2024-10-23</th>\n",
       "      <td>-0.496762</td>\n",
       "      <td>-0.963155</td>\n",
       "      <td>2.301437</td>\n",
       "      <td>5.0</td>\n",
       "    </tr>\n",
       "    <tr>\n",
       "      <th>2024-10-24</th>\n",
       "      <td>-0.154019</td>\n",
       "      <td>-0.079882</td>\n",
       "      <td>-0.516889</td>\n",
       "      <td>5.0</td>\n",
       "    </tr>\n",
       "  </tbody>\n",
       "</table>\n",
       "</div>"
      ],
      "text/plain": [
       "                   A         B         C    D\n",
       "2024-10-15  0.000000  0.000000 -0.054775  5.0\n",
       "2024-10-16  1.775845 -0.571162  0.022230  5.0\n",
       "2024-10-17 -0.088840  1.208406 -0.802657  5.0\n",
       "2024-10-18 -1.361773 -0.319626  0.763728  5.0\n",
       "2024-10-19  2.478647 -0.678783  0.745558  5.0\n",
       "2024-10-20 -1.201021 -0.602363  0.437264  5.0\n",
       "2024-10-21  0.633254 -0.375140 -0.817155  5.0\n",
       "2024-10-22  1.097421 -0.514981 -0.245980  5.0\n",
       "2024-10-23 -0.496762 -0.963155  2.301437  5.0\n",
       "2024-10-24 -0.154019 -0.079882 -0.516889  5.0"
      ]
     },
     "execution_count": 106,
     "metadata": {},
     "output_type": "execute_result"
    }
   ],
   "source": [
    "df"
   ]
  },
  {
   "cell_type": "code",
   "execution_count": null,
   "id": "7f7b2a25-9b38-4ed2-a91a-8b8bd39a4f46",
   "metadata": {},
   "outputs": [],
   "source": []
  },
  {
   "cell_type": "code",
   "execution_count": null,
   "id": "f21535b9-f0e1-46bd-b1df-5f303da6a09a",
   "metadata": {},
   "outputs": [],
   "source": []
  },
  {
   "cell_type": "code",
   "execution_count": null,
   "id": "3dd9a4bf-b0e5-4e86-b939-f8e8d72cb001",
   "metadata": {},
   "outputs": [],
   "source": []
  },
  {
   "cell_type": "code",
   "execution_count": null,
   "id": "46bc048a-581b-49b0-8891-e58fc6e6a31d",
   "metadata": {},
   "outputs": [],
   "source": []
  },
  {
   "cell_type": "code",
   "execution_count": null,
   "id": "d1839019-ccc7-4625-b617-018129b9ad44",
   "metadata": {},
   "outputs": [],
   "source": []
  },
  {
   "cell_type": "code",
   "execution_count": null,
   "id": "67da8780-a149-4c52-bdcc-6abe556bc74b",
   "metadata": {},
   "outputs": [],
   "source": []
  },
  {
   "cell_type": "markdown",
   "id": "cd92965c-da4e-48b7-a51c-866c2ae3ffd9",
   "metadata": {},
   "source": [
    "## Read , Write and Store Tabular Data"
   ]
  },
  {
   "cell_type": "code",
   "execution_count": null,
   "id": "6741230d-e6a7-4e6d-a2b8-e410c1cb6181",
   "metadata": {},
   "outputs": [],
   "source": [
    "df.to_csv(\"mycsv.csv\")"
   ]
  },
  {
   "cell_type": "code",
   "execution_count": null,
   "id": "143fdec3-dacb-4e77-8565-c00b3a8ad49a",
   "metadata": {},
   "outputs": [],
   "source": [
    "mycsv = pd.read_csv(\"mycsv.csv\")"
   ]
  },
  {
   "cell_type": "code",
   "execution_count": null,
   "id": "d8e9c5ae-c506-4e6e-9838-356c34762e68",
   "metadata": {},
   "outputs": [],
   "source": [
    "mycsv"
   ]
  },
  {
   "cell_type": "code",
   "execution_count": null,
   "id": "6a9dfc2e-fde3-4420-a293-10e8beace985",
   "metadata": {},
   "outputs": [],
   "source": [
    "df.to_excel(\"myexcel.xlsx\")"
   ]
  },
  {
   "cell_type": "code",
   "execution_count": null,
   "id": "e1d63456-0154-4eab-9e56-05e839c714b1",
   "metadata": {},
   "outputs": [],
   "source": [
    "myexcel = pd.read_excel(\"myexcel.xlsx\")"
   ]
  },
  {
   "cell_type": "code",
   "execution_count": null,
   "id": "f5685cdb-c5e1-4569-a5a9-fc8119ee2e48",
   "metadata": {},
   "outputs": [],
   "source": [
    "myexcel"
   ]
  },
  {
   "cell_type": "code",
   "execution_count": null,
   "id": "a8520177-3c0a-4d4e-8df6-9b4d75e1fc9d",
   "metadata": {},
   "outputs": [],
   "source": []
  }
 ],
 "metadata": {
  "kernelspec": {
   "display_name": "Python 3 (ipykernel)",
   "language": "python",
   "name": "python3"
  },
  "language_info": {
   "codemirror_mode": {
    "name": "ipython",
    "version": 3
   },
   "file_extension": ".py",
   "mimetype": "text/x-python",
   "name": "python",
   "nbconvert_exporter": "python",
   "pygments_lexer": "ipython3",
   "version": "3.11.5"
  }
 },
 "nbformat": 4,
 "nbformat_minor": 5
}
