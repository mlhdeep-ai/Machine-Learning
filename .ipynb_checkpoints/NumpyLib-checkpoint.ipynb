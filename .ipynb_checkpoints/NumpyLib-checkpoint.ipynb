{
 "cells": [
  {
   "cell_type": "markdown",
   "id": "b77b1385-9745-4544-a761-29d63477de80",
   "metadata": {},
   "source": [
    "# Numpy Lib\n",
    "### Source: https://numpy.org/"
   ]
  },
  {
   "cell_type": "code",
   "execution_count": 2,
   "id": "b1e32315-d46e-472f-b4db-60f6a4a6d533",
   "metadata": {},
   "outputs": [],
   "source": [
    "import numpy as np"
   ]
  },
  {
   "cell_type": "code",
   "execution_count": 3,
   "id": "55e9f09d-fda0-47d9-a109-5f4b14e1e1b2",
   "metadata": {},
   "outputs": [],
   "source": [
    "a = np.array(5)"
   ]
  },
  {
   "cell_type": "code",
   "execution_count": 4,
   "id": "c19f8f5f-4444-4134-8486-8a23f9eedf7d",
   "metadata": {},
   "outputs": [
    {
     "data": {
      "text/plain": [
       "array(5)"
      ]
     },
     "execution_count": 4,
     "metadata": {},
     "output_type": "execute_result"
    }
   ],
   "source": [
    "a"
   ]
  },
  {
   "cell_type": "code",
   "execution_count": 5,
   "id": "611aecbc-e2c5-4c3d-9bdf-92d6591cdaef",
   "metadata": {},
   "outputs": [
    {
     "name": "stdout",
     "output_type": "stream",
     "text": [
      "5\n"
     ]
    }
   ],
   "source": [
    "print(a)"
   ]
  },
  {
   "cell_type": "code",
   "execution_count": 6,
   "id": "176e3951-7280-4cb6-b361-959d87305980",
   "metadata": {},
   "outputs": [
    {
     "data": {
      "text/plain": [
       "0"
      ]
     },
     "execution_count": 6,
     "metadata": {},
     "output_type": "execute_result"
    }
   ],
   "source": [
    "a.ndim"
   ]
  },
  {
   "cell_type": "code",
   "execution_count": 7,
   "id": "889094ad-3ca3-4889-a180-0f59f1393304",
   "metadata": {},
   "outputs": [
    {
     "data": {
      "text/plain": [
       "()"
      ]
     },
     "execution_count": 7,
     "metadata": {},
     "output_type": "execute_result"
    }
   ],
   "source": [
    "a.shape"
   ]
  },
  {
   "cell_type": "code",
   "execution_count": 8,
   "id": "bac91f00-44bc-4056-a130-63490abfe765",
   "metadata": {},
   "outputs": [
    {
     "data": {
      "text/plain": [
       "numpy.ndarray"
      ]
     },
     "execution_count": 8,
     "metadata": {},
     "output_type": "execute_result"
    }
   ],
   "source": [
    "type(a)"
   ]
  },
  {
   "cell_type": "code",
   "execution_count": 9,
   "id": "64c8f4ab-8a55-441a-83cc-e73bba777211",
   "metadata": {},
   "outputs": [],
   "source": [
    "a = np.arange(15)"
   ]
  },
  {
   "cell_type": "code",
   "execution_count": 10,
   "id": "285c321e-3f65-4f59-855b-9d7a5fa50019",
   "metadata": {},
   "outputs": [
    {
     "data": {
      "text/plain": [
       "array([ 0,  1,  2,  3,  4,  5,  6,  7,  8,  9, 10, 11, 12, 13, 14])"
      ]
     },
     "execution_count": 10,
     "metadata": {},
     "output_type": "execute_result"
    }
   ],
   "source": [
    "a"
   ]
  },
  {
   "cell_type": "code",
   "execution_count": 11,
   "id": "687d3421-d741-4f33-af15-9fb1c3fabecb",
   "metadata": {},
   "outputs": [
    {
     "data": {
      "text/plain": [
       "(15,)"
      ]
     },
     "execution_count": 11,
     "metadata": {},
     "output_type": "execute_result"
    }
   ],
   "source": [
    "a.shape"
   ]
  },
  {
   "cell_type": "code",
   "execution_count": 12,
   "id": "3bb878f7-d263-418a-9e05-a96f5efc927c",
   "metadata": {},
   "outputs": [
    {
     "data": {
      "text/plain": [
       "numpy.ndarray"
      ]
     },
     "execution_count": 12,
     "metadata": {},
     "output_type": "execute_result"
    }
   ],
   "source": [
    "type(a)"
   ]
  },
  {
   "cell_type": "code",
   "execution_count": 13,
   "id": "bbc7ba7b-ddcc-4e1a-8f27-1ad496708d64",
   "metadata": {},
   "outputs": [
    {
     "data": {
      "text/plain": [
       "15"
      ]
     },
     "execution_count": 13,
     "metadata": {},
     "output_type": "execute_result"
    }
   ],
   "source": [
    "len(a)"
   ]
  },
  {
   "cell_type": "code",
   "execution_count": 14,
   "id": "2152e468-f0d5-4347-8392-9501853427f3",
   "metadata": {},
   "outputs": [],
   "source": [
    "a = a.reshape(3, 5)"
   ]
  },
  {
   "cell_type": "code",
   "execution_count": 15,
   "id": "048120f5-df0f-4625-bd6a-715ce7888936",
   "metadata": {},
   "outputs": [
    {
     "data": {
      "text/plain": [
       "(3, 5)"
      ]
     },
     "execution_count": 15,
     "metadata": {},
     "output_type": "execute_result"
    }
   ],
   "source": [
    "a.shape"
   ]
  },
  {
   "cell_type": "code",
   "execution_count": 16,
   "id": "d8d44753-1b12-40b8-9e45-c4831a5d88f5",
   "metadata": {},
   "outputs": [
    {
     "data": {
      "text/plain": [
       "2"
      ]
     },
     "execution_count": 16,
     "metadata": {},
     "output_type": "execute_result"
    }
   ],
   "source": [
    "a.ndim"
   ]
  },
  {
   "cell_type": "code",
   "execution_count": 17,
   "id": "9fec372d-c4c9-4ff5-8193-d0bba21a3ade",
   "metadata": {},
   "outputs": [
    {
     "data": {
      "text/plain": [
       "15"
      ]
     },
     "execution_count": 17,
     "metadata": {},
     "output_type": "execute_result"
    }
   ],
   "source": [
    "a.size"
   ]
  },
  {
   "cell_type": "code",
   "execution_count": 18,
   "id": "be4bc20f-fb95-43a8-808e-bad57febe002",
   "metadata": {},
   "outputs": [
    {
     "name": "stdout",
     "output_type": "stream",
     "text": [
      "int32\n"
     ]
    }
   ],
   "source": [
    "print(a.dtype)"
   ]
  },
  {
   "cell_type": "code",
   "execution_count": 19,
   "id": "7a006a2e-2eb2-4126-bf1b-e7e2cfc9b4cb",
   "metadata": {},
   "outputs": [],
   "source": [
    "b = np.arange(20)"
   ]
  },
  {
   "cell_type": "code",
   "execution_count": 20,
   "id": "b37d09cc-ace4-4021-b1af-a13cab3d0418",
   "metadata": {},
   "outputs": [
    {
     "data": {
      "text/plain": [
       "array([ 0,  1,  2,  3,  4,  5,  6,  7,  8,  9, 10, 11, 12, 13, 14, 15, 16,\n",
       "       17, 18, 19])"
      ]
     },
     "execution_count": 20,
     "metadata": {},
     "output_type": "execute_result"
    }
   ],
   "source": [
    "b"
   ]
  },
  {
   "cell_type": "code",
   "execution_count": 21,
   "id": "77a730ae-3cba-41af-bc07-1091da1b0039",
   "metadata": {},
   "outputs": [],
   "source": [
    "b = b.reshape(2, 5, 2)"
   ]
  },
  {
   "cell_type": "code",
   "execution_count": 22,
   "id": "355dd60d-415f-4d37-b1b9-3431aa0ce1ba",
   "metadata": {},
   "outputs": [
    {
     "data": {
      "text/plain": [
       "array([[[ 0,  1],\n",
       "        [ 2,  3],\n",
       "        [ 4,  5],\n",
       "        [ 6,  7],\n",
       "        [ 8,  9]],\n",
       "\n",
       "       [[10, 11],\n",
       "        [12, 13],\n",
       "        [14, 15],\n",
       "        [16, 17],\n",
       "        [18, 19]]])"
      ]
     },
     "execution_count": 22,
     "metadata": {},
     "output_type": "execute_result"
    }
   ],
   "source": [
    "b"
   ]
  },
  {
   "cell_type": "code",
   "execution_count": 23,
   "id": "4d8c42b5-652d-4b8c-83e3-aef9d743c42a",
   "metadata": {},
   "outputs": [
    {
     "data": {
      "text/plain": [
       "(2, 5, 2)"
      ]
     },
     "execution_count": 23,
     "metadata": {},
     "output_type": "execute_result"
    }
   ],
   "source": [
    "b.shape"
   ]
  },
  {
   "cell_type": "code",
   "execution_count": 24,
   "id": "0faaf824-aa1b-41c2-af7a-b739f9701494",
   "metadata": {},
   "outputs": [
    {
     "data": {
      "text/plain": [
       "3"
      ]
     },
     "execution_count": 24,
     "metadata": {},
     "output_type": "execute_result"
    }
   ],
   "source": [
    "b.ndim"
   ]
  },
  {
   "cell_type": "code",
   "execution_count": 25,
   "id": "37423274-8375-48a3-9a7f-239be51d8411",
   "metadata": {},
   "outputs": [],
   "source": [
    "c = np.zeros((3, 4))"
   ]
  },
  {
   "cell_type": "code",
   "execution_count": 26,
   "id": "09e1ba99-891e-4fab-ab1e-74a797bf3545",
   "metadata": {},
   "outputs": [
    {
     "data": {
      "text/plain": [
       "array([[0., 0., 0., 0.],\n",
       "       [0., 0., 0., 0.],\n",
       "       [0., 0., 0., 0.]])"
      ]
     },
     "execution_count": 26,
     "metadata": {},
     "output_type": "execute_result"
    }
   ],
   "source": [
    "c"
   ]
  },
  {
   "cell_type": "code",
   "execution_count": 27,
   "id": "ba580a92-c716-4f61-94aa-9a7a108d1484",
   "metadata": {},
   "outputs": [
    {
     "data": {
      "text/plain": [
       "(3, 4)"
      ]
     },
     "execution_count": 27,
     "metadata": {},
     "output_type": "execute_result"
    }
   ],
   "source": [
    "c.shape"
   ]
  },
  {
   "cell_type": "code",
   "execution_count": 28,
   "id": "f4863d2a-bc50-4eaa-8997-122e0ea0defe",
   "metadata": {},
   "outputs": [],
   "source": [
    "d = np.ones((3, 5))"
   ]
  },
  {
   "cell_type": "code",
   "execution_count": 29,
   "id": "f41560e1-a099-45f8-a714-1c0c5bdebd4a",
   "metadata": {},
   "outputs": [
    {
     "data": {
      "text/plain": [
       "array([[1., 1., 1., 1., 1.],\n",
       "       [1., 1., 1., 1., 1.],\n",
       "       [1., 1., 1., 1., 1.]])"
      ]
     },
     "execution_count": 29,
     "metadata": {},
     "output_type": "execute_result"
    }
   ],
   "source": [
    "d"
   ]
  },
  {
   "cell_type": "code",
   "execution_count": 30,
   "id": "c26d1f67-cf6b-4265-9bbb-54a51ea4e77e",
   "metadata": {},
   "outputs": [
    {
     "data": {
      "text/plain": [
       "(3, 5)"
      ]
     },
     "execution_count": 30,
     "metadata": {},
     "output_type": "execute_result"
    }
   ],
   "source": [
    "d.shape"
   ]
  },
  {
   "cell_type": "code",
   "execution_count": 31,
   "id": "db223f2e-23fd-40d7-a606-203a0473d484",
   "metadata": {},
   "outputs": [],
   "source": [
    "a = np.array([20, 30, 40, 50])\n",
    "b = np.arange(4)"
   ]
  },
  {
   "cell_type": "code",
   "execution_count": 32,
   "id": "e19508f0-5ec5-4ff2-86df-bd8fe556e4ea",
   "metadata": {},
   "outputs": [
    {
     "data": {
      "text/plain": [
       "array([20, 30, 40, 50])"
      ]
     },
     "execution_count": 32,
     "metadata": {},
     "output_type": "execute_result"
    }
   ],
   "source": [
    "a"
   ]
  },
  {
   "cell_type": "code",
   "execution_count": 33,
   "id": "efcaa6a2-a74e-4233-9f59-eb829f91646d",
   "metadata": {},
   "outputs": [
    {
     "data": {
      "text/plain": [
       "array([0, 1, 2, 3])"
      ]
     },
     "execution_count": 33,
     "metadata": {},
     "output_type": "execute_result"
    }
   ],
   "source": [
    "b"
   ]
  },
  {
   "cell_type": "code",
   "execution_count": 34,
   "id": "fbdff230-b264-441a-be4c-8973d0bd5de6",
   "metadata": {},
   "outputs": [],
   "source": [
    "c = a - b"
   ]
  },
  {
   "cell_type": "code",
   "execution_count": 35,
   "id": "2d94cec5-cf32-418d-98d2-f2135985e428",
   "metadata": {},
   "outputs": [
    {
     "data": {
      "text/plain": [
       "array([20, 29, 38, 47])"
      ]
     },
     "execution_count": 35,
     "metadata": {},
     "output_type": "execute_result"
    }
   ],
   "source": [
    "c"
   ]
  },
  {
   "cell_type": "code",
   "execution_count": 36,
   "id": "01b5fecb-a669-4871-ac4f-f0c6d4932f5b",
   "metadata": {},
   "outputs": [],
   "source": [
    "d = a + b"
   ]
  },
  {
   "cell_type": "code",
   "execution_count": 37,
   "id": "254a7783-951b-4930-b69a-3dc71a488957",
   "metadata": {},
   "outputs": [
    {
     "data": {
      "text/plain": [
       "array([20, 31, 42, 53])"
      ]
     },
     "execution_count": 37,
     "metadata": {},
     "output_type": "execute_result"
    }
   ],
   "source": [
    "d"
   ]
  },
  {
   "cell_type": "code",
   "execution_count": 38,
   "id": "301856b8-4d59-4f5e-b6ca-7c7400c0fd3c",
   "metadata": {},
   "outputs": [],
   "source": [
    "e = a * b"
   ]
  },
  {
   "cell_type": "code",
   "execution_count": 39,
   "id": "58b51a0d-29ad-4839-b1c6-999f6531a215",
   "metadata": {},
   "outputs": [
    {
     "data": {
      "text/plain": [
       "array([  0,  30,  80, 150])"
      ]
     },
     "execution_count": 39,
     "metadata": {},
     "output_type": "execute_result"
    }
   ],
   "source": [
    "e"
   ]
  },
  {
   "cell_type": "code",
   "execution_count": 40,
   "id": "0dcbd570-9f21-4ffc-8549-f6f474155729",
   "metadata": {},
   "outputs": [
    {
     "data": {
      "text/plain": [
       "array([False, False,  True,  True])"
      ]
     },
     "execution_count": 40,
     "metadata": {},
     "output_type": "execute_result"
    }
   ],
   "source": [
    "e > 50"
   ]
  },
  {
   "cell_type": "code",
   "execution_count": 41,
   "id": "30a54e8e-aa0b-46ad-bc59-90f2cdc6434e",
   "metadata": {},
   "outputs": [
    {
     "data": {
      "text/plain": [
       "array([ True,  True, False, False])"
      ]
     },
     "execution_count": 41,
     "metadata": {},
     "output_type": "execute_result"
    }
   ],
   "source": [
    "e < 50"
   ]
  },
  {
   "cell_type": "code",
   "execution_count": 42,
   "id": "4aac5f04-d34a-4fe7-b2d7-76faa273eb6c",
   "metadata": {},
   "outputs": [
    {
     "data": {
      "text/plain": [
       "array([False,  True, False, False])"
      ]
     },
     "execution_count": 42,
     "metadata": {},
     "output_type": "execute_result"
    }
   ],
   "source": [
    "e == 30"
   ]
  },
  {
   "cell_type": "code",
   "execution_count": 43,
   "id": "beac27b7-cdd3-491e-88fc-dfb98cfadc54",
   "metadata": {},
   "outputs": [],
   "source": [
    "sin = np.sin(e)"
   ]
  },
  {
   "cell_type": "code",
   "execution_count": 44,
   "id": "c343e60e-f985-404b-9ceb-290092717e33",
   "metadata": {},
   "outputs": [
    {
     "data": {
      "text/plain": [
       "array([ 0.        , -0.98803162, -0.99388865, -0.71487643])"
      ]
     },
     "execution_count": 44,
     "metadata": {},
     "output_type": "execute_result"
    }
   ],
   "source": [
    "sin"
   ]
  },
  {
   "cell_type": "markdown",
   "id": "f41a858d-034b-4ef1-a961-ec42634f4bb9",
   "metadata": {},
   "source": [
    "## [numpy.ndarray](https://numpy.org/doc/stable/reference/generated/numpy.ndarray.html#numpy.ndarray)"
   ]
  },
  {
   "cell_type": "markdown",
   "id": "6bfda066-9739-45bc-958a-ea92fb512e3c",
   "metadata": {},
   "source": [
    "These examples illustrate the low-level ndarray constructor."
   ]
  },
  {
   "cell_type": "markdown",
   "id": "a3088639-83c0-43f7-be0d-a6c0aa29e703",
   "metadata": {},
   "source": [
    "#### First mode, buffer is None:"
   ]
  },
  {
   "cell_type": "code",
   "execution_count": 45,
   "id": "9ca830e8-acbc-471f-b2f5-bbe4741de46c",
   "metadata": {},
   "outputs": [],
   "source": [
    "arr1 = np.ndarray(shape = (2, 3), dtype = int, order = 'F')"
   ]
  },
  {
   "cell_type": "code",
   "execution_count": 46,
   "id": "f31872e5-3755-4554-b0a6-83b2e4376de3",
   "metadata": {},
   "outputs": [
    {
     "data": {
      "text/plain": [
       "array([[ 2132578365, -1810961303, -2000811967],\n",
       "       [ 1072668148,  1072680431,  1072095300]])"
      ]
     },
     "execution_count": 46,
     "metadata": {},
     "output_type": "execute_result"
    }
   ],
   "source": [
    "arr1"
   ]
  },
  {
   "cell_type": "code",
   "execution_count": 47,
   "id": "7ae35b40-8340-4b30-8074-c15b689b2bba",
   "metadata": {},
   "outputs": [
    {
     "data": {
      "text/plain": [
       "(2, 3)"
      ]
     },
     "execution_count": 47,
     "metadata": {},
     "output_type": "execute_result"
    }
   ],
   "source": [
    "arr1.shape"
   ]
  },
  {
   "cell_type": "code",
   "execution_count": 48,
   "id": "b2d14f65-765c-4e8a-a8f2-e3f5a816d08e",
   "metadata": {},
   "outputs": [
    {
     "data": {
      "text/plain": [
       "2"
      ]
     },
     "execution_count": 48,
     "metadata": {},
     "output_type": "execute_result"
    }
   ],
   "source": [
    "arr1.ndim"
   ]
  },
  {
   "cell_type": "code",
   "execution_count": 49,
   "id": "0a807bbc-881a-4138-ba04-d96b0e6729fa",
   "metadata": {},
   "outputs": [
    {
     "data": {
      "text/plain": [
       "dtype('int32')"
      ]
     },
     "execution_count": 49,
     "metadata": {},
     "output_type": "execute_result"
    }
   ],
   "source": [
    "arr1.dtype"
   ]
  },
  {
   "cell_type": "markdown",
   "id": "ef04cf0f-db7d-4b99-8de7-caa7ad3a0017",
   "metadata": {},
   "source": [
    "#### Second mode, buffer is an object exposing the buffer interface:"
   ]
  },
  {
   "cell_type": "code",
   "execution_count": 50,
   "id": "e7d5f0f5-eb01-4b38-9c02-80cfcc0ccbb2",
   "metadata": {},
   "outputs": [],
   "source": [
    "arr2 = np.ndarray((2,), buffer = np.array([1, 2, 3]),\n",
    "                 offset = np.int_().itemsize, dtype = int)\n",
    "# offset = 1*itemsize, i.e. skip first element array([2, 3])"
   ]
  },
  {
   "cell_type": "code",
   "execution_count": 51,
   "id": "099c7a22-00f5-4c7c-b92e-7063bd967a40",
   "metadata": {},
   "outputs": [
    {
     "data": {
      "text/plain": [
       "array([2, 3])"
      ]
     },
     "execution_count": 51,
     "metadata": {},
     "output_type": "execute_result"
    }
   ],
   "source": [
    "arr2"
   ]
  },
  {
   "cell_type": "code",
   "execution_count": 52,
   "id": "a735656d-15f1-4f77-8fdf-d5e9d8728c38",
   "metadata": {},
   "outputs": [
    {
     "data": {
      "text/plain": [
       "(2,)"
      ]
     },
     "execution_count": 52,
     "metadata": {},
     "output_type": "execute_result"
    }
   ],
   "source": [
    "arr2.shape"
   ]
  },
  {
   "cell_type": "code",
   "execution_count": 53,
   "id": "b0e319ba-82c9-4fe8-8df1-51f397243228",
   "metadata": {},
   "outputs": [
    {
     "data": {
      "text/plain": [
       "True"
      ]
     },
     "execution_count": 53,
     "metadata": {},
     "output_type": "execute_result"
    }
   ],
   "source": [
    "arr1.all()"
   ]
  },
  {
   "cell_type": "code",
   "execution_count": 54,
   "id": "78d79816-ba86-4c7f-82b9-d93193dc3af5",
   "metadata": {},
   "outputs": [
    {
     "data": {
      "text/plain": [
       "True"
      ]
     },
     "execution_count": 54,
     "metadata": {},
     "output_type": "execute_result"
    }
   ],
   "source": [
    "arr1.any()"
   ]
  },
  {
   "cell_type": "code",
   "execution_count": 55,
   "id": "632257a5-dd46-406c-9ac2-6be03c0f1007",
   "metadata": {},
   "outputs": [
    {
     "data": {
      "text/plain": [
       "True"
      ]
     },
     "execution_count": 55,
     "metadata": {},
     "output_type": "execute_result"
    }
   ],
   "source": [
    "arr2.all()"
   ]
  },
  {
   "cell_type": "code",
   "execution_count": 56,
   "id": "818f2c61-74a4-46d2-b144-73306110319f",
   "metadata": {},
   "outputs": [],
   "source": [
    "arr3 = arr1.T"
   ]
  },
  {
   "cell_type": "code",
   "execution_count": 57,
   "id": "155e5859-30a5-4852-b8b4-030d203b3a1e",
   "metadata": {},
   "outputs": [
    {
     "data": {
      "text/plain": [
       "array([[ 2132578365, -1810961303, -2000811967],\n",
       "       [ 1072668148,  1072680431,  1072095300]])"
      ]
     },
     "execution_count": 57,
     "metadata": {},
     "output_type": "execute_result"
    }
   ],
   "source": [
    "arr1"
   ]
  },
  {
   "cell_type": "code",
   "execution_count": 58,
   "id": "a7f0f6be-6ae9-4e0d-ac61-1d0102bf7d7c",
   "metadata": {},
   "outputs": [
    {
     "data": {
      "text/plain": [
       "array([[ 2132578365,  1072668148],\n",
       "       [-1810961303,  1072680431],\n",
       "       [-2000811967,  1072095300]])"
      ]
     },
     "execution_count": 58,
     "metadata": {},
     "output_type": "execute_result"
    }
   ],
   "source": [
    "arr3"
   ]
  },
  {
   "cell_type": "code",
   "execution_count": 59,
   "id": "2f7a0d5a-ec7d-480d-b5e5-1855b03987dc",
   "metadata": {},
   "outputs": [
    {
     "data": {
      "text/plain": [
       "(2, 3)"
      ]
     },
     "execution_count": 59,
     "metadata": {},
     "output_type": "execute_result"
    }
   ],
   "source": [
    "arr1.shape"
   ]
  },
  {
   "cell_type": "code",
   "execution_count": 60,
   "id": "31d1abcc-de88-412d-8200-fd82590bdd75",
   "metadata": {},
   "outputs": [
    {
     "data": {
      "text/plain": [
       "(3, 2)"
      ]
     },
     "execution_count": 60,
     "metadata": {},
     "output_type": "execute_result"
    }
   ],
   "source": [
    "arr3.shape"
   ]
  },
  {
   "cell_type": "code",
   "execution_count": 61,
   "id": "8becffa3-4232-4b85-a41e-08863d8f33c1",
   "metadata": {},
   "outputs": [
    {
     "data": {
      "text/plain": [
       "6"
      ]
     },
     "execution_count": 61,
     "metadata": {},
     "output_type": "execute_result"
    }
   ],
   "source": [
    "arr1.size"
   ]
  },
  {
   "cell_type": "code",
   "execution_count": 62,
   "id": "b5219c2e-5be9-4be2-b167-6c0b3877c232",
   "metadata": {},
   "outputs": [
    {
     "data": {
      "text/plain": [
       "2"
      ]
     },
     "execution_count": 62,
     "metadata": {},
     "output_type": "execute_result"
    }
   ],
   "source": [
    "arr1.ndim"
   ]
  },
  {
   "cell_type": "code",
   "execution_count": 63,
   "id": "dd1b48de-57a9-42f1-bf93-53c5f7ea9737",
   "metadata": {},
   "outputs": [
    {
     "data": {
      "text/plain": [
       "0"
      ]
     },
     "execution_count": 63,
     "metadata": {},
     "output_type": "execute_result"
    }
   ],
   "source": [
    "arr1.argmax()"
   ]
  },
  {
   "cell_type": "code",
   "execution_count": 64,
   "id": "771ff7eb-b9ed-403e-b94a-66cdbf99a9c6",
   "metadata": {},
   "outputs": [
    {
     "data": {
      "text/plain": [
       "0"
      ]
     },
     "execution_count": 64,
     "metadata": {},
     "output_type": "execute_result"
    }
   ],
   "source": [
    "arr3.argmax()"
   ]
  },
  {
   "cell_type": "code",
   "execution_count": 65,
   "id": "6adf0865-20f5-4b50-b401-e93a2f330f16",
   "metadata": {},
   "outputs": [
    {
     "data": {
      "text/plain": [
       "2"
      ]
     },
     "execution_count": 65,
     "metadata": {},
     "output_type": "execute_result"
    }
   ],
   "source": [
    "arr1.argmin()"
   ]
  },
  {
   "cell_type": "code",
   "execution_count": 66,
   "id": "550b3cd7-b4e7-4571-b89d-fcad45d6f887",
   "metadata": {},
   "outputs": [
    {
     "data": {
      "text/plain": [
       "4"
      ]
     },
     "execution_count": 66,
     "metadata": {},
     "output_type": "execute_result"
    }
   ],
   "source": [
    "arr3.argmin()"
   ]
  },
  {
   "cell_type": "code",
   "execution_count": 67,
   "id": "0bc93573-bdc0-4017-a125-6f0c276a8fb8",
   "metadata": {},
   "outputs": [
    {
     "data": {
      "text/plain": [
       "array([[ 2132578365, -1810961303, -2000811967],\n",
       "       [ 1072668148,  1072680431,  1072095300]])"
      ]
     },
     "execution_count": 67,
     "metadata": {},
     "output_type": "execute_result"
    }
   ],
   "source": [
    "arr1"
   ]
  },
  {
   "cell_type": "code",
   "execution_count": 68,
   "id": "1bf7fc60-a991-41dc-a80a-2fefec88a877",
   "metadata": {},
   "outputs": [
    {
     "data": {
      "text/plain": [
       "<memory at 0x000000E196E846C0>"
      ]
     },
     "execution_count": 68,
     "metadata": {},
     "output_type": "execute_result"
    }
   ],
   "source": [
    "arr1.data"
   ]
  },
  {
   "cell_type": "code",
   "execution_count": 69,
   "id": "2036f747-f9e9-4d5b-98c8-0819cdca602d",
   "metadata": {},
   "outputs": [
    {
     "data": {
      "text/plain": [
       "dtype('int32')"
      ]
     },
     "execution_count": 69,
     "metadata": {},
     "output_type": "execute_result"
    }
   ],
   "source": [
    "arr1.dtype"
   ]
  },
  {
   "cell_type": "code",
   "execution_count": 70,
   "id": "c56c97ea-018e-496e-81a2-8846b5e14efd",
   "metadata": {},
   "outputs": [
    {
     "data": {
      "text/plain": [
       "  C_CONTIGUOUS : False\n",
       "  F_CONTIGUOUS : True\n",
       "  OWNDATA : True\n",
       "  WRITEABLE : True\n",
       "  ALIGNED : True\n",
       "  WRITEBACKIFCOPY : False"
      ]
     },
     "execution_count": 70,
     "metadata": {},
     "output_type": "execute_result"
    }
   ],
   "source": [
    "arr1.flags"
   ]
  },
  {
   "cell_type": "code",
   "execution_count": 71,
   "id": "153d2caa-c212-4e48-b19f-40ebbf699381",
   "metadata": {},
   "outputs": [
    {
     "data": {
      "text/plain": [
       "array([[0, 0, 0],\n",
       "       [0, 0, 0]])"
      ]
     },
     "execution_count": 71,
     "metadata": {},
     "output_type": "execute_result"
    }
   ],
   "source": [
    "arr1.imag"
   ]
  },
  {
   "cell_type": "code",
   "execution_count": 72,
   "id": "ac67ce3d-5d1f-4468-8590-5259a264b33e",
   "metadata": {},
   "outputs": [
    {
     "data": {
      "text/plain": [
       "array([[ 2132578365, -1810961303, -2000811967],\n",
       "       [ 1072668148,  1072680431,  1072095300]])"
      ]
     },
     "execution_count": 72,
     "metadata": {},
     "output_type": "execute_result"
    }
   ],
   "source": [
    "arr1.real"
   ]
  },
  {
   "cell_type": "code",
   "execution_count": 73,
   "id": "61f749b8-19f3-429c-a49b-f57a3a84b43c",
   "metadata": {},
   "outputs": [
    {
     "data": {
      "text/plain": [
       "6"
      ]
     },
     "execution_count": 73,
     "metadata": {},
     "output_type": "execute_result"
    }
   ],
   "source": [
    "arr1.size"
   ]
  },
  {
   "cell_type": "code",
   "execution_count": 74,
   "id": "0e44fb62-3a81-4d5e-9fc1-f350c5b7b469",
   "metadata": {},
   "outputs": [
    {
     "data": {
      "text/plain": [
       "4"
      ]
     },
     "execution_count": 74,
     "metadata": {},
     "output_type": "execute_result"
    }
   ],
   "source": [
    "arr1.itemsize"
   ]
  },
  {
   "cell_type": "code",
   "execution_count": 75,
   "id": "d1dbaa73-8bee-4869-bb90-1e726504783e",
   "metadata": {},
   "outputs": [
    {
     "data": {
      "text/plain": [
       "24"
      ]
     },
     "execution_count": 75,
     "metadata": {},
     "output_type": "execute_result"
    }
   ],
   "source": [
    "arr1.nbytes"
   ]
  },
  {
   "cell_type": "code",
   "execution_count": 76,
   "id": "6e7e5c56-e937-408c-823a-755442478aa5",
   "metadata": {},
   "outputs": [
    {
     "data": {
      "text/plain": [
       "2"
      ]
     },
     "execution_count": 76,
     "metadata": {},
     "output_type": "execute_result"
    }
   ],
   "source": [
    "arr1.ndim"
   ]
  },
  {
   "cell_type": "code",
   "execution_count": 77,
   "id": "a335f016-a5de-48e9-89a8-5dd042d2c743",
   "metadata": {},
   "outputs": [
    {
     "data": {
      "text/plain": [
       "(2, 3)"
      ]
     },
     "execution_count": 77,
     "metadata": {},
     "output_type": "execute_result"
    }
   ],
   "source": [
    "arr1.shape"
   ]
  },
  {
   "cell_type": "code",
   "execution_count": 78,
   "id": "ffdfe767-7d70-420b-b7ce-7c53518ac4b6",
   "metadata": {},
   "outputs": [
    {
     "data": {
      "text/plain": [
       "(4, 8)"
      ]
     },
     "execution_count": 78,
     "metadata": {},
     "output_type": "execute_result"
    }
   ],
   "source": [
    "arr1.strides"
   ]
  },
  {
   "cell_type": "code",
   "execution_count": 79,
   "id": "3742b238-4a20-4a34-ba5a-05ea4e303ea8",
   "metadata": {},
   "outputs": [
    {
     "data": {
      "text/plain": [
       "<numpy.core._internal._ctypes at 0xe19a10e8d0>"
      ]
     },
     "execution_count": 79,
     "metadata": {},
     "output_type": "execute_result"
    }
   ],
   "source": [
    "arr1.ctypes"
   ]
  },
  {
   "cell_type": "code",
   "execution_count": 80,
   "id": "5673fd3d-9d29-4e89-89fe-edb1ec94f4d1",
   "metadata": {},
   "outputs": [],
   "source": [
    "arr1.base"
   ]
  },
  {
   "cell_type": "code",
   "execution_count": 81,
   "id": "2b6b7722-9fb0-4f64-98f3-8f5892cfd58d",
   "metadata": {},
   "outputs": [
    {
     "data": {
      "text/plain": [
       "True"
      ]
     },
     "execution_count": 81,
     "metadata": {},
     "output_type": "execute_result"
    }
   ],
   "source": [
    "arr1.all()"
   ]
  },
  {
   "cell_type": "code",
   "execution_count": 82,
   "id": "21e0f9b1-e478-4cd5-91b3-dc8cb8acd8c6",
   "metadata": {},
   "outputs": [
    {
     "data": {
      "text/plain": [
       "True"
      ]
     },
     "execution_count": 82,
     "metadata": {},
     "output_type": "execute_result"
    }
   ],
   "source": [
    "arr1.any()"
   ]
  },
  {
   "cell_type": "code",
   "execution_count": 83,
   "id": "bcbbc2a9-dcdc-49c9-a5eb-dc4b5ebfa5a4",
   "metadata": {},
   "outputs": [
    {
     "data": {
      "text/plain": [
       "0"
      ]
     },
     "execution_count": 83,
     "metadata": {},
     "output_type": "execute_result"
    }
   ],
   "source": [
    "arr1.argmax()"
   ]
  },
  {
   "cell_type": "code",
   "execution_count": 84,
   "id": "5ebf7e73-a410-4c0a-b77f-01f9e1368fff",
   "metadata": {},
   "outputs": [
    {
     "data": {
      "text/plain": [
       "2"
      ]
     },
     "execution_count": 84,
     "metadata": {},
     "output_type": "execute_result"
    }
   ],
   "source": [
    "arr1.argmin()"
   ]
  },
  {
   "cell_type": "code",
   "execution_count": 85,
   "id": "44da0520-767b-4136-9f0e-f8a834f664d5",
   "metadata": {},
   "outputs": [
    {
     "data": {
      "text/plain": [
       "array([[2, 1, 0],\n",
       "       [2, 0, 1]], dtype=int64)"
      ]
     },
     "execution_count": 85,
     "metadata": {},
     "output_type": "execute_result"
    }
   ],
   "source": [
    "arr1.argsort()"
   ]
  },
  {
   "cell_type": "code",
   "execution_count": 86,
   "id": "2390b2e7-9abd-474b-99e3-a63c345ac9bd",
   "metadata": {},
   "outputs": [
    {
     "data": {
      "text/plain": [
       "array([[ 2132578365, -1810961303, -2000811967],\n",
       "       [ 1072668148,  1072680431,  1072095300]])"
      ]
     },
     "execution_count": 86,
     "metadata": {},
     "output_type": "execute_result"
    }
   ],
   "source": [
    "arr1"
   ]
  },
  {
   "cell_type": "code",
   "execution_count": 87,
   "id": "fd18914e-b005-483b-a15e-0c404935826b",
   "metadata": {},
   "outputs": [
    {
     "data": {
      "text/plain": [
       "array([[ 2.13257836e+09, -1.81096130e+09, -2.00081197e+09],\n",
       "       [ 1.07266815e+09,  1.07268043e+09,  1.07209530e+09]])"
      ]
     },
     "execution_count": 87,
     "metadata": {},
     "output_type": "execute_result"
    }
   ],
   "source": [
    "arr1.astype(float)"
   ]
  },
  {
   "cell_type": "code",
   "execution_count": 88,
   "id": "9bff4449-cd54-4118-af5e-2e2f05c1d6bd",
   "metadata": {},
   "outputs": [
    {
     "data": {
      "text/plain": [
       "array([[ 2132578365, -1810961303, -2000811967],\n",
       "       [ 1072668148,  1072680431,  1072095300]])"
      ]
     },
     "execution_count": 88,
     "metadata": {},
     "output_type": "execute_result"
    }
   ],
   "source": [
    "arr1"
   ]
  },
  {
   "cell_type": "code",
   "execution_count": 89,
   "id": "35630211-38b2-48f3-add5-898b11ffb8b8",
   "metadata": {},
   "outputs": [],
   "source": [
    "arr1.sort()"
   ]
  },
  {
   "cell_type": "code",
   "execution_count": 90,
   "id": "fbef9307-9f7a-4d01-830d-9d9ad9b47fa6",
   "metadata": {},
   "outputs": [
    {
     "data": {
      "text/plain": [
       "array([[-2000811967, -1810961303,  2132578365],\n",
       "       [ 1072095300,  1072668148,  1072680431]])"
      ]
     },
     "execution_count": 90,
     "metadata": {},
     "output_type": "execute_result"
    }
   ],
   "source": [
    "arr1"
   ]
  },
  {
   "cell_type": "code",
   "execution_count": 91,
   "id": "8b96625e-863d-47b5-abf0-fc1fbf541dd5",
   "metadata": {},
   "outputs": [
    {
     "data": {
      "text/plain": [
       "array([[-2000811967,  1072095300],\n",
       "       [-1810961303,  1072668148],\n",
       "       [ 2132578365,  1072680431]])"
      ]
     },
     "execution_count": 91,
     "metadata": {},
     "output_type": "execute_result"
    }
   ],
   "source": [
    "arr3"
   ]
  },
  {
   "cell_type": "code",
   "execution_count": 92,
   "id": "3654fb5c-abd5-4529-8676-2d176a5aaebc",
   "metadata": {},
   "outputs": [
    {
     "data": {
      "text/plain": [
       "array([[-2000811967,  1072095300],\n",
       "       [-1810961303,  1072668148],\n",
       "       [ 2132578365,  1072680431]])"
      ]
     },
     "execution_count": 92,
     "metadata": {},
     "output_type": "execute_result"
    }
   ],
   "source": [
    "arr3.conj()"
   ]
  },
  {
   "cell_type": "code",
   "execution_count": 93,
   "id": "4c6366dc-7791-4e13-adff-1fadf477208c",
   "metadata": {},
   "outputs": [
    {
     "data": {
      "text/plain": [
       "array([[-2000811967,  1072095300],\n",
       "       [-1810961303,  1072668148],\n",
       "       [ 2132578365,  1072680431]])"
      ]
     },
     "execution_count": 93,
     "metadata": {},
     "output_type": "execute_result"
    }
   ],
   "source": [
    "arr3.conjugate()"
   ]
  },
  {
   "cell_type": "code",
   "execution_count": 94,
   "id": "e687bf19-dc60-43f4-9b5b-68139d73bda5",
   "metadata": {},
   "outputs": [
    {
     "data": {
      "text/plain": [
       "array([2, 3])"
      ]
     },
     "execution_count": 94,
     "metadata": {},
     "output_type": "execute_result"
    }
   ],
   "source": [
    "arr2"
   ]
  },
  {
   "cell_type": "code",
   "execution_count": 95,
   "id": "990ab08a-9e5a-4163-9738-33d8c09b3927",
   "metadata": {},
   "outputs": [
    {
     "data": {
      "text/plain": [
       "(array([0, 1], dtype=int64),)"
      ]
     },
     "execution_count": 95,
     "metadata": {},
     "output_type": "execute_result"
    }
   ],
   "source": [
    "arr2.nonzero()"
   ]
  },
  {
   "cell_type": "code",
   "execution_count": 96,
   "id": "17807e32-303f-411d-be69-b0b28a8b6f59",
   "metadata": {},
   "outputs": [
    {
     "data": {
      "text/plain": [
       "(array([0, 0, 0, 1, 1, 1], dtype=int64),\n",
       " array([0, 1, 2, 0, 1, 2], dtype=int64))"
      ]
     },
     "execution_count": 96,
     "metadata": {},
     "output_type": "execute_result"
    }
   ],
   "source": [
    "arr1.nonzero()"
   ]
  },
  {
   "cell_type": "code",
   "execution_count": 97,
   "id": "fbb5a8f1-92be-49f4-9006-f768db07b812",
   "metadata": {},
   "outputs": [],
   "source": [
    "arr4 = arr1.ravel()"
   ]
  },
  {
   "cell_type": "code",
   "execution_count": 98,
   "id": "083d3c1f-66ce-4a5c-9c94-711d0dacbf46",
   "metadata": {},
   "outputs": [
    {
     "data": {
      "text/plain": [
       "(6,)"
      ]
     },
     "execution_count": 98,
     "metadata": {},
     "output_type": "execute_result"
    }
   ],
   "source": [
    "arr4.shape"
   ]
  },
  {
   "cell_type": "code",
   "execution_count": 99,
   "id": "695446f9-1d04-4f58-81ff-dd047fa9d6c5",
   "metadata": {},
   "outputs": [
    {
     "data": {
      "text/plain": [
       "array([-2000811967, -1810961303,  2132578365,  1072095300,  1072668148,\n",
       "        1072680431])"
      ]
     },
     "execution_count": 99,
     "metadata": {},
     "output_type": "execute_result"
    }
   ],
   "source": [
    "arr4"
   ]
  },
  {
   "cell_type": "code",
   "execution_count": 100,
   "id": "e4f4eaa2-0c40-4b29-a617-d11d475b17bb",
   "metadata": {},
   "outputs": [
    {
     "data": {
      "text/plain": [
       "array([2, 3])"
      ]
     },
     "execution_count": 100,
     "metadata": {},
     "output_type": "execute_result"
    }
   ],
   "source": [
    "arr2"
   ]
  },
  {
   "cell_type": "code",
   "execution_count": 101,
   "id": "7eca90a2-5809-4503-9c8a-00212d54d9db",
   "metadata": {},
   "outputs": [],
   "source": [
    "arr5 = arr4.reshape(3, 2)"
   ]
  },
  {
   "cell_type": "code",
   "execution_count": 102,
   "id": "f4b0f594-890a-4316-8647-1597febf5919",
   "metadata": {},
   "outputs": [
    {
     "data": {
      "text/plain": [
       "(3, 2)"
      ]
     },
     "execution_count": 102,
     "metadata": {},
     "output_type": "execute_result"
    }
   ],
   "source": [
    "arr5.shape"
   ]
  },
  {
   "cell_type": "code",
   "execution_count": 103,
   "id": "3421b724-0fde-441e-91a3-fb582f9d0571",
   "metadata": {},
   "outputs": [
    {
     "data": {
      "text/plain": [
       "array([[-2000811967, -1810961303],\n",
       "       [ 2132578365,  1072095300],\n",
       "       [ 1072668148,  1072680431]])"
      ]
     },
     "execution_count": 103,
     "metadata": {},
     "output_type": "execute_result"
    }
   ],
   "source": [
    "arr5"
   ]
  },
  {
   "cell_type": "code",
   "execution_count": 104,
   "id": "ba0028b4-8567-4f84-8f66-2e0bf878402c",
   "metadata": {},
   "outputs": [],
   "source": [
    "arr5.resize(2, 3)"
   ]
  },
  {
   "cell_type": "code",
   "execution_count": 105,
   "id": "d17a833c-f583-4922-9c11-d5d095be6a05",
   "metadata": {},
   "outputs": [
    {
     "data": {
      "text/plain": [
       "array([[-2000811967, -1810961303,  2132578365],\n",
       "       [ 1072095300,  1072668148,  1072680431]])"
      ]
     },
     "execution_count": 105,
     "metadata": {},
     "output_type": "execute_result"
    }
   ],
   "source": [
    "arr5"
   ]
  },
  {
   "cell_type": "code",
   "execution_count": 106,
   "id": "ab7cd218-25fb-43ae-a8ed-94210277d71e",
   "metadata": {},
   "outputs": [
    {
     "data": {
      "text/plain": [
       "(2, 3)"
      ]
     },
     "execution_count": 106,
     "metadata": {},
     "output_type": "execute_result"
    }
   ],
   "source": [
    "arr5.shape"
   ]
  },
  {
   "cell_type": "code",
   "execution_count": 107,
   "id": "82a3bf6e-a6d9-47a6-aa33-b89d556a9873",
   "metadata": {},
   "outputs": [
    {
     "data": {
      "text/plain": [
       "array([[-2000811967, -1810961303,  2132578365],\n",
       "       [ 1072095300,  1072668148,  1072680431]])"
      ]
     },
     "execution_count": 107,
     "metadata": {},
     "output_type": "execute_result"
    }
   ],
   "source": [
    "arr5.round()"
   ]
  },
  {
   "cell_type": "code",
   "execution_count": 108,
   "id": "c54e72d0-b496-4569-a4a5-7a492aae7996",
   "metadata": {},
   "outputs": [
    {
     "data": {
      "text/plain": [
       "array([[-2000811967, -1810961303,  2132578365],\n",
       "       [ 1072095300,  1072668148,  1072680431]])"
      ]
     },
     "execution_count": 108,
     "metadata": {},
     "output_type": "execute_result"
    }
   ],
   "source": [
    "arr1"
   ]
  },
  {
   "cell_type": "code",
   "execution_count": 109,
   "id": "5370c004-800f-4c4d-999f-5929256f9fba",
   "metadata": {},
   "outputs": [],
   "source": [
    "arr6 = arr1.astype(float)"
   ]
  },
  {
   "cell_type": "code",
   "execution_count": 110,
   "id": "5f7a8493-83ea-4b50-9286-2fb5221bad6e",
   "metadata": {},
   "outputs": [
    {
     "data": {
      "text/plain": [
       "array([[-2.00081197e+09, -1.81096130e+09,  2.13257836e+09],\n",
       "       [ 1.07209530e+09,  1.07266815e+09,  1.07268043e+09]])"
      ]
     },
     "execution_count": 110,
     "metadata": {},
     "output_type": "execute_result"
    }
   ],
   "source": [
    "arr6"
   ]
  },
  {
   "cell_type": "code",
   "execution_count": 111,
   "id": "78ae0191-71ce-4385-9c16-69cb50a4c415",
   "metadata": {},
   "outputs": [
    {
     "data": {
      "text/plain": [
       "array([[-2.00081197e+09,  1.07209530e+09],\n",
       "       [-1.81096130e+09,  1.07266815e+09],\n",
       "       [ 2.13257836e+09,  1.07268043e+09]])"
      ]
     },
     "execution_count": 111,
     "metadata": {},
     "output_type": "execute_result"
    }
   ],
   "source": [
    "arr6.swapaxes(0, 1)"
   ]
  },
  {
   "cell_type": "code",
   "execution_count": 112,
   "id": "6ee03bbf-b9d0-4f19-a4f0-346f0cebd3e7",
   "metadata": {},
   "outputs": [],
   "source": [
    "mylist = arr6.tolist()"
   ]
  },
  {
   "cell_type": "code",
   "execution_count": 113,
   "id": "c68cb259-3282-4d00-a302-083c25a685a5",
   "metadata": {},
   "outputs": [
    {
     "data": {
      "text/plain": [
       "[[-2000811967.0, -1810961303.0, 2132578365.0],\n",
       " [1072095300.0, 1072668148.0, 1072680431.0]]"
      ]
     },
     "execution_count": 113,
     "metadata": {},
     "output_type": "execute_result"
    }
   ],
   "source": [
    "mylist"
   ]
  },
  {
   "cell_type": "code",
   "execution_count": 114,
   "id": "53ad3855-cf4e-446e-b26e-caf3a1fb5150",
   "metadata": {},
   "outputs": [
    {
     "data": {
      "text/plain": [
       "list"
      ]
     },
     "execution_count": 114,
     "metadata": {},
     "output_type": "execute_result"
    }
   ],
   "source": [
    "type(mylist)"
   ]
  },
  {
   "cell_type": "code",
   "execution_count": 115,
   "id": "4cfeeebf-5f2f-4f2c-80f5-d9d10e5df7d2",
   "metadata": {},
   "outputs": [
    {
     "data": {
      "text/plain": [
       "array([[-2000811967, -1810961303,  2132578365],\n",
       "       [ 1072095300,  1072668148,  1072680431]])"
      ]
     },
     "execution_count": 115,
     "metadata": {},
     "output_type": "execute_result"
    }
   ],
   "source": [
    "arr5"
   ]
  },
  {
   "cell_type": "code",
   "execution_count": 116,
   "id": "2683a3df-adb0-4fe4-b0e7-b7b1773ab1b4",
   "metadata": {},
   "outputs": [
    {
     "data": {
      "text/plain": [
       "array([[-2000811967, -1810961303,  2132578365],\n",
       "       [ 1072095300,  1072668148,  1072680431]])"
      ]
     },
     "execution_count": 116,
     "metadata": {},
     "output_type": "execute_result"
    }
   ],
   "source": [
    "arr5.view()"
   ]
  },
  {
   "cell_type": "markdown",
   "id": "cf061765-e900-441a-bb54-b0bbaed038e4",
   "metadata": {},
   "source": [
    "## [numpy.array](https://numpy.org/doc/stable/reference/generated/numpy.array.html#numpy.array)\n",
    "\n",
    "numpy.array(object, dtype=None, *, copy=True, order='K', subok=False, ndmin=0, like=None)"
   ]
  },
  {
   "cell_type": "code",
   "execution_count": 117,
   "id": "a17bbdd5-bf70-47a0-b8f8-55a5caa9d1af",
   "metadata": {},
   "outputs": [
    {
     "data": {
      "text/plain": [
       "array([1, 2, 3])"
      ]
     },
     "execution_count": 117,
     "metadata": {},
     "output_type": "execute_result"
    }
   ],
   "source": [
    "arr1 = np.array([1, 2, 3])\n",
    "arr1"
   ]
  },
  {
   "cell_type": "code",
   "execution_count": 118,
   "id": "c2ac9b1f-aee2-4255-8ecf-bd2a5a709892",
   "metadata": {},
   "outputs": [
    {
     "data": {
      "text/plain": [
       "array([1., 2., 3.])"
      ]
     },
     "execution_count": 118,
     "metadata": {},
     "output_type": "execute_result"
    }
   ],
   "source": [
    "arr2 = np.array([1, 2, 3.0])\n",
    "arr2"
   ]
  },
  {
   "cell_type": "code",
   "execution_count": 119,
   "id": "305d60f9-11fa-4a48-af26-638d5b0a4c75",
   "metadata": {},
   "outputs": [
    {
     "data": {
      "text/plain": [
       "dtype('float64')"
      ]
     },
     "execution_count": 119,
     "metadata": {},
     "output_type": "execute_result"
    }
   ],
   "source": [
    "arr2.dtype"
   ]
  },
  {
   "cell_type": "code",
   "execution_count": 120,
   "id": "960468ca-5545-4abf-a950-836bd6f0c21a",
   "metadata": {},
   "outputs": [
    {
     "data": {
      "text/plain": [
       "array([[1, 2],\n",
       "       [3, 4]])"
      ]
     },
     "execution_count": 120,
     "metadata": {},
     "output_type": "execute_result"
    }
   ],
   "source": [
    "arr3 = np.array([[1, 2], [3, 4]])\n",
    "arr3"
   ]
  },
  {
   "cell_type": "code",
   "execution_count": 121,
   "id": "865d1060-5813-42dd-b8ef-b43cbeed28d0",
   "metadata": {},
   "outputs": [
    {
     "data": {
      "text/plain": [
       "(2, 2)"
      ]
     },
     "execution_count": 121,
     "metadata": {},
     "output_type": "execute_result"
    }
   ],
   "source": [
    "arr3.shape"
   ]
  },
  {
   "cell_type": "code",
   "execution_count": 122,
   "id": "ec1dc0e5-4373-4f45-a691-90657f1515e7",
   "metadata": {},
   "outputs": [
    {
     "data": {
      "text/plain": [
       "2"
      ]
     },
     "execution_count": 122,
     "metadata": {},
     "output_type": "execute_result"
    }
   ],
   "source": [
    "arr3.ndim"
   ]
  },
  {
   "cell_type": "code",
   "execution_count": 123,
   "id": "3715577e-9c49-48e2-abce-787636e105ea",
   "metadata": {},
   "outputs": [],
   "source": [
    "arr4 = np.array([[1, 2, 3], [4, 5, 6]])"
   ]
  },
  {
   "cell_type": "code",
   "execution_count": 124,
   "id": "5a42bea5-8953-415b-8bbc-afe252cab586",
   "metadata": {},
   "outputs": [
    {
     "data": {
      "text/plain": [
       "array([[1, 2, 3],\n",
       "       [4, 5, 6]])"
      ]
     },
     "execution_count": 124,
     "metadata": {},
     "output_type": "execute_result"
    }
   ],
   "source": [
    "arr4"
   ]
  },
  {
   "cell_type": "code",
   "execution_count": 125,
   "id": "d8d729dc-7ea2-4aa0-be81-4f23f4ad50e3",
   "metadata": {},
   "outputs": [
    {
     "data": {
      "text/plain": [
       "(2, 3)"
      ]
     },
     "execution_count": 125,
     "metadata": {},
     "output_type": "execute_result"
    }
   ],
   "source": [
    "arr4.shape"
   ]
  },
  {
   "cell_type": "code",
   "execution_count": 126,
   "id": "ed71185d-5b46-4dce-8b5a-3567a2e4fb6d",
   "metadata": {},
   "outputs": [],
   "source": [
    "x = np.array([(1,2),(3,4)],dtype=[('a','<i4'),('b','<i4')])"
   ]
  },
  {
   "cell_type": "code",
   "execution_count": 127,
   "id": "6b327f6a-2bc1-4841-853c-4a3d55ee2a32",
   "metadata": {},
   "outputs": [
    {
     "data": {
      "text/plain": [
       "array([(1, 2), (3, 4)], dtype=[('a', '<i4'), ('b', '<i4')])"
      ]
     },
     "execution_count": 127,
     "metadata": {},
     "output_type": "execute_result"
    }
   ],
   "source": [
    "x"
   ]
  },
  {
   "cell_type": "code",
   "execution_count": 128,
   "id": "3d2c6837-9847-45d4-8fca-95ddcade04ce",
   "metadata": {},
   "outputs": [
    {
     "data": {
      "text/plain": [
       "nan"
      ]
     },
     "execution_count": 128,
     "metadata": {},
     "output_type": "execute_result"
    }
   ],
   "source": [
    "val_nan = np.nan\n",
    "val_nan"
   ]
  },
  {
   "cell_type": "code",
   "execution_count": 133,
   "id": "9591b2c5-8941-4e6c-9bdd-0ca1f1067cac",
   "metadata": {},
   "outputs": [
    {
     "data": {
      "text/plain": [
       "float"
      ]
     },
     "execution_count": 133,
     "metadata": {},
     "output_type": "execute_result"
    }
   ],
   "source": [
    "type(val_nan)"
   ]
  },
  {
   "cell_type": "code",
   "execution_count": 135,
   "id": "c6345052-c067-43e0-b71e-361d61e604ec",
   "metadata": {},
   "outputs": [
    {
     "name": "stdout",
     "output_type": "stream",
     "text": [
      "nan\n"
     ]
    }
   ],
   "source": [
    "print(val_nan)"
   ]
  },
  {
   "cell_type": "code",
   "execution_count": 137,
   "id": "9a34b8bd-610f-41e0-9699-f3e17b37e2df",
   "metadata": {},
   "outputs": [
    {
     "data": {
      "text/plain": [
       "array([[-0.31574344, -0.94184845,  0.82049848, -0.12126692],\n",
       "       [ 1.0255686 , -0.07008732, -0.34374727,  0.95516792],\n",
       "       [-0.56996061,  1.80471681,  1.82463299, -0.02723986],\n",
       "       [ 0.11114773,  0.49767172, -0.40938029, -0.48335033],\n",
       "       [-0.1898159 ,  0.76252772, -2.42658343, -1.34800494],\n",
       "       [-0.15289119,  0.86057856,  1.45768568, -0.3588934 ]])"
      ]
     },
     "execution_count": 137,
     "metadata": {},
     "output_type": "execute_result"
    }
   ],
   "source": [
    "rand1 = np.random.randn(6, 4)  # around 0 as Normal Curve\n",
    "rand1"
   ]
  },
  {
   "cell_type": "code",
   "execution_count": 140,
   "id": "766061ef-48d9-4360-8f92-b987fba37f88",
   "metadata": {},
   "outputs": [],
   "source": [
    "rand2 = np.random.rand(4, 5)   # Between 0 and 1"
   ]
  },
  {
   "cell_type": "code",
   "execution_count": 141,
   "id": "ff368d8d-18fa-4ef2-aca0-95257867d012",
   "metadata": {},
   "outputs": [
    {
     "data": {
      "text/plain": [
       "array([[0.83682027, 0.06139555, 0.77689265, 0.2715954 , 0.08421954],\n",
       "       [0.95487911, 0.87668949, 0.28343566, 0.93684466, 0.70434085],\n",
       "       [0.58989508, 0.57639559, 0.17665523, 0.67499386, 0.20978664],\n",
       "       [0.75943097, 0.30027445, 0.23542215, 0.01503471, 0.89153646]])"
      ]
     },
     "execution_count": 141,
     "metadata": {},
     "output_type": "execute_result"
    }
   ],
   "source": [
    "rand2"
   ]
  },
  {
   "cell_type": "code",
   "execution_count": null,
   "id": "eede099f-b760-49c7-a8e5-939e763264e2",
   "metadata": {},
   "outputs": [],
   "source": []
  }
 ],
 "metadata": {
  "kernelspec": {
   "display_name": "Python 3 (ipykernel)",
   "language": "python",
   "name": "python3"
  },
  "language_info": {
   "codemirror_mode": {
    "name": "ipython",
    "version": 3
   },
   "file_extension": ".py",
   "mimetype": "text/x-python",
   "name": "python",
   "nbconvert_exporter": "python",
   "pygments_lexer": "ipython3",
   "version": "3.11.5"
  }
 },
 "nbformat": 4,
 "nbformat_minor": 5
}
