{
 "cells": [
  {
   "cell_type": "markdown",
   "id": "17a18518-8089-4050-91e4-cb6ceb7a0629",
   "metadata": {},
   "source": [
    "# Pandas Lib\n",
    "\n",
    "> Source = https://pandas.pydata.org/docs/user_guide/10min.html"
   ]
  },
  {
   "cell_type": "code",
   "execution_count": 1,
   "id": "1f1cea9e-ea4c-435d-b263-c41ce9774c97",
   "metadata": {},
   "outputs": [],
   "source": [
    "import pandas as pd\n",
    "import numpy as np"
   ]
  },
  {
   "cell_type": "code",
   "execution_count": 2,
   "id": "b0d293b3-5733-46bc-9d16-81044e3cfddc",
   "metadata": {},
   "outputs": [
    {
     "data": {
      "text/plain": [
       "0         1\n",
       "1         2\n",
       "2         3\n",
       "3    Malihe\n",
       "4         0\n",
       "5       NaN\n",
       "6        -1\n",
       "dtype: object"
      ]
     },
     "execution_count": 2,
     "metadata": {},
     "output_type": "execute_result"
    }
   ],
   "source": [
    "series1 = pd.Series([1, 2, 3, 'Malihe', 0, np.nan, -1])\n",
    "series1"
   ]
  },
  {
   "cell_type": "code",
   "execution_count": 3,
   "id": "ef404d6f-8bc7-4ce7-afe1-2d86978466c0",
   "metadata": {},
   "outputs": [
    {
     "data": {
      "text/plain": [
       "str"
      ]
     },
     "execution_count": 3,
     "metadata": {},
     "output_type": "execute_result"
    }
   ],
   "source": [
    "type(series1[3])"
   ]
  },
  {
   "cell_type": "code",
   "execution_count": 4,
   "id": "73fdeed1-9adb-4da2-b978-fb4c5b2a3b17",
   "metadata": {},
   "outputs": [
    {
     "data": {
      "text/plain": [
       "-1"
      ]
     },
     "execution_count": 4,
     "metadata": {},
     "output_type": "execute_result"
    }
   ],
   "source": [
    "series1[len(series1) - 1]"
   ]
  },
  {
   "cell_type": "code",
   "execution_count": 5,
   "id": "56e07446-0454-4ee3-b8ac-90bc6d46c838",
   "metadata": {},
   "outputs": [
    {
     "data": {
      "text/plain": [
       "int"
      ]
     },
     "execution_count": 5,
     "metadata": {},
     "output_type": "execute_result"
    }
   ],
   "source": [
    "type(series1[len(series1) - 1])"
   ]
  },
  {
   "cell_type": "code",
   "execution_count": 6,
   "id": "834318d4-f297-4e7c-8ab2-9b8dfa9b808f",
   "metadata": {},
   "outputs": [
    {
     "data": {
      "text/plain": [
       "pandas.core.series.Series"
      ]
     },
     "execution_count": 6,
     "metadata": {},
     "output_type": "execute_result"
    }
   ],
   "source": [
    "type(series1)"
   ]
  },
  {
   "cell_type": "code",
   "execution_count": 7,
   "id": "b20f52d4-383b-49a3-b3cf-c4d91eb7ebc3",
   "metadata": {},
   "outputs": [
    {
     "data": {
      "text/plain": [
       "DatetimeIndex(['2024-10-15', '2024-10-16', '2024-10-17', '2024-10-18',\n",
       "               '2024-10-19', '2024-10-20', '2024-10-21'],\n",
       "              dtype='datetime64[ns]', freq='D')"
      ]
     },
     "execution_count": 7,
     "metadata": {},
     "output_type": "execute_result"
    }
   ],
   "source": [
    "dates = pd.date_range(\"20241015\", periods = 7)\n",
    "dates"
   ]
  },
  {
   "cell_type": "code",
   "execution_count": 8,
   "id": "d25649d8-5493-492c-94a8-60204c52140e",
   "metadata": {},
   "outputs": [
    {
     "name": "stdout",
     "output_type": "stream",
     "text": [
      "[Timestamp('2024-10-15 00:00:00'), Timestamp('2024-10-16 00:00:00'), Timestamp('2024-10-17 00:00:00'), Timestamp('2024-10-18 00:00:00'), Timestamp('2024-10-19 00:00:00'), Timestamp('2024-10-20 00:00:00'), Timestamp('2024-10-21 00:00:00')]\n"
     ]
    }
   ],
   "source": [
    "print([d for d in dates])"
   ]
  },
  {
   "cell_type": "code",
   "execution_count": 9,
   "id": "264557b5-4231-4129-8434-1f2ac2e0e4cb",
   "metadata": {},
   "outputs": [
    {
     "name": "stdout",
     "output_type": "stream",
     "text": [
      "2024-10-15 00:00:00\n",
      "2024-10-16 00:00:00\n",
      "2024-10-17 00:00:00\n",
      "2024-10-18 00:00:00\n",
      "2024-10-19 00:00:00\n",
      "2024-10-20 00:00:00\n",
      "2024-10-21 00:00:00\n"
     ]
    }
   ],
   "source": [
    "print('\\n'.join(map(str, dates)))\n",
    "# map(function, iterable): map takes a function and an iterable (like a list), and applies the function to each element in the iterable."
   ]
  },
  {
   "cell_type": "code",
   "execution_count": 10,
   "id": "63415a52-9287-4afc-946e-2c3ba389d914",
   "metadata": {},
   "outputs": [
    {
     "name": "stdout",
     "output_type": "stream",
     "text": [
      "2024-10-15 00:00:00\n",
      "2024-10-16 00:00:00\n",
      "2024-10-17 00:00:00\n",
      "2024-10-18 00:00:00\n",
      "2024-10-19 00:00:00\n",
      "2024-10-20 00:00:00\n",
      "2024-10-21 00:00:00\n"
     ]
    }
   ],
   "source": [
    "for d in dates:\n",
    "    print(d)"
   ]
  },
  {
   "cell_type": "markdown",
   "id": "98495b9c-3911-4eee-b48f-1600089c08cb",
   "metadata": {},
   "source": [
    "## DataFrame"
   ]
  },
  {
   "cell_type": "code",
   "execution_count": 11,
   "id": "68e57e3a-4c32-47a5-84d0-0e8d1d1366fd",
   "metadata": {},
   "outputs": [],
   "source": [
    "df = pd.DataFrame(np.random.randn(7, 4), index = dates, columns = ['A', 'B', 'C', 'D'])\n",
    "# np.random.randn: This function generates random numbers from a standard normal distribution (Gaussian distribution with mean 0 and variance 1)."
   ]
  },
  {
   "cell_type": "code",
   "execution_count": 12,
   "id": "de3243fe-5b34-4658-a039-4480cebe39a1",
   "metadata": {},
   "outputs": [
    {
     "data": {
      "text/html": [
       "<div>\n",
       "<style scoped>\n",
       "    .dataframe tbody tr th:only-of-type {\n",
       "        vertical-align: middle;\n",
       "    }\n",
       "\n",
       "    .dataframe tbody tr th {\n",
       "        vertical-align: top;\n",
       "    }\n",
       "\n",
       "    .dataframe thead th {\n",
       "        text-align: right;\n",
       "    }\n",
       "</style>\n",
       "<table border=\"1\" class=\"dataframe\">\n",
       "  <thead>\n",
       "    <tr style=\"text-align: right;\">\n",
       "      <th></th>\n",
       "      <th>A</th>\n",
       "      <th>B</th>\n",
       "      <th>C</th>\n",
       "      <th>D</th>\n",
       "    </tr>\n",
       "  </thead>\n",
       "  <tbody>\n",
       "    <tr>\n",
       "      <th>2024-10-15</th>\n",
       "      <td>-1.281793</td>\n",
       "      <td>0.358641</td>\n",
       "      <td>-1.266926</td>\n",
       "      <td>0.985365</td>\n",
       "    </tr>\n",
       "    <tr>\n",
       "      <th>2024-10-16</th>\n",
       "      <td>-0.508918</td>\n",
       "      <td>0.134144</td>\n",
       "      <td>0.472175</td>\n",
       "      <td>1.623367</td>\n",
       "    </tr>\n",
       "    <tr>\n",
       "      <th>2024-10-17</th>\n",
       "      <td>0.590040</td>\n",
       "      <td>-0.061607</td>\n",
       "      <td>0.125571</td>\n",
       "      <td>-2.003038</td>\n",
       "    </tr>\n",
       "    <tr>\n",
       "      <th>2024-10-18</th>\n",
       "      <td>-2.012784</td>\n",
       "      <td>0.011580</td>\n",
       "      <td>1.822530</td>\n",
       "      <td>-0.386665</td>\n",
       "    </tr>\n",
       "    <tr>\n",
       "      <th>2024-10-19</th>\n",
       "      <td>1.754172</td>\n",
       "      <td>-0.375431</td>\n",
       "      <td>-2.147462</td>\n",
       "      <td>1.230035</td>\n",
       "    </tr>\n",
       "    <tr>\n",
       "      <th>2024-10-20</th>\n",
       "      <td>-0.295957</td>\n",
       "      <td>-1.286849</td>\n",
       "      <td>-1.289448</td>\n",
       "      <td>-0.931113</td>\n",
       "    </tr>\n",
       "    <tr>\n",
       "      <th>2024-10-21</th>\n",
       "      <td>-0.476906</td>\n",
       "      <td>-1.512358</td>\n",
       "      <td>1.300378</td>\n",
       "      <td>-0.052495</td>\n",
       "    </tr>\n",
       "  </tbody>\n",
       "</table>\n",
       "</div>"
      ],
      "text/plain": [
       "                   A         B         C         D\n",
       "2024-10-15 -1.281793  0.358641 -1.266926  0.985365\n",
       "2024-10-16 -0.508918  0.134144  0.472175  1.623367\n",
       "2024-10-17  0.590040 -0.061607  0.125571 -2.003038\n",
       "2024-10-18 -2.012784  0.011580  1.822530 -0.386665\n",
       "2024-10-19  1.754172 -0.375431 -2.147462  1.230035\n",
       "2024-10-20 -0.295957 -1.286849 -1.289448 -0.931113\n",
       "2024-10-21 -0.476906 -1.512358  1.300378 -0.052495"
      ]
     },
     "execution_count": 12,
     "metadata": {},
     "output_type": "execute_result"
    }
   ],
   "source": [
    "df"
   ]
  },
  {
   "cell_type": "code",
   "execution_count": 13,
   "id": "34aaaec1-7d89-4be9-a1e1-68d9dbd022cc",
   "metadata": {},
   "outputs": [
    {
     "data": {
      "text/plain": [
       "A   -0.318878\n",
       "B   -0.390269\n",
       "C   -0.140454\n",
       "D    0.066494\n",
       "dtype: float64"
      ]
     },
     "execution_count": 13,
     "metadata": {},
     "output_type": "execute_result"
    }
   ],
   "source": [
    "df.mean()"
   ]
  },
  {
   "cell_type": "code",
   "execution_count": 14,
   "id": "0059c736-feb8-461e-abac-a721510819d1",
   "metadata": {},
   "outputs": [
    {
     "data": {
      "text/plain": [
       "-0.19577684449044672"
      ]
     },
     "execution_count": 14,
     "metadata": {},
     "output_type": "execute_result"
    }
   ],
   "source": [
    "df.mean().mean()"
   ]
  },
  {
   "cell_type": "code",
   "execution_count": 15,
   "id": "814f737f-3517-4fa0-9d3a-e7f5916b3559",
   "metadata": {},
   "outputs": [
    {
     "data": {
      "text/plain": [
       "pandas.core.frame.DataFrame"
      ]
     },
     "execution_count": 15,
     "metadata": {},
     "output_type": "execute_result"
    }
   ],
   "source": [
    "type(df)"
   ]
  },
  {
   "cell_type": "code",
   "execution_count": 16,
   "id": "1eb62105-6f01-453d-b2b6-9a6fafb05c3c",
   "metadata": {},
   "outputs": [
    {
     "data": {
      "text/plain": [
       "Timestamp('2024-10-16 00:00:00')"
      ]
     },
     "execution_count": 16,
     "metadata": {},
     "output_type": "execute_result"
    }
   ],
   "source": [
    "dates[1]"
   ]
  },
  {
   "cell_type": "code",
   "execution_count": 17,
   "id": "07371ea6-491a-4421-9654-0888604176b5",
   "metadata": {},
   "outputs": [
    {
     "data": {
      "text/plain": [
       "A    float64\n",
       "B    float64\n",
       "C    float64\n",
       "D    float64\n",
       "dtype: object"
      ]
     },
     "execution_count": 17,
     "metadata": {},
     "output_type": "execute_result"
    }
   ],
   "source": [
    "df.dtypes"
   ]
  },
  {
   "cell_type": "code",
   "execution_count": 18,
   "id": "8c8300fd-427a-46a7-ba9d-74e5463f9f8b",
   "metadata": {},
   "outputs": [
    {
     "name": "stdout",
     "output_type": "stream",
     "text": [
      "<class 'pandas.core.frame.DataFrame'>\n",
      "DatetimeIndex: 7 entries, 2024-10-15 to 2024-10-21\n",
      "Freq: D\n",
      "Data columns (total 4 columns):\n",
      " #   Column  Non-Null Count  Dtype  \n",
      "---  ------  --------------  -----  \n",
      " 0   A       7 non-null      float64\n",
      " 1   B       7 non-null      float64\n",
      " 2   C       7 non-null      float64\n",
      " 3   D       7 non-null      float64\n",
      "dtypes: float64(4)\n",
      "memory usage: 280.0 bytes\n"
     ]
    }
   ],
   "source": [
    "df.info()"
   ]
  },
  {
   "cell_type": "code",
   "execution_count": 19,
   "id": "3f916fea-2dc8-44df-905d-eee1e9886961",
   "metadata": {},
   "outputs": [
    {
     "data": {
      "text/plain": [
       "2024-10-15   -1.281793\n",
       "2024-10-16   -0.508918\n",
       "2024-10-17    0.590040\n",
       "2024-10-18   -2.012784\n",
       "2024-10-19    1.754172\n",
       "2024-10-20   -0.295957\n",
       "2024-10-21   -0.476906\n",
       "Freq: D, Name: A, dtype: float64"
      ]
     },
     "execution_count": 19,
     "metadata": {},
     "output_type": "execute_result"
    }
   ],
   "source": [
    " df['A']"
   ]
  },
  {
   "cell_type": "code",
   "execution_count": 20,
   "id": "5129d5a8-2fac-4815-b00f-9ae1c633021f",
   "metadata": {},
   "outputs": [
    {
     "data": {
      "text/html": [
       "<div>\n",
       "<style scoped>\n",
       "    .dataframe tbody tr th:only-of-type {\n",
       "        vertical-align: middle;\n",
       "    }\n",
       "\n",
       "    .dataframe tbody tr th {\n",
       "        vertical-align: top;\n",
       "    }\n",
       "\n",
       "    .dataframe thead th {\n",
       "        text-align: right;\n",
       "    }\n",
       "</style>\n",
       "<table border=\"1\" class=\"dataframe\">\n",
       "  <thead>\n",
       "    <tr style=\"text-align: right;\">\n",
       "      <th></th>\n",
       "      <th>A</th>\n",
       "      <th>B</th>\n",
       "      <th>C</th>\n",
       "      <th>D</th>\n",
       "    </tr>\n",
       "  </thead>\n",
       "  <tbody>\n",
       "    <tr>\n",
       "      <th>2024-10-15</th>\n",
       "      <td>-1.281793</td>\n",
       "      <td>0.358641</td>\n",
       "      <td>-1.266926</td>\n",
       "      <td>0.985365</td>\n",
       "    </tr>\n",
       "    <tr>\n",
       "      <th>2024-10-16</th>\n",
       "      <td>-0.508918</td>\n",
       "      <td>0.134144</td>\n",
       "      <td>0.472175</td>\n",
       "      <td>1.623367</td>\n",
       "    </tr>\n",
       "    <tr>\n",
       "      <th>2024-10-17</th>\n",
       "      <td>0.590040</td>\n",
       "      <td>-0.061607</td>\n",
       "      <td>0.125571</td>\n",
       "      <td>-2.003038</td>\n",
       "    </tr>\n",
       "    <tr>\n",
       "      <th>2024-10-18</th>\n",
       "      <td>-2.012784</td>\n",
       "      <td>0.011580</td>\n",
       "      <td>1.822530</td>\n",
       "      <td>-0.386665</td>\n",
       "    </tr>\n",
       "    <tr>\n",
       "      <th>2024-10-19</th>\n",
       "      <td>1.754172</td>\n",
       "      <td>-0.375431</td>\n",
       "      <td>-2.147462</td>\n",
       "      <td>1.230035</td>\n",
       "    </tr>\n",
       "    <tr>\n",
       "      <th>2024-10-20</th>\n",
       "      <td>-0.295957</td>\n",
       "      <td>-1.286849</td>\n",
       "      <td>-1.289448</td>\n",
       "      <td>-0.931113</td>\n",
       "    </tr>\n",
       "    <tr>\n",
       "      <th>2024-10-21</th>\n",
       "      <td>-0.476906</td>\n",
       "      <td>-1.512358</td>\n",
       "      <td>1.300378</td>\n",
       "      <td>-0.052495</td>\n",
       "    </tr>\n",
       "  </tbody>\n",
       "</table>\n",
       "</div>"
      ],
      "text/plain": [
       "                   A         B         C         D\n",
       "2024-10-15 -1.281793  0.358641 -1.266926  0.985365\n",
       "2024-10-16 -0.508918  0.134144  0.472175  1.623367\n",
       "2024-10-17  0.590040 -0.061607  0.125571 -2.003038\n",
       "2024-10-18 -2.012784  0.011580  1.822530 -0.386665\n",
       "2024-10-19  1.754172 -0.375431 -2.147462  1.230035\n",
       "2024-10-20 -0.295957 -1.286849 -1.289448 -0.931113\n",
       "2024-10-21 -0.476906 -1.512358  1.300378 -0.052495"
      ]
     },
     "execution_count": 20,
     "metadata": {},
     "output_type": "execute_result"
    }
   ],
   "source": [
    "df"
   ]
  },
  {
   "cell_type": "code",
   "execution_count": 21,
   "id": "4a299b3f-8a93-4dfc-a96c-d89f840c5891",
   "metadata": {},
   "outputs": [
    {
     "data": {
      "text/html": [
       "<div>\n",
       "<style scoped>\n",
       "    .dataframe tbody tr th:only-of-type {\n",
       "        vertical-align: middle;\n",
       "    }\n",
       "\n",
       "    .dataframe tbody tr th {\n",
       "        vertical-align: top;\n",
       "    }\n",
       "\n",
       "    .dataframe thead th {\n",
       "        text-align: right;\n",
       "    }\n",
       "</style>\n",
       "<table border=\"1\" class=\"dataframe\">\n",
       "  <thead>\n",
       "    <tr style=\"text-align: right;\">\n",
       "      <th></th>\n",
       "      <th>A</th>\n",
       "      <th>B</th>\n",
       "      <th>C</th>\n",
       "      <th>D</th>\n",
       "    </tr>\n",
       "  </thead>\n",
       "  <tbody>\n",
       "    <tr>\n",
       "      <th>2024-10-15</th>\n",
       "      <td>-1.281793</td>\n",
       "      <td>0.358641</td>\n",
       "      <td>-1.266926</td>\n",
       "      <td>0.985365</td>\n",
       "    </tr>\n",
       "    <tr>\n",
       "      <th>2024-10-16</th>\n",
       "      <td>-0.508918</td>\n",
       "      <td>0.134144</td>\n",
       "      <td>0.472175</td>\n",
       "      <td>1.623367</td>\n",
       "    </tr>\n",
       "    <tr>\n",
       "      <th>2024-10-17</th>\n",
       "      <td>0.590040</td>\n",
       "      <td>-0.061607</td>\n",
       "      <td>0.125571</td>\n",
       "      <td>-2.003038</td>\n",
       "    </tr>\n",
       "    <tr>\n",
       "      <th>2024-10-18</th>\n",
       "      <td>-2.012784</td>\n",
       "      <td>0.011580</td>\n",
       "      <td>1.822530</td>\n",
       "      <td>-0.386665</td>\n",
       "    </tr>\n",
       "    <tr>\n",
       "      <th>2024-10-19</th>\n",
       "      <td>1.754172</td>\n",
       "      <td>-0.375431</td>\n",
       "      <td>-2.147462</td>\n",
       "      <td>1.230035</td>\n",
       "    </tr>\n",
       "  </tbody>\n",
       "</table>\n",
       "</div>"
      ],
      "text/plain": [
       "                   A         B         C         D\n",
       "2024-10-15 -1.281793  0.358641 -1.266926  0.985365\n",
       "2024-10-16 -0.508918  0.134144  0.472175  1.623367\n",
       "2024-10-17  0.590040 -0.061607  0.125571 -2.003038\n",
       "2024-10-18 -2.012784  0.011580  1.822530 -0.386665\n",
       "2024-10-19  1.754172 -0.375431 -2.147462  1.230035"
      ]
     },
     "execution_count": 21,
     "metadata": {},
     "output_type": "execute_result"
    }
   ],
   "source": [
    "df.head()"
   ]
  },
  {
   "cell_type": "code",
   "execution_count": 22,
   "id": "8d61f332-0ed6-4bb5-947f-c066f0edc07f",
   "metadata": {},
   "outputs": [
    {
     "data": {
      "text/html": [
       "<div>\n",
       "<style scoped>\n",
       "    .dataframe tbody tr th:only-of-type {\n",
       "        vertical-align: middle;\n",
       "    }\n",
       "\n",
       "    .dataframe tbody tr th {\n",
       "        vertical-align: top;\n",
       "    }\n",
       "\n",
       "    .dataframe thead th {\n",
       "        text-align: right;\n",
       "    }\n",
       "</style>\n",
       "<table border=\"1\" class=\"dataframe\">\n",
       "  <thead>\n",
       "    <tr style=\"text-align: right;\">\n",
       "      <th></th>\n",
       "      <th>A</th>\n",
       "      <th>B</th>\n",
       "      <th>C</th>\n",
       "      <th>D</th>\n",
       "    </tr>\n",
       "  </thead>\n",
       "  <tbody>\n",
       "    <tr>\n",
       "      <th>2024-10-15</th>\n",
       "      <td>-1.281793</td>\n",
       "      <td>0.358641</td>\n",
       "      <td>-1.266926</td>\n",
       "      <td>0.985365</td>\n",
       "    </tr>\n",
       "    <tr>\n",
       "      <th>2024-10-16</th>\n",
       "      <td>-0.508918</td>\n",
       "      <td>0.134144</td>\n",
       "      <td>0.472175</td>\n",
       "      <td>1.623367</td>\n",
       "    </tr>\n",
       "    <tr>\n",
       "      <th>2024-10-17</th>\n",
       "      <td>0.590040</td>\n",
       "      <td>-0.061607</td>\n",
       "      <td>0.125571</td>\n",
       "      <td>-2.003038</td>\n",
       "    </tr>\n",
       "  </tbody>\n",
       "</table>\n",
       "</div>"
      ],
      "text/plain": [
       "                   A         B         C         D\n",
       "2024-10-15 -1.281793  0.358641 -1.266926  0.985365\n",
       "2024-10-16 -0.508918  0.134144  0.472175  1.623367\n",
       "2024-10-17  0.590040 -0.061607  0.125571 -2.003038"
      ]
     },
     "execution_count": 22,
     "metadata": {},
     "output_type": "execute_result"
    }
   ],
   "source": [
    "df.head(3)"
   ]
  },
  {
   "cell_type": "code",
   "execution_count": 23,
   "id": "c1580e3b-95ea-4e12-ab87-8d9ca3848b85",
   "metadata": {},
   "outputs": [
    {
     "data": {
      "text/html": [
       "<div>\n",
       "<style scoped>\n",
       "    .dataframe tbody tr th:only-of-type {\n",
       "        vertical-align: middle;\n",
       "    }\n",
       "\n",
       "    .dataframe tbody tr th {\n",
       "        vertical-align: top;\n",
       "    }\n",
       "\n",
       "    .dataframe thead th {\n",
       "        text-align: right;\n",
       "    }\n",
       "</style>\n",
       "<table border=\"1\" class=\"dataframe\">\n",
       "  <thead>\n",
       "    <tr style=\"text-align: right;\">\n",
       "      <th></th>\n",
       "      <th>A</th>\n",
       "      <th>B</th>\n",
       "      <th>C</th>\n",
       "      <th>D</th>\n",
       "    </tr>\n",
       "  </thead>\n",
       "  <tbody>\n",
       "    <tr>\n",
       "      <th>2024-10-17</th>\n",
       "      <td>0.590040</td>\n",
       "      <td>-0.061607</td>\n",
       "      <td>0.125571</td>\n",
       "      <td>-2.003038</td>\n",
       "    </tr>\n",
       "    <tr>\n",
       "      <th>2024-10-18</th>\n",
       "      <td>-2.012784</td>\n",
       "      <td>0.011580</td>\n",
       "      <td>1.822530</td>\n",
       "      <td>-0.386665</td>\n",
       "    </tr>\n",
       "    <tr>\n",
       "      <th>2024-10-19</th>\n",
       "      <td>1.754172</td>\n",
       "      <td>-0.375431</td>\n",
       "      <td>-2.147462</td>\n",
       "      <td>1.230035</td>\n",
       "    </tr>\n",
       "    <tr>\n",
       "      <th>2024-10-20</th>\n",
       "      <td>-0.295957</td>\n",
       "      <td>-1.286849</td>\n",
       "      <td>-1.289448</td>\n",
       "      <td>-0.931113</td>\n",
       "    </tr>\n",
       "    <tr>\n",
       "      <th>2024-10-21</th>\n",
       "      <td>-0.476906</td>\n",
       "      <td>-1.512358</td>\n",
       "      <td>1.300378</td>\n",
       "      <td>-0.052495</td>\n",
       "    </tr>\n",
       "  </tbody>\n",
       "</table>\n",
       "</div>"
      ],
      "text/plain": [
       "                   A         B         C         D\n",
       "2024-10-17  0.590040 -0.061607  0.125571 -2.003038\n",
       "2024-10-18 -2.012784  0.011580  1.822530 -0.386665\n",
       "2024-10-19  1.754172 -0.375431 -2.147462  1.230035\n",
       "2024-10-20 -0.295957 -1.286849 -1.289448 -0.931113\n",
       "2024-10-21 -0.476906 -1.512358  1.300378 -0.052495"
      ]
     },
     "execution_count": 23,
     "metadata": {},
     "output_type": "execute_result"
    }
   ],
   "source": [
    "df.tail()"
   ]
  },
  {
   "cell_type": "code",
   "execution_count": 24,
   "id": "531423f6-2008-4cd3-9b8e-9763fc82470d",
   "metadata": {},
   "outputs": [
    {
     "data": {
      "text/html": [
       "<div>\n",
       "<style scoped>\n",
       "    .dataframe tbody tr th:only-of-type {\n",
       "        vertical-align: middle;\n",
       "    }\n",
       "\n",
       "    .dataframe tbody tr th {\n",
       "        vertical-align: top;\n",
       "    }\n",
       "\n",
       "    .dataframe thead th {\n",
       "        text-align: right;\n",
       "    }\n",
       "</style>\n",
       "<table border=\"1\" class=\"dataframe\">\n",
       "  <thead>\n",
       "    <tr style=\"text-align: right;\">\n",
       "      <th></th>\n",
       "      <th>A</th>\n",
       "      <th>B</th>\n",
       "      <th>C</th>\n",
       "      <th>D</th>\n",
       "    </tr>\n",
       "  </thead>\n",
       "  <tbody>\n",
       "    <tr>\n",
       "      <th>2024-10-19</th>\n",
       "      <td>1.754172</td>\n",
       "      <td>-0.375431</td>\n",
       "      <td>-2.147462</td>\n",
       "      <td>1.230035</td>\n",
       "    </tr>\n",
       "    <tr>\n",
       "      <th>2024-10-20</th>\n",
       "      <td>-0.295957</td>\n",
       "      <td>-1.286849</td>\n",
       "      <td>-1.289448</td>\n",
       "      <td>-0.931113</td>\n",
       "    </tr>\n",
       "    <tr>\n",
       "      <th>2024-10-21</th>\n",
       "      <td>-0.476906</td>\n",
       "      <td>-1.512358</td>\n",
       "      <td>1.300378</td>\n",
       "      <td>-0.052495</td>\n",
       "    </tr>\n",
       "  </tbody>\n",
       "</table>\n",
       "</div>"
      ],
      "text/plain": [
       "                   A         B         C         D\n",
       "2024-10-19  1.754172 -0.375431 -2.147462  1.230035\n",
       "2024-10-20 -0.295957 -1.286849 -1.289448 -0.931113\n",
       "2024-10-21 -0.476906 -1.512358  1.300378 -0.052495"
      ]
     },
     "execution_count": 24,
     "metadata": {},
     "output_type": "execute_result"
    }
   ],
   "source": [
    "df.tail(3)"
   ]
  },
  {
   "cell_type": "code",
   "execution_count": 25,
   "id": "6b10a43f-e2a0-4dfb-89d7-bc24938d9d22",
   "metadata": {},
   "outputs": [
    {
     "data": {
      "text/html": [
       "<div>\n",
       "<style scoped>\n",
       "    .dataframe tbody tr th:only-of-type {\n",
       "        vertical-align: middle;\n",
       "    }\n",
       "\n",
       "    .dataframe tbody tr th {\n",
       "        vertical-align: top;\n",
       "    }\n",
       "\n",
       "    .dataframe thead th {\n",
       "        text-align: right;\n",
       "    }\n",
       "</style>\n",
       "<table border=\"1\" class=\"dataframe\">\n",
       "  <thead>\n",
       "    <tr style=\"text-align: right;\">\n",
       "      <th></th>\n",
       "      <th>A</th>\n",
       "      <th>B</th>\n",
       "      <th>C</th>\n",
       "      <th>D</th>\n",
       "    </tr>\n",
       "  </thead>\n",
       "  <tbody>\n",
       "    <tr>\n",
       "      <th>count</th>\n",
       "      <td>7.000000</td>\n",
       "      <td>7.000000</td>\n",
       "      <td>7.000000</td>\n",
       "      <td>7.000000</td>\n",
       "    </tr>\n",
       "    <tr>\n",
       "      <th>mean</th>\n",
       "      <td>-0.318878</td>\n",
       "      <td>-0.390269</td>\n",
       "      <td>-0.140454</td>\n",
       "      <td>0.066494</td>\n",
       "    </tr>\n",
       "    <tr>\n",
       "      <th>std</th>\n",
       "      <td>1.223506</td>\n",
       "      <td>0.726698</td>\n",
       "      <td>1.471541</td>\n",
       "      <td>1.298698</td>\n",
       "    </tr>\n",
       "    <tr>\n",
       "      <th>min</th>\n",
       "      <td>-2.012784</td>\n",
       "      <td>-1.512358</td>\n",
       "      <td>-2.147462</td>\n",
       "      <td>-2.003038</td>\n",
       "    </tr>\n",
       "    <tr>\n",
       "      <th>25%</th>\n",
       "      <td>-0.895356</td>\n",
       "      <td>-0.831140</td>\n",
       "      <td>-1.278187</td>\n",
       "      <td>-0.658889</td>\n",
       "    </tr>\n",
       "    <tr>\n",
       "      <th>50%</th>\n",
       "      <td>-0.476906</td>\n",
       "      <td>-0.061607</td>\n",
       "      <td>0.125571</td>\n",
       "      <td>-0.052495</td>\n",
       "    </tr>\n",
       "    <tr>\n",
       "      <th>75%</th>\n",
       "      <td>0.147041</td>\n",
       "      <td>0.072862</td>\n",
       "      <td>0.886277</td>\n",
       "      <td>1.107700</td>\n",
       "    </tr>\n",
       "    <tr>\n",
       "      <th>max</th>\n",
       "      <td>1.754172</td>\n",
       "      <td>0.358641</td>\n",
       "      <td>1.822530</td>\n",
       "      <td>1.623367</td>\n",
       "    </tr>\n",
       "  </tbody>\n",
       "</table>\n",
       "</div>"
      ],
      "text/plain": [
       "              A         B         C         D\n",
       "count  7.000000  7.000000  7.000000  7.000000\n",
       "mean  -0.318878 -0.390269 -0.140454  0.066494\n",
       "std    1.223506  0.726698  1.471541  1.298698\n",
       "min   -2.012784 -1.512358 -2.147462 -2.003038\n",
       "25%   -0.895356 -0.831140 -1.278187 -0.658889\n",
       "50%   -0.476906 -0.061607  0.125571 -0.052495\n",
       "75%    0.147041  0.072862  0.886277  1.107700\n",
       "max    1.754172  0.358641  1.822530  1.623367"
      ]
     },
     "execution_count": 25,
     "metadata": {},
     "output_type": "execute_result"
    }
   ],
   "source": [
    "df.describe()"
   ]
  },
  {
   "cell_type": "code",
   "execution_count": 26,
   "id": "3f20ae8c-f001-4717-a256-843943eb7eb4",
   "metadata": {},
   "outputs": [
    {
     "data": {
      "text/plain": [
       "A   -0.318878\n",
       "B   -0.390269\n",
       "C   -0.140454\n",
       "D    0.066494\n",
       "dtype: float64"
      ]
     },
     "execution_count": 26,
     "metadata": {},
     "output_type": "execute_result"
    }
   ],
   "source": [
    "df.mean()"
   ]
  },
  {
   "cell_type": "code",
   "execution_count": 27,
   "id": "c81fe31a-8b8b-4615-8f2c-4ae141f57ac8",
   "metadata": {},
   "outputs": [
    {
     "data": {
      "text/plain": [
       "-0.31887809130496997"
      ]
     },
     "execution_count": 27,
     "metadata": {},
     "output_type": "execute_result"
    }
   ],
   "source": [
    "df['A'].mean()"
   ]
  },
  {
   "cell_type": "code",
   "execution_count": 28,
   "id": "c81bf19b-709c-480e-a223-7958babe9fc1",
   "metadata": {},
   "outputs": [
    {
     "data": {
      "text/plain": [
       "1.6233673653031149"
      ]
     },
     "execution_count": 28,
     "metadata": {},
     "output_type": "execute_result"
    }
   ],
   "source": [
    "df['D'].max()"
   ]
  },
  {
   "cell_type": "code",
   "execution_count": 29,
   "id": "f6f09846-8fd4-4e57-9b32-6cd9268b683b",
   "metadata": {},
   "outputs": [
    {
     "data": {
      "text/html": [
       "<div>\n",
       "<style scoped>\n",
       "    .dataframe tbody tr th:only-of-type {\n",
       "        vertical-align: middle;\n",
       "    }\n",
       "\n",
       "    .dataframe tbody tr th {\n",
       "        vertical-align: top;\n",
       "    }\n",
       "\n",
       "    .dataframe thead th {\n",
       "        text-align: right;\n",
       "    }\n",
       "</style>\n",
       "<table border=\"1\" class=\"dataframe\">\n",
       "  <thead>\n",
       "    <tr style=\"text-align: right;\">\n",
       "      <th></th>\n",
       "      <th>A</th>\n",
       "      <th>B</th>\n",
       "      <th>C</th>\n",
       "      <th>D</th>\n",
       "    </tr>\n",
       "  </thead>\n",
       "  <tbody>\n",
       "    <tr>\n",
       "      <th>2024-10-16</th>\n",
       "      <td>-0.508918</td>\n",
       "      <td>0.134144</td>\n",
       "      <td>0.472175</td>\n",
       "      <td>1.623367</td>\n",
       "    </tr>\n",
       "    <tr>\n",
       "      <th>2024-10-17</th>\n",
       "      <td>0.590040</td>\n",
       "      <td>-0.061607</td>\n",
       "      <td>0.125571</td>\n",
       "      <td>-2.003038</td>\n",
       "    </tr>\n",
       "  </tbody>\n",
       "</table>\n",
       "</div>"
      ],
      "text/plain": [
       "                   A         B         C         D\n",
       "2024-10-16 -0.508918  0.134144  0.472175  1.623367\n",
       "2024-10-17  0.590040 -0.061607  0.125571 -2.003038"
      ]
     },
     "execution_count": 29,
     "metadata": {},
     "output_type": "execute_result"
    }
   ],
   "source": [
    "df[1 : 3]"
   ]
  },
  {
   "cell_type": "code",
   "execution_count": 30,
   "id": "44d1a19a-818f-4ce6-9db1-51b57918717a",
   "metadata": {},
   "outputs": [
    {
     "data": {
      "text/plain": [
       "2024-10-16    0.134144\n",
       "2024-10-17   -0.061607\n",
       "Freq: D, Name: B, dtype: float64"
      ]
     },
     "execution_count": 30,
     "metadata": {},
     "output_type": "execute_result"
    }
   ],
   "source": [
    "df[1 : 3]['B']"
   ]
  },
  {
   "cell_type": "code",
   "execution_count": 31,
   "id": "0f776bdc-ae0e-441f-a3f9-f4682042274d",
   "metadata": {},
   "outputs": [],
   "source": [
    "df_t = df.T"
   ]
  },
  {
   "cell_type": "code",
   "execution_count": 32,
   "id": "87cc8d23-a848-46b9-b8c2-96d4593880c2",
   "metadata": {},
   "outputs": [
    {
     "data": {
      "text/html": [
       "<div>\n",
       "<style scoped>\n",
       "    .dataframe tbody tr th:only-of-type {\n",
       "        vertical-align: middle;\n",
       "    }\n",
       "\n",
       "    .dataframe tbody tr th {\n",
       "        vertical-align: top;\n",
       "    }\n",
       "\n",
       "    .dataframe thead th {\n",
       "        text-align: right;\n",
       "    }\n",
       "</style>\n",
       "<table border=\"1\" class=\"dataframe\">\n",
       "  <thead>\n",
       "    <tr style=\"text-align: right;\">\n",
       "      <th></th>\n",
       "      <th>2024-10-15</th>\n",
       "      <th>2024-10-16</th>\n",
       "      <th>2024-10-17</th>\n",
       "      <th>2024-10-18</th>\n",
       "      <th>2024-10-19</th>\n",
       "      <th>2024-10-20</th>\n",
       "      <th>2024-10-21</th>\n",
       "    </tr>\n",
       "  </thead>\n",
       "  <tbody>\n",
       "    <tr>\n",
       "      <th>A</th>\n",
       "      <td>-1.281793</td>\n",
       "      <td>-0.508918</td>\n",
       "      <td>0.590040</td>\n",
       "      <td>-2.012784</td>\n",
       "      <td>1.754172</td>\n",
       "      <td>-0.295957</td>\n",
       "      <td>-0.476906</td>\n",
       "    </tr>\n",
       "    <tr>\n",
       "      <th>B</th>\n",
       "      <td>0.358641</td>\n",
       "      <td>0.134144</td>\n",
       "      <td>-0.061607</td>\n",
       "      <td>0.011580</td>\n",
       "      <td>-0.375431</td>\n",
       "      <td>-1.286849</td>\n",
       "      <td>-1.512358</td>\n",
       "    </tr>\n",
       "    <tr>\n",
       "      <th>C</th>\n",
       "      <td>-1.266926</td>\n",
       "      <td>0.472175</td>\n",
       "      <td>0.125571</td>\n",
       "      <td>1.822530</td>\n",
       "      <td>-2.147462</td>\n",
       "      <td>-1.289448</td>\n",
       "      <td>1.300378</td>\n",
       "    </tr>\n",
       "    <tr>\n",
       "      <th>D</th>\n",
       "      <td>0.985365</td>\n",
       "      <td>1.623367</td>\n",
       "      <td>-2.003038</td>\n",
       "      <td>-0.386665</td>\n",
       "      <td>1.230035</td>\n",
       "      <td>-0.931113</td>\n",
       "      <td>-0.052495</td>\n",
       "    </tr>\n",
       "  </tbody>\n",
       "</table>\n",
       "</div>"
      ],
      "text/plain": [
       "   2024-10-15  2024-10-16  2024-10-17  2024-10-18  2024-10-19  2024-10-20  \\\n",
       "A   -1.281793   -0.508918    0.590040   -2.012784    1.754172   -0.295957   \n",
       "B    0.358641    0.134144   -0.061607    0.011580   -0.375431   -1.286849   \n",
       "C   -1.266926    0.472175    0.125571    1.822530   -2.147462   -1.289448   \n",
       "D    0.985365    1.623367   -2.003038   -0.386665    1.230035   -0.931113   \n",
       "\n",
       "   2024-10-21  \n",
       "A   -0.476906  \n",
       "B   -1.512358  \n",
       "C    1.300378  \n",
       "D   -0.052495  "
      ]
     },
     "execution_count": 32,
     "metadata": {},
     "output_type": "execute_result"
    }
   ],
   "source": [
    "df_t"
   ]
  },
  {
   "cell_type": "code",
   "execution_count": 33,
   "id": "ac8232ea-81de-43e1-b2a0-9a3b503f852b",
   "metadata": {},
   "outputs": [
    {
     "data": {
      "text/html": [
       "<div>\n",
       "<style scoped>\n",
       "    .dataframe tbody tr th:only-of-type {\n",
       "        vertical-align: middle;\n",
       "    }\n",
       "\n",
       "    .dataframe tbody tr th {\n",
       "        vertical-align: top;\n",
       "    }\n",
       "\n",
       "    .dataframe thead th {\n",
       "        text-align: right;\n",
       "    }\n",
       "</style>\n",
       "<table border=\"1\" class=\"dataframe\">\n",
       "  <thead>\n",
       "    <tr style=\"text-align: right;\">\n",
       "      <th></th>\n",
       "      <th>A</th>\n",
       "      <th>B</th>\n",
       "      <th>C</th>\n",
       "      <th>D</th>\n",
       "    </tr>\n",
       "  </thead>\n",
       "  <tbody>\n",
       "    <tr>\n",
       "      <th>2024-10-21</th>\n",
       "      <td>-0.476906</td>\n",
       "      <td>-1.512358</td>\n",
       "      <td>1.300378</td>\n",
       "      <td>-0.052495</td>\n",
       "    </tr>\n",
       "    <tr>\n",
       "      <th>2024-10-20</th>\n",
       "      <td>-0.295957</td>\n",
       "      <td>-1.286849</td>\n",
       "      <td>-1.289448</td>\n",
       "      <td>-0.931113</td>\n",
       "    </tr>\n",
       "    <tr>\n",
       "      <th>2024-10-19</th>\n",
       "      <td>1.754172</td>\n",
       "      <td>-0.375431</td>\n",
       "      <td>-2.147462</td>\n",
       "      <td>1.230035</td>\n",
       "    </tr>\n",
       "    <tr>\n",
       "      <th>2024-10-17</th>\n",
       "      <td>0.590040</td>\n",
       "      <td>-0.061607</td>\n",
       "      <td>0.125571</td>\n",
       "      <td>-2.003038</td>\n",
       "    </tr>\n",
       "    <tr>\n",
       "      <th>2024-10-18</th>\n",
       "      <td>-2.012784</td>\n",
       "      <td>0.011580</td>\n",
       "      <td>1.822530</td>\n",
       "      <td>-0.386665</td>\n",
       "    </tr>\n",
       "    <tr>\n",
       "      <th>2024-10-16</th>\n",
       "      <td>-0.508918</td>\n",
       "      <td>0.134144</td>\n",
       "      <td>0.472175</td>\n",
       "      <td>1.623367</td>\n",
       "    </tr>\n",
       "    <tr>\n",
       "      <th>2024-10-15</th>\n",
       "      <td>-1.281793</td>\n",
       "      <td>0.358641</td>\n",
       "      <td>-1.266926</td>\n",
       "      <td>0.985365</td>\n",
       "    </tr>\n",
       "  </tbody>\n",
       "</table>\n",
       "</div>"
      ],
      "text/plain": [
       "                   A         B         C         D\n",
       "2024-10-21 -0.476906 -1.512358  1.300378 -0.052495\n",
       "2024-10-20 -0.295957 -1.286849 -1.289448 -0.931113\n",
       "2024-10-19  1.754172 -0.375431 -2.147462  1.230035\n",
       "2024-10-17  0.590040 -0.061607  0.125571 -2.003038\n",
       "2024-10-18 -2.012784  0.011580  1.822530 -0.386665\n",
       "2024-10-16 -0.508918  0.134144  0.472175  1.623367\n",
       "2024-10-15 -1.281793  0.358641 -1.266926  0.985365"
      ]
     },
     "execution_count": 33,
     "metadata": {},
     "output_type": "execute_result"
    }
   ],
   "source": [
    "df.sort_values(by = \"B\")"
   ]
  },
  {
   "cell_type": "code",
   "execution_count": 34,
   "id": "3b0298af-4dd4-415b-a9e6-ed19ce2bb460",
   "metadata": {},
   "outputs": [
    {
     "data": {
      "text/html": [
       "<div>\n",
       "<style scoped>\n",
       "    .dataframe tbody tr th:only-of-type {\n",
       "        vertical-align: middle;\n",
       "    }\n",
       "\n",
       "    .dataframe tbody tr th {\n",
       "        vertical-align: top;\n",
       "    }\n",
       "\n",
       "    .dataframe thead th {\n",
       "        text-align: right;\n",
       "    }\n",
       "</style>\n",
       "<table border=\"1\" class=\"dataframe\">\n",
       "  <thead>\n",
       "    <tr style=\"text-align: right;\">\n",
       "      <th></th>\n",
       "      <th>A</th>\n",
       "      <th>B</th>\n",
       "      <th>C</th>\n",
       "      <th>D</th>\n",
       "    </tr>\n",
       "  </thead>\n",
       "  <tbody>\n",
       "    <tr>\n",
       "      <th>2024-10-17</th>\n",
       "      <td>0.590040</td>\n",
       "      <td>-0.061607</td>\n",
       "      <td>0.125571</td>\n",
       "      <td>-2.003038</td>\n",
       "    </tr>\n",
       "    <tr>\n",
       "      <th>2024-10-19</th>\n",
       "      <td>1.754172</td>\n",
       "      <td>-0.375431</td>\n",
       "      <td>-2.147462</td>\n",
       "      <td>1.230035</td>\n",
       "    </tr>\n",
       "  </tbody>\n",
       "</table>\n",
       "</div>"
      ],
      "text/plain": [
       "                   A         B         C         D\n",
       "2024-10-17  0.590040 -0.061607  0.125571 -2.003038\n",
       "2024-10-19  1.754172 -0.375431 -2.147462  1.230035"
      ]
     },
     "execution_count": 34,
     "metadata": {},
     "output_type": "execute_result"
    }
   ],
   "source": [
    "df[df['A'] > 0]"
   ]
  },
  {
   "cell_type": "code",
   "execution_count": 35,
   "id": "28a07ffc-ad7a-45f5-aba9-d7d863f3e7a7",
   "metadata": {},
   "outputs": [
    {
     "data": {
      "text/html": [
       "<div>\n",
       "<style scoped>\n",
       "    .dataframe tbody tr th:only-of-type {\n",
       "        vertical-align: middle;\n",
       "    }\n",
       "\n",
       "    .dataframe tbody tr th {\n",
       "        vertical-align: top;\n",
       "    }\n",
       "\n",
       "    .dataframe thead th {\n",
       "        text-align: right;\n",
       "    }\n",
       "</style>\n",
       "<table border=\"1\" class=\"dataframe\">\n",
       "  <thead>\n",
       "    <tr style=\"text-align: right;\">\n",
       "      <th></th>\n",
       "      <th>A</th>\n",
       "      <th>B</th>\n",
       "      <th>C</th>\n",
       "      <th>D</th>\n",
       "      <th>E</th>\n",
       "      <th>F</th>\n",
       "    </tr>\n",
       "  </thead>\n",
       "  <tbody>\n",
       "    <tr>\n",
       "      <th>0</th>\n",
       "      <td>1.0</td>\n",
       "      <td>2024-10-16</td>\n",
       "      <td>1.0</td>\n",
       "      <td>3</td>\n",
       "      <td>test</td>\n",
       "      <td>foo</td>\n",
       "    </tr>\n",
       "    <tr>\n",
       "      <th>1</th>\n",
       "      <td>1.0</td>\n",
       "      <td>2024-10-16</td>\n",
       "      <td>1.0</td>\n",
       "      <td>3</td>\n",
       "      <td>train</td>\n",
       "      <td>foo</td>\n",
       "    </tr>\n",
       "    <tr>\n",
       "      <th>2</th>\n",
       "      <td>1.0</td>\n",
       "      <td>2024-10-16</td>\n",
       "      <td>1.0</td>\n",
       "      <td>3</td>\n",
       "      <td>test</td>\n",
       "      <td>foo</td>\n",
       "    </tr>\n",
       "    <tr>\n",
       "      <th>3</th>\n",
       "      <td>1.0</td>\n",
       "      <td>2024-10-16</td>\n",
       "      <td>1.0</td>\n",
       "      <td>3</td>\n",
       "      <td>train</td>\n",
       "      <td>foo</td>\n",
       "    </tr>\n",
       "  </tbody>\n",
       "</table>\n",
       "</div>"
      ],
      "text/plain": [
       "     A          B    C  D      E    F\n",
       "0  1.0 2024-10-16  1.0  3   test  foo\n",
       "1  1.0 2024-10-16  1.0  3  train  foo\n",
       "2  1.0 2024-10-16  1.0  3   test  foo\n",
       "3  1.0 2024-10-16  1.0  3  train  foo"
      ]
     },
     "execution_count": 35,
     "metadata": {},
     "output_type": "execute_result"
    }
   ],
   "source": [
    "df2 = pd.DataFrame(\n",
    "    {\n",
    "        \"A\" : 1.0,\n",
    "        \"B\" : pd.Timestamp(\"20241016\"),\n",
    "        \"C\" : pd.Series(1, index = list(range(4)), dtype = \"float32\"),\n",
    "        \"D\" : np.array([3] * 4, dtype = \"int32\"),\n",
    "        \"E\" : pd.Categorical([\"test\", \"train\", \"test\", \"train\"]),\n",
    "        \"F\" : \"foo\",\n",
    "    }\n",
    ")\n",
    "\n",
    "df2"
   ]
  },
  {
   "cell_type": "code",
   "execution_count": 36,
   "id": "41a0f51c-61ce-46df-9eaa-5eb0b35fdf32",
   "metadata": {},
   "outputs": [
    {
     "data": {
      "text/plain": [
       "array([3, 3, 3, 3, 3, 3, 3, 3, 3, 3])"
      ]
     },
     "execution_count": 36,
     "metadata": {},
     "output_type": "execute_result"
    }
   ],
   "source": [
    "arr = np.array([3] * 10, dtype = \"int32\")\n",
    "arr"
   ]
  },
  {
   "cell_type": "code",
   "execution_count": 37,
   "id": "37a4a0a7-d3c0-49b9-a30b-ac73b9ab5356",
   "metadata": {},
   "outputs": [
    {
     "data": {
      "text/plain": [
       "Index([0, 1, 2, 3], dtype='int64')"
      ]
     },
     "execution_count": 37,
     "metadata": {},
     "output_type": "execute_result"
    }
   ],
   "source": [
    "df2.C.index"
   ]
  },
  {
   "cell_type": "code",
   "execution_count": 38,
   "id": "2086516f-bf85-4398-9b2e-02e6b49a57dd",
   "metadata": {},
   "outputs": [
    {
     "data": {
      "text/plain": [
       "A          float64\n",
       "B    datetime64[s]\n",
       "C          float32\n",
       "D            int32\n",
       "E         category\n",
       "F           object\n",
       "dtype: object"
      ]
     },
     "execution_count": 38,
     "metadata": {},
     "output_type": "execute_result"
    }
   ],
   "source": [
    "df2.dtypes"
   ]
  },
  {
   "cell_type": "code",
   "execution_count": 39,
   "id": "3e2a8de6-456c-4442-a85d-43d4f0bafeca",
   "metadata": {},
   "outputs": [
    {
     "data": {
      "text/plain": [
       "Index([0, 1, 2, 3], dtype='int64')"
      ]
     },
     "execution_count": 39,
     "metadata": {},
     "output_type": "execute_result"
    }
   ],
   "source": [
    "df2.index"
   ]
  },
  {
   "cell_type": "code",
   "execution_count": 40,
   "id": "7447f141-e8f8-4066-a784-2451e3bff3e1",
   "metadata": {},
   "outputs": [
    {
     "data": {
      "text/plain": [
       "array([[1.0, Timestamp('2024-10-16 00:00:00'), 1.0, 3, 'test', 'foo'],\n",
       "       [1.0, Timestamp('2024-10-16 00:00:00'), 1.0, 3, 'train', 'foo'],\n",
       "       [1.0, Timestamp('2024-10-16 00:00:00'), 1.0, 3, 'test', 'foo'],\n",
       "       [1.0, Timestamp('2024-10-16 00:00:00'), 1.0, 3, 'train', 'foo']],\n",
       "      dtype=object)"
      ]
     },
     "execution_count": 40,
     "metadata": {},
     "output_type": "execute_result"
    }
   ],
   "source": [
    "df2.to_numpy()"
   ]
  },
  {
   "cell_type": "code",
   "execution_count": 41,
   "id": "5a719936-9534-40a4-8eb8-54d64367373c",
   "metadata": {},
   "outputs": [
    {
     "data": {
      "text/html": [
       "<div>\n",
       "<style scoped>\n",
       "    .dataframe tbody tr th:only-of-type {\n",
       "        vertical-align: middle;\n",
       "    }\n",
       "\n",
       "    .dataframe tbody tr th {\n",
       "        vertical-align: top;\n",
       "    }\n",
       "\n",
       "    .dataframe thead th {\n",
       "        text-align: right;\n",
       "    }\n",
       "</style>\n",
       "<table border=\"1\" class=\"dataframe\">\n",
       "  <thead>\n",
       "    <tr style=\"text-align: right;\">\n",
       "      <th></th>\n",
       "      <th>A</th>\n",
       "      <th>B</th>\n",
       "      <th>C</th>\n",
       "      <th>D</th>\n",
       "      <th>E</th>\n",
       "      <th>F</th>\n",
       "    </tr>\n",
       "  </thead>\n",
       "  <tbody>\n",
       "    <tr>\n",
       "      <th>0</th>\n",
       "      <td>1.0</td>\n",
       "      <td>2024-10-16</td>\n",
       "      <td>1.0</td>\n",
       "      <td>3</td>\n",
       "      <td>test</td>\n",
       "      <td>foo</td>\n",
       "    </tr>\n",
       "    <tr>\n",
       "      <th>1</th>\n",
       "      <td>1.0</td>\n",
       "      <td>2024-10-16</td>\n",
       "      <td>1.0</td>\n",
       "      <td>3</td>\n",
       "      <td>train</td>\n",
       "      <td>foo</td>\n",
       "    </tr>\n",
       "    <tr>\n",
       "      <th>2</th>\n",
       "      <td>1.0</td>\n",
       "      <td>2024-10-16</td>\n",
       "      <td>1.0</td>\n",
       "      <td>3</td>\n",
       "      <td>test</td>\n",
       "      <td>foo</td>\n",
       "    </tr>\n",
       "    <tr>\n",
       "      <th>3</th>\n",
       "      <td>1.0</td>\n",
       "      <td>2024-10-16</td>\n",
       "      <td>1.0</td>\n",
       "      <td>3</td>\n",
       "      <td>train</td>\n",
       "      <td>foo</td>\n",
       "    </tr>\n",
       "  </tbody>\n",
       "</table>\n",
       "</div>"
      ],
      "text/plain": [
       "     A          B    C  D      E    F\n",
       "0  1.0 2024-10-16  1.0  3   test  foo\n",
       "1  1.0 2024-10-16  1.0  3  train  foo\n",
       "2  1.0 2024-10-16  1.0  3   test  foo\n",
       "3  1.0 2024-10-16  1.0  3  train  foo"
      ]
     },
     "execution_count": 41,
     "metadata": {},
     "output_type": "execute_result"
    }
   ],
   "source": [
    "df2"
   ]
  },
  {
   "cell_type": "code",
   "execution_count": 42,
   "id": "5c4f0189-0178-4ac0-ae55-42ee9d7a9e86",
   "metadata": {},
   "outputs": [
    {
     "data": {
      "text/plain": [
       "0    1.0\n",
       "1    1.0\n",
       "2    1.0\n",
       "3    1.0\n",
       "Name: A, dtype: float64"
      ]
     },
     "execution_count": 42,
     "metadata": {},
     "output_type": "execute_result"
    }
   ],
   "source": [
    "df2['A']"
   ]
  },
  {
   "cell_type": "code",
   "execution_count": 43,
   "id": "b5ca762b-ad71-41de-b517-09e941ddbbac",
   "metadata": {},
   "outputs": [
    {
     "data": {
      "text/plain": [
       "0    1.0\n",
       "1    1.0\n",
       "2    1.0\n",
       "3    1.0\n",
       "Name: A, dtype: float64"
      ]
     },
     "execution_count": 43,
     "metadata": {},
     "output_type": "execute_result"
    }
   ],
   "source": [
    "df2.A"
   ]
  },
  {
   "cell_type": "code",
   "execution_count": 44,
   "id": "e07abc7f-72da-4d31-94eb-f102bd5fa58d",
   "metadata": {},
   "outputs": [
    {
     "data": {
      "text/html": [
       "<div>\n",
       "<style scoped>\n",
       "    .dataframe tbody tr th:only-of-type {\n",
       "        vertical-align: middle;\n",
       "    }\n",
       "\n",
       "    .dataframe tbody tr th {\n",
       "        vertical-align: top;\n",
       "    }\n",
       "\n",
       "    .dataframe thead th {\n",
       "        text-align: right;\n",
       "    }\n",
       "</style>\n",
       "<table border=\"1\" class=\"dataframe\">\n",
       "  <thead>\n",
       "    <tr style=\"text-align: right;\">\n",
       "      <th></th>\n",
       "      <th>A</th>\n",
       "      <th>B</th>\n",
       "      <th>C</th>\n",
       "      <th>D</th>\n",
       "      <th>E</th>\n",
       "      <th>F</th>\n",
       "    </tr>\n",
       "  </thead>\n",
       "  <tbody>\n",
       "    <tr>\n",
       "      <th>1</th>\n",
       "      <td>1.0</td>\n",
       "      <td>2024-10-16</td>\n",
       "      <td>1.0</td>\n",
       "      <td>3</td>\n",
       "      <td>train</td>\n",
       "      <td>foo</td>\n",
       "    </tr>\n",
       "    <tr>\n",
       "      <th>2</th>\n",
       "      <td>1.0</td>\n",
       "      <td>2024-10-16</td>\n",
       "      <td>1.0</td>\n",
       "      <td>3</td>\n",
       "      <td>test</td>\n",
       "      <td>foo</td>\n",
       "    </tr>\n",
       "  </tbody>\n",
       "</table>\n",
       "</div>"
      ],
      "text/plain": [
       "     A          B    C  D      E    F\n",
       "1  1.0 2024-10-16  1.0  3  train  foo\n",
       "2  1.0 2024-10-16  1.0  3   test  foo"
      ]
     },
     "execution_count": 44,
     "metadata": {},
     "output_type": "execute_result"
    }
   ],
   "source": [
    "df2[1 : 3]"
   ]
  },
  {
   "cell_type": "code",
   "execution_count": 45,
   "id": "f0b96265-c487-41c5-b13d-c8758e9c02cd",
   "metadata": {},
   "outputs": [
    {
     "data": {
      "text/html": [
       "<div>\n",
       "<style scoped>\n",
       "    .dataframe tbody tr th:only-of-type {\n",
       "        vertical-align: middle;\n",
       "    }\n",
       "\n",
       "    .dataframe tbody tr th {\n",
       "        vertical-align: top;\n",
       "    }\n",
       "\n",
       "    .dataframe thead th {\n",
       "        text-align: right;\n",
       "    }\n",
       "</style>\n",
       "<table border=\"1\" class=\"dataframe\">\n",
       "  <thead>\n",
       "    <tr style=\"text-align: right;\">\n",
       "      <th></th>\n",
       "      <th>A</th>\n",
       "      <th>B</th>\n",
       "      <th>C</th>\n",
       "      <th>D</th>\n",
       "    </tr>\n",
       "  </thead>\n",
       "  <tbody>\n",
       "    <tr>\n",
       "      <th>2024-10-15</th>\n",
       "      <td>-1.281793</td>\n",
       "      <td>0.358641</td>\n",
       "      <td>-1.266926</td>\n",
       "      <td>0.985365</td>\n",
       "    </tr>\n",
       "    <tr>\n",
       "      <th>2024-10-16</th>\n",
       "      <td>-0.508918</td>\n",
       "      <td>0.134144</td>\n",
       "      <td>0.472175</td>\n",
       "      <td>1.623367</td>\n",
       "    </tr>\n",
       "    <tr>\n",
       "      <th>2024-10-17</th>\n",
       "      <td>0.590040</td>\n",
       "      <td>-0.061607</td>\n",
       "      <td>0.125571</td>\n",
       "      <td>-2.003038</td>\n",
       "    </tr>\n",
       "    <tr>\n",
       "      <th>2024-10-18</th>\n",
       "      <td>-2.012784</td>\n",
       "      <td>0.011580</td>\n",
       "      <td>1.822530</td>\n",
       "      <td>-0.386665</td>\n",
       "    </tr>\n",
       "    <tr>\n",
       "      <th>2024-10-19</th>\n",
       "      <td>1.754172</td>\n",
       "      <td>-0.375431</td>\n",
       "      <td>-2.147462</td>\n",
       "      <td>1.230035</td>\n",
       "    </tr>\n",
       "    <tr>\n",
       "      <th>2024-10-20</th>\n",
       "      <td>-0.295957</td>\n",
       "      <td>-1.286849</td>\n",
       "      <td>-1.289448</td>\n",
       "      <td>-0.931113</td>\n",
       "    </tr>\n",
       "    <tr>\n",
       "      <th>2024-10-21</th>\n",
       "      <td>-0.476906</td>\n",
       "      <td>-1.512358</td>\n",
       "      <td>1.300378</td>\n",
       "      <td>-0.052495</td>\n",
       "    </tr>\n",
       "  </tbody>\n",
       "</table>\n",
       "</div>"
      ],
      "text/plain": [
       "                   A         B         C         D\n",
       "2024-10-15 -1.281793  0.358641 -1.266926  0.985365\n",
       "2024-10-16 -0.508918  0.134144  0.472175  1.623367\n",
       "2024-10-17  0.590040 -0.061607  0.125571 -2.003038\n",
       "2024-10-18 -2.012784  0.011580  1.822530 -0.386665\n",
       "2024-10-19  1.754172 -0.375431 -2.147462  1.230035\n",
       "2024-10-20 -0.295957 -1.286849 -1.289448 -0.931113\n",
       "2024-10-21 -0.476906 -1.512358  1.300378 -0.052495"
      ]
     },
     "execution_count": 45,
     "metadata": {},
     "output_type": "execute_result"
    }
   ],
   "source": [
    "df"
   ]
  },
  {
   "cell_type": "code",
   "execution_count": 46,
   "id": "94dad612-3eb3-4b95-9fe8-5376ac8fbcaf",
   "metadata": {},
   "outputs": [
    {
     "data": {
      "text/html": [
       "<div>\n",
       "<style scoped>\n",
       "    .dataframe tbody tr th:only-of-type {\n",
       "        vertical-align: middle;\n",
       "    }\n",
       "\n",
       "    .dataframe tbody tr th {\n",
       "        vertical-align: top;\n",
       "    }\n",
       "\n",
       "    .dataframe thead th {\n",
       "        text-align: right;\n",
       "    }\n",
       "</style>\n",
       "<table border=\"1\" class=\"dataframe\">\n",
       "  <thead>\n",
       "    <tr style=\"text-align: right;\">\n",
       "      <th></th>\n",
       "      <th>A</th>\n",
       "      <th>B</th>\n",
       "      <th>C</th>\n",
       "      <th>D</th>\n",
       "    </tr>\n",
       "  </thead>\n",
       "  <tbody>\n",
       "    <tr>\n",
       "      <th>2024-10-18</th>\n",
       "      <td>-2.012784</td>\n",
       "      <td>0.011580</td>\n",
       "      <td>1.822530</td>\n",
       "      <td>-0.386665</td>\n",
       "    </tr>\n",
       "    <tr>\n",
       "      <th>2024-10-19</th>\n",
       "      <td>1.754172</td>\n",
       "      <td>-0.375431</td>\n",
       "      <td>-2.147462</td>\n",
       "      <td>1.230035</td>\n",
       "    </tr>\n",
       "    <tr>\n",
       "      <th>2024-10-20</th>\n",
       "      <td>-0.295957</td>\n",
       "      <td>-1.286849</td>\n",
       "      <td>-1.289448</td>\n",
       "      <td>-0.931113</td>\n",
       "    </tr>\n",
       "  </tbody>\n",
       "</table>\n",
       "</div>"
      ],
      "text/plain": [
       "                   A         B         C         D\n",
       "2024-10-18 -2.012784  0.011580  1.822530 -0.386665\n",
       "2024-10-19  1.754172 -0.375431 -2.147462  1.230035\n",
       "2024-10-20 -0.295957 -1.286849 -1.289448 -0.931113"
      ]
     },
     "execution_count": 46,
     "metadata": {},
     "output_type": "execute_result"
    }
   ],
   "source": [
    "df[\"20241018\" : \"20241020\"]"
   ]
  },
  {
   "cell_type": "code",
   "execution_count": 47,
   "id": "0eb10765-e707-4ea2-bd91-e0095b94134c",
   "metadata": {},
   "outputs": [
    {
     "data": {
      "text/plain": [
       "A   -1.281793\n",
       "B    0.358641\n",
       "C   -1.266926\n",
       "D    0.985365\n",
       "Name: 2024-10-15 00:00:00, dtype: float64"
      ]
     },
     "execution_count": 47,
     "metadata": {},
     "output_type": "execute_result"
    }
   ],
   "source": [
    "df.loc[dates[0]]"
   ]
  },
  {
   "cell_type": "code",
   "execution_count": 48,
   "id": "5d7c5157-f759-4759-b881-c9a01f8253d2",
   "metadata": {},
   "outputs": [
    {
     "data": {
      "text/plain": [
       "A   -2.012784\n",
       "B    0.011580\n",
       "C    1.822530\n",
       "D   -0.386665\n",
       "Name: 2024-10-18 00:00:00, dtype: float64"
      ]
     },
     "execution_count": 48,
     "metadata": {},
     "output_type": "execute_result"
    }
   ],
   "source": [
    "df.loc['2024-10-18']"
   ]
  },
  {
   "cell_type": "code",
   "execution_count": 49,
   "id": "c606a69b-f1df-4dca-9852-9caca40f6e55",
   "metadata": {},
   "outputs": [
    {
     "data": {
      "text/html": [
       "<div>\n",
       "<style scoped>\n",
       "    .dataframe tbody tr th:only-of-type {\n",
       "        vertical-align: middle;\n",
       "    }\n",
       "\n",
       "    .dataframe tbody tr th {\n",
       "        vertical-align: top;\n",
       "    }\n",
       "\n",
       "    .dataframe thead th {\n",
       "        text-align: right;\n",
       "    }\n",
       "</style>\n",
       "<table border=\"1\" class=\"dataframe\">\n",
       "  <thead>\n",
       "    <tr style=\"text-align: right;\">\n",
       "      <th></th>\n",
       "      <th>B</th>\n",
       "      <th>D</th>\n",
       "    </tr>\n",
       "  </thead>\n",
       "  <tbody>\n",
       "    <tr>\n",
       "      <th>2024-10-15</th>\n",
       "      <td>0.358641</td>\n",
       "      <td>0.985365</td>\n",
       "    </tr>\n",
       "    <tr>\n",
       "      <th>2024-10-16</th>\n",
       "      <td>0.134144</td>\n",
       "      <td>1.623367</td>\n",
       "    </tr>\n",
       "    <tr>\n",
       "      <th>2024-10-17</th>\n",
       "      <td>-0.061607</td>\n",
       "      <td>-2.003038</td>\n",
       "    </tr>\n",
       "    <tr>\n",
       "      <th>2024-10-18</th>\n",
       "      <td>0.011580</td>\n",
       "      <td>-0.386665</td>\n",
       "    </tr>\n",
       "    <tr>\n",
       "      <th>2024-10-19</th>\n",
       "      <td>-0.375431</td>\n",
       "      <td>1.230035</td>\n",
       "    </tr>\n",
       "    <tr>\n",
       "      <th>2024-10-20</th>\n",
       "      <td>-1.286849</td>\n",
       "      <td>-0.931113</td>\n",
       "    </tr>\n",
       "    <tr>\n",
       "      <th>2024-10-21</th>\n",
       "      <td>-1.512358</td>\n",
       "      <td>-0.052495</td>\n",
       "    </tr>\n",
       "  </tbody>\n",
       "</table>\n",
       "</div>"
      ],
      "text/plain": [
       "                   B         D\n",
       "2024-10-15  0.358641  0.985365\n",
       "2024-10-16  0.134144  1.623367\n",
       "2024-10-17 -0.061607 -2.003038\n",
       "2024-10-18  0.011580 -0.386665\n",
       "2024-10-19 -0.375431  1.230035\n",
       "2024-10-20 -1.286849 -0.931113\n",
       "2024-10-21 -1.512358 -0.052495"
      ]
     },
     "execution_count": 49,
     "metadata": {},
     "output_type": "execute_result"
    }
   ],
   "source": [
    "df.loc[:, [\"B\", \"D\"]]"
   ]
  },
  {
   "cell_type": "code",
   "execution_count": 50,
   "id": "e2596e65-a55d-4074-b267-cc636cddb194",
   "metadata": {},
   "outputs": [
    {
     "data": {
      "text/html": [
       "<div>\n",
       "<style scoped>\n",
       "    .dataframe tbody tr th:only-of-type {\n",
       "        vertical-align: middle;\n",
       "    }\n",
       "\n",
       "    .dataframe tbody tr th {\n",
       "        vertical-align: top;\n",
       "    }\n",
       "\n",
       "    .dataframe thead th {\n",
       "        text-align: right;\n",
       "    }\n",
       "</style>\n",
       "<table border=\"1\" class=\"dataframe\">\n",
       "  <thead>\n",
       "    <tr style=\"text-align: right;\">\n",
       "      <th></th>\n",
       "      <th>A</th>\n",
       "      <th>B</th>\n",
       "    </tr>\n",
       "  </thead>\n",
       "  <tbody>\n",
       "    <tr>\n",
       "      <th>2024-10-20</th>\n",
       "      <td>-0.295957</td>\n",
       "      <td>-1.286849</td>\n",
       "    </tr>\n",
       "    <tr>\n",
       "      <th>2024-10-21</th>\n",
       "      <td>-0.476906</td>\n",
       "      <td>-1.512358</td>\n",
       "    </tr>\n",
       "  </tbody>\n",
       "</table>\n",
       "</div>"
      ],
      "text/plain": [
       "                   A         B\n",
       "2024-10-20 -0.295957 -1.286849\n",
       "2024-10-21 -0.476906 -1.512358"
      ]
     },
     "execution_count": 50,
     "metadata": {},
     "output_type": "execute_result"
    }
   ],
   "source": [
    "df.loc[\"2024-10-20\" : \"2024-10-24\", [\"A\", \"B\"]]"
   ]
  },
  {
   "cell_type": "code",
   "execution_count": 51,
   "id": "e0f22ddc-5ee9-4ba1-bc7a-fba96351b7d4",
   "metadata": {},
   "outputs": [
    {
     "data": {
      "text/plain": [
       "-1.2817934657649879"
      ]
     },
     "execution_count": 51,
     "metadata": {},
     "output_type": "execute_result"
    }
   ],
   "source": [
    "df.loc[dates[0], \"A\"]"
   ]
  },
  {
   "cell_type": "code",
   "execution_count": 52,
   "id": "47af48fc-3fb7-49e7-8396-3bbe760efe19",
   "metadata": {},
   "outputs": [
    {
     "data": {
      "text/plain": [
       "-1.2817934657649879"
      ]
     },
     "execution_count": 52,
     "metadata": {},
     "output_type": "execute_result"
    }
   ],
   "source": [
    "df.at[dates[0], \"A\"]"
   ]
  },
  {
   "cell_type": "code",
   "execution_count": 53,
   "id": "0000d75c-5824-4c77-8eed-a008baf41c8f",
   "metadata": {},
   "outputs": [
    {
     "data": {
      "text/html": [
       "<div>\n",
       "<style scoped>\n",
       "    .dataframe tbody tr th:only-of-type {\n",
       "        vertical-align: middle;\n",
       "    }\n",
       "\n",
       "    .dataframe tbody tr th {\n",
       "        vertical-align: top;\n",
       "    }\n",
       "\n",
       "    .dataframe thead th {\n",
       "        text-align: right;\n",
       "    }\n",
       "</style>\n",
       "<table border=\"1\" class=\"dataframe\">\n",
       "  <thead>\n",
       "    <tr style=\"text-align: right;\">\n",
       "      <th></th>\n",
       "      <th>A</th>\n",
       "      <th>B</th>\n",
       "      <th>C</th>\n",
       "      <th>D</th>\n",
       "    </tr>\n",
       "  </thead>\n",
       "  <tbody>\n",
       "    <tr>\n",
       "      <th>2024-10-15</th>\n",
       "      <td>-1.281793</td>\n",
       "      <td>0.358641</td>\n",
       "      <td>-1.266926</td>\n",
       "      <td>0.985365</td>\n",
       "    </tr>\n",
       "    <tr>\n",
       "      <th>2024-10-16</th>\n",
       "      <td>-0.508918</td>\n",
       "      <td>0.134144</td>\n",
       "      <td>0.472175</td>\n",
       "      <td>1.623367</td>\n",
       "    </tr>\n",
       "    <tr>\n",
       "      <th>2024-10-17</th>\n",
       "      <td>0.590040</td>\n",
       "      <td>-0.061607</td>\n",
       "      <td>0.125571</td>\n",
       "      <td>-2.003038</td>\n",
       "    </tr>\n",
       "    <tr>\n",
       "      <th>2024-10-18</th>\n",
       "      <td>-2.012784</td>\n",
       "      <td>0.011580</td>\n",
       "      <td>1.822530</td>\n",
       "      <td>-0.386665</td>\n",
       "    </tr>\n",
       "    <tr>\n",
       "      <th>2024-10-19</th>\n",
       "      <td>1.754172</td>\n",
       "      <td>-0.375431</td>\n",
       "      <td>-2.147462</td>\n",
       "      <td>1.230035</td>\n",
       "    </tr>\n",
       "    <tr>\n",
       "      <th>2024-10-20</th>\n",
       "      <td>-0.295957</td>\n",
       "      <td>-1.286849</td>\n",
       "      <td>-1.289448</td>\n",
       "      <td>-0.931113</td>\n",
       "    </tr>\n",
       "    <tr>\n",
       "      <th>2024-10-21</th>\n",
       "      <td>-0.476906</td>\n",
       "      <td>-1.512358</td>\n",
       "      <td>1.300378</td>\n",
       "      <td>-0.052495</td>\n",
       "    </tr>\n",
       "  </tbody>\n",
       "</table>\n",
       "</div>"
      ],
      "text/plain": [
       "                   A         B         C         D\n",
       "2024-10-15 -1.281793  0.358641 -1.266926  0.985365\n",
       "2024-10-16 -0.508918  0.134144  0.472175  1.623367\n",
       "2024-10-17  0.590040 -0.061607  0.125571 -2.003038\n",
       "2024-10-18 -2.012784  0.011580  1.822530 -0.386665\n",
       "2024-10-19  1.754172 -0.375431 -2.147462  1.230035\n",
       "2024-10-20 -0.295957 -1.286849 -1.289448 -0.931113\n",
       "2024-10-21 -0.476906 -1.512358  1.300378 -0.052495"
      ]
     },
     "execution_count": 53,
     "metadata": {},
     "output_type": "execute_result"
    }
   ],
   "source": [
    "df"
   ]
  },
  {
   "cell_type": "code",
   "execution_count": 54,
   "id": "521f669b-0a38-45a4-8c60-7e2e15b3c091",
   "metadata": {},
   "outputs": [
    {
     "data": {
      "text/plain": [
       "A   -2.012784\n",
       "B    0.011580\n",
       "C    1.822530\n",
       "D   -0.386665\n",
       "Name: 2024-10-18 00:00:00, dtype: float64"
      ]
     },
     "execution_count": 54,
     "metadata": {},
     "output_type": "execute_result"
    }
   ],
   "source": [
    "df.iloc[3]"
   ]
  },
  {
   "cell_type": "code",
   "execution_count": 55,
   "id": "82679db8-ea4f-4b32-b4e6-4a16524d2588",
   "metadata": {},
   "outputs": [
    {
     "data": {
      "text/plain": [
       "dtype('float64')"
      ]
     },
     "execution_count": 55,
     "metadata": {},
     "output_type": "execute_result"
    }
   ],
   "source": [
    "df.iloc[3].dtypes"
   ]
  },
  {
   "cell_type": "code",
   "execution_count": 56,
   "id": "9bf2a946-0bd9-4d58-883a-42284f1f4274",
   "metadata": {},
   "outputs": [
    {
     "data": {
      "text/plain": [
       "pandas.core.series.Series"
      ]
     },
     "execution_count": 56,
     "metadata": {},
     "output_type": "execute_result"
    }
   ],
   "source": [
    "type(df.iloc[3])"
   ]
  },
  {
   "cell_type": "code",
   "execution_count": 57,
   "id": "7d940caf-7f3b-4949-94b1-f912e44c6064",
   "metadata": {},
   "outputs": [
    {
     "data": {
      "text/html": [
       "<div>\n",
       "<style scoped>\n",
       "    .dataframe tbody tr th:only-of-type {\n",
       "        vertical-align: middle;\n",
       "    }\n",
       "\n",
       "    .dataframe tbody tr th {\n",
       "        vertical-align: top;\n",
       "    }\n",
       "\n",
       "    .dataframe thead th {\n",
       "        text-align: right;\n",
       "    }\n",
       "</style>\n",
       "<table border=\"1\" class=\"dataframe\">\n",
       "  <thead>\n",
       "    <tr style=\"text-align: right;\">\n",
       "      <th></th>\n",
       "      <th>A</th>\n",
       "      <th>B</th>\n",
       "    </tr>\n",
       "  </thead>\n",
       "  <tbody>\n",
       "    <tr>\n",
       "      <th>2024-10-18</th>\n",
       "      <td>-2.012784</td>\n",
       "      <td>0.011580</td>\n",
       "    </tr>\n",
       "    <tr>\n",
       "      <th>2024-10-19</th>\n",
       "      <td>1.754172</td>\n",
       "      <td>-0.375431</td>\n",
       "    </tr>\n",
       "  </tbody>\n",
       "</table>\n",
       "</div>"
      ],
      "text/plain": [
       "                   A         B\n",
       "2024-10-18 -2.012784  0.011580\n",
       "2024-10-19  1.754172 -0.375431"
      ]
     },
     "execution_count": 57,
     "metadata": {},
     "output_type": "execute_result"
    }
   ],
   "source": [
    "df.iloc[3 : 5, 0 : 2]"
   ]
  },
  {
   "cell_type": "code",
   "execution_count": 58,
   "id": "48f81826-fd43-4c1c-b2c6-359601c06c0e",
   "metadata": {},
   "outputs": [
    {
     "data": {
      "text/html": [
       "<div>\n",
       "<style scoped>\n",
       "    .dataframe tbody tr th:only-of-type {\n",
       "        vertical-align: middle;\n",
       "    }\n",
       "\n",
       "    .dataframe tbody tr th {\n",
       "        vertical-align: top;\n",
       "    }\n",
       "\n",
       "    .dataframe thead th {\n",
       "        text-align: right;\n",
       "    }\n",
       "</style>\n",
       "<table border=\"1\" class=\"dataframe\">\n",
       "  <thead>\n",
       "    <tr style=\"text-align: right;\">\n",
       "      <th></th>\n",
       "      <th>A</th>\n",
       "      <th>C</th>\n",
       "    </tr>\n",
       "  </thead>\n",
       "  <tbody>\n",
       "    <tr>\n",
       "      <th>2024-10-16</th>\n",
       "      <td>-0.508918</td>\n",
       "      <td>0.472175</td>\n",
       "    </tr>\n",
       "    <tr>\n",
       "      <th>2024-10-17</th>\n",
       "      <td>0.590040</td>\n",
       "      <td>0.125571</td>\n",
       "    </tr>\n",
       "    <tr>\n",
       "      <th>2024-10-19</th>\n",
       "      <td>1.754172</td>\n",
       "      <td>-2.147462</td>\n",
       "    </tr>\n",
       "  </tbody>\n",
       "</table>\n",
       "</div>"
      ],
      "text/plain": [
       "                   A         C\n",
       "2024-10-16 -0.508918  0.472175\n",
       "2024-10-17  0.590040  0.125571\n",
       "2024-10-19  1.754172 -2.147462"
      ]
     },
     "execution_count": 58,
     "metadata": {},
     "output_type": "execute_result"
    }
   ],
   "source": [
    "df.iloc[[1, 2, 4], [0, 2]]"
   ]
  },
  {
   "cell_type": "code",
   "execution_count": 59,
   "id": "f4e9ba29-86da-4bf0-b98f-f333ccefd6a6",
   "metadata": {},
   "outputs": [
    {
     "data": {
      "text/html": [
       "<div>\n",
       "<style scoped>\n",
       "    .dataframe tbody tr th:only-of-type {\n",
       "        vertical-align: middle;\n",
       "    }\n",
       "\n",
       "    .dataframe tbody tr th {\n",
       "        vertical-align: top;\n",
       "    }\n",
       "\n",
       "    .dataframe thead th {\n",
       "        text-align: right;\n",
       "    }\n",
       "</style>\n",
       "<table border=\"1\" class=\"dataframe\">\n",
       "  <thead>\n",
       "    <tr style=\"text-align: right;\">\n",
       "      <th></th>\n",
       "      <th>A</th>\n",
       "      <th>B</th>\n",
       "      <th>C</th>\n",
       "      <th>D</th>\n",
       "    </tr>\n",
       "  </thead>\n",
       "  <tbody>\n",
       "    <tr>\n",
       "      <th>2024-10-16</th>\n",
       "      <td>-0.508918</td>\n",
       "      <td>0.134144</td>\n",
       "      <td>0.472175</td>\n",
       "      <td>1.623367</td>\n",
       "    </tr>\n",
       "    <tr>\n",
       "      <th>2024-10-17</th>\n",
       "      <td>0.590040</td>\n",
       "      <td>-0.061607</td>\n",
       "      <td>0.125571</td>\n",
       "      <td>-2.003038</td>\n",
       "    </tr>\n",
       "  </tbody>\n",
       "</table>\n",
       "</div>"
      ],
      "text/plain": [
       "                   A         B         C         D\n",
       "2024-10-16 -0.508918  0.134144  0.472175  1.623367\n",
       "2024-10-17  0.590040 -0.061607  0.125571 -2.003038"
      ]
     },
     "execution_count": 59,
     "metadata": {},
     "output_type": "execute_result"
    }
   ],
   "source": [
    "df.iloc[1 : 3, :]"
   ]
  },
  {
   "cell_type": "code",
   "execution_count": 60,
   "id": "4d0c57e9-0202-479d-84ca-bf1b5eedd662",
   "metadata": {},
   "outputs": [
    {
     "data": {
      "text/html": [
       "<div>\n",
       "<style scoped>\n",
       "    .dataframe tbody tr th:only-of-type {\n",
       "        vertical-align: middle;\n",
       "    }\n",
       "\n",
       "    .dataframe tbody tr th {\n",
       "        vertical-align: top;\n",
       "    }\n",
       "\n",
       "    .dataframe thead th {\n",
       "        text-align: right;\n",
       "    }\n",
       "</style>\n",
       "<table border=\"1\" class=\"dataframe\">\n",
       "  <thead>\n",
       "    <tr style=\"text-align: right;\">\n",
       "      <th></th>\n",
       "      <th>B</th>\n",
       "      <th>C</th>\n",
       "    </tr>\n",
       "  </thead>\n",
       "  <tbody>\n",
       "    <tr>\n",
       "      <th>2024-10-15</th>\n",
       "      <td>0.358641</td>\n",
       "      <td>-1.266926</td>\n",
       "    </tr>\n",
       "    <tr>\n",
       "      <th>2024-10-16</th>\n",
       "      <td>0.134144</td>\n",
       "      <td>0.472175</td>\n",
       "    </tr>\n",
       "    <tr>\n",
       "      <th>2024-10-17</th>\n",
       "      <td>-0.061607</td>\n",
       "      <td>0.125571</td>\n",
       "    </tr>\n",
       "    <tr>\n",
       "      <th>2024-10-18</th>\n",
       "      <td>0.011580</td>\n",
       "      <td>1.822530</td>\n",
       "    </tr>\n",
       "    <tr>\n",
       "      <th>2024-10-19</th>\n",
       "      <td>-0.375431</td>\n",
       "      <td>-2.147462</td>\n",
       "    </tr>\n",
       "    <tr>\n",
       "      <th>2024-10-20</th>\n",
       "      <td>-1.286849</td>\n",
       "      <td>-1.289448</td>\n",
       "    </tr>\n",
       "    <tr>\n",
       "      <th>2024-10-21</th>\n",
       "      <td>-1.512358</td>\n",
       "      <td>1.300378</td>\n",
       "    </tr>\n",
       "  </tbody>\n",
       "</table>\n",
       "</div>"
      ],
      "text/plain": [
       "                   B         C\n",
       "2024-10-15  0.358641 -1.266926\n",
       "2024-10-16  0.134144  0.472175\n",
       "2024-10-17 -0.061607  0.125571\n",
       "2024-10-18  0.011580  1.822530\n",
       "2024-10-19 -0.375431 -2.147462\n",
       "2024-10-20 -1.286849 -1.289448\n",
       "2024-10-21 -1.512358  1.300378"
      ]
     },
     "execution_count": 60,
     "metadata": {},
     "output_type": "execute_result"
    }
   ],
   "source": [
    "df.iloc[:, 1 : 3]"
   ]
  },
  {
   "cell_type": "code",
   "execution_count": 61,
   "id": "bdf4862f-63a1-41c7-82dd-85b34dbccb49",
   "metadata": {},
   "outputs": [
    {
     "data": {
      "text/plain": [
       "0.1341436352437352"
      ]
     },
     "execution_count": 61,
     "metadata": {},
     "output_type": "execute_result"
    }
   ],
   "source": [
    "df.iloc[1, 1]"
   ]
  },
  {
   "cell_type": "code",
   "execution_count": 62,
   "id": "1aff4182-4020-405f-8a02-4b593a031ff2",
   "metadata": {},
   "outputs": [
    {
     "data": {
      "text/html": [
       "<div>\n",
       "<style scoped>\n",
       "    .dataframe tbody tr th:only-of-type {\n",
       "        vertical-align: middle;\n",
       "    }\n",
       "\n",
       "    .dataframe tbody tr th {\n",
       "        vertical-align: top;\n",
       "    }\n",
       "\n",
       "    .dataframe thead th {\n",
       "        text-align: right;\n",
       "    }\n",
       "</style>\n",
       "<table border=\"1\" class=\"dataframe\">\n",
       "  <thead>\n",
       "    <tr style=\"text-align: right;\">\n",
       "      <th></th>\n",
       "      <th>A</th>\n",
       "      <th>B</th>\n",
       "      <th>C</th>\n",
       "      <th>D</th>\n",
       "    </tr>\n",
       "  </thead>\n",
       "  <tbody>\n",
       "    <tr>\n",
       "      <th>2024-10-15</th>\n",
       "      <td>-1.281793</td>\n",
       "      <td>0.358641</td>\n",
       "      <td>-1.266926</td>\n",
       "      <td>0.985365</td>\n",
       "    </tr>\n",
       "    <tr>\n",
       "      <th>2024-10-16</th>\n",
       "      <td>-0.508918</td>\n",
       "      <td>0.134144</td>\n",
       "      <td>0.472175</td>\n",
       "      <td>1.623367</td>\n",
       "    </tr>\n",
       "    <tr>\n",
       "      <th>2024-10-17</th>\n",
       "      <td>0.590040</td>\n",
       "      <td>-0.061607</td>\n",
       "      <td>0.125571</td>\n",
       "      <td>-2.003038</td>\n",
       "    </tr>\n",
       "    <tr>\n",
       "      <th>2024-10-18</th>\n",
       "      <td>-2.012784</td>\n",
       "      <td>0.011580</td>\n",
       "      <td>1.822530</td>\n",
       "      <td>-0.386665</td>\n",
       "    </tr>\n",
       "    <tr>\n",
       "      <th>2024-10-19</th>\n",
       "      <td>1.754172</td>\n",
       "      <td>-0.375431</td>\n",
       "      <td>-2.147462</td>\n",
       "      <td>1.230035</td>\n",
       "    </tr>\n",
       "    <tr>\n",
       "      <th>2024-10-20</th>\n",
       "      <td>-0.295957</td>\n",
       "      <td>-1.286849</td>\n",
       "      <td>-1.289448</td>\n",
       "      <td>-0.931113</td>\n",
       "    </tr>\n",
       "    <tr>\n",
       "      <th>2024-10-21</th>\n",
       "      <td>-0.476906</td>\n",
       "      <td>-1.512358</td>\n",
       "      <td>1.300378</td>\n",
       "      <td>-0.052495</td>\n",
       "    </tr>\n",
       "  </tbody>\n",
       "</table>\n",
       "</div>"
      ],
      "text/plain": [
       "                   A         B         C         D\n",
       "2024-10-15 -1.281793  0.358641 -1.266926  0.985365\n",
       "2024-10-16 -0.508918  0.134144  0.472175  1.623367\n",
       "2024-10-17  0.590040 -0.061607  0.125571 -2.003038\n",
       "2024-10-18 -2.012784  0.011580  1.822530 -0.386665\n",
       "2024-10-19  1.754172 -0.375431 -2.147462  1.230035\n",
       "2024-10-20 -0.295957 -1.286849 -1.289448 -0.931113\n",
       "2024-10-21 -0.476906 -1.512358  1.300378 -0.052495"
      ]
     },
     "execution_count": 62,
     "metadata": {},
     "output_type": "execute_result"
    }
   ],
   "source": [
    "df"
   ]
  },
  {
   "cell_type": "code",
   "execution_count": 63,
   "id": "5a6806df-69b9-4044-a4f5-8ec63f837de2",
   "metadata": {},
   "outputs": [
    {
     "data": {
      "text/plain": [
       "0.1341436352437352"
      ]
     },
     "execution_count": 63,
     "metadata": {},
     "output_type": "execute_result"
    }
   ],
   "source": [
    "df.iat[1, 1]"
   ]
  },
  {
   "cell_type": "code",
   "execution_count": 64,
   "id": "0234e2f7-6e2f-4ebe-9482-5370ef5a4fe6",
   "metadata": {},
   "outputs": [
    {
     "data": {
      "text/html": [
       "<div>\n",
       "<style scoped>\n",
       "    .dataframe tbody tr th:only-of-type {\n",
       "        vertical-align: middle;\n",
       "    }\n",
       "\n",
       "    .dataframe tbody tr th {\n",
       "        vertical-align: top;\n",
       "    }\n",
       "\n",
       "    .dataframe thead th {\n",
       "        text-align: right;\n",
       "    }\n",
       "</style>\n",
       "<table border=\"1\" class=\"dataframe\">\n",
       "  <thead>\n",
       "    <tr style=\"text-align: right;\">\n",
       "      <th></th>\n",
       "      <th>A</th>\n",
       "      <th>B</th>\n",
       "      <th>C</th>\n",
       "      <th>D</th>\n",
       "    </tr>\n",
       "  </thead>\n",
       "  <tbody>\n",
       "    <tr>\n",
       "      <th>2024-10-17</th>\n",
       "      <td>0.590040</td>\n",
       "      <td>-0.061607</td>\n",
       "      <td>0.125571</td>\n",
       "      <td>-2.003038</td>\n",
       "    </tr>\n",
       "    <tr>\n",
       "      <th>2024-10-19</th>\n",
       "      <td>1.754172</td>\n",
       "      <td>-0.375431</td>\n",
       "      <td>-2.147462</td>\n",
       "      <td>1.230035</td>\n",
       "    </tr>\n",
       "  </tbody>\n",
       "</table>\n",
       "</div>"
      ],
      "text/plain": [
       "                   A         B         C         D\n",
       "2024-10-17  0.590040 -0.061607  0.125571 -2.003038\n",
       "2024-10-19  1.754172 -0.375431 -2.147462  1.230035"
      ]
     },
     "execution_count": 64,
     "metadata": {},
     "output_type": "execute_result"
    }
   ],
   "source": [
    "df[df[\"A\"] > 0]"
   ]
  },
  {
   "cell_type": "code",
   "execution_count": 65,
   "id": "129f76ac-1317-4e4d-b019-6f7dcb0956ab",
   "metadata": {},
   "outputs": [
    {
     "data": {
      "text/html": [
       "<div>\n",
       "<style scoped>\n",
       "    .dataframe tbody tr th:only-of-type {\n",
       "        vertical-align: middle;\n",
       "    }\n",
       "\n",
       "    .dataframe tbody tr th {\n",
       "        vertical-align: top;\n",
       "    }\n",
       "\n",
       "    .dataframe thead th {\n",
       "        text-align: right;\n",
       "    }\n",
       "</style>\n",
       "<table border=\"1\" class=\"dataframe\">\n",
       "  <thead>\n",
       "    <tr style=\"text-align: right;\">\n",
       "      <th></th>\n",
       "      <th>A</th>\n",
       "      <th>B</th>\n",
       "      <th>C</th>\n",
       "      <th>D</th>\n",
       "    </tr>\n",
       "  </thead>\n",
       "  <tbody>\n",
       "    <tr>\n",
       "      <th>2024-10-15</th>\n",
       "      <td>NaN</td>\n",
       "      <td>0.358641</td>\n",
       "      <td>NaN</td>\n",
       "      <td>0.985365</td>\n",
       "    </tr>\n",
       "    <tr>\n",
       "      <th>2024-10-16</th>\n",
       "      <td>NaN</td>\n",
       "      <td>0.134144</td>\n",
       "      <td>0.472175</td>\n",
       "      <td>1.623367</td>\n",
       "    </tr>\n",
       "    <tr>\n",
       "      <th>2024-10-17</th>\n",
       "      <td>0.590040</td>\n",
       "      <td>NaN</td>\n",
       "      <td>0.125571</td>\n",
       "      <td>NaN</td>\n",
       "    </tr>\n",
       "    <tr>\n",
       "      <th>2024-10-18</th>\n",
       "      <td>NaN</td>\n",
       "      <td>0.011580</td>\n",
       "      <td>1.822530</td>\n",
       "      <td>NaN</td>\n",
       "    </tr>\n",
       "    <tr>\n",
       "      <th>2024-10-19</th>\n",
       "      <td>1.754172</td>\n",
       "      <td>NaN</td>\n",
       "      <td>NaN</td>\n",
       "      <td>1.230035</td>\n",
       "    </tr>\n",
       "    <tr>\n",
       "      <th>2024-10-20</th>\n",
       "      <td>NaN</td>\n",
       "      <td>NaN</td>\n",
       "      <td>NaN</td>\n",
       "      <td>NaN</td>\n",
       "    </tr>\n",
       "    <tr>\n",
       "      <th>2024-10-21</th>\n",
       "      <td>NaN</td>\n",
       "      <td>NaN</td>\n",
       "      <td>1.300378</td>\n",
       "      <td>NaN</td>\n",
       "    </tr>\n",
       "  </tbody>\n",
       "</table>\n",
       "</div>"
      ],
      "text/plain": [
       "                   A         B         C         D\n",
       "2024-10-15       NaN  0.358641       NaN  0.985365\n",
       "2024-10-16       NaN  0.134144  0.472175  1.623367\n",
       "2024-10-17  0.590040       NaN  0.125571       NaN\n",
       "2024-10-18       NaN  0.011580  1.822530       NaN\n",
       "2024-10-19  1.754172       NaN       NaN  1.230035\n",
       "2024-10-20       NaN       NaN       NaN       NaN\n",
       "2024-10-21       NaN       NaN  1.300378       NaN"
      ]
     },
     "execution_count": 65,
     "metadata": {},
     "output_type": "execute_result"
    }
   ],
   "source": [
    "df[df > 0]"
   ]
  },
  {
   "cell_type": "markdown",
   "id": "720ea363-6f3f-4cdb-b707-bd529f61262a",
   "metadata": {},
   "source": [
    "<div style=\"text-align: center;\">\n",
    "\n",
    "### Comparison of `NaN` and `None` in Python\n",
    "\n",
    "</div>"
   ]
  },
  {
   "cell_type": "markdown",
   "id": "b854f7d2-1147-4345-b4e2-4eb0697efb97",
   "metadata": {},
   "source": [
    "| Feature                   | `NaN` (from `float('nan')` or `numpy.nan`)       | `None` (Null)                              |\r\n",
    "|---------------------------|--------------------------------------------------|--------------------------------------------|\r\n",
    "| **Meaning**               | Represents an invalid or unknown numeric value   | Represents the absence of a value or data  |\r\n",
    "| **Data Type**             | `float`                                          | `NoneType`                                 |\r\n",
    "| **Main Use Case**         | For invalid or unknown numeric data              | For null or missing data                   |\r\n",
    "| **Comparability**         | `NaN != NaN`, i.e., `NaN` is not equal to itself | `None == None`, i.e., `None` is equal to itself |\r\n",
    "| **Usage in Pandas**       | Used in DataFrame and Series to indicate invalid data | Typically used to represent null values in larger data |\r\n",
    "| **Participation in Calculations** | Can lead to invalid calculations or results | Does not participate in numeric calculations and raises an error |\r\n",
    "| **Boolean Conversion**    | Evaluates as `True` in boolean expressions       | Evaluates as `False` in boolean expressions |\r\n"
   ]
  },
  {
   "cell_type": "code",
   "execution_count": 66,
   "id": "b2526be3-d163-4524-9a76-642f175fa7f4",
   "metadata": {},
   "outputs": [],
   "source": [
    "df2 = df.copy()"
   ]
  },
  {
   "cell_type": "code",
   "execution_count": 67,
   "id": "b789999c-c148-420f-be9b-f6c317854059",
   "metadata": {},
   "outputs": [],
   "source": [
    "df2[\"E\"] = [\"one\", \"two\", \"three\", \"four\", \"five\", \"six\", \"seven\"]"
   ]
  },
  {
   "cell_type": "code",
   "execution_count": 68,
   "id": "d349315b-74be-41ae-8bac-05244b2d15af",
   "metadata": {},
   "outputs": [
    {
     "data": {
      "text/html": [
       "<div>\n",
       "<style scoped>\n",
       "    .dataframe tbody tr th:only-of-type {\n",
       "        vertical-align: middle;\n",
       "    }\n",
       "\n",
       "    .dataframe tbody tr th {\n",
       "        vertical-align: top;\n",
       "    }\n",
       "\n",
       "    .dataframe thead th {\n",
       "        text-align: right;\n",
       "    }\n",
       "</style>\n",
       "<table border=\"1\" class=\"dataframe\">\n",
       "  <thead>\n",
       "    <tr style=\"text-align: right;\">\n",
       "      <th></th>\n",
       "      <th>A</th>\n",
       "      <th>B</th>\n",
       "      <th>C</th>\n",
       "      <th>D</th>\n",
       "      <th>E</th>\n",
       "    </tr>\n",
       "  </thead>\n",
       "  <tbody>\n",
       "    <tr>\n",
       "      <th>2024-10-15</th>\n",
       "      <td>-1.281793</td>\n",
       "      <td>0.358641</td>\n",
       "      <td>-1.266926</td>\n",
       "      <td>0.985365</td>\n",
       "      <td>one</td>\n",
       "    </tr>\n",
       "    <tr>\n",
       "      <th>2024-10-16</th>\n",
       "      <td>-0.508918</td>\n",
       "      <td>0.134144</td>\n",
       "      <td>0.472175</td>\n",
       "      <td>1.623367</td>\n",
       "      <td>two</td>\n",
       "    </tr>\n",
       "    <tr>\n",
       "      <th>2024-10-17</th>\n",
       "      <td>0.590040</td>\n",
       "      <td>-0.061607</td>\n",
       "      <td>0.125571</td>\n",
       "      <td>-2.003038</td>\n",
       "      <td>three</td>\n",
       "    </tr>\n",
       "    <tr>\n",
       "      <th>2024-10-18</th>\n",
       "      <td>-2.012784</td>\n",
       "      <td>0.011580</td>\n",
       "      <td>1.822530</td>\n",
       "      <td>-0.386665</td>\n",
       "      <td>four</td>\n",
       "    </tr>\n",
       "    <tr>\n",
       "      <th>2024-10-19</th>\n",
       "      <td>1.754172</td>\n",
       "      <td>-0.375431</td>\n",
       "      <td>-2.147462</td>\n",
       "      <td>1.230035</td>\n",
       "      <td>five</td>\n",
       "    </tr>\n",
       "    <tr>\n",
       "      <th>2024-10-20</th>\n",
       "      <td>-0.295957</td>\n",
       "      <td>-1.286849</td>\n",
       "      <td>-1.289448</td>\n",
       "      <td>-0.931113</td>\n",
       "      <td>six</td>\n",
       "    </tr>\n",
       "    <tr>\n",
       "      <th>2024-10-21</th>\n",
       "      <td>-0.476906</td>\n",
       "      <td>-1.512358</td>\n",
       "      <td>1.300378</td>\n",
       "      <td>-0.052495</td>\n",
       "      <td>seven</td>\n",
       "    </tr>\n",
       "  </tbody>\n",
       "</table>\n",
       "</div>"
      ],
      "text/plain": [
       "                   A         B         C         D      E\n",
       "2024-10-15 -1.281793  0.358641 -1.266926  0.985365    one\n",
       "2024-10-16 -0.508918  0.134144  0.472175  1.623367    two\n",
       "2024-10-17  0.590040 -0.061607  0.125571 -2.003038  three\n",
       "2024-10-18 -2.012784  0.011580  1.822530 -0.386665   four\n",
       "2024-10-19  1.754172 -0.375431 -2.147462  1.230035   five\n",
       "2024-10-20 -0.295957 -1.286849 -1.289448 -0.931113    six\n",
       "2024-10-21 -0.476906 -1.512358  1.300378 -0.052495  seven"
      ]
     },
     "execution_count": 68,
     "metadata": {},
     "output_type": "execute_result"
    }
   ],
   "source": [
    "df2"
   ]
  },
  {
   "cell_type": "code",
   "execution_count": 69,
   "id": "c24a7cae-29a1-465c-bbf4-ff27cadedcfd",
   "metadata": {},
   "outputs": [
    {
     "data": {
      "text/html": [
       "<div>\n",
       "<style scoped>\n",
       "    .dataframe tbody tr th:only-of-type {\n",
       "        vertical-align: middle;\n",
       "    }\n",
       "\n",
       "    .dataframe tbody tr th {\n",
       "        vertical-align: top;\n",
       "    }\n",
       "\n",
       "    .dataframe thead th {\n",
       "        text-align: right;\n",
       "    }\n",
       "</style>\n",
       "<table border=\"1\" class=\"dataframe\">\n",
       "  <thead>\n",
       "    <tr style=\"text-align: right;\">\n",
       "      <th></th>\n",
       "      <th>A</th>\n",
       "      <th>B</th>\n",
       "      <th>C</th>\n",
       "      <th>D</th>\n",
       "      <th>E</th>\n",
       "    </tr>\n",
       "  </thead>\n",
       "  <tbody>\n",
       "    <tr>\n",
       "      <th>2024-10-16</th>\n",
       "      <td>-0.508918</td>\n",
       "      <td>0.134144</td>\n",
       "      <td>0.472175</td>\n",
       "      <td>1.623367</td>\n",
       "      <td>two</td>\n",
       "    </tr>\n",
       "    <tr>\n",
       "      <th>2024-10-19</th>\n",
       "      <td>1.754172</td>\n",
       "      <td>-0.375431</td>\n",
       "      <td>-2.147462</td>\n",
       "      <td>1.230035</td>\n",
       "      <td>five</td>\n",
       "    </tr>\n",
       "  </tbody>\n",
       "</table>\n",
       "</div>"
      ],
      "text/plain": [
       "                   A         B         C         D     E\n",
       "2024-10-16 -0.508918  0.134144  0.472175  1.623367   two\n",
       "2024-10-19  1.754172 -0.375431 -2.147462  1.230035  five"
      ]
     },
     "execution_count": 69,
     "metadata": {},
     "output_type": "execute_result"
    }
   ],
   "source": [
    "df2[df2[\"E\"].isin([\"two\", \"five\"])]"
   ]
  },
  {
   "cell_type": "code",
   "execution_count": 70,
   "id": "8f89a8c1-7cf0-46cf-8588-840249aa84df",
   "metadata": {},
   "outputs": [
    {
     "data": {
      "text/html": [
       "<div>\n",
       "<style scoped>\n",
       "    .dataframe tbody tr th:only-of-type {\n",
       "        vertical-align: middle;\n",
       "    }\n",
       "\n",
       "    .dataframe tbody tr th {\n",
       "        vertical-align: top;\n",
       "    }\n",
       "\n",
       "    .dataframe thead th {\n",
       "        text-align: right;\n",
       "    }\n",
       "</style>\n",
       "<table border=\"1\" class=\"dataframe\">\n",
       "  <thead>\n",
       "    <tr style=\"text-align: right;\">\n",
       "      <th></th>\n",
       "      <th>A</th>\n",
       "      <th>B</th>\n",
       "      <th>C</th>\n",
       "      <th>D</th>\n",
       "    </tr>\n",
       "  </thead>\n",
       "  <tbody>\n",
       "    <tr>\n",
       "      <th>2024-10-15</th>\n",
       "      <td>-1.281793</td>\n",
       "      <td>0.358641</td>\n",
       "      <td>-1.266926</td>\n",
       "      <td>0.985365</td>\n",
       "    </tr>\n",
       "    <tr>\n",
       "      <th>2024-10-16</th>\n",
       "      <td>-0.508918</td>\n",
       "      <td>0.134144</td>\n",
       "      <td>0.472175</td>\n",
       "      <td>1.623367</td>\n",
       "    </tr>\n",
       "    <tr>\n",
       "      <th>2024-10-17</th>\n",
       "      <td>0.590040</td>\n",
       "      <td>-0.061607</td>\n",
       "      <td>0.125571</td>\n",
       "      <td>-2.003038</td>\n",
       "    </tr>\n",
       "    <tr>\n",
       "      <th>2024-10-18</th>\n",
       "      <td>-2.012784</td>\n",
       "      <td>0.011580</td>\n",
       "      <td>1.822530</td>\n",
       "      <td>-0.386665</td>\n",
       "    </tr>\n",
       "    <tr>\n",
       "      <th>2024-10-19</th>\n",
       "      <td>1.754172</td>\n",
       "      <td>-0.375431</td>\n",
       "      <td>-2.147462</td>\n",
       "      <td>1.230035</td>\n",
       "    </tr>\n",
       "    <tr>\n",
       "      <th>2024-10-20</th>\n",
       "      <td>-0.295957</td>\n",
       "      <td>-1.286849</td>\n",
       "      <td>-1.289448</td>\n",
       "      <td>-0.931113</td>\n",
       "    </tr>\n",
       "    <tr>\n",
       "      <th>2024-10-21</th>\n",
       "      <td>-0.476906</td>\n",
       "      <td>-1.512358</td>\n",
       "      <td>1.300378</td>\n",
       "      <td>-0.052495</td>\n",
       "    </tr>\n",
       "  </tbody>\n",
       "</table>\n",
       "</div>"
      ],
      "text/plain": [
       "                   A         B         C         D\n",
       "2024-10-15 -1.281793  0.358641 -1.266926  0.985365\n",
       "2024-10-16 -0.508918  0.134144  0.472175  1.623367\n",
       "2024-10-17  0.590040 -0.061607  0.125571 -2.003038\n",
       "2024-10-18 -2.012784  0.011580  1.822530 -0.386665\n",
       "2024-10-19  1.754172 -0.375431 -2.147462  1.230035\n",
       "2024-10-20 -0.295957 -1.286849 -1.289448 -0.931113\n",
       "2024-10-21 -0.476906 -1.512358  1.300378 -0.052495"
      ]
     },
     "execution_count": 70,
     "metadata": {},
     "output_type": "execute_result"
    }
   ],
   "source": [
    "df"
   ]
  },
  {
   "cell_type": "code",
   "execution_count": 71,
   "id": "34202104-677d-4ba1-94ff-9a2ed895aded",
   "metadata": {},
   "outputs": [
    {
     "data": {
      "text/plain": [
       "7"
      ]
     },
     "execution_count": 71,
     "metadata": {},
     "output_type": "execute_result"
    }
   ],
   "source": [
    "len(df)"
   ]
  },
  {
   "cell_type": "code",
   "execution_count": 72,
   "id": "fa2735f1-16fa-4a0f-89d1-08ffacacef8c",
   "metadata": {},
   "outputs": [],
   "source": [
    "s1 = pd.Series([1, 2, 3, 4, 5, 6], index = pd.date_range(\"20240101\", periods = 6))"
   ]
  },
  {
   "cell_type": "code",
   "execution_count": 73,
   "id": "431b64ed-cba7-48b4-83ef-35b518eb9ded",
   "metadata": {},
   "outputs": [
    {
     "data": {
      "text/plain": [
       "2024-01-01    1\n",
       "2024-01-02    2\n",
       "2024-01-03    3\n",
       "2024-01-04    4\n",
       "2024-01-05    5\n",
       "2024-01-06    6\n",
       "Freq: D, dtype: int64"
      ]
     },
     "execution_count": 73,
     "metadata": {},
     "output_type": "execute_result"
    }
   ],
   "source": [
    "s1"
   ]
  },
  {
   "cell_type": "code",
   "execution_count": 74,
   "id": "2d6f5e91-1c1c-4a3f-8dcf-840682ab085b",
   "metadata": {},
   "outputs": [],
   "source": [
    "df.at[dates[0], \"A\"] = 0"
   ]
  },
  {
   "cell_type": "code",
   "execution_count": 75,
   "id": "c4aac926-b59a-4d0b-95b1-45171df0c37f",
   "metadata": {},
   "outputs": [
    {
     "data": {
      "text/html": [
       "<div>\n",
       "<style scoped>\n",
       "    .dataframe tbody tr th:only-of-type {\n",
       "        vertical-align: middle;\n",
       "    }\n",
       "\n",
       "    .dataframe tbody tr th {\n",
       "        vertical-align: top;\n",
       "    }\n",
       "\n",
       "    .dataframe thead th {\n",
       "        text-align: right;\n",
       "    }\n",
       "</style>\n",
       "<table border=\"1\" class=\"dataframe\">\n",
       "  <thead>\n",
       "    <tr style=\"text-align: right;\">\n",
       "      <th></th>\n",
       "      <th>A</th>\n",
       "      <th>B</th>\n",
       "      <th>C</th>\n",
       "      <th>D</th>\n",
       "    </tr>\n",
       "  </thead>\n",
       "  <tbody>\n",
       "    <tr>\n",
       "      <th>2024-10-15</th>\n",
       "      <td>0.000000</td>\n",
       "      <td>0.358641</td>\n",
       "      <td>-1.266926</td>\n",
       "      <td>0.985365</td>\n",
       "    </tr>\n",
       "    <tr>\n",
       "      <th>2024-10-16</th>\n",
       "      <td>-0.508918</td>\n",
       "      <td>0.134144</td>\n",
       "      <td>0.472175</td>\n",
       "      <td>1.623367</td>\n",
       "    </tr>\n",
       "    <tr>\n",
       "      <th>2024-10-17</th>\n",
       "      <td>0.590040</td>\n",
       "      <td>-0.061607</td>\n",
       "      <td>0.125571</td>\n",
       "      <td>-2.003038</td>\n",
       "    </tr>\n",
       "    <tr>\n",
       "      <th>2024-10-18</th>\n",
       "      <td>-2.012784</td>\n",
       "      <td>0.011580</td>\n",
       "      <td>1.822530</td>\n",
       "      <td>-0.386665</td>\n",
       "    </tr>\n",
       "    <tr>\n",
       "      <th>2024-10-19</th>\n",
       "      <td>1.754172</td>\n",
       "      <td>-0.375431</td>\n",
       "      <td>-2.147462</td>\n",
       "      <td>1.230035</td>\n",
       "    </tr>\n",
       "    <tr>\n",
       "      <th>2024-10-20</th>\n",
       "      <td>-0.295957</td>\n",
       "      <td>-1.286849</td>\n",
       "      <td>-1.289448</td>\n",
       "      <td>-0.931113</td>\n",
       "    </tr>\n",
       "    <tr>\n",
       "      <th>2024-10-21</th>\n",
       "      <td>-0.476906</td>\n",
       "      <td>-1.512358</td>\n",
       "      <td>1.300378</td>\n",
       "      <td>-0.052495</td>\n",
       "    </tr>\n",
       "  </tbody>\n",
       "</table>\n",
       "</div>"
      ],
      "text/plain": [
       "                   A         B         C         D\n",
       "2024-10-15  0.000000  0.358641 -1.266926  0.985365\n",
       "2024-10-16 -0.508918  0.134144  0.472175  1.623367\n",
       "2024-10-17  0.590040 -0.061607  0.125571 -2.003038\n",
       "2024-10-18 -2.012784  0.011580  1.822530 -0.386665\n",
       "2024-10-19  1.754172 -0.375431 -2.147462  1.230035\n",
       "2024-10-20 -0.295957 -1.286849 -1.289448 -0.931113\n",
       "2024-10-21 -0.476906 -1.512358  1.300378 -0.052495"
      ]
     },
     "execution_count": 75,
     "metadata": {},
     "output_type": "execute_result"
    }
   ],
   "source": [
    "df"
   ]
  },
  {
   "cell_type": "code",
   "execution_count": 76,
   "id": "6eba5c15-537c-491d-953e-3934bffefa79",
   "metadata": {},
   "outputs": [],
   "source": [
    "df.iat[0, 1] = 0"
   ]
  },
  {
   "cell_type": "code",
   "execution_count": 77,
   "id": "c2168053-f338-4f91-8dd3-125cc614a225",
   "metadata": {},
   "outputs": [
    {
     "data": {
      "text/html": [
       "<div>\n",
       "<style scoped>\n",
       "    .dataframe tbody tr th:only-of-type {\n",
       "        vertical-align: middle;\n",
       "    }\n",
       "\n",
       "    .dataframe tbody tr th {\n",
       "        vertical-align: top;\n",
       "    }\n",
       "\n",
       "    .dataframe thead th {\n",
       "        text-align: right;\n",
       "    }\n",
       "</style>\n",
       "<table border=\"1\" class=\"dataframe\">\n",
       "  <thead>\n",
       "    <tr style=\"text-align: right;\">\n",
       "      <th></th>\n",
       "      <th>A</th>\n",
       "      <th>B</th>\n",
       "      <th>C</th>\n",
       "      <th>D</th>\n",
       "    </tr>\n",
       "  </thead>\n",
       "  <tbody>\n",
       "    <tr>\n",
       "      <th>2024-10-15</th>\n",
       "      <td>0.000000</td>\n",
       "      <td>0.000000</td>\n",
       "      <td>-1.266926</td>\n",
       "      <td>0.985365</td>\n",
       "    </tr>\n",
       "    <tr>\n",
       "      <th>2024-10-16</th>\n",
       "      <td>-0.508918</td>\n",
       "      <td>0.134144</td>\n",
       "      <td>0.472175</td>\n",
       "      <td>1.623367</td>\n",
       "    </tr>\n",
       "    <tr>\n",
       "      <th>2024-10-17</th>\n",
       "      <td>0.590040</td>\n",
       "      <td>-0.061607</td>\n",
       "      <td>0.125571</td>\n",
       "      <td>-2.003038</td>\n",
       "    </tr>\n",
       "    <tr>\n",
       "      <th>2024-10-18</th>\n",
       "      <td>-2.012784</td>\n",
       "      <td>0.011580</td>\n",
       "      <td>1.822530</td>\n",
       "      <td>-0.386665</td>\n",
       "    </tr>\n",
       "    <tr>\n",
       "      <th>2024-10-19</th>\n",
       "      <td>1.754172</td>\n",
       "      <td>-0.375431</td>\n",
       "      <td>-2.147462</td>\n",
       "      <td>1.230035</td>\n",
       "    </tr>\n",
       "    <tr>\n",
       "      <th>2024-10-20</th>\n",
       "      <td>-0.295957</td>\n",
       "      <td>-1.286849</td>\n",
       "      <td>-1.289448</td>\n",
       "      <td>-0.931113</td>\n",
       "    </tr>\n",
       "    <tr>\n",
       "      <th>2024-10-21</th>\n",
       "      <td>-0.476906</td>\n",
       "      <td>-1.512358</td>\n",
       "      <td>1.300378</td>\n",
       "      <td>-0.052495</td>\n",
       "    </tr>\n",
       "  </tbody>\n",
       "</table>\n",
       "</div>"
      ],
      "text/plain": [
       "                   A         B         C         D\n",
       "2024-10-15  0.000000  0.000000 -1.266926  0.985365\n",
       "2024-10-16 -0.508918  0.134144  0.472175  1.623367\n",
       "2024-10-17  0.590040 -0.061607  0.125571 -2.003038\n",
       "2024-10-18 -2.012784  0.011580  1.822530 -0.386665\n",
       "2024-10-19  1.754172 -0.375431 -2.147462  1.230035\n",
       "2024-10-20 -0.295957 -1.286849 -1.289448 -0.931113\n",
       "2024-10-21 -0.476906 -1.512358  1.300378 -0.052495"
      ]
     },
     "execution_count": 77,
     "metadata": {},
     "output_type": "execute_result"
    }
   ],
   "source": [
    "df"
   ]
  },
  {
   "cell_type": "code",
   "execution_count": 78,
   "id": "f9a2936d-de79-40d2-9f94-137e5dd99f35",
   "metadata": {},
   "outputs": [],
   "source": [
    "df.loc[:, \"D\"] = np.array([5] * len(df))"
   ]
  },
  {
   "cell_type": "code",
   "execution_count": 79,
   "id": "9ef98ae1-f7d0-4118-9a82-777208e6de71",
   "metadata": {},
   "outputs": [
    {
     "data": {
      "text/plain": [
       "7"
      ]
     },
     "execution_count": 79,
     "metadata": {},
     "output_type": "execute_result"
    }
   ],
   "source": [
    "len(df)"
   ]
  },
  {
   "cell_type": "code",
   "execution_count": 80,
   "id": "f36085cb-9c99-447d-a283-f5af2b39d8a9",
   "metadata": {},
   "outputs": [
    {
     "data": {
      "text/html": [
       "<div>\n",
       "<style scoped>\n",
       "    .dataframe tbody tr th:only-of-type {\n",
       "        vertical-align: middle;\n",
       "    }\n",
       "\n",
       "    .dataframe tbody tr th {\n",
       "        vertical-align: top;\n",
       "    }\n",
       "\n",
       "    .dataframe thead th {\n",
       "        text-align: right;\n",
       "    }\n",
       "</style>\n",
       "<table border=\"1\" class=\"dataframe\">\n",
       "  <thead>\n",
       "    <tr style=\"text-align: right;\">\n",
       "      <th></th>\n",
       "      <th>A</th>\n",
       "      <th>B</th>\n",
       "      <th>C</th>\n",
       "      <th>D</th>\n",
       "    </tr>\n",
       "  </thead>\n",
       "  <tbody>\n",
       "    <tr>\n",
       "      <th>2024-10-15</th>\n",
       "      <td>0.000000</td>\n",
       "      <td>0.000000</td>\n",
       "      <td>-1.266926</td>\n",
       "      <td>5.0</td>\n",
       "    </tr>\n",
       "    <tr>\n",
       "      <th>2024-10-16</th>\n",
       "      <td>-0.508918</td>\n",
       "      <td>0.134144</td>\n",
       "      <td>0.472175</td>\n",
       "      <td>5.0</td>\n",
       "    </tr>\n",
       "    <tr>\n",
       "      <th>2024-10-17</th>\n",
       "      <td>0.590040</td>\n",
       "      <td>-0.061607</td>\n",
       "      <td>0.125571</td>\n",
       "      <td>5.0</td>\n",
       "    </tr>\n",
       "    <tr>\n",
       "      <th>2024-10-18</th>\n",
       "      <td>-2.012784</td>\n",
       "      <td>0.011580</td>\n",
       "      <td>1.822530</td>\n",
       "      <td>5.0</td>\n",
       "    </tr>\n",
       "    <tr>\n",
       "      <th>2024-10-19</th>\n",
       "      <td>1.754172</td>\n",
       "      <td>-0.375431</td>\n",
       "      <td>-2.147462</td>\n",
       "      <td>5.0</td>\n",
       "    </tr>\n",
       "    <tr>\n",
       "      <th>2024-10-20</th>\n",
       "      <td>-0.295957</td>\n",
       "      <td>-1.286849</td>\n",
       "      <td>-1.289448</td>\n",
       "      <td>5.0</td>\n",
       "    </tr>\n",
       "    <tr>\n",
       "      <th>2024-10-21</th>\n",
       "      <td>-0.476906</td>\n",
       "      <td>-1.512358</td>\n",
       "      <td>1.300378</td>\n",
       "      <td>5.0</td>\n",
       "    </tr>\n",
       "  </tbody>\n",
       "</table>\n",
       "</div>"
      ],
      "text/plain": [
       "                   A         B         C    D\n",
       "2024-10-15  0.000000  0.000000 -1.266926  5.0\n",
       "2024-10-16 -0.508918  0.134144  0.472175  5.0\n",
       "2024-10-17  0.590040 -0.061607  0.125571  5.0\n",
       "2024-10-18 -2.012784  0.011580  1.822530  5.0\n",
       "2024-10-19  1.754172 -0.375431 -2.147462  5.0\n",
       "2024-10-20 -0.295957 -1.286849 -1.289448  5.0\n",
       "2024-10-21 -0.476906 -1.512358  1.300378  5.0"
      ]
     },
     "execution_count": 80,
     "metadata": {},
     "output_type": "execute_result"
    }
   ],
   "source": [
    "df"
   ]
  },
  {
   "cell_type": "code",
   "execution_count": 81,
   "id": "bef5fff0-22d6-4390-9a4d-c239013c4b96",
   "metadata": {},
   "outputs": [
    {
     "data": {
      "text/plain": [
       "array([3, 3, 3, 3, 3])"
      ]
     },
     "execution_count": 81,
     "metadata": {},
     "output_type": "execute_result"
    }
   ],
   "source": [
    "arr = np.array([3] * 5)\n",
    "arr"
   ]
  },
  {
   "cell_type": "code",
   "execution_count": 82,
   "id": "13fff95a-fc96-4c78-ac26-0e3095d2638f",
   "metadata": {},
   "outputs": [
    {
     "data": {
      "text/plain": [
       "dtype('int32')"
      ]
     },
     "execution_count": 82,
     "metadata": {},
     "output_type": "execute_result"
    }
   ],
   "source": [
    "arr.dtype"
   ]
  },
  {
   "cell_type": "code",
   "execution_count": 83,
   "id": "86f6bdb5-32a8-4769-9ecf-59f84118e4c3",
   "metadata": {},
   "outputs": [
    {
     "data": {
      "text/plain": [
       "numpy.ndarray"
      ]
     },
     "execution_count": 83,
     "metadata": {},
     "output_type": "execute_result"
    }
   ],
   "source": [
    "type(arr)"
   ]
  },
  {
   "cell_type": "code",
   "execution_count": 84,
   "id": "99d75003-c11d-433a-aac3-89d0542b4137",
   "metadata": {},
   "outputs": [
    {
     "data": {
      "text/plain": [
       "5"
      ]
     },
     "execution_count": 84,
     "metadata": {},
     "output_type": "execute_result"
    }
   ],
   "source": [
    "len(arr)"
   ]
  },
  {
   "cell_type": "code",
   "execution_count": 85,
   "id": "7b247c22-287c-4fd5-bfcf-0378817e6f69",
   "metadata": {},
   "outputs": [
    {
     "data": {
      "text/plain": [
       "(                   A         B         C    D\n",
       " 2024-10-15  0.000000  0.000000 -1.266926  5.0\n",
       " 2024-10-16 -0.508918  0.134144  0.472175  5.0\n",
       " 2024-10-17  0.590040 -0.061607  0.125571  5.0\n",
       " 2024-10-18 -2.012784  0.011580  1.822530  5.0\n",
       " 2024-10-19  1.754172 -0.375431 -2.147462  5.0\n",
       " 2024-10-20 -0.295957 -1.286849 -1.289448  5.0\n",
       " 2024-10-21 -0.476906 -1.512358  1.300378  5.0,\n",
       "                    A         B         C    D\n",
       " 2024-10-15  0.000000  0.000000 -1.266926 -5.0\n",
       " 2024-10-16 -0.508918 -0.134144 -0.472175 -5.0\n",
       " 2024-10-17 -0.590040 -0.061607 -0.125571 -5.0\n",
       " 2024-10-18 -2.012784 -0.011580 -1.822530 -5.0\n",
       " 2024-10-19 -1.754172 -0.375431 -2.147462 -5.0\n",
       " 2024-10-20 -0.295957 -1.286849 -1.289448 -5.0\n",
       " 2024-10-21 -0.476906 -1.512358 -1.300378 -5.0)"
      ]
     },
     "execution_count": 85,
     "metadata": {},
     "output_type": "execute_result"
    }
   ],
   "source": [
    "df2 = df.copy()\n",
    "df2[df2 > 0] = - df2\n",
    "df, df2"
   ]
  },
  {
   "cell_type": "code",
   "execution_count": 86,
   "id": "626625ad-1a49-42eb-b9a0-906bec2ba4f4",
   "metadata": {},
   "outputs": [
    {
     "data": {
      "text/html": [
       "<div>\n",
       "<style scoped>\n",
       "    .dataframe tbody tr th:only-of-type {\n",
       "        vertical-align: middle;\n",
       "    }\n",
       "\n",
       "    .dataframe tbody tr th {\n",
       "        vertical-align: top;\n",
       "    }\n",
       "\n",
       "    .dataframe thead th {\n",
       "        text-align: right;\n",
       "    }\n",
       "</style>\n",
       "<table border=\"1\" class=\"dataframe\">\n",
       "  <thead>\n",
       "    <tr style=\"text-align: right;\">\n",
       "      <th></th>\n",
       "      <th>A</th>\n",
       "      <th>B</th>\n",
       "      <th>C</th>\n",
       "      <th>D</th>\n",
       "    </tr>\n",
       "  </thead>\n",
       "  <tbody>\n",
       "    <tr>\n",
       "      <th>2024-10-15</th>\n",
       "      <td>NaN</td>\n",
       "      <td>NaN</td>\n",
       "      <td>NaN</td>\n",
       "      <td>NaN</td>\n",
       "    </tr>\n",
       "    <tr>\n",
       "      <th>2024-10-16</th>\n",
       "      <td>NaN</td>\n",
       "      <td>NaN</td>\n",
       "      <td>NaN</td>\n",
       "      <td>NaN</td>\n",
       "    </tr>\n",
       "    <tr>\n",
       "      <th>2024-10-17</th>\n",
       "      <td>NaN</td>\n",
       "      <td>NaN</td>\n",
       "      <td>NaN</td>\n",
       "      <td>NaN</td>\n",
       "    </tr>\n",
       "    <tr>\n",
       "      <th>2024-10-18</th>\n",
       "      <td>NaN</td>\n",
       "      <td>NaN</td>\n",
       "      <td>NaN</td>\n",
       "      <td>NaN</td>\n",
       "    </tr>\n",
       "    <tr>\n",
       "      <th>2024-10-19</th>\n",
       "      <td>NaN</td>\n",
       "      <td>NaN</td>\n",
       "      <td>NaN</td>\n",
       "      <td>NaN</td>\n",
       "    </tr>\n",
       "    <tr>\n",
       "      <th>2024-10-20</th>\n",
       "      <td>NaN</td>\n",
       "      <td>NaN</td>\n",
       "      <td>NaN</td>\n",
       "      <td>NaN</td>\n",
       "    </tr>\n",
       "    <tr>\n",
       "      <th>2024-10-21</th>\n",
       "      <td>NaN</td>\n",
       "      <td>NaN</td>\n",
       "      <td>NaN</td>\n",
       "      <td>NaN</td>\n",
       "    </tr>\n",
       "  </tbody>\n",
       "</table>\n",
       "</div>"
      ],
      "text/plain": [
       "             A   B   C   D\n",
       "2024-10-15 NaN NaN NaN NaN\n",
       "2024-10-16 NaN NaN NaN NaN\n",
       "2024-10-17 NaN NaN NaN NaN\n",
       "2024-10-18 NaN NaN NaN NaN\n",
       "2024-10-19 NaN NaN NaN NaN\n",
       "2024-10-20 NaN NaN NaN NaN\n",
       "2024-10-21 NaN NaN NaN NaN"
      ]
     },
     "execution_count": 86,
     "metadata": {},
     "output_type": "execute_result"
    }
   ],
   "source": [
    "df2[df2 > 0]"
   ]
  },
  {
   "cell_type": "code",
   "execution_count": 87,
   "id": "85db2a5e-5dbb-451b-901d-ffbedd774e34",
   "metadata": {},
   "outputs": [
    {
     "data": {
      "text/html": [
       "<div>\n",
       "<style scoped>\n",
       "    .dataframe tbody tr th:only-of-type {\n",
       "        vertical-align: middle;\n",
       "    }\n",
       "\n",
       "    .dataframe tbody tr th {\n",
       "        vertical-align: top;\n",
       "    }\n",
       "\n",
       "    .dataframe thead th {\n",
       "        text-align: right;\n",
       "    }\n",
       "</style>\n",
       "<table border=\"1\" class=\"dataframe\">\n",
       "  <thead>\n",
       "    <tr style=\"text-align: right;\">\n",
       "      <th></th>\n",
       "      <th>A</th>\n",
       "      <th>B</th>\n",
       "      <th>C</th>\n",
       "      <th>D</th>\n",
       "    </tr>\n",
       "  </thead>\n",
       "  <tbody>\n",
       "    <tr>\n",
       "      <th>2024-10-15</th>\n",
       "      <td>0.0</td>\n",
       "      <td>0.0</td>\n",
       "      <td>NaN</td>\n",
       "      <td>NaN</td>\n",
       "    </tr>\n",
       "    <tr>\n",
       "      <th>2024-10-16</th>\n",
       "      <td>NaN</td>\n",
       "      <td>NaN</td>\n",
       "      <td>NaN</td>\n",
       "      <td>NaN</td>\n",
       "    </tr>\n",
       "    <tr>\n",
       "      <th>2024-10-17</th>\n",
       "      <td>NaN</td>\n",
       "      <td>NaN</td>\n",
       "      <td>NaN</td>\n",
       "      <td>NaN</td>\n",
       "    </tr>\n",
       "    <tr>\n",
       "      <th>2024-10-18</th>\n",
       "      <td>NaN</td>\n",
       "      <td>NaN</td>\n",
       "      <td>NaN</td>\n",
       "      <td>NaN</td>\n",
       "    </tr>\n",
       "    <tr>\n",
       "      <th>2024-10-19</th>\n",
       "      <td>NaN</td>\n",
       "      <td>NaN</td>\n",
       "      <td>NaN</td>\n",
       "      <td>NaN</td>\n",
       "    </tr>\n",
       "    <tr>\n",
       "      <th>2024-10-20</th>\n",
       "      <td>NaN</td>\n",
       "      <td>NaN</td>\n",
       "      <td>NaN</td>\n",
       "      <td>NaN</td>\n",
       "    </tr>\n",
       "    <tr>\n",
       "      <th>2024-10-21</th>\n",
       "      <td>NaN</td>\n",
       "      <td>NaN</td>\n",
       "      <td>NaN</td>\n",
       "      <td>NaN</td>\n",
       "    </tr>\n",
       "  </tbody>\n",
       "</table>\n",
       "</div>"
      ],
      "text/plain": [
       "              A    B   C   D\n",
       "2024-10-15  0.0  0.0 NaN NaN\n",
       "2024-10-16  NaN  NaN NaN NaN\n",
       "2024-10-17  NaN  NaN NaN NaN\n",
       "2024-10-18  NaN  NaN NaN NaN\n",
       "2024-10-19  NaN  NaN NaN NaN\n",
       "2024-10-20  NaN  NaN NaN NaN\n",
       "2024-10-21  NaN  NaN NaN NaN"
      ]
     },
     "execution_count": 87,
     "metadata": {},
     "output_type": "execute_result"
    }
   ],
   "source": [
    "df2[df2 == 0]"
   ]
  },
  {
   "cell_type": "code",
   "execution_count": 88,
   "id": "bb2da557-255c-4cb2-8219-6b632a605817",
   "metadata": {},
   "outputs": [
    {
     "data": {
      "text/html": [
       "<div>\n",
       "<style scoped>\n",
       "    .dataframe tbody tr th:only-of-type {\n",
       "        vertical-align: middle;\n",
       "    }\n",
       "\n",
       "    .dataframe tbody tr th {\n",
       "        vertical-align: top;\n",
       "    }\n",
       "\n",
       "    .dataframe thead th {\n",
       "        text-align: right;\n",
       "    }\n",
       "</style>\n",
       "<table border=\"1\" class=\"dataframe\">\n",
       "  <thead>\n",
       "    <tr style=\"text-align: right;\">\n",
       "      <th></th>\n",
       "      <th>A</th>\n",
       "      <th>B</th>\n",
       "      <th>C</th>\n",
       "      <th>D</th>\n",
       "    </tr>\n",
       "  </thead>\n",
       "  <tbody>\n",
       "    <tr>\n",
       "      <th>2024-10-15</th>\n",
       "      <td>0.000000</td>\n",
       "      <td>0.000000</td>\n",
       "      <td>-1.266926</td>\n",
       "      <td>5.0</td>\n",
       "    </tr>\n",
       "    <tr>\n",
       "      <th>2024-10-16</th>\n",
       "      <td>-0.508918</td>\n",
       "      <td>0.134144</td>\n",
       "      <td>0.472175</td>\n",
       "      <td>5.0</td>\n",
       "    </tr>\n",
       "    <tr>\n",
       "      <th>2024-10-17</th>\n",
       "      <td>0.590040</td>\n",
       "      <td>-0.061607</td>\n",
       "      <td>0.125571</td>\n",
       "      <td>5.0</td>\n",
       "    </tr>\n",
       "    <tr>\n",
       "      <th>2024-10-18</th>\n",
       "      <td>-2.012784</td>\n",
       "      <td>0.011580</td>\n",
       "      <td>1.822530</td>\n",
       "      <td>5.0</td>\n",
       "    </tr>\n",
       "    <tr>\n",
       "      <th>2024-10-19</th>\n",
       "      <td>1.754172</td>\n",
       "      <td>-0.375431</td>\n",
       "      <td>-2.147462</td>\n",
       "      <td>5.0</td>\n",
       "    </tr>\n",
       "    <tr>\n",
       "      <th>2024-10-20</th>\n",
       "      <td>-0.295957</td>\n",
       "      <td>-1.286849</td>\n",
       "      <td>-1.289448</td>\n",
       "      <td>5.0</td>\n",
       "    </tr>\n",
       "    <tr>\n",
       "      <th>2024-10-21</th>\n",
       "      <td>-0.476906</td>\n",
       "      <td>-1.512358</td>\n",
       "      <td>1.300378</td>\n",
       "      <td>5.0</td>\n",
       "    </tr>\n",
       "  </tbody>\n",
       "</table>\n",
       "</div>"
      ],
      "text/plain": [
       "                   A         B         C    D\n",
       "2024-10-15  0.000000  0.000000 -1.266926  5.0\n",
       "2024-10-16 -0.508918  0.134144  0.472175  5.0\n",
       "2024-10-17  0.590040 -0.061607  0.125571  5.0\n",
       "2024-10-18 -2.012784  0.011580  1.822530  5.0\n",
       "2024-10-19  1.754172 -0.375431 -2.147462  5.0\n",
       "2024-10-20 -0.295957 -1.286849 -1.289448  5.0\n",
       "2024-10-21 -0.476906 -1.512358  1.300378  5.0"
      ]
     },
     "execution_count": 88,
     "metadata": {},
     "output_type": "execute_result"
    }
   ],
   "source": [
    "df"
   ]
  },
  {
   "cell_type": "code",
   "execution_count": 89,
   "id": "dd2e83ed-dd73-4b72-a464-0fb49271c04d",
   "metadata": {},
   "outputs": [],
   "source": [
    "df1 = df.reindex(index = dates[0 : 4], columns = list(df.columns) + [\"E\", \"F\"])"
   ]
  },
  {
   "cell_type": "code",
   "execution_count": 90,
   "id": "2ee0606d-a9b4-47c7-a648-fbc5775bf454",
   "metadata": {},
   "outputs": [
    {
     "data": {
      "text/html": [
       "<div>\n",
       "<style scoped>\n",
       "    .dataframe tbody tr th:only-of-type {\n",
       "        vertical-align: middle;\n",
       "    }\n",
       "\n",
       "    .dataframe tbody tr th {\n",
       "        vertical-align: top;\n",
       "    }\n",
       "\n",
       "    .dataframe thead th {\n",
       "        text-align: right;\n",
       "    }\n",
       "</style>\n",
       "<table border=\"1\" class=\"dataframe\">\n",
       "  <thead>\n",
       "    <tr style=\"text-align: right;\">\n",
       "      <th></th>\n",
       "      <th>A</th>\n",
       "      <th>B</th>\n",
       "      <th>C</th>\n",
       "      <th>D</th>\n",
       "      <th>E</th>\n",
       "      <th>F</th>\n",
       "    </tr>\n",
       "  </thead>\n",
       "  <tbody>\n",
       "    <tr>\n",
       "      <th>2024-10-15</th>\n",
       "      <td>0.000000</td>\n",
       "      <td>0.000000</td>\n",
       "      <td>-1.266926</td>\n",
       "      <td>5.0</td>\n",
       "      <td>NaN</td>\n",
       "      <td>NaN</td>\n",
       "    </tr>\n",
       "    <tr>\n",
       "      <th>2024-10-16</th>\n",
       "      <td>-0.508918</td>\n",
       "      <td>0.134144</td>\n",
       "      <td>0.472175</td>\n",
       "      <td>5.0</td>\n",
       "      <td>NaN</td>\n",
       "      <td>NaN</td>\n",
       "    </tr>\n",
       "    <tr>\n",
       "      <th>2024-10-17</th>\n",
       "      <td>0.590040</td>\n",
       "      <td>-0.061607</td>\n",
       "      <td>0.125571</td>\n",
       "      <td>5.0</td>\n",
       "      <td>NaN</td>\n",
       "      <td>NaN</td>\n",
       "    </tr>\n",
       "    <tr>\n",
       "      <th>2024-10-18</th>\n",
       "      <td>-2.012784</td>\n",
       "      <td>0.011580</td>\n",
       "      <td>1.822530</td>\n",
       "      <td>5.0</td>\n",
       "      <td>NaN</td>\n",
       "      <td>NaN</td>\n",
       "    </tr>\n",
       "  </tbody>\n",
       "</table>\n",
       "</div>"
      ],
      "text/plain": [
       "                   A         B         C    D   E   F\n",
       "2024-10-15  0.000000  0.000000 -1.266926  5.0 NaN NaN\n",
       "2024-10-16 -0.508918  0.134144  0.472175  5.0 NaN NaN\n",
       "2024-10-17  0.590040 -0.061607  0.125571  5.0 NaN NaN\n",
       "2024-10-18 -2.012784  0.011580  1.822530  5.0 NaN NaN"
      ]
     },
     "execution_count": 90,
     "metadata": {},
     "output_type": "execute_result"
    }
   ],
   "source": [
    "df1"
   ]
  },
  {
   "cell_type": "code",
   "execution_count": 91,
   "id": "8822475a-0329-4dd8-890b-b2e1e85a8e1e",
   "metadata": {},
   "outputs": [],
   "source": [
    "df1.loc[dates[0] : dates[1], \"E\"] = 1"
   ]
  },
  {
   "cell_type": "code",
   "execution_count": 92,
   "id": "13fb5359-c497-48d2-b460-36932188c272",
   "metadata": {},
   "outputs": [
    {
     "data": {
      "text/html": [
       "<div>\n",
       "<style scoped>\n",
       "    .dataframe tbody tr th:only-of-type {\n",
       "        vertical-align: middle;\n",
       "    }\n",
       "\n",
       "    .dataframe tbody tr th {\n",
       "        vertical-align: top;\n",
       "    }\n",
       "\n",
       "    .dataframe thead th {\n",
       "        text-align: right;\n",
       "    }\n",
       "</style>\n",
       "<table border=\"1\" class=\"dataframe\">\n",
       "  <thead>\n",
       "    <tr style=\"text-align: right;\">\n",
       "      <th></th>\n",
       "      <th>A</th>\n",
       "      <th>B</th>\n",
       "      <th>C</th>\n",
       "      <th>D</th>\n",
       "      <th>E</th>\n",
       "      <th>F</th>\n",
       "    </tr>\n",
       "  </thead>\n",
       "  <tbody>\n",
       "    <tr>\n",
       "      <th>2024-10-15</th>\n",
       "      <td>0.000000</td>\n",
       "      <td>0.000000</td>\n",
       "      <td>-1.266926</td>\n",
       "      <td>5.0</td>\n",
       "      <td>1.0</td>\n",
       "      <td>NaN</td>\n",
       "    </tr>\n",
       "    <tr>\n",
       "      <th>2024-10-16</th>\n",
       "      <td>-0.508918</td>\n",
       "      <td>0.134144</td>\n",
       "      <td>0.472175</td>\n",
       "      <td>5.0</td>\n",
       "      <td>1.0</td>\n",
       "      <td>NaN</td>\n",
       "    </tr>\n",
       "    <tr>\n",
       "      <th>2024-10-17</th>\n",
       "      <td>0.590040</td>\n",
       "      <td>-0.061607</td>\n",
       "      <td>0.125571</td>\n",
       "      <td>5.0</td>\n",
       "      <td>NaN</td>\n",
       "      <td>NaN</td>\n",
       "    </tr>\n",
       "    <tr>\n",
       "      <th>2024-10-18</th>\n",
       "      <td>-2.012784</td>\n",
       "      <td>0.011580</td>\n",
       "      <td>1.822530</td>\n",
       "      <td>5.0</td>\n",
       "      <td>NaN</td>\n",
       "      <td>NaN</td>\n",
       "    </tr>\n",
       "  </tbody>\n",
       "</table>\n",
       "</div>"
      ],
      "text/plain": [
       "                   A         B         C    D    E   F\n",
       "2024-10-15  0.000000  0.000000 -1.266926  5.0  1.0 NaN\n",
       "2024-10-16 -0.508918  0.134144  0.472175  5.0  1.0 NaN\n",
       "2024-10-17  0.590040 -0.061607  0.125571  5.0  NaN NaN\n",
       "2024-10-18 -2.012784  0.011580  1.822530  5.0  NaN NaN"
      ]
     },
     "execution_count": 92,
     "metadata": {},
     "output_type": "execute_result"
    }
   ],
   "source": [
    "df1"
   ]
  },
  {
   "cell_type": "code",
   "execution_count": 93,
   "id": "83743c9a-80bb-4f69-8f22-704a76678674",
   "metadata": {},
   "outputs": [
    {
     "data": {
      "text/html": [
       "<div>\n",
       "<style scoped>\n",
       "    .dataframe tbody tr th:only-of-type {\n",
       "        vertical-align: middle;\n",
       "    }\n",
       "\n",
       "    .dataframe tbody tr th {\n",
       "        vertical-align: top;\n",
       "    }\n",
       "\n",
       "    .dataframe thead th {\n",
       "        text-align: right;\n",
       "    }\n",
       "</style>\n",
       "<table border=\"1\" class=\"dataframe\">\n",
       "  <thead>\n",
       "    <tr style=\"text-align: right;\">\n",
       "      <th></th>\n",
       "      <th>A</th>\n",
       "      <th>B</th>\n",
       "      <th>C</th>\n",
       "      <th>D</th>\n",
       "      <th>E</th>\n",
       "      <th>F</th>\n",
       "    </tr>\n",
       "  </thead>\n",
       "  <tbody>\n",
       "  </tbody>\n",
       "</table>\n",
       "</div>"
      ],
      "text/plain": [
       "Empty DataFrame\n",
       "Columns: [A, B, C, D, E, F]\n",
       "Index: []"
      ]
     },
     "execution_count": 93,
     "metadata": {},
     "output_type": "execute_result"
    }
   ],
   "source": [
    "df1.dropna(how = \"any\")   # By default, it operates on rows (axis = 0)\n",
    "# how=\"any\": This specifies that rows (or columns) will be removed if any of the values in that row (or column) are missing. \n",
    "# If at least one NaN or None is present, the entire row (or column) is dropped."
   ]
  },
  {
   "cell_type": "code",
   "execution_count": 94,
   "id": "99923294-ca39-46e7-8f23-d630c708b5dc",
   "metadata": {},
   "outputs": [
    {
     "data": {
      "text/html": [
       "<div>\n",
       "<style scoped>\n",
       "    .dataframe tbody tr th:only-of-type {\n",
       "        vertical-align: middle;\n",
       "    }\n",
       "\n",
       "    .dataframe tbody tr th {\n",
       "        vertical-align: top;\n",
       "    }\n",
       "\n",
       "    .dataframe thead th {\n",
       "        text-align: right;\n",
       "    }\n",
       "</style>\n",
       "<table border=\"1\" class=\"dataframe\">\n",
       "  <thead>\n",
       "    <tr style=\"text-align: right;\">\n",
       "      <th></th>\n",
       "      <th>A</th>\n",
       "      <th>B</th>\n",
       "      <th>C</th>\n",
       "      <th>D</th>\n",
       "    </tr>\n",
       "  </thead>\n",
       "  <tbody>\n",
       "    <tr>\n",
       "      <th>2024-10-15</th>\n",
       "      <td>0.000000</td>\n",
       "      <td>0.000000</td>\n",
       "      <td>-1.266926</td>\n",
       "      <td>5.0</td>\n",
       "    </tr>\n",
       "    <tr>\n",
       "      <th>2024-10-16</th>\n",
       "      <td>-0.508918</td>\n",
       "      <td>0.134144</td>\n",
       "      <td>0.472175</td>\n",
       "      <td>5.0</td>\n",
       "    </tr>\n",
       "    <tr>\n",
       "      <th>2024-10-17</th>\n",
       "      <td>0.590040</td>\n",
       "      <td>-0.061607</td>\n",
       "      <td>0.125571</td>\n",
       "      <td>5.0</td>\n",
       "    </tr>\n",
       "    <tr>\n",
       "      <th>2024-10-18</th>\n",
       "      <td>-2.012784</td>\n",
       "      <td>0.011580</td>\n",
       "      <td>1.822530</td>\n",
       "      <td>5.0</td>\n",
       "    </tr>\n",
       "  </tbody>\n",
       "</table>\n",
       "</div>"
      ],
      "text/plain": [
       "                   A         B         C    D\n",
       "2024-10-15  0.000000  0.000000 -1.266926  5.0\n",
       "2024-10-16 -0.508918  0.134144  0.472175  5.0\n",
       "2024-10-17  0.590040 -0.061607  0.125571  5.0\n",
       "2024-10-18 -2.012784  0.011580  1.822530  5.0"
      ]
     },
     "execution_count": 94,
     "metadata": {},
     "output_type": "execute_result"
    }
   ],
   "source": [
    "# if you want to apply it to columns instead, you can add axis=1\n",
    "df1.dropna(how = \"any\", axis = 1)"
   ]
  },
  {
   "cell_type": "code",
   "execution_count": 95,
   "id": "b60196df-21fe-4559-a7d1-8b98130ca919",
   "metadata": {},
   "outputs": [
    {
     "data": {
      "text/html": [
       "<div>\n",
       "<style scoped>\n",
       "    .dataframe tbody tr th:only-of-type {\n",
       "        vertical-align: middle;\n",
       "    }\n",
       "\n",
       "    .dataframe tbody tr th {\n",
       "        vertical-align: top;\n",
       "    }\n",
       "\n",
       "    .dataframe thead th {\n",
       "        text-align: right;\n",
       "    }\n",
       "</style>\n",
       "<table border=\"1\" class=\"dataframe\">\n",
       "  <thead>\n",
       "    <tr style=\"text-align: right;\">\n",
       "      <th></th>\n",
       "      <th>A</th>\n",
       "      <th>B</th>\n",
       "      <th>C</th>\n",
       "      <th>D</th>\n",
       "      <th>E</th>\n",
       "      <th>F</th>\n",
       "    </tr>\n",
       "  </thead>\n",
       "  <tbody>\n",
       "    <tr>\n",
       "      <th>2024-10-15</th>\n",
       "      <td>0.000000</td>\n",
       "      <td>0.000000</td>\n",
       "      <td>-1.266926</td>\n",
       "      <td>5.0</td>\n",
       "      <td>1.0</td>\n",
       "      <td>NaN</td>\n",
       "    </tr>\n",
       "    <tr>\n",
       "      <th>2024-10-16</th>\n",
       "      <td>-0.508918</td>\n",
       "      <td>0.134144</td>\n",
       "      <td>0.472175</td>\n",
       "      <td>5.0</td>\n",
       "      <td>1.0</td>\n",
       "      <td>NaN</td>\n",
       "    </tr>\n",
       "    <tr>\n",
       "      <th>2024-10-17</th>\n",
       "      <td>0.590040</td>\n",
       "      <td>-0.061607</td>\n",
       "      <td>0.125571</td>\n",
       "      <td>5.0</td>\n",
       "      <td>NaN</td>\n",
       "      <td>NaN</td>\n",
       "    </tr>\n",
       "    <tr>\n",
       "      <th>2024-10-18</th>\n",
       "      <td>-2.012784</td>\n",
       "      <td>0.011580</td>\n",
       "      <td>1.822530</td>\n",
       "      <td>5.0</td>\n",
       "      <td>NaN</td>\n",
       "      <td>NaN</td>\n",
       "    </tr>\n",
       "  </tbody>\n",
       "</table>\n",
       "</div>"
      ],
      "text/plain": [
       "                   A         B         C    D    E   F\n",
       "2024-10-15  0.000000  0.000000 -1.266926  5.0  1.0 NaN\n",
       "2024-10-16 -0.508918  0.134144  0.472175  5.0  1.0 NaN\n",
       "2024-10-17  0.590040 -0.061607  0.125571  5.0  NaN NaN\n",
       "2024-10-18 -2.012784  0.011580  1.822530  5.0  NaN NaN"
      ]
     },
     "execution_count": 95,
     "metadata": {},
     "output_type": "execute_result"
    }
   ],
   "source": [
    "df1"
   ]
  },
  {
   "cell_type": "code",
   "execution_count": 96,
   "id": "6d6c3f7f-040f-47c3-823e-62e64199322f",
   "metadata": {},
   "outputs": [
    {
     "data": {
      "text/html": [
       "<div>\n",
       "<style scoped>\n",
       "    .dataframe tbody tr th:only-of-type {\n",
       "        vertical-align: middle;\n",
       "    }\n",
       "\n",
       "    .dataframe tbody tr th {\n",
       "        vertical-align: top;\n",
       "    }\n",
       "\n",
       "    .dataframe thead th {\n",
       "        text-align: right;\n",
       "    }\n",
       "</style>\n",
       "<table border=\"1\" class=\"dataframe\">\n",
       "  <thead>\n",
       "    <tr style=\"text-align: right;\">\n",
       "      <th></th>\n",
       "      <th>A</th>\n",
       "      <th>B</th>\n",
       "      <th>C</th>\n",
       "      <th>D</th>\n",
       "      <th>E</th>\n",
       "      <th>F</th>\n",
       "    </tr>\n",
       "  </thead>\n",
       "  <tbody>\n",
       "    <tr>\n",
       "      <th>2024-10-15</th>\n",
       "      <td>0.000000</td>\n",
       "      <td>0.000000</td>\n",
       "      <td>-1.266926</td>\n",
       "      <td>5.0</td>\n",
       "      <td>1.0</td>\n",
       "      <td>3.0</td>\n",
       "    </tr>\n",
       "    <tr>\n",
       "      <th>2024-10-16</th>\n",
       "      <td>-0.508918</td>\n",
       "      <td>0.134144</td>\n",
       "      <td>0.472175</td>\n",
       "      <td>5.0</td>\n",
       "      <td>1.0</td>\n",
       "      <td>3.0</td>\n",
       "    </tr>\n",
       "    <tr>\n",
       "      <th>2024-10-17</th>\n",
       "      <td>0.590040</td>\n",
       "      <td>-0.061607</td>\n",
       "      <td>0.125571</td>\n",
       "      <td>5.0</td>\n",
       "      <td>3.0</td>\n",
       "      <td>3.0</td>\n",
       "    </tr>\n",
       "    <tr>\n",
       "      <th>2024-10-18</th>\n",
       "      <td>-2.012784</td>\n",
       "      <td>0.011580</td>\n",
       "      <td>1.822530</td>\n",
       "      <td>5.0</td>\n",
       "      <td>3.0</td>\n",
       "      <td>3.0</td>\n",
       "    </tr>\n",
       "  </tbody>\n",
       "</table>\n",
       "</div>"
      ],
      "text/plain": [
       "                   A         B         C    D    E    F\n",
       "2024-10-15  0.000000  0.000000 -1.266926  5.0  1.0  3.0\n",
       "2024-10-16 -0.508918  0.134144  0.472175  5.0  1.0  3.0\n",
       "2024-10-17  0.590040 -0.061607  0.125571  5.0  3.0  3.0\n",
       "2024-10-18 -2.012784  0.011580  1.822530  5.0  3.0  3.0"
      ]
     },
     "execution_count": 96,
     "metadata": {},
     "output_type": "execute_result"
    }
   ],
   "source": [
    "df1.fillna(value = 3)"
   ]
  },
  {
   "cell_type": "code",
   "execution_count": 97,
   "id": "098ce9de-8692-4df3-9cb6-464afe595d0d",
   "metadata": {},
   "outputs": [
    {
     "data": {
      "text/html": [
       "<div>\n",
       "<style scoped>\n",
       "    .dataframe tbody tr th:only-of-type {\n",
       "        vertical-align: middle;\n",
       "    }\n",
       "\n",
       "    .dataframe tbody tr th {\n",
       "        vertical-align: top;\n",
       "    }\n",
       "\n",
       "    .dataframe thead th {\n",
       "        text-align: right;\n",
       "    }\n",
       "</style>\n",
       "<table border=\"1\" class=\"dataframe\">\n",
       "  <thead>\n",
       "    <tr style=\"text-align: right;\">\n",
       "      <th></th>\n",
       "      <th>A</th>\n",
       "      <th>B</th>\n",
       "      <th>C</th>\n",
       "      <th>D</th>\n",
       "      <th>E</th>\n",
       "      <th>F</th>\n",
       "    </tr>\n",
       "  </thead>\n",
       "  <tbody>\n",
       "    <tr>\n",
       "      <th>2024-10-15</th>\n",
       "      <td>0.000000</td>\n",
       "      <td>0.000000</td>\n",
       "      <td>-1.266926</td>\n",
       "      <td>5.0</td>\n",
       "      <td>1.0</td>\n",
       "      <td>NaN</td>\n",
       "    </tr>\n",
       "    <tr>\n",
       "      <th>2024-10-16</th>\n",
       "      <td>-0.508918</td>\n",
       "      <td>0.134144</td>\n",
       "      <td>0.472175</td>\n",
       "      <td>5.0</td>\n",
       "      <td>1.0</td>\n",
       "      <td>NaN</td>\n",
       "    </tr>\n",
       "    <tr>\n",
       "      <th>2024-10-17</th>\n",
       "      <td>0.590040</td>\n",
       "      <td>-0.061607</td>\n",
       "      <td>0.125571</td>\n",
       "      <td>5.0</td>\n",
       "      <td>NaN</td>\n",
       "      <td>NaN</td>\n",
       "    </tr>\n",
       "    <tr>\n",
       "      <th>2024-10-18</th>\n",
       "      <td>-2.012784</td>\n",
       "      <td>0.011580</td>\n",
       "      <td>1.822530</td>\n",
       "      <td>5.0</td>\n",
       "      <td>NaN</td>\n",
       "      <td>NaN</td>\n",
       "    </tr>\n",
       "  </tbody>\n",
       "</table>\n",
       "</div>"
      ],
      "text/plain": [
       "                   A         B         C    D    E   F\n",
       "2024-10-15  0.000000  0.000000 -1.266926  5.0  1.0 NaN\n",
       "2024-10-16 -0.508918  0.134144  0.472175  5.0  1.0 NaN\n",
       "2024-10-17  0.590040 -0.061607  0.125571  5.0  NaN NaN\n",
       "2024-10-18 -2.012784  0.011580  1.822530  5.0  NaN NaN"
      ]
     },
     "execution_count": 97,
     "metadata": {},
     "output_type": "execute_result"
    }
   ],
   "source": [
    "df1"
   ]
  },
  {
   "cell_type": "code",
   "execution_count": 98,
   "id": "693fe0fe-3f2b-4968-b667-34b6838631aa",
   "metadata": {},
   "outputs": [
    {
     "data": {
      "text/html": [
       "<div>\n",
       "<style scoped>\n",
       "    .dataframe tbody tr th:only-of-type {\n",
       "        vertical-align: middle;\n",
       "    }\n",
       "\n",
       "    .dataframe tbody tr th {\n",
       "        vertical-align: top;\n",
       "    }\n",
       "\n",
       "    .dataframe thead th {\n",
       "        text-align: right;\n",
       "    }\n",
       "</style>\n",
       "<table border=\"1\" class=\"dataframe\">\n",
       "  <thead>\n",
       "    <tr style=\"text-align: right;\">\n",
       "      <th></th>\n",
       "      <th>A</th>\n",
       "      <th>B</th>\n",
       "      <th>C</th>\n",
       "      <th>D</th>\n",
       "      <th>E</th>\n",
       "      <th>F</th>\n",
       "    </tr>\n",
       "  </thead>\n",
       "  <tbody>\n",
       "    <tr>\n",
       "      <th>2024-10-15</th>\n",
       "      <td>False</td>\n",
       "      <td>False</td>\n",
       "      <td>False</td>\n",
       "      <td>False</td>\n",
       "      <td>False</td>\n",
       "      <td>True</td>\n",
       "    </tr>\n",
       "    <tr>\n",
       "      <th>2024-10-16</th>\n",
       "      <td>False</td>\n",
       "      <td>False</td>\n",
       "      <td>False</td>\n",
       "      <td>False</td>\n",
       "      <td>False</td>\n",
       "      <td>True</td>\n",
       "    </tr>\n",
       "    <tr>\n",
       "      <th>2024-10-17</th>\n",
       "      <td>False</td>\n",
       "      <td>False</td>\n",
       "      <td>False</td>\n",
       "      <td>False</td>\n",
       "      <td>True</td>\n",
       "      <td>True</td>\n",
       "    </tr>\n",
       "    <tr>\n",
       "      <th>2024-10-18</th>\n",
       "      <td>False</td>\n",
       "      <td>False</td>\n",
       "      <td>False</td>\n",
       "      <td>False</td>\n",
       "      <td>True</td>\n",
       "      <td>True</td>\n",
       "    </tr>\n",
       "  </tbody>\n",
       "</table>\n",
       "</div>"
      ],
      "text/plain": [
       "                A      B      C      D      E     F\n",
       "2024-10-15  False  False  False  False  False  True\n",
       "2024-10-16  False  False  False  False  False  True\n",
       "2024-10-17  False  False  False  False   True  True\n",
       "2024-10-18  False  False  False  False   True  True"
      ]
     },
     "execution_count": 98,
     "metadata": {},
     "output_type": "execute_result"
    }
   ],
   "source": [
    "df1.isna()"
   ]
  },
  {
   "cell_type": "code",
   "execution_count": 99,
   "id": "f551e0e9-f7ec-47fc-b0ef-190cc521fdc1",
   "metadata": {},
   "outputs": [
    {
     "data": {
      "text/html": [
       "<div>\n",
       "<style scoped>\n",
       "    .dataframe tbody tr th:only-of-type {\n",
       "        vertical-align: middle;\n",
       "    }\n",
       "\n",
       "    .dataframe tbody tr th {\n",
       "        vertical-align: top;\n",
       "    }\n",
       "\n",
       "    .dataframe thead th {\n",
       "        text-align: right;\n",
       "    }\n",
       "</style>\n",
       "<table border=\"1\" class=\"dataframe\">\n",
       "  <thead>\n",
       "    <tr style=\"text-align: right;\">\n",
       "      <th></th>\n",
       "      <th>A</th>\n",
       "      <th>B</th>\n",
       "      <th>C</th>\n",
       "      <th>D</th>\n",
       "      <th>E</th>\n",
       "      <th>F</th>\n",
       "    </tr>\n",
       "  </thead>\n",
       "  <tbody>\n",
       "    <tr>\n",
       "      <th>2024-10-15</th>\n",
       "      <td>False</td>\n",
       "      <td>False</td>\n",
       "      <td>False</td>\n",
       "      <td>False</td>\n",
       "      <td>False</td>\n",
       "      <td>True</td>\n",
       "    </tr>\n",
       "    <tr>\n",
       "      <th>2024-10-16</th>\n",
       "      <td>False</td>\n",
       "      <td>False</td>\n",
       "      <td>False</td>\n",
       "      <td>False</td>\n",
       "      <td>False</td>\n",
       "      <td>True</td>\n",
       "    </tr>\n",
       "    <tr>\n",
       "      <th>2024-10-17</th>\n",
       "      <td>False</td>\n",
       "      <td>False</td>\n",
       "      <td>False</td>\n",
       "      <td>False</td>\n",
       "      <td>True</td>\n",
       "      <td>True</td>\n",
       "    </tr>\n",
       "    <tr>\n",
       "      <th>2024-10-18</th>\n",
       "      <td>False</td>\n",
       "      <td>False</td>\n",
       "      <td>False</td>\n",
       "      <td>False</td>\n",
       "      <td>True</td>\n",
       "      <td>True</td>\n",
       "    </tr>\n",
       "  </tbody>\n",
       "</table>\n",
       "</div>"
      ],
      "text/plain": [
       "                A      B      C      D      E     F\n",
       "2024-10-15  False  False  False  False  False  True\n",
       "2024-10-16  False  False  False  False  False  True\n",
       "2024-10-17  False  False  False  False   True  True\n",
       "2024-10-18  False  False  False  False   True  True"
      ]
     },
     "execution_count": 99,
     "metadata": {},
     "output_type": "execute_result"
    }
   ],
   "source": [
    "pd.isna(df1)"
   ]
  },
  {
   "cell_type": "code",
   "execution_count": 100,
   "id": "f0ae4d69-3957-49f4-a200-2b4f788d8a87",
   "metadata": {},
   "outputs": [
    {
     "data": {
      "text/html": [
       "<div>\n",
       "<style scoped>\n",
       "    .dataframe tbody tr th:only-of-type {\n",
       "        vertical-align: middle;\n",
       "    }\n",
       "\n",
       "    .dataframe tbody tr th {\n",
       "        vertical-align: top;\n",
       "    }\n",
       "\n",
       "    .dataframe thead th {\n",
       "        text-align: right;\n",
       "    }\n",
       "</style>\n",
       "<table border=\"1\" class=\"dataframe\">\n",
       "  <thead>\n",
       "    <tr style=\"text-align: right;\">\n",
       "      <th></th>\n",
       "      <th>A</th>\n",
       "      <th>B</th>\n",
       "      <th>C</th>\n",
       "      <th>D</th>\n",
       "    </tr>\n",
       "  </thead>\n",
       "  <tbody>\n",
       "    <tr>\n",
       "      <th>2024-10-15</th>\n",
       "      <td>0.000000</td>\n",
       "      <td>0.000000</td>\n",
       "      <td>-1.266926</td>\n",
       "      <td>5.0</td>\n",
       "    </tr>\n",
       "    <tr>\n",
       "      <th>2024-10-16</th>\n",
       "      <td>-0.508918</td>\n",
       "      <td>0.134144</td>\n",
       "      <td>0.472175</td>\n",
       "      <td>5.0</td>\n",
       "    </tr>\n",
       "    <tr>\n",
       "      <th>2024-10-17</th>\n",
       "      <td>0.590040</td>\n",
       "      <td>-0.061607</td>\n",
       "      <td>0.125571</td>\n",
       "      <td>5.0</td>\n",
       "    </tr>\n",
       "    <tr>\n",
       "      <th>2024-10-18</th>\n",
       "      <td>-2.012784</td>\n",
       "      <td>0.011580</td>\n",
       "      <td>1.822530</td>\n",
       "      <td>5.0</td>\n",
       "    </tr>\n",
       "    <tr>\n",
       "      <th>2024-10-19</th>\n",
       "      <td>1.754172</td>\n",
       "      <td>-0.375431</td>\n",
       "      <td>-2.147462</td>\n",
       "      <td>5.0</td>\n",
       "    </tr>\n",
       "    <tr>\n",
       "      <th>2024-10-20</th>\n",
       "      <td>-0.295957</td>\n",
       "      <td>-1.286849</td>\n",
       "      <td>-1.289448</td>\n",
       "      <td>5.0</td>\n",
       "    </tr>\n",
       "    <tr>\n",
       "      <th>2024-10-21</th>\n",
       "      <td>-0.476906</td>\n",
       "      <td>-1.512358</td>\n",
       "      <td>1.300378</td>\n",
       "      <td>5.0</td>\n",
       "    </tr>\n",
       "  </tbody>\n",
       "</table>\n",
       "</div>"
      ],
      "text/plain": [
       "                   A         B         C    D\n",
       "2024-10-15  0.000000  0.000000 -1.266926  5.0\n",
       "2024-10-16 -0.508918  0.134144  0.472175  5.0\n",
       "2024-10-17  0.590040 -0.061607  0.125571  5.0\n",
       "2024-10-18 -2.012784  0.011580  1.822530  5.0\n",
       "2024-10-19  1.754172 -0.375431 -2.147462  5.0\n",
       "2024-10-20 -0.295957 -1.286849 -1.289448  5.0\n",
       "2024-10-21 -0.476906 -1.512358  1.300378  5.0"
      ]
     },
     "execution_count": 100,
     "metadata": {},
     "output_type": "execute_result"
    }
   ],
   "source": [
    "df"
   ]
  },
  {
   "cell_type": "code",
   "execution_count": 101,
   "id": "e5d1521c-6d5d-4c4b-b6b1-444e34b32cfd",
   "metadata": {},
   "outputs": [
    {
     "data": {
      "text/plain": [
       "A   -0.135765\n",
       "B   -0.441503\n",
       "C   -0.140454\n",
       "D    5.000000\n",
       "dtype: float64"
      ]
     },
     "execution_count": 101,
     "metadata": {},
     "output_type": "execute_result"
    }
   ],
   "source": [
    "df.mean()   # By Default, axis = 0"
   ]
  },
  {
   "cell_type": "code",
   "execution_count": 102,
   "id": "fc33839b-2627-4076-a159-490211772a0a",
   "metadata": {},
   "outputs": [
    {
     "data": {
      "text/plain": [
       "A   -0.135765\n",
       "B   -0.441503\n",
       "C   -0.140454\n",
       "D    5.000000\n",
       "dtype: float64"
      ]
     },
     "execution_count": 102,
     "metadata": {},
     "output_type": "execute_result"
    }
   ],
   "source": [
    "df.mean(axis = 0)"
   ]
  },
  {
   "cell_type": "code",
   "execution_count": 103,
   "id": "b383f842-dd9c-4443-88e0-9072d2d3a57b",
   "metadata": {},
   "outputs": [
    {
     "data": {
      "text/plain": [
       "2024-10-15    0.933269\n",
       "2024-10-16    1.274350\n",
       "2024-10-17    1.413501\n",
       "2024-10-18    1.205331\n",
       "2024-10-19    1.057820\n",
       "2024-10-20    0.531936\n",
       "2024-10-21    1.077778\n",
       "Freq: D, dtype: float64"
      ]
     },
     "execution_count": 103,
     "metadata": {},
     "output_type": "execute_result"
    }
   ],
   "source": [
    "df.mean(axis = 1)"
   ]
  },
  {
   "cell_type": "code",
   "execution_count": 104,
   "id": "a3b563dc-c114-4707-8f71-7091960e291c",
   "metadata": {},
   "outputs": [],
   "source": [
    "s = pd.Series([1, 2 , 3, np.nan, 4, 5, \"Malihe\"], index = dates)"
   ]
  },
  {
   "cell_type": "code",
   "execution_count": 105,
   "id": "acb86fde-8098-4714-a1f3-c96c15256315",
   "metadata": {},
   "outputs": [
    {
     "data": {
      "text/plain": [
       "2024-10-15         1\n",
       "2024-10-16         2\n",
       "2024-10-17         3\n",
       "2024-10-18       NaN\n",
       "2024-10-19         4\n",
       "2024-10-20         5\n",
       "2024-10-21    Malihe\n",
       "Freq: D, dtype: object"
      ]
     },
     "execution_count": 105,
     "metadata": {},
     "output_type": "execute_result"
    }
   ],
   "source": [
    "s"
   ]
  },
  {
   "cell_type": "code",
   "execution_count": 106,
   "id": "8b73e7cc-f1df-4b30-ad5b-283f980f0b90",
   "metadata": {},
   "outputs": [],
   "source": [
    "s1 = s.shift(2)"
   ]
  },
  {
   "cell_type": "code",
   "execution_count": 107,
   "id": "9a441af5-933d-42c8-ac63-9bf4ed99003d",
   "metadata": {},
   "outputs": [
    {
     "data": {
      "text/plain": [
       "2024-10-15    None\n",
       "2024-10-16    None\n",
       "2024-10-17       1\n",
       "2024-10-18       2\n",
       "2024-10-19       3\n",
       "2024-10-20     NaN\n",
       "2024-10-21       4\n",
       "Freq: D, dtype: object"
      ]
     },
     "execution_count": 107,
     "metadata": {},
     "output_type": "execute_result"
    }
   ],
   "source": [
    "s1"
   ]
  },
  {
   "cell_type": "code",
   "execution_count": 108,
   "id": "8a2fe1f0-372c-491e-a047-0d4e088b0477",
   "metadata": {},
   "outputs": [
    {
     "data": {
      "text/plain": [
       "1"
      ]
     },
     "execution_count": 108,
     "metadata": {},
     "output_type": "execute_result"
    }
   ],
   "source": [
    "s1['2024-10-17']"
   ]
  },
  {
   "cell_type": "code",
   "execution_count": 109,
   "id": "7172f496-24a3-456f-8e1e-455860596d47",
   "metadata": {},
   "outputs": [
    {
     "data": {
      "text/plain": [
       "float"
      ]
     },
     "execution_count": 109,
     "metadata": {},
     "output_type": "execute_result"
    }
   ],
   "source": [
    "type(s1['2024-10-20'])"
   ]
  },
  {
   "cell_type": "code",
   "execution_count": 110,
   "id": "49479456-fb3e-4a39-9e90-bea8a75906d9",
   "metadata": {},
   "outputs": [
    {
     "data": {
      "text/plain": [
       "NoneType"
      ]
     },
     "execution_count": 110,
     "metadata": {},
     "output_type": "execute_result"
    }
   ],
   "source": [
    "type(s1[\"2024-10-15\"])"
   ]
  },
  {
   "cell_type": "code",
   "execution_count": 111,
   "id": "c0a54aea-b13c-4fb9-a90e-e58cd742f672",
   "metadata": {},
   "outputs": [
    {
     "data": {
      "text/plain": [
       "int"
      ]
     },
     "execution_count": 111,
     "metadata": {},
     "output_type": "execute_result"
    }
   ],
   "source": [
    "type(s1[\"2024-10-21\"])"
   ]
  },
  {
   "cell_type": "code",
   "execution_count": 112,
   "id": "da13f228-8b56-4fef-8771-ae9babaf052c",
   "metadata": {},
   "outputs": [
    {
     "data": {
      "text/plain": [
       "pandas.core.series.Series"
      ]
     },
     "execution_count": 112,
     "metadata": {},
     "output_type": "execute_result"
    }
   ],
   "source": [
    "type(s)"
   ]
  },
  {
   "cell_type": "code",
   "execution_count": 113,
   "id": "946e860e-efc2-4cbe-9152-8fd588ca10b5",
   "metadata": {},
   "outputs": [
    {
     "data": {
      "text/html": [
       "<div>\n",
       "<style scoped>\n",
       "    .dataframe tbody tr th:only-of-type {\n",
       "        vertical-align: middle;\n",
       "    }\n",
       "\n",
       "    .dataframe tbody tr th {\n",
       "        vertical-align: top;\n",
       "    }\n",
       "\n",
       "    .dataframe thead th {\n",
       "        text-align: right;\n",
       "    }\n",
       "</style>\n",
       "<table border=\"1\" class=\"dataframe\">\n",
       "  <thead>\n",
       "    <tr style=\"text-align: right;\">\n",
       "      <th></th>\n",
       "      <th>A</th>\n",
       "      <th>B</th>\n",
       "      <th>C</th>\n",
       "      <th>D</th>\n",
       "    </tr>\n",
       "  </thead>\n",
       "  <tbody>\n",
       "    <tr>\n",
       "      <th>2024-10-15</th>\n",
       "      <td>0.000000</td>\n",
       "      <td>0.000000</td>\n",
       "      <td>-1.266926</td>\n",
       "      <td>5.0</td>\n",
       "    </tr>\n",
       "    <tr>\n",
       "      <th>2024-10-16</th>\n",
       "      <td>-0.508918</td>\n",
       "      <td>0.134144</td>\n",
       "      <td>0.472175</td>\n",
       "      <td>5.0</td>\n",
       "    </tr>\n",
       "    <tr>\n",
       "      <th>2024-10-17</th>\n",
       "      <td>0.590040</td>\n",
       "      <td>-0.061607</td>\n",
       "      <td>0.125571</td>\n",
       "      <td>5.0</td>\n",
       "    </tr>\n",
       "    <tr>\n",
       "      <th>2024-10-18</th>\n",
       "      <td>-2.012784</td>\n",
       "      <td>0.011580</td>\n",
       "      <td>1.822530</td>\n",
       "      <td>5.0</td>\n",
       "    </tr>\n",
       "    <tr>\n",
       "      <th>2024-10-19</th>\n",
       "      <td>1.754172</td>\n",
       "      <td>-0.375431</td>\n",
       "      <td>-2.147462</td>\n",
       "      <td>5.0</td>\n",
       "    </tr>\n",
       "    <tr>\n",
       "      <th>2024-10-20</th>\n",
       "      <td>-0.295957</td>\n",
       "      <td>-1.286849</td>\n",
       "      <td>-1.289448</td>\n",
       "      <td>5.0</td>\n",
       "    </tr>\n",
       "    <tr>\n",
       "      <th>2024-10-21</th>\n",
       "      <td>-0.476906</td>\n",
       "      <td>-1.512358</td>\n",
       "      <td>1.300378</td>\n",
       "      <td>5.0</td>\n",
       "    </tr>\n",
       "  </tbody>\n",
       "</table>\n",
       "</div>"
      ],
      "text/plain": [
       "                   A         B         C    D\n",
       "2024-10-15  0.000000  0.000000 -1.266926  5.0\n",
       "2024-10-16 -0.508918  0.134144  0.472175  5.0\n",
       "2024-10-17  0.590040 -0.061607  0.125571  5.0\n",
       "2024-10-18 -2.012784  0.011580  1.822530  5.0\n",
       "2024-10-19  1.754172 -0.375431 -2.147462  5.0\n",
       "2024-10-20 -0.295957 -1.286849 -1.289448  5.0\n",
       "2024-10-21 -0.476906 -1.512358  1.300378  5.0"
      ]
     },
     "execution_count": 113,
     "metadata": {},
     "output_type": "execute_result"
    }
   ],
   "source": [
    "df"
   ]
  },
  {
   "cell_type": "markdown",
   "id": "15d623cb-bbea-4380-b470-35ed3b063887",
   "metadata": {},
   "source": [
    "### User defined functions"
   ]
  },
  {
   "cell_type": "code",
   "execution_count": 114,
   "id": "52e49c9b-e700-48be-9753-7f1e4c56294e",
   "metadata": {},
   "outputs": [
    {
     "data": {
      "text/plain": [
       "A   -0.135765\n",
       "B   -0.441503\n",
       "C   -0.140454\n",
       "D    5.000000\n",
       "dtype: float64"
      ]
     },
     "execution_count": 114,
     "metadata": {},
     "output_type": "execute_result"
    }
   ],
   "source": [
    "df.agg(lambda x : np.mean(x))"
   ]
  },
  {
   "cell_type": "code",
   "execution_count": 115,
   "id": "f21535b9-f0e1-46bd-b1df-5f303da6a09a",
   "metadata": {},
   "outputs": [
    {
     "data": {
      "text/plain": [
       "A    -0.760283\n",
       "B    -2.472418\n",
       "C    -0.786545\n",
       "D    28.000000\n",
       "dtype: float64"
      ]
     },
     "execution_count": 115,
     "metadata": {},
     "output_type": "execute_result"
    }
   ],
   "source": [
    "df.agg(lambda x : np.mean(x) * 5.6)"
   ]
  },
  {
   "cell_type": "code",
   "execution_count": 116,
   "id": "3dd9a4bf-b0e5-4e86-b939-f8e8d72cb001",
   "metadata": {},
   "outputs": [
    {
     "data": {
      "text/html": [
       "<div>\n",
       "<style scoped>\n",
       "    .dataframe tbody tr th:only-of-type {\n",
       "        vertical-align: middle;\n",
       "    }\n",
       "\n",
       "    .dataframe tbody tr th {\n",
       "        vertical-align: top;\n",
       "    }\n",
       "\n",
       "    .dataframe thead th {\n",
       "        text-align: right;\n",
       "    }\n",
       "</style>\n",
       "<table border=\"1\" class=\"dataframe\">\n",
       "  <thead>\n",
       "    <tr style=\"text-align: right;\">\n",
       "      <th></th>\n",
       "      <th>A</th>\n",
       "      <th>B</th>\n",
       "      <th>C</th>\n",
       "      <th>D</th>\n",
       "    </tr>\n",
       "  </thead>\n",
       "  <tbody>\n",
       "    <tr>\n",
       "      <th>2024-10-15</th>\n",
       "      <td>0.000000</td>\n",
       "      <td>0.000000</td>\n",
       "      <td>-128.212885</td>\n",
       "      <td>506.0</td>\n",
       "    </tr>\n",
       "    <tr>\n",
       "      <th>2024-10-16</th>\n",
       "      <td>-51.502543</td>\n",
       "      <td>13.575336</td>\n",
       "      <td>47.784152</td>\n",
       "      <td>506.0</td>\n",
       "    </tr>\n",
       "    <tr>\n",
       "      <th>2024-10-17</th>\n",
       "      <td>59.712053</td>\n",
       "      <td>-6.234678</td>\n",
       "      <td>12.707780</td>\n",
       "      <td>506.0</td>\n",
       "    </tr>\n",
       "    <tr>\n",
       "      <th>2024-10-18</th>\n",
       "      <td>-203.693734</td>\n",
       "      <td>1.171880</td>\n",
       "      <td>184.440031</td>\n",
       "      <td>506.0</td>\n",
       "    </tr>\n",
       "    <tr>\n",
       "      <th>2024-10-19</th>\n",
       "      <td>177.522232</td>\n",
       "      <td>-37.993587</td>\n",
       "      <td>-217.323106</td>\n",
       "      <td>506.0</td>\n",
       "    </tr>\n",
       "    <tr>\n",
       "      <th>2024-10-20</th>\n",
       "      <td>-29.950859</td>\n",
       "      <td>-130.229132</td>\n",
       "      <td>-130.492186</td>\n",
       "      <td>506.0</td>\n",
       "    </tr>\n",
       "    <tr>\n",
       "      <th>2024-10-21</th>\n",
       "      <td>-48.262890</td>\n",
       "      <td>-153.050672</td>\n",
       "      <td>131.598255</td>\n",
       "      <td>506.0</td>\n",
       "    </tr>\n",
       "  </tbody>\n",
       "</table>\n",
       "</div>"
      ],
      "text/plain": [
       "                     A           B           C      D\n",
       "2024-10-15    0.000000    0.000000 -128.212885  506.0\n",
       "2024-10-16  -51.502543   13.575336   47.784152  506.0\n",
       "2024-10-17   59.712053   -6.234678   12.707780  506.0\n",
       "2024-10-18 -203.693734    1.171880  184.440031  506.0\n",
       "2024-10-19  177.522232  -37.993587 -217.323106  506.0\n",
       "2024-10-20  -29.950859 -130.229132 -130.492186  506.0\n",
       "2024-10-21  -48.262890 -153.050672  131.598255  506.0"
      ]
     },
     "execution_count": 116,
     "metadata": {},
     "output_type": "execute_result"
    }
   ],
   "source": [
    "df.transform(lambda x : x * 101.2)"
   ]
  },
  {
   "cell_type": "code",
   "execution_count": 117,
   "id": "46bc048a-581b-49b0-8891-e58fc6e6a31d",
   "metadata": {},
   "outputs": [
    {
     "data": {
      "text/html": [
       "<div>\n",
       "<style scoped>\n",
       "    .dataframe tbody tr th:only-of-type {\n",
       "        vertical-align: middle;\n",
       "    }\n",
       "\n",
       "    .dataframe tbody tr th {\n",
       "        vertical-align: top;\n",
       "    }\n",
       "\n",
       "    .dataframe thead th {\n",
       "        text-align: right;\n",
       "    }\n",
       "</style>\n",
       "<table border=\"1\" class=\"dataframe\">\n",
       "  <thead>\n",
       "    <tr style=\"text-align: right;\">\n",
       "      <th></th>\n",
       "      <th>A</th>\n",
       "      <th>B</th>\n",
       "      <th>C</th>\n",
       "      <th>D</th>\n",
       "    </tr>\n",
       "  </thead>\n",
       "  <tbody>\n",
       "    <tr>\n",
       "      <th>2024-10-15</th>\n",
       "      <td>0.000000</td>\n",
       "      <td>0.000000</td>\n",
       "      <td>-128.212885</td>\n",
       "      <td>506.0</td>\n",
       "    </tr>\n",
       "    <tr>\n",
       "      <th>2024-10-16</th>\n",
       "      <td>-51.502543</td>\n",
       "      <td>13.575336</td>\n",
       "      <td>47.784152</td>\n",
       "      <td>506.0</td>\n",
       "    </tr>\n",
       "    <tr>\n",
       "      <th>2024-10-17</th>\n",
       "      <td>59.712053</td>\n",
       "      <td>-6.234678</td>\n",
       "      <td>12.707780</td>\n",
       "      <td>506.0</td>\n",
       "    </tr>\n",
       "    <tr>\n",
       "      <th>2024-10-18</th>\n",
       "      <td>-203.693734</td>\n",
       "      <td>1.171880</td>\n",
       "      <td>184.440031</td>\n",
       "      <td>506.0</td>\n",
       "    </tr>\n",
       "    <tr>\n",
       "      <th>2024-10-19</th>\n",
       "      <td>177.522232</td>\n",
       "      <td>-37.993587</td>\n",
       "      <td>-217.323106</td>\n",
       "      <td>506.0</td>\n",
       "    </tr>\n",
       "    <tr>\n",
       "      <th>2024-10-20</th>\n",
       "      <td>-29.950859</td>\n",
       "      <td>-130.229132</td>\n",
       "      <td>-130.492186</td>\n",
       "      <td>506.0</td>\n",
       "    </tr>\n",
       "    <tr>\n",
       "      <th>2024-10-21</th>\n",
       "      <td>-48.262890</td>\n",
       "      <td>-153.050672</td>\n",
       "      <td>131.598255</td>\n",
       "      <td>506.0</td>\n",
       "    </tr>\n",
       "  </tbody>\n",
       "</table>\n",
       "</div>"
      ],
      "text/plain": [
       "                     A           B           C      D\n",
       "2024-10-15    0.000000    0.000000 -128.212885  506.0\n",
       "2024-10-16  -51.502543   13.575336   47.784152  506.0\n",
       "2024-10-17   59.712053   -6.234678   12.707780  506.0\n",
       "2024-10-18 -203.693734    1.171880  184.440031  506.0\n",
       "2024-10-19  177.522232  -37.993587 -217.323106  506.0\n",
       "2024-10-20  -29.950859 -130.229132 -130.492186  506.0\n",
       "2024-10-21  -48.262890 -153.050672  131.598255  506.0"
      ]
     },
     "execution_count": 117,
     "metadata": {},
     "output_type": "execute_result"
    }
   ],
   "source": [
    "df.agg(lambda x : x * 101.2)"
   ]
  },
  {
   "cell_type": "code",
   "execution_count": 118,
   "id": "d1839019-ccc7-4625-b617-018129b9ad44",
   "metadata": {},
   "outputs": [
    {
     "data": {
      "text/html": [
       "<div>\n",
       "<style scoped>\n",
       "    .dataframe tbody tr th:only-of-type {\n",
       "        vertical-align: middle;\n",
       "    }\n",
       "\n",
       "    .dataframe tbody tr th {\n",
       "        vertical-align: top;\n",
       "    }\n",
       "\n",
       "    .dataframe thead th {\n",
       "        text-align: right;\n",
       "    }\n",
       "</style>\n",
       "<table border=\"1\" class=\"dataframe\">\n",
       "  <thead>\n",
       "    <tr style=\"text-align: right;\">\n",
       "      <th></th>\n",
       "      <th>sum</th>\n",
       "      <th>mean</th>\n",
       "    </tr>\n",
       "  </thead>\n",
       "  <tbody>\n",
       "    <tr>\n",
       "      <th>2024-10-15</th>\n",
       "      <td>3.733074</td>\n",
       "      <td>0.933269</td>\n",
       "    </tr>\n",
       "    <tr>\n",
       "      <th>2024-10-16</th>\n",
       "      <td>5.097401</td>\n",
       "      <td>1.274350</td>\n",
       "    </tr>\n",
       "    <tr>\n",
       "      <th>2024-10-17</th>\n",
       "      <td>5.654004</td>\n",
       "      <td>1.413501</td>\n",
       "    </tr>\n",
       "    <tr>\n",
       "      <th>2024-10-18</th>\n",
       "      <td>4.821326</td>\n",
       "      <td>1.205331</td>\n",
       "    </tr>\n",
       "    <tr>\n",
       "      <th>2024-10-19</th>\n",
       "      <td>4.231280</td>\n",
       "      <td>1.057820</td>\n",
       "    </tr>\n",
       "    <tr>\n",
       "      <th>2024-10-20</th>\n",
       "      <td>2.127745</td>\n",
       "      <td>0.531936</td>\n",
       "    </tr>\n",
       "    <tr>\n",
       "      <th>2024-10-21</th>\n",
       "      <td>4.311114</td>\n",
       "      <td>1.077778</td>\n",
       "    </tr>\n",
       "  </tbody>\n",
       "</table>\n",
       "</div>"
      ],
      "text/plain": [
       "                 sum      mean\n",
       "2024-10-15  3.733074  0.933269\n",
       "2024-10-16  5.097401  1.274350\n",
       "2024-10-17  5.654004  1.413501\n",
       "2024-10-18  4.821326  1.205331\n",
       "2024-10-19  4.231280  1.057820\n",
       "2024-10-20  2.127745  0.531936\n",
       "2024-10-21  4.311114  1.077778"
      ]
     },
     "execution_count": 118,
     "metadata": {},
     "output_type": "execute_result"
    }
   ],
   "source": [
    "df.agg(['sum', 'mean'], axis = 1)"
   ]
  },
  {
   "cell_type": "code",
   "execution_count": 119,
   "id": "67da8780-a149-4c52-bdcc-6abe556bc74b",
   "metadata": {},
   "outputs": [
    {
     "data": {
      "text/html": [
       "<div>\n",
       "<style scoped>\n",
       "    .dataframe tbody tr th:only-of-type {\n",
       "        vertical-align: middle;\n",
       "    }\n",
       "\n",
       "    .dataframe tbody tr th {\n",
       "        vertical-align: top;\n",
       "    }\n",
       "\n",
       "    .dataframe thead th {\n",
       "        text-align: right;\n",
       "    }\n",
       "</style>\n",
       "<table border=\"1\" class=\"dataframe\">\n",
       "  <thead>\n",
       "    <tr style=\"text-align: right;\">\n",
       "      <th></th>\n",
       "      <th>A</th>\n",
       "      <th>B</th>\n",
       "      <th>C</th>\n",
       "      <th>D</th>\n",
       "    </tr>\n",
       "  </thead>\n",
       "  <tbody>\n",
       "    <tr>\n",
       "      <th>2024-10-15</th>\n",
       "      <td>10.000000</td>\n",
       "      <td>10.000000</td>\n",
       "      <td>8.733074</td>\n",
       "      <td>15.0</td>\n",
       "    </tr>\n",
       "    <tr>\n",
       "      <th>2024-10-16</th>\n",
       "      <td>9.491082</td>\n",
       "      <td>10.134144</td>\n",
       "      <td>10.472175</td>\n",
       "      <td>15.0</td>\n",
       "    </tr>\n",
       "    <tr>\n",
       "      <th>2024-10-17</th>\n",
       "      <td>10.590040</td>\n",
       "      <td>9.938393</td>\n",
       "      <td>10.125571</td>\n",
       "      <td>15.0</td>\n",
       "    </tr>\n",
       "    <tr>\n",
       "      <th>2024-10-18</th>\n",
       "      <td>7.987216</td>\n",
       "      <td>10.011580</td>\n",
       "      <td>11.822530</td>\n",
       "      <td>15.0</td>\n",
       "    </tr>\n",
       "    <tr>\n",
       "      <th>2024-10-19</th>\n",
       "      <td>11.754172</td>\n",
       "      <td>9.624569</td>\n",
       "      <td>7.852538</td>\n",
       "      <td>15.0</td>\n",
       "    </tr>\n",
       "    <tr>\n",
       "      <th>2024-10-20</th>\n",
       "      <td>9.704043</td>\n",
       "      <td>8.713151</td>\n",
       "      <td>8.710552</td>\n",
       "      <td>15.0</td>\n",
       "    </tr>\n",
       "    <tr>\n",
       "      <th>2024-10-21</th>\n",
       "      <td>9.523094</td>\n",
       "      <td>8.487642</td>\n",
       "      <td>11.300378</td>\n",
       "      <td>15.0</td>\n",
       "    </tr>\n",
       "  </tbody>\n",
       "</table>\n",
       "</div>"
      ],
      "text/plain": [
       "                    A          B          C     D\n",
       "2024-10-15  10.000000  10.000000   8.733074  15.0\n",
       "2024-10-16   9.491082  10.134144  10.472175  15.0\n",
       "2024-10-17  10.590040   9.938393  10.125571  15.0\n",
       "2024-10-18   7.987216  10.011580  11.822530  15.0\n",
       "2024-10-19  11.754172   9.624569   7.852538  15.0\n",
       "2024-10-20   9.704043   8.713151   8.710552  15.0\n",
       "2024-10-21   9.523094   8.487642  11.300378  15.0"
      ]
     },
     "execution_count": 119,
     "metadata": {},
     "output_type": "execute_result"
    }
   ],
   "source": [
    "df.transform(lambda x : x + 10)"
   ]
  },
  {
   "cell_type": "code",
   "execution_count": 120,
   "id": "5346c640-5a68-4f61-bd3c-db861583a05a",
   "metadata": {},
   "outputs": [
    {
     "data": {
      "text/plain": [
       "0    1\n",
       "1    2\n",
       "2    6\n",
       "3    3\n",
       "4    1\n",
       "5    2\n",
       "6    0\n",
       "7    0\n",
       "8    3\n",
       "9    0\n",
       "dtype: int32"
      ]
     },
     "execution_count": 120,
     "metadata": {},
     "output_type": "execute_result"
    }
   ],
   "source": [
    "s = pd.Series(np.random.randint(0, 7, size = 10))\n",
    "s"
   ]
  },
  {
   "cell_type": "code",
   "execution_count": 121,
   "id": "69c3cc83-ea2b-4e82-b900-ca5e8bbfece6",
   "metadata": {},
   "outputs": [
    {
     "data": {
      "text/plain": [
       "0    3\n",
       "1    2\n",
       "2    2\n",
       "3    2\n",
       "6    1\n",
       "Name: count, dtype: int64"
      ]
     },
     "execution_count": 121,
     "metadata": {},
     "output_type": "execute_result"
    }
   ],
   "source": [
    "s.value_counts()"
   ]
  },
  {
   "cell_type": "code",
   "execution_count": 122,
   "id": "64cdf30c-ddad-4a87-afed-ce7d3905dc8a",
   "metadata": {},
   "outputs": [],
   "source": [
    "s = pd.Series([\"A\", \"B\", \"C\", \"Aaba\", \"Baca\", np.nan, \"CABA\", \"dog\", \"cat\"])"
   ]
  },
  {
   "cell_type": "code",
   "execution_count": 123,
   "id": "b2776353-7130-432d-97e1-96e2c2790a82",
   "metadata": {},
   "outputs": [
    {
     "data": {
      "text/plain": [
       "0       a\n",
       "1       b\n",
       "2       c\n",
       "3    aaba\n",
       "4    baca\n",
       "5     NaN\n",
       "6    caba\n",
       "7     dog\n",
       "8     cat\n",
       "dtype: object"
      ]
     },
     "execution_count": 123,
     "metadata": {},
     "output_type": "execute_result"
    }
   ],
   "source": [
    "s.str.lower()"
   ]
  },
  {
   "cell_type": "code",
   "execution_count": 124,
   "id": "7a541301-cca0-4f3f-95e1-1c47d0501db3",
   "metadata": {},
   "outputs": [
    {
     "data": {
      "text/html": [
       "<div>\n",
       "<style scoped>\n",
       "    .dataframe tbody tr th:only-of-type {\n",
       "        vertical-align: middle;\n",
       "    }\n",
       "\n",
       "    .dataframe tbody tr th {\n",
       "        vertical-align: top;\n",
       "    }\n",
       "\n",
       "    .dataframe thead th {\n",
       "        text-align: right;\n",
       "    }\n",
       "</style>\n",
       "<table border=\"1\" class=\"dataframe\">\n",
       "  <thead>\n",
       "    <tr style=\"text-align: right;\">\n",
       "      <th></th>\n",
       "      <th>0</th>\n",
       "      <th>1</th>\n",
       "      <th>2</th>\n",
       "      <th>3</th>\n",
       "    </tr>\n",
       "  </thead>\n",
       "  <tbody>\n",
       "    <tr>\n",
       "      <th>0</th>\n",
       "      <td>0.387580</td>\n",
       "      <td>-0.924829</td>\n",
       "      <td>-0.939689</td>\n",
       "      <td>1.104042</td>\n",
       "    </tr>\n",
       "    <tr>\n",
       "      <th>1</th>\n",
       "      <td>-1.205748</td>\n",
       "      <td>0.954757</td>\n",
       "      <td>-1.225098</td>\n",
       "      <td>0.451506</td>\n",
       "    </tr>\n",
       "    <tr>\n",
       "      <th>2</th>\n",
       "      <td>0.495104</td>\n",
       "      <td>-0.630885</td>\n",
       "      <td>0.282087</td>\n",
       "      <td>0.375195</td>\n",
       "    </tr>\n",
       "    <tr>\n",
       "      <th>3</th>\n",
       "      <td>-0.191800</td>\n",
       "      <td>-1.214893</td>\n",
       "      <td>-1.010972</td>\n",
       "      <td>0.633715</td>\n",
       "    </tr>\n",
       "    <tr>\n",
       "      <th>4</th>\n",
       "      <td>1.058585</td>\n",
       "      <td>2.592693</td>\n",
       "      <td>0.544061</td>\n",
       "      <td>-0.389773</td>\n",
       "    </tr>\n",
       "    <tr>\n",
       "      <th>5</th>\n",
       "      <td>0.418606</td>\n",
       "      <td>-1.028078</td>\n",
       "      <td>-1.247698</td>\n",
       "      <td>-0.012559</td>\n",
       "    </tr>\n",
       "    <tr>\n",
       "      <th>6</th>\n",
       "      <td>0.019153</td>\n",
       "      <td>2.329312</td>\n",
       "      <td>-1.138677</td>\n",
       "      <td>0.085453</td>\n",
       "    </tr>\n",
       "    <tr>\n",
       "      <th>7</th>\n",
       "      <td>-0.586353</td>\n",
       "      <td>0.381554</td>\n",
       "      <td>-1.091102</td>\n",
       "      <td>0.280452</td>\n",
       "    </tr>\n",
       "    <tr>\n",
       "      <th>8</th>\n",
       "      <td>-0.155870</td>\n",
       "      <td>0.252613</td>\n",
       "      <td>-0.120166</td>\n",
       "      <td>2.021718</td>\n",
       "    </tr>\n",
       "    <tr>\n",
       "      <th>9</th>\n",
       "      <td>0.308568</td>\n",
       "      <td>1.667844</td>\n",
       "      <td>0.682308</td>\n",
       "      <td>0.619363</td>\n",
       "    </tr>\n",
       "  </tbody>\n",
       "</table>\n",
       "</div>"
      ],
      "text/plain": [
       "          0         1         2         3\n",
       "0  0.387580 -0.924829 -0.939689  1.104042\n",
       "1 -1.205748  0.954757 -1.225098  0.451506\n",
       "2  0.495104 -0.630885  0.282087  0.375195\n",
       "3 -0.191800 -1.214893 -1.010972  0.633715\n",
       "4  1.058585  2.592693  0.544061 -0.389773\n",
       "5  0.418606 -1.028078 -1.247698 -0.012559\n",
       "6  0.019153  2.329312 -1.138677  0.085453\n",
       "7 -0.586353  0.381554 -1.091102  0.280452\n",
       "8 -0.155870  0.252613 -0.120166  2.021718\n",
       "9  0.308568  1.667844  0.682308  0.619363"
      ]
     },
     "execution_count": 124,
     "metadata": {},
     "output_type": "execute_result"
    }
   ],
   "source": [
    "df = pd.DataFrame(np.random.randn(10, 4))\n",
    "df"
   ]
  },
  {
   "cell_type": "code",
   "execution_count": 125,
   "id": "121e5908-6c0d-4b15-b01c-9109d648eb0c",
   "metadata": {},
   "outputs": [
    {
     "data": {
      "text/plain": [
       "[          0         1         2         3\n",
       " 0  0.387580 -0.924829 -0.939689  1.104042\n",
       " 1 -1.205748  0.954757 -1.225098  0.451506\n",
       " 2  0.495104 -0.630885  0.282087  0.375195,\n",
       "           0         1         2         3\n",
       " 3 -0.191800 -1.214893 -1.010972  0.633715\n",
       " 4  1.058585  2.592693  0.544061 -0.389773\n",
       " 5  0.418606 -1.028078 -1.247698 -0.012559\n",
       " 6  0.019153  2.329312 -1.138677  0.085453,\n",
       "           0         1         2         3\n",
       " 7 -0.586353  0.381554 -1.091102  0.280452\n",
       " 8 -0.155870  0.252613 -0.120166  2.021718\n",
       " 9  0.308568  1.667844  0.682308  0.619363]"
      ]
     },
     "execution_count": 125,
     "metadata": {},
     "output_type": "execute_result"
    }
   ],
   "source": [
    "pieces = [df[ : 3], df[3 : 7], df[7 : ]]\n",
    "pieces"
   ]
  },
  {
   "cell_type": "code",
   "execution_count": 126,
   "id": "ea4bc699-b31a-4779-9cd8-cdbf5597837d",
   "metadata": {},
   "outputs": [
    {
     "data": {
      "text/html": [
       "<div>\n",
       "<style scoped>\n",
       "    .dataframe tbody tr th:only-of-type {\n",
       "        vertical-align: middle;\n",
       "    }\n",
       "\n",
       "    .dataframe tbody tr th {\n",
       "        vertical-align: top;\n",
       "    }\n",
       "\n",
       "    .dataframe thead th {\n",
       "        text-align: right;\n",
       "    }\n",
       "</style>\n",
       "<table border=\"1\" class=\"dataframe\">\n",
       "  <thead>\n",
       "    <tr style=\"text-align: right;\">\n",
       "      <th></th>\n",
       "      <th>0</th>\n",
       "      <th>1</th>\n",
       "      <th>2</th>\n",
       "      <th>3</th>\n",
       "    </tr>\n",
       "  </thead>\n",
       "  <tbody>\n",
       "    <tr>\n",
       "      <th>0</th>\n",
       "      <td>0.387580</td>\n",
       "      <td>-0.924829</td>\n",
       "      <td>-0.939689</td>\n",
       "      <td>1.104042</td>\n",
       "    </tr>\n",
       "    <tr>\n",
       "      <th>1</th>\n",
       "      <td>-1.205748</td>\n",
       "      <td>0.954757</td>\n",
       "      <td>-1.225098</td>\n",
       "      <td>0.451506</td>\n",
       "    </tr>\n",
       "    <tr>\n",
       "      <th>2</th>\n",
       "      <td>0.495104</td>\n",
       "      <td>-0.630885</td>\n",
       "      <td>0.282087</td>\n",
       "      <td>0.375195</td>\n",
       "    </tr>\n",
       "    <tr>\n",
       "      <th>3</th>\n",
       "      <td>-0.191800</td>\n",
       "      <td>-1.214893</td>\n",
       "      <td>-1.010972</td>\n",
       "      <td>0.633715</td>\n",
       "    </tr>\n",
       "    <tr>\n",
       "      <th>4</th>\n",
       "      <td>1.058585</td>\n",
       "      <td>2.592693</td>\n",
       "      <td>0.544061</td>\n",
       "      <td>-0.389773</td>\n",
       "    </tr>\n",
       "    <tr>\n",
       "      <th>5</th>\n",
       "      <td>0.418606</td>\n",
       "      <td>-1.028078</td>\n",
       "      <td>-1.247698</td>\n",
       "      <td>-0.012559</td>\n",
       "    </tr>\n",
       "    <tr>\n",
       "      <th>6</th>\n",
       "      <td>0.019153</td>\n",
       "      <td>2.329312</td>\n",
       "      <td>-1.138677</td>\n",
       "      <td>0.085453</td>\n",
       "    </tr>\n",
       "    <tr>\n",
       "      <th>7</th>\n",
       "      <td>-0.586353</td>\n",
       "      <td>0.381554</td>\n",
       "      <td>-1.091102</td>\n",
       "      <td>0.280452</td>\n",
       "    </tr>\n",
       "    <tr>\n",
       "      <th>8</th>\n",
       "      <td>-0.155870</td>\n",
       "      <td>0.252613</td>\n",
       "      <td>-0.120166</td>\n",
       "      <td>2.021718</td>\n",
       "    </tr>\n",
       "    <tr>\n",
       "      <th>9</th>\n",
       "      <td>0.308568</td>\n",
       "      <td>1.667844</td>\n",
       "      <td>0.682308</td>\n",
       "      <td>0.619363</td>\n",
       "    </tr>\n",
       "  </tbody>\n",
       "</table>\n",
       "</div>"
      ],
      "text/plain": [
       "          0         1         2         3\n",
       "0  0.387580 -0.924829 -0.939689  1.104042\n",
       "1 -1.205748  0.954757 -1.225098  0.451506\n",
       "2  0.495104 -0.630885  0.282087  0.375195\n",
       "3 -0.191800 -1.214893 -1.010972  0.633715\n",
       "4  1.058585  2.592693  0.544061 -0.389773\n",
       "5  0.418606 -1.028078 -1.247698 -0.012559\n",
       "6  0.019153  2.329312 -1.138677  0.085453\n",
       "7 -0.586353  0.381554 -1.091102  0.280452\n",
       "8 -0.155870  0.252613 -0.120166  2.021718\n",
       "9  0.308568  1.667844  0.682308  0.619363"
      ]
     },
     "execution_count": 126,
     "metadata": {},
     "output_type": "execute_result"
    }
   ],
   "source": [
    "conc = pd.concat(pieces)\n",
    "conc"
   ]
  },
  {
   "cell_type": "code",
   "execution_count": 127,
   "id": "c24191f1-711c-4083-894f-f9350db66464",
   "metadata": {},
   "outputs": [
    {
     "data": {
      "text/plain": [
       "list"
      ]
     },
     "execution_count": 127,
     "metadata": {},
     "output_type": "execute_result"
    }
   ],
   "source": [
    "type(pieces)"
   ]
  },
  {
   "cell_type": "code",
   "execution_count": 128,
   "id": "913c0ca2-a490-43e5-baea-2ccdde8670f7",
   "metadata": {},
   "outputs": [
    {
     "data": {
      "text/plain": [
       "pandas.core.frame.DataFrame"
      ]
     },
     "execution_count": 128,
     "metadata": {},
     "output_type": "execute_result"
    }
   ],
   "source": [
    "type(conc)"
   ]
  },
  {
   "cell_type": "code",
   "execution_count": 129,
   "id": "c443a4aa-20e3-4453-88d4-af5723c2367f",
   "metadata": {},
   "outputs": [
    {
     "data": {
      "text/html": [
       "<div>\n",
       "<style scoped>\n",
       "    .dataframe tbody tr th:only-of-type {\n",
       "        vertical-align: middle;\n",
       "    }\n",
       "\n",
       "    .dataframe tbody tr th {\n",
       "        vertical-align: top;\n",
       "    }\n",
       "\n",
       "    .dataframe thead th {\n",
       "        text-align: right;\n",
       "    }\n",
       "</style>\n",
       "<table border=\"1\" class=\"dataframe\">\n",
       "  <thead>\n",
       "    <tr style=\"text-align: right;\">\n",
       "      <th></th>\n",
       "      <th>key</th>\n",
       "      <th>lval</th>\n",
       "    </tr>\n",
       "  </thead>\n",
       "  <tbody>\n",
       "    <tr>\n",
       "      <th>0</th>\n",
       "      <td>foo</td>\n",
       "      <td>1</td>\n",
       "    </tr>\n",
       "    <tr>\n",
       "      <th>1</th>\n",
       "      <td>foo</td>\n",
       "      <td>2</td>\n",
       "    </tr>\n",
       "  </tbody>\n",
       "</table>\n",
       "</div>"
      ],
      "text/plain": [
       "   key  lval\n",
       "0  foo     1\n",
       "1  foo     2"
      ]
     },
     "execution_count": 129,
     "metadata": {},
     "output_type": "execute_result"
    }
   ],
   "source": [
    "left1 = pd.DataFrame({\"key\" : [\"foo\", \"foo\"], \"lval\" : [1, 2]})\n",
    "left1"
   ]
  },
  {
   "cell_type": "code",
   "execution_count": 130,
   "id": "71e808b0-19bb-4c14-8ac3-90593b3316b5",
   "metadata": {},
   "outputs": [
    {
     "data": {
      "text/html": [
       "<div>\n",
       "<style scoped>\n",
       "    .dataframe tbody tr th:only-of-type {\n",
       "        vertical-align: middle;\n",
       "    }\n",
       "\n",
       "    .dataframe tbody tr th {\n",
       "        vertical-align: top;\n",
       "    }\n",
       "\n",
       "    .dataframe thead th {\n",
       "        text-align: right;\n",
       "    }\n",
       "</style>\n",
       "<table border=\"1\" class=\"dataframe\">\n",
       "  <thead>\n",
       "    <tr style=\"text-align: right;\">\n",
       "      <th></th>\n",
       "      <th>key</th>\n",
       "      <th>rval</th>\n",
       "    </tr>\n",
       "  </thead>\n",
       "  <tbody>\n",
       "    <tr>\n",
       "      <th>0</th>\n",
       "      <td>foo</td>\n",
       "      <td>3</td>\n",
       "    </tr>\n",
       "    <tr>\n",
       "      <th>1</th>\n",
       "      <td>foo</td>\n",
       "      <td>4</td>\n",
       "    </tr>\n",
       "  </tbody>\n",
       "</table>\n",
       "</div>"
      ],
      "text/plain": [
       "   key  rval\n",
       "0  foo     3\n",
       "1  foo     4"
      ]
     },
     "execution_count": 130,
     "metadata": {},
     "output_type": "execute_result"
    }
   ],
   "source": [
    "right1 = pd.DataFrame({\"key\" : [\"foo\", \"foo\"], \"rval\" : [3, 4]})\n",
    "right1"
   ]
  },
  {
   "cell_type": "code",
   "execution_count": 131,
   "id": "fa8c51ad-9cbd-4476-a50f-d236fa268f2f",
   "metadata": {},
   "outputs": [
    {
     "data": {
      "text/html": [
       "<div>\n",
       "<style scoped>\n",
       "    .dataframe tbody tr th:only-of-type {\n",
       "        vertical-align: middle;\n",
       "    }\n",
       "\n",
       "    .dataframe tbody tr th {\n",
       "        vertical-align: top;\n",
       "    }\n",
       "\n",
       "    .dataframe thead th {\n",
       "        text-align: right;\n",
       "    }\n",
       "</style>\n",
       "<table border=\"1\" class=\"dataframe\">\n",
       "  <thead>\n",
       "    <tr style=\"text-align: right;\">\n",
       "      <th></th>\n",
       "      <th>key</th>\n",
       "      <th>lval</th>\n",
       "      <th>rval</th>\n",
       "    </tr>\n",
       "  </thead>\n",
       "  <tbody>\n",
       "    <tr>\n",
       "      <th>0</th>\n",
       "      <td>foo</td>\n",
       "      <td>1</td>\n",
       "      <td>3</td>\n",
       "    </tr>\n",
       "    <tr>\n",
       "      <th>1</th>\n",
       "      <td>foo</td>\n",
       "      <td>1</td>\n",
       "      <td>4</td>\n",
       "    </tr>\n",
       "    <tr>\n",
       "      <th>2</th>\n",
       "      <td>foo</td>\n",
       "      <td>2</td>\n",
       "      <td>3</td>\n",
       "    </tr>\n",
       "    <tr>\n",
       "      <th>3</th>\n",
       "      <td>foo</td>\n",
       "      <td>2</td>\n",
       "      <td>4</td>\n",
       "    </tr>\n",
       "  </tbody>\n",
       "</table>\n",
       "</div>"
      ],
      "text/plain": [
       "   key  lval  rval\n",
       "0  foo     1     3\n",
       "1  foo     1     4\n",
       "2  foo     2     3\n",
       "3  foo     2     4"
      ]
     },
     "execution_count": 131,
     "metadata": {},
     "output_type": "execute_result"
    }
   ],
   "source": [
    "pd.merge(left1, right1, on = \"key\")"
   ]
  },
  {
   "cell_type": "code",
   "execution_count": 132,
   "id": "8072e17e-79cd-43d2-a9eb-462c98af7bc7",
   "metadata": {},
   "outputs": [
    {
     "data": {
      "text/html": [
       "<div>\n",
       "<style scoped>\n",
       "    .dataframe tbody tr th:only-of-type {\n",
       "        vertical-align: middle;\n",
       "    }\n",
       "\n",
       "    .dataframe tbody tr th {\n",
       "        vertical-align: top;\n",
       "    }\n",
       "\n",
       "    .dataframe thead th {\n",
       "        text-align: right;\n",
       "    }\n",
       "</style>\n",
       "<table border=\"1\" class=\"dataframe\">\n",
       "  <thead>\n",
       "    <tr style=\"text-align: right;\">\n",
       "      <th></th>\n",
       "      <th>key</th>\n",
       "      <th>lval</th>\n",
       "      <th>rval</th>\n",
       "    </tr>\n",
       "  </thead>\n",
       "  <tbody>\n",
       "    <tr>\n",
       "      <th>0</th>\n",
       "      <td>foo</td>\n",
       "      <td>1</td>\n",
       "      <td>3</td>\n",
       "    </tr>\n",
       "    <tr>\n",
       "      <th>1</th>\n",
       "      <td>foo</td>\n",
       "      <td>1</td>\n",
       "      <td>4</td>\n",
       "    </tr>\n",
       "    <tr>\n",
       "      <th>2</th>\n",
       "      <td>foo</td>\n",
       "      <td>2</td>\n",
       "      <td>3</td>\n",
       "    </tr>\n",
       "    <tr>\n",
       "      <th>3</th>\n",
       "      <td>foo</td>\n",
       "      <td>2</td>\n",
       "      <td>4</td>\n",
       "    </tr>\n",
       "  </tbody>\n",
       "</table>\n",
       "</div>"
      ],
      "text/plain": [
       "   key  lval  rval\n",
       "0  foo     1     3\n",
       "1  foo     1     4\n",
       "2  foo     2     3\n",
       "3  foo     2     4"
      ]
     },
     "execution_count": 132,
     "metadata": {},
     "output_type": "execute_result"
    }
   ],
   "source": [
    "pd.merge(left1, right1)"
   ]
  },
  {
   "cell_type": "code",
   "execution_count": 133,
   "id": "7eac5dbe-abdd-42d9-8046-5232d1b4514c",
   "metadata": {},
   "outputs": [
    {
     "data": {
      "text/html": [
       "<div>\n",
       "<style scoped>\n",
       "    .dataframe tbody tr th:only-of-type {\n",
       "        vertical-align: middle;\n",
       "    }\n",
       "\n",
       "    .dataframe tbody tr th {\n",
       "        vertical-align: top;\n",
       "    }\n",
       "\n",
       "    .dataframe thead th {\n",
       "        text-align: right;\n",
       "    }\n",
       "</style>\n",
       "<table border=\"1\" class=\"dataframe\">\n",
       "  <thead>\n",
       "    <tr style=\"text-align: right;\">\n",
       "      <th></th>\n",
       "      <th>key</th>\n",
       "      <th>lval</th>\n",
       "    </tr>\n",
       "  </thead>\n",
       "  <tbody>\n",
       "    <tr>\n",
       "      <th>0</th>\n",
       "      <td>foo</td>\n",
       "      <td>1</td>\n",
       "    </tr>\n",
       "    <tr>\n",
       "      <th>1</th>\n",
       "      <td>bar</td>\n",
       "      <td>2</td>\n",
       "    </tr>\n",
       "  </tbody>\n",
       "</table>\n",
       "</div>"
      ],
      "text/plain": [
       "   key  lval\n",
       "0  foo     1\n",
       "1  bar     2"
      ]
     },
     "execution_count": 133,
     "metadata": {},
     "output_type": "execute_result"
    }
   ],
   "source": [
    "left2 = pd.DataFrame({\"key\" : [\"foo\", \"bar\"], \"lval\" : [1, 2]})\n",
    "left2"
   ]
  },
  {
   "cell_type": "code",
   "execution_count": 134,
   "id": "93e79966-b203-4a8b-b0a5-73398c25ba86",
   "metadata": {},
   "outputs": [
    {
     "data": {
      "text/html": [
       "<div>\n",
       "<style scoped>\n",
       "    .dataframe tbody tr th:only-of-type {\n",
       "        vertical-align: middle;\n",
       "    }\n",
       "\n",
       "    .dataframe tbody tr th {\n",
       "        vertical-align: top;\n",
       "    }\n",
       "\n",
       "    .dataframe thead th {\n",
       "        text-align: right;\n",
       "    }\n",
       "</style>\n",
       "<table border=\"1\" class=\"dataframe\">\n",
       "  <thead>\n",
       "    <tr style=\"text-align: right;\">\n",
       "      <th></th>\n",
       "      <th>key</th>\n",
       "      <th>rval</th>\n",
       "    </tr>\n",
       "  </thead>\n",
       "  <tbody>\n",
       "    <tr>\n",
       "      <th>0</th>\n",
       "      <td>foo</td>\n",
       "      <td>3</td>\n",
       "    </tr>\n",
       "    <tr>\n",
       "      <th>1</th>\n",
       "      <td>bar</td>\n",
       "      <td>4</td>\n",
       "    </tr>\n",
       "  </tbody>\n",
       "</table>\n",
       "</div>"
      ],
      "text/plain": [
       "   key  rval\n",
       "0  foo     3\n",
       "1  bar     4"
      ]
     },
     "execution_count": 134,
     "metadata": {},
     "output_type": "execute_result"
    }
   ],
   "source": [
    "right2 = pd.DataFrame({\"key\" : [\"foo\", \"bar\"], \"rval\" : [3, 4]})\n",
    "right2"
   ]
  },
  {
   "cell_type": "code",
   "execution_count": 135,
   "id": "b4f13599-7118-4662-93b4-abaedec5ce17",
   "metadata": {},
   "outputs": [
    {
     "data": {
      "text/html": [
       "<div>\n",
       "<style scoped>\n",
       "    .dataframe tbody tr th:only-of-type {\n",
       "        vertical-align: middle;\n",
       "    }\n",
       "\n",
       "    .dataframe tbody tr th {\n",
       "        vertical-align: top;\n",
       "    }\n",
       "\n",
       "    .dataframe thead th {\n",
       "        text-align: right;\n",
       "    }\n",
       "</style>\n",
       "<table border=\"1\" class=\"dataframe\">\n",
       "  <thead>\n",
       "    <tr style=\"text-align: right;\">\n",
       "      <th></th>\n",
       "      <th>key</th>\n",
       "      <th>lval</th>\n",
       "      <th>rval</th>\n",
       "    </tr>\n",
       "  </thead>\n",
       "  <tbody>\n",
       "    <tr>\n",
       "      <th>0</th>\n",
       "      <td>foo</td>\n",
       "      <td>1</td>\n",
       "      <td>3</td>\n",
       "    </tr>\n",
       "    <tr>\n",
       "      <th>1</th>\n",
       "      <td>bar</td>\n",
       "      <td>2</td>\n",
       "      <td>4</td>\n",
       "    </tr>\n",
       "  </tbody>\n",
       "</table>\n",
       "</div>"
      ],
      "text/plain": [
       "   key  lval  rval\n",
       "0  foo     1     3\n",
       "1  bar     2     4"
      ]
     },
     "execution_count": 135,
     "metadata": {},
     "output_type": "execute_result"
    }
   ],
   "source": [
    "pd.merge(left2, right2, on = \"key\")"
   ]
  },
  {
   "cell_type": "code",
   "execution_count": 136,
   "id": "90960ec2-da46-4873-b6a5-aa0226639212",
   "metadata": {},
   "outputs": [
    {
     "data": {
      "text/html": [
       "<div>\n",
       "<style scoped>\n",
       "    .dataframe tbody tr th:only-of-type {\n",
       "        vertical-align: middle;\n",
       "    }\n",
       "\n",
       "    .dataframe tbody tr th {\n",
       "        vertical-align: top;\n",
       "    }\n",
       "\n",
       "    .dataframe thead th {\n",
       "        text-align: right;\n",
       "    }\n",
       "</style>\n",
       "<table border=\"1\" class=\"dataframe\">\n",
       "  <thead>\n",
       "    <tr style=\"text-align: right;\">\n",
       "      <th></th>\n",
       "      <th>key</th>\n",
       "      <th>lval</th>\n",
       "      <th>rval</th>\n",
       "    </tr>\n",
       "  </thead>\n",
       "  <tbody>\n",
       "    <tr>\n",
       "      <th>0</th>\n",
       "      <td>foo</td>\n",
       "      <td>1</td>\n",
       "      <td>3</td>\n",
       "    </tr>\n",
       "    <tr>\n",
       "      <th>1</th>\n",
       "      <td>bar</td>\n",
       "      <td>2</td>\n",
       "      <td>4</td>\n",
       "    </tr>\n",
       "  </tbody>\n",
       "</table>\n",
       "</div>"
      ],
      "text/plain": [
       "   key  lval  rval\n",
       "0  foo     1     3\n",
       "1  bar     2     4"
      ]
     },
     "execution_count": 136,
     "metadata": {},
     "output_type": "execute_result"
    }
   ],
   "source": [
    "pd.merge(left2, right2)"
   ]
  },
  {
   "cell_type": "code",
   "execution_count": 137,
   "id": "53b6b620-24ca-4f57-815b-72065723035b",
   "metadata": {},
   "outputs": [
    {
     "data": {
      "text/html": [
       "<div>\n",
       "<style scoped>\n",
       "    .dataframe tbody tr th:only-of-type {\n",
       "        vertical-align: middle;\n",
       "    }\n",
       "\n",
       "    .dataframe tbody tr th {\n",
       "        vertical-align: top;\n",
       "    }\n",
       "\n",
       "    .dataframe thead th {\n",
       "        text-align: right;\n",
       "    }\n",
       "</style>\n",
       "<table border=\"1\" class=\"dataframe\">\n",
       "  <thead>\n",
       "    <tr style=\"text-align: right;\">\n",
       "      <th></th>\n",
       "      <th>A</th>\n",
       "      <th>B</th>\n",
       "      <th>C</th>\n",
       "      <th>D</th>\n",
       "    </tr>\n",
       "  </thead>\n",
       "  <tbody>\n",
       "    <tr>\n",
       "      <th>0</th>\n",
       "      <td>foo</td>\n",
       "      <td>one</td>\n",
       "      <td>1.814603</td>\n",
       "      <td>1.721097</td>\n",
       "    </tr>\n",
       "    <tr>\n",
       "      <th>1</th>\n",
       "      <td>bar</td>\n",
       "      <td>one</td>\n",
       "      <td>-0.396406</td>\n",
       "      <td>-0.141689</td>\n",
       "    </tr>\n",
       "    <tr>\n",
       "      <th>2</th>\n",
       "      <td>foo</td>\n",
       "      <td>two</td>\n",
       "      <td>-0.170888</td>\n",
       "      <td>-0.938966</td>\n",
       "    </tr>\n",
       "    <tr>\n",
       "      <th>3</th>\n",
       "      <td>bar</td>\n",
       "      <td>three</td>\n",
       "      <td>-0.499496</td>\n",
       "      <td>-0.579296</td>\n",
       "    </tr>\n",
       "    <tr>\n",
       "      <th>4</th>\n",
       "      <td>foo</td>\n",
       "      <td>two</td>\n",
       "      <td>0.196049</td>\n",
       "      <td>0.006398</td>\n",
       "    </tr>\n",
       "    <tr>\n",
       "      <th>5</th>\n",
       "      <td>bar</td>\n",
       "      <td>two</td>\n",
       "      <td>0.122406</td>\n",
       "      <td>-0.171564</td>\n",
       "    </tr>\n",
       "    <tr>\n",
       "      <th>6</th>\n",
       "      <td>foo</td>\n",
       "      <td>one</td>\n",
       "      <td>1.248965</td>\n",
       "      <td>0.294120</td>\n",
       "    </tr>\n",
       "    <tr>\n",
       "      <th>7</th>\n",
       "      <td>foo</td>\n",
       "      <td>three</td>\n",
       "      <td>0.344506</td>\n",
       "      <td>0.010921</td>\n",
       "    </tr>\n",
       "  </tbody>\n",
       "</table>\n",
       "</div>"
      ],
      "text/plain": [
       "     A      B         C         D\n",
       "0  foo    one  1.814603  1.721097\n",
       "1  bar    one -0.396406 -0.141689\n",
       "2  foo    two -0.170888 -0.938966\n",
       "3  bar  three -0.499496 -0.579296\n",
       "4  foo    two  0.196049  0.006398\n",
       "5  bar    two  0.122406 -0.171564\n",
       "6  foo    one  1.248965  0.294120\n",
       "7  foo  three  0.344506  0.010921"
      ]
     },
     "execution_count": 137,
     "metadata": {},
     "output_type": "execute_result"
    }
   ],
   "source": [
    "df = pd.DataFrame(\n",
    "    {\n",
    "        \"A\" : [\"foo\", \"bar\", \"foo\", \"bar\", \"foo\", \"bar\", \"foo\", \"foo\"],\n",
    "        \"B\" : [\"one\", \"one\", \"two\", \"three\", \"two\", \"two\", \"one\", \"three\"],\n",
    "        \"C\" : np.random.randn(8),\n",
    "        \"D\" : np.random.randn(8)\n",
    "    }   \n",
    ")\n",
    "df"
   ]
  },
  {
   "cell_type": "code",
   "execution_count": 138,
   "id": "3288f52c-c30b-41a5-94ad-e0145ce0e7ef",
   "metadata": {},
   "outputs": [
    {
     "data": {
      "text/html": [
       "<div>\n",
       "<style scoped>\n",
       "    .dataframe tbody tr th:only-of-type {\n",
       "        vertical-align: middle;\n",
       "    }\n",
       "\n",
       "    .dataframe tbody tr th {\n",
       "        vertical-align: top;\n",
       "    }\n",
       "\n",
       "    .dataframe thead th {\n",
       "        text-align: right;\n",
       "    }\n",
       "</style>\n",
       "<table border=\"1\" class=\"dataframe\">\n",
       "  <thead>\n",
       "    <tr style=\"text-align: right;\">\n",
       "      <th></th>\n",
       "      <th>C</th>\n",
       "      <th>D</th>\n",
       "    </tr>\n",
       "    <tr>\n",
       "      <th>A</th>\n",
       "      <th></th>\n",
       "      <th></th>\n",
       "    </tr>\n",
       "  </thead>\n",
       "  <tbody>\n",
       "    <tr>\n",
       "      <th>bar</th>\n",
       "      <td>-0.773495</td>\n",
       "      <td>-0.892549</td>\n",
       "    </tr>\n",
       "    <tr>\n",
       "      <th>foo</th>\n",
       "      <td>3.433235</td>\n",
       "      <td>1.093570</td>\n",
       "    </tr>\n",
       "  </tbody>\n",
       "</table>\n",
       "</div>"
      ],
      "text/plain": [
       "            C         D\n",
       "A                      \n",
       "bar -0.773495 -0.892549\n",
       "foo  3.433235  1.093570"
      ]
     },
     "execution_count": 138,
     "metadata": {},
     "output_type": "execute_result"
    }
   ],
   "source": [
    "df.groupby(\"A\")[[\"C\", \"D\"]].sum()\n"
   ]
  },
  {
   "cell_type": "code",
   "execution_count": 139,
   "id": "c410c24d-0fdc-489f-9b87-373f2ededdc9",
   "metadata": {},
   "outputs": [
    {
     "data": {
      "text/html": [
       "<div>\n",
       "<style scoped>\n",
       "    .dataframe tbody tr th:only-of-type {\n",
       "        vertical-align: middle;\n",
       "    }\n",
       "\n",
       "    .dataframe tbody tr th {\n",
       "        vertical-align: top;\n",
       "    }\n",
       "\n",
       "    .dataframe thead th {\n",
       "        text-align: right;\n",
       "    }\n",
       "</style>\n",
       "<table border=\"1\" class=\"dataframe\">\n",
       "  <thead>\n",
       "    <tr style=\"text-align: right;\">\n",
       "      <th></th>\n",
       "      <th></th>\n",
       "      <th>C</th>\n",
       "    </tr>\n",
       "    <tr>\n",
       "      <th>A</th>\n",
       "      <th>B</th>\n",
       "      <th></th>\n",
       "    </tr>\n",
       "  </thead>\n",
       "  <tbody>\n",
       "    <tr>\n",
       "      <th rowspan=\"3\" valign=\"top\">bar</th>\n",
       "      <th>one</th>\n",
       "      <td>-0.396406</td>\n",
       "    </tr>\n",
       "    <tr>\n",
       "      <th>three</th>\n",
       "      <td>-0.499496</td>\n",
       "    </tr>\n",
       "    <tr>\n",
       "      <th>two</th>\n",
       "      <td>0.122406</td>\n",
       "    </tr>\n",
       "    <tr>\n",
       "      <th rowspan=\"3\" valign=\"top\">foo</th>\n",
       "      <th>one</th>\n",
       "      <td>3.063568</td>\n",
       "    </tr>\n",
       "    <tr>\n",
       "      <th>three</th>\n",
       "      <td>0.344506</td>\n",
       "    </tr>\n",
       "    <tr>\n",
       "      <th>two</th>\n",
       "      <td>0.025162</td>\n",
       "    </tr>\n",
       "  </tbody>\n",
       "</table>\n",
       "</div>"
      ],
      "text/plain": [
       "                  C\n",
       "A   B              \n",
       "bar one   -0.396406\n",
       "    three -0.499496\n",
       "    two    0.122406\n",
       "foo one    3.063568\n",
       "    three  0.344506\n",
       "    two    0.025162"
      ]
     },
     "execution_count": 139,
     "metadata": {},
     "output_type": "execute_result"
    }
   ],
   "source": [
    "df.groupby([\"A\", \"B\"])[[\"C\"]].sum()"
   ]
  },
  {
   "cell_type": "code",
   "execution_count": 140,
   "id": "8c7b99ff-042e-4b24-9241-5f8a2c1d58ea",
   "metadata": {},
   "outputs": [
    {
     "data": {
      "text/plain": [
       "[['bar', 'bar', 'baz', 'baz', 'foo', 'foo', 'qux', 'qux'],\n",
       " ['one', 'two', 'one', 'two', 'one', 'two', 'one', 'two']]"
      ]
     },
     "execution_count": 140,
     "metadata": {},
     "output_type": "execute_result"
    }
   ],
   "source": [
    "arrays = [\n",
    "    [\"bar\", \"bar\", \"baz\", \"baz\", \"foo\", \"foo\", \"qux\", \"qux\"],\n",
    "    [\"one\", \"two\", \"one\", \"two\", \"one\", \"two\", \"one\", \"two\"]\n",
    "]\n",
    "arrays"
   ]
  },
  {
   "cell_type": "code",
   "execution_count": 141,
   "id": "97c80f0d-51e0-4fd0-ae19-9853372679a2",
   "metadata": {},
   "outputs": [
    {
     "data": {
      "text/plain": [
       "2"
      ]
     },
     "execution_count": 141,
     "metadata": {},
     "output_type": "execute_result"
    }
   ],
   "source": [
    "len(arrays)"
   ]
  },
  {
   "cell_type": "code",
   "execution_count": 142,
   "id": "1831a481-0e3b-464d-997b-afb551faf973",
   "metadata": {},
   "outputs": [
    {
     "data": {
      "text/plain": [
       "list"
      ]
     },
     "execution_count": 142,
     "metadata": {},
     "output_type": "execute_result"
    }
   ],
   "source": [
    "type(arrays)"
   ]
  },
  {
   "cell_type": "code",
   "execution_count": 143,
   "id": "abf70636-2cc4-4874-a5bd-f3362399cad1",
   "metadata": {},
   "outputs": [
    {
     "data": {
      "text/plain": [
       "MultiIndex([('bar', 'one'),\n",
       "            ('bar', 'two'),\n",
       "            ('baz', 'one'),\n",
       "            ('baz', 'two'),\n",
       "            ('foo', 'one'),\n",
       "            ('foo', 'two'),\n",
       "            ('qux', 'one'),\n",
       "            ('qux', 'two')],\n",
       "           names=['first', 'second'])"
      ]
     },
     "execution_count": 143,
     "metadata": {},
     "output_type": "execute_result"
    }
   ],
   "source": [
    "index = pd.MultiIndex.from_arrays(arrays, names = [\"first\", \"second\"])\n",
    "index"
   ]
  },
  {
   "cell_type": "code",
   "execution_count": 144,
   "id": "c64082e5-627b-4a96-9269-77a120f571c7",
   "metadata": {},
   "outputs": [
    {
     "data": {
      "text/html": [
       "<div>\n",
       "<style scoped>\n",
       "    .dataframe tbody tr th:only-of-type {\n",
       "        vertical-align: middle;\n",
       "    }\n",
       "\n",
       "    .dataframe tbody tr th {\n",
       "        vertical-align: top;\n",
       "    }\n",
       "\n",
       "    .dataframe thead th {\n",
       "        text-align: right;\n",
       "    }\n",
       "</style>\n",
       "<table border=\"1\" class=\"dataframe\">\n",
       "  <thead>\n",
       "    <tr style=\"text-align: right;\">\n",
       "      <th></th>\n",
       "      <th></th>\n",
       "      <th>A</th>\n",
       "      <th>B</th>\n",
       "      <th>C</th>\n",
       "    </tr>\n",
       "    <tr>\n",
       "      <th>first</th>\n",
       "      <th>second</th>\n",
       "      <th></th>\n",
       "      <th></th>\n",
       "      <th></th>\n",
       "    </tr>\n",
       "  </thead>\n",
       "  <tbody>\n",
       "    <tr>\n",
       "      <th rowspan=\"2\" valign=\"top\">bar</th>\n",
       "      <th>one</th>\n",
       "      <td>0.988268</td>\n",
       "      <td>-0.612910</td>\n",
       "      <td>-1.230822</td>\n",
       "    </tr>\n",
       "    <tr>\n",
       "      <th>two</th>\n",
       "      <td>-0.025548</td>\n",
       "      <td>1.826282</td>\n",
       "      <td>-0.088599</td>\n",
       "    </tr>\n",
       "    <tr>\n",
       "      <th rowspan=\"2\" valign=\"top\">baz</th>\n",
       "      <th>one</th>\n",
       "      <td>-0.949950</td>\n",
       "      <td>-0.408047</td>\n",
       "      <td>1.362447</td>\n",
       "    </tr>\n",
       "    <tr>\n",
       "      <th>two</th>\n",
       "      <td>0.395107</td>\n",
       "      <td>0.095277</td>\n",
       "      <td>-0.707378</td>\n",
       "    </tr>\n",
       "    <tr>\n",
       "      <th rowspan=\"2\" valign=\"top\">foo</th>\n",
       "      <th>one</th>\n",
       "      <td>-0.884275</td>\n",
       "      <td>0.323158</td>\n",
       "      <td>-0.334650</td>\n",
       "    </tr>\n",
       "    <tr>\n",
       "      <th>two</th>\n",
       "      <td>-1.180846</td>\n",
       "      <td>-1.092718</td>\n",
       "      <td>-0.218671</td>\n",
       "    </tr>\n",
       "    <tr>\n",
       "      <th rowspan=\"2\" valign=\"top\">qux</th>\n",
       "      <th>one</th>\n",
       "      <td>1.889797</td>\n",
       "      <td>-0.864348</td>\n",
       "      <td>-2.347890</td>\n",
       "    </tr>\n",
       "    <tr>\n",
       "      <th>two</th>\n",
       "      <td>-2.399960</td>\n",
       "      <td>0.967850</td>\n",
       "      <td>-0.552458</td>\n",
       "    </tr>\n",
       "  </tbody>\n",
       "</table>\n",
       "</div>"
      ],
      "text/plain": [
       "                     A         B         C\n",
       "first second                              \n",
       "bar   one     0.988268 -0.612910 -1.230822\n",
       "      two    -0.025548  1.826282 -0.088599\n",
       "baz   one    -0.949950 -0.408047  1.362447\n",
       "      two     0.395107  0.095277 -0.707378\n",
       "foo   one    -0.884275  0.323158 -0.334650\n",
       "      two    -1.180846 -1.092718 -0.218671\n",
       "qux   one     1.889797 -0.864348 -2.347890\n",
       "      two    -2.399960  0.967850 -0.552458"
      ]
     },
     "execution_count": 144,
     "metadata": {},
     "output_type": "execute_result"
    }
   ],
   "source": [
    "df = pd.DataFrame(np.random.randn(8, 3), index = index, columns = [\"A\", \"B\", \"C\"])\n",
    "df"
   ]
  },
  {
   "cell_type": "code",
   "execution_count": 145,
   "id": "1df11bbc-4c5a-431c-969f-a5c9f4df09a9",
   "metadata": {},
   "outputs": [
    {
     "data": {
      "text/plain": [
       "first  second   \n",
       "bar    one     A    0.988268\n",
       "               B   -0.612910\n",
       "               C   -1.230822\n",
       "       two     A   -0.025548\n",
       "               B    1.826282\n",
       "               C   -0.088599\n",
       "baz    one     A   -0.949950\n",
       "               B   -0.408047\n",
       "               C    1.362447\n",
       "       two     A    0.395107\n",
       "               B    0.095277\n",
       "               C   -0.707378\n",
       "foo    one     A   -0.884275\n",
       "               B    0.323158\n",
       "               C   -0.334650\n",
       "       two     A   -1.180846\n",
       "               B   -1.092718\n",
       "               C   -0.218671\n",
       "qux    one     A    1.889797\n",
       "               B   -0.864348\n",
       "               C   -2.347890\n",
       "       two     A   -2.399960\n",
       "               B    0.967850\n",
       "               C   -0.552458\n",
       "dtype: float64"
      ]
     },
     "execution_count": 145,
     "metadata": {},
     "output_type": "execute_result"
    }
   ],
   "source": [
    "stacked = df.stack(future_stack = True)\n",
    "stacked"
   ]
  },
  {
   "cell_type": "code",
   "execution_count": 146,
   "id": "030ecc8d-b65e-4c72-8364-24a4ce407301",
   "metadata": {},
   "outputs": [
    {
     "data": {
      "text/plain": [
       "(24,)"
      ]
     },
     "execution_count": 146,
     "metadata": {},
     "output_type": "execute_result"
    }
   ],
   "source": [
    "stacked.shape"
   ]
  },
  {
   "cell_type": "code",
   "execution_count": 147,
   "id": "bba91dec-20e3-4fa5-bd34-d5eebf15c976",
   "metadata": {},
   "outputs": [
    {
     "data": {
      "text/plain": [
       "first  second   \n",
       "bar    one     A    0.988268\n",
       "               B   -0.612910\n",
       "               C   -1.230822\n",
       "       two     A   -0.025548\n",
       "               B    1.826282\n",
       "               C   -0.088599\n",
       "baz    one     A   -0.949950\n",
       "dtype: float64"
      ]
     },
     "execution_count": 147,
     "metadata": {},
     "output_type": "execute_result"
    }
   ],
   "source": [
    "stacked.iloc[0 : 7]"
   ]
  },
  {
   "cell_type": "code",
   "execution_count": 148,
   "id": "3f5c2d4b-7827-4fbe-bc48-0abcd78b3ac0",
   "metadata": {},
   "outputs": [
    {
     "data": {
      "text/plain": [
       "0.9882677859495327"
      ]
     },
     "execution_count": 148,
     "metadata": {},
     "output_type": "execute_result"
    }
   ],
   "source": [
    "stacked.iloc[0]"
   ]
  },
  {
   "cell_type": "code",
   "execution_count": 149,
   "id": "308a0246-9514-4f1c-a8dc-259825826543",
   "metadata": {},
   "outputs": [
    {
     "data": {
      "text/plain": [
       "-0.9499503202265892"
      ]
     },
     "execution_count": 149,
     "metadata": {},
     "output_type": "execute_result"
    }
   ],
   "source": [
    "stacked.iloc[6]"
   ]
  },
  {
   "cell_type": "code",
   "execution_count": 150,
   "id": "3708dbdb-7f60-4e49-959d-d2c7d336fcb9",
   "metadata": {},
   "outputs": [
    {
     "data": {
      "text/plain": [
       "second   \n",
       "one     A    0.988268\n",
       "        B   -0.612910\n",
       "        C   -1.230822\n",
       "two     A   -0.025548\n",
       "        B    1.826282\n",
       "        C   -0.088599\n",
       "dtype: float64"
      ]
     },
     "execution_count": 150,
     "metadata": {},
     "output_type": "execute_result"
    }
   ],
   "source": [
    "stacked[\"bar\"]"
   ]
  },
  {
   "cell_type": "code",
   "execution_count": 151,
   "id": "f01ec5cf-e134-41d1-a94d-ee661c9bbb92",
   "metadata": {},
   "outputs": [
    {
     "data": {
      "text/plain": [
       "A   -0.025548\n",
       "B    1.826282\n",
       "C   -0.088599\n",
       "dtype: float64"
      ]
     },
     "execution_count": 151,
     "metadata": {},
     "output_type": "execute_result"
    }
   ],
   "source": [
    "stacked[\"bar\"][\"two\"]"
   ]
  },
  {
   "cell_type": "code",
   "execution_count": 152,
   "id": "34e3e888-6b0b-4cce-9f5b-8ecd50381a9c",
   "metadata": {},
   "outputs": [
    {
     "data": {
      "text/plain": [
       "first  second   \n",
       "bar    one     A    0.988268\n",
       "               B   -0.612910\n",
       "               C   -1.230822\n",
       "       two     A   -0.025548\n",
       "               B    1.826282\n",
       "               C   -0.088599\n",
       "baz    one     A   -0.949950\n",
       "               B   -0.408047\n",
       "               C    1.362447\n",
       "       two     A    0.395107\n",
       "               B    0.095277\n",
       "               C   -0.707378\n",
       "foo    one     A   -0.884275\n",
       "               B    0.323158\n",
       "               C   -0.334650\n",
       "       two     A   -1.180846\n",
       "               B   -1.092718\n",
       "               C   -0.218671\n",
       "qux    one     A    1.889797\n",
       "               B   -0.864348\n",
       "               C   -2.347890\n",
       "       two     A   -2.399960\n",
       "               B    0.967850\n",
       "               C   -0.552458\n",
       "dtype: float64"
      ]
     },
     "execution_count": 152,
     "metadata": {},
     "output_type": "execute_result"
    }
   ],
   "source": [
    "stacked"
   ]
  },
  {
   "cell_type": "code",
   "execution_count": 153,
   "id": "ea29c797-ffc3-44cc-af17-23ab0db71993",
   "metadata": {},
   "outputs": [
    {
     "data": {
      "text/html": [
       "<div>\n",
       "<style scoped>\n",
       "    .dataframe tbody tr th:only-of-type {\n",
       "        vertical-align: middle;\n",
       "    }\n",
       "\n",
       "    .dataframe tbody tr th {\n",
       "        vertical-align: top;\n",
       "    }\n",
       "\n",
       "    .dataframe thead th {\n",
       "        text-align: right;\n",
       "    }\n",
       "</style>\n",
       "<table border=\"1\" class=\"dataframe\">\n",
       "  <thead>\n",
       "    <tr style=\"text-align: right;\">\n",
       "      <th></th>\n",
       "      <th></th>\n",
       "      <th>A</th>\n",
       "      <th>B</th>\n",
       "      <th>C</th>\n",
       "    </tr>\n",
       "    <tr>\n",
       "      <th>first</th>\n",
       "      <th>second</th>\n",
       "      <th></th>\n",
       "      <th></th>\n",
       "      <th></th>\n",
       "    </tr>\n",
       "  </thead>\n",
       "  <tbody>\n",
       "    <tr>\n",
       "      <th rowspan=\"2\" valign=\"top\">bar</th>\n",
       "      <th>one</th>\n",
       "      <td>0.988268</td>\n",
       "      <td>-0.612910</td>\n",
       "      <td>-1.230822</td>\n",
       "    </tr>\n",
       "    <tr>\n",
       "      <th>two</th>\n",
       "      <td>-0.025548</td>\n",
       "      <td>1.826282</td>\n",
       "      <td>-0.088599</td>\n",
       "    </tr>\n",
       "    <tr>\n",
       "      <th rowspan=\"2\" valign=\"top\">baz</th>\n",
       "      <th>one</th>\n",
       "      <td>-0.949950</td>\n",
       "      <td>-0.408047</td>\n",
       "      <td>1.362447</td>\n",
       "    </tr>\n",
       "    <tr>\n",
       "      <th>two</th>\n",
       "      <td>0.395107</td>\n",
       "      <td>0.095277</td>\n",
       "      <td>-0.707378</td>\n",
       "    </tr>\n",
       "    <tr>\n",
       "      <th rowspan=\"2\" valign=\"top\">foo</th>\n",
       "      <th>one</th>\n",
       "      <td>-0.884275</td>\n",
       "      <td>0.323158</td>\n",
       "      <td>-0.334650</td>\n",
       "    </tr>\n",
       "    <tr>\n",
       "      <th>two</th>\n",
       "      <td>-1.180846</td>\n",
       "      <td>-1.092718</td>\n",
       "      <td>-0.218671</td>\n",
       "    </tr>\n",
       "    <tr>\n",
       "      <th rowspan=\"2\" valign=\"top\">qux</th>\n",
       "      <th>one</th>\n",
       "      <td>1.889797</td>\n",
       "      <td>-0.864348</td>\n",
       "      <td>-2.347890</td>\n",
       "    </tr>\n",
       "    <tr>\n",
       "      <th>two</th>\n",
       "      <td>-2.399960</td>\n",
       "      <td>0.967850</td>\n",
       "      <td>-0.552458</td>\n",
       "    </tr>\n",
       "  </tbody>\n",
       "</table>\n",
       "</div>"
      ],
      "text/plain": [
       "                     A         B         C\n",
       "first second                              \n",
       "bar   one     0.988268 -0.612910 -1.230822\n",
       "      two    -0.025548  1.826282 -0.088599\n",
       "baz   one    -0.949950 -0.408047  1.362447\n",
       "      two     0.395107  0.095277 -0.707378\n",
       "foo   one    -0.884275  0.323158 -0.334650\n",
       "      two    -1.180846 -1.092718 -0.218671\n",
       "qux   one     1.889797 -0.864348 -2.347890\n",
       "      two    -2.399960  0.967850 -0.552458"
      ]
     },
     "execution_count": 153,
     "metadata": {},
     "output_type": "execute_result"
    }
   ],
   "source": [
    "unstacked = stacked.unstack()\n",
    "unstacked"
   ]
  },
  {
   "cell_type": "code",
   "execution_count": 154,
   "id": "e1bf8c80-9a6d-4050-bd11-a6a90d0c136d",
   "metadata": {},
   "outputs": [
    {
     "data": {
      "text/html": [
       "<div>\n",
       "<style scoped>\n",
       "    .dataframe tbody tr th:only-of-type {\n",
       "        vertical-align: middle;\n",
       "    }\n",
       "\n",
       "    .dataframe tbody tr th {\n",
       "        vertical-align: top;\n",
       "    }\n",
       "\n",
       "    .dataframe thead th {\n",
       "        text-align: right;\n",
       "    }\n",
       "</style>\n",
       "<table border=\"1\" class=\"dataframe\">\n",
       "  <thead>\n",
       "    <tr style=\"text-align: right;\">\n",
       "      <th></th>\n",
       "      <th>second</th>\n",
       "      <th>one</th>\n",
       "      <th>two</th>\n",
       "    </tr>\n",
       "    <tr>\n",
       "      <th>first</th>\n",
       "      <th></th>\n",
       "      <th></th>\n",
       "      <th></th>\n",
       "    </tr>\n",
       "  </thead>\n",
       "  <tbody>\n",
       "    <tr>\n",
       "      <th rowspan=\"3\" valign=\"top\">bar</th>\n",
       "      <th>A</th>\n",
       "      <td>0.988268</td>\n",
       "      <td>-0.025548</td>\n",
       "    </tr>\n",
       "    <tr>\n",
       "      <th>B</th>\n",
       "      <td>-0.612910</td>\n",
       "      <td>1.826282</td>\n",
       "    </tr>\n",
       "    <tr>\n",
       "      <th>C</th>\n",
       "      <td>-1.230822</td>\n",
       "      <td>-0.088599</td>\n",
       "    </tr>\n",
       "    <tr>\n",
       "      <th rowspan=\"3\" valign=\"top\">baz</th>\n",
       "      <th>A</th>\n",
       "      <td>-0.949950</td>\n",
       "      <td>0.395107</td>\n",
       "    </tr>\n",
       "    <tr>\n",
       "      <th>B</th>\n",
       "      <td>-0.408047</td>\n",
       "      <td>0.095277</td>\n",
       "    </tr>\n",
       "    <tr>\n",
       "      <th>C</th>\n",
       "      <td>1.362447</td>\n",
       "      <td>-0.707378</td>\n",
       "    </tr>\n",
       "    <tr>\n",
       "      <th rowspan=\"3\" valign=\"top\">foo</th>\n",
       "      <th>A</th>\n",
       "      <td>-0.884275</td>\n",
       "      <td>-1.180846</td>\n",
       "    </tr>\n",
       "    <tr>\n",
       "      <th>B</th>\n",
       "      <td>0.323158</td>\n",
       "      <td>-1.092718</td>\n",
       "    </tr>\n",
       "    <tr>\n",
       "      <th>C</th>\n",
       "      <td>-0.334650</td>\n",
       "      <td>-0.218671</td>\n",
       "    </tr>\n",
       "    <tr>\n",
       "      <th rowspan=\"3\" valign=\"top\">qux</th>\n",
       "      <th>A</th>\n",
       "      <td>1.889797</td>\n",
       "      <td>-2.399960</td>\n",
       "    </tr>\n",
       "    <tr>\n",
       "      <th>B</th>\n",
       "      <td>-0.864348</td>\n",
       "      <td>0.967850</td>\n",
       "    </tr>\n",
       "    <tr>\n",
       "      <th>C</th>\n",
       "      <td>-2.347890</td>\n",
       "      <td>-0.552458</td>\n",
       "    </tr>\n",
       "  </tbody>\n",
       "</table>\n",
       "</div>"
      ],
      "text/plain": [
       "second        one       two\n",
       "first                      \n",
       "bar   A  0.988268 -0.025548\n",
       "      B -0.612910  1.826282\n",
       "      C -1.230822 -0.088599\n",
       "baz   A -0.949950  0.395107\n",
       "      B -0.408047  0.095277\n",
       "      C  1.362447 -0.707378\n",
       "foo   A -0.884275 -1.180846\n",
       "      B  0.323158 -1.092718\n",
       "      C -0.334650 -0.218671\n",
       "qux   A  1.889797 -2.399960\n",
       "      B -0.864348  0.967850\n",
       "      C -2.347890 -0.552458"
      ]
     },
     "execution_count": 154,
     "metadata": {},
     "output_type": "execute_result"
    }
   ],
   "source": [
    "unstacked1 = stacked.unstack(1)\n",
    "unstacked1"
   ]
  },
  {
   "cell_type": "code",
   "execution_count": 155,
   "id": "cda25652-31e8-4de8-8e4c-692bc15fee05",
   "metadata": {},
   "outputs": [
    {
     "data": {
      "text/html": [
       "<div>\n",
       "<style scoped>\n",
       "    .dataframe tbody tr th:only-of-type {\n",
       "        vertical-align: middle;\n",
       "    }\n",
       "\n",
       "    .dataframe tbody tr th {\n",
       "        vertical-align: top;\n",
       "    }\n",
       "\n",
       "    .dataframe thead th {\n",
       "        text-align: right;\n",
       "    }\n",
       "</style>\n",
       "<table border=\"1\" class=\"dataframe\">\n",
       "  <thead>\n",
       "    <tr style=\"text-align: right;\">\n",
       "      <th></th>\n",
       "      <th>first</th>\n",
       "      <th>bar</th>\n",
       "      <th>baz</th>\n",
       "      <th>foo</th>\n",
       "      <th>qux</th>\n",
       "    </tr>\n",
       "    <tr>\n",
       "      <th>second</th>\n",
       "      <th></th>\n",
       "      <th></th>\n",
       "      <th></th>\n",
       "      <th></th>\n",
       "      <th></th>\n",
       "    </tr>\n",
       "  </thead>\n",
       "  <tbody>\n",
       "    <tr>\n",
       "      <th rowspan=\"3\" valign=\"top\">one</th>\n",
       "      <th>A</th>\n",
       "      <td>0.988268</td>\n",
       "      <td>-0.949950</td>\n",
       "      <td>-0.884275</td>\n",
       "      <td>1.889797</td>\n",
       "    </tr>\n",
       "    <tr>\n",
       "      <th>B</th>\n",
       "      <td>-0.612910</td>\n",
       "      <td>-0.408047</td>\n",
       "      <td>0.323158</td>\n",
       "      <td>-0.864348</td>\n",
       "    </tr>\n",
       "    <tr>\n",
       "      <th>C</th>\n",
       "      <td>-1.230822</td>\n",
       "      <td>1.362447</td>\n",
       "      <td>-0.334650</td>\n",
       "      <td>-2.347890</td>\n",
       "    </tr>\n",
       "    <tr>\n",
       "      <th rowspan=\"3\" valign=\"top\">two</th>\n",
       "      <th>A</th>\n",
       "      <td>-0.025548</td>\n",
       "      <td>0.395107</td>\n",
       "      <td>-1.180846</td>\n",
       "      <td>-2.399960</td>\n",
       "    </tr>\n",
       "    <tr>\n",
       "      <th>B</th>\n",
       "      <td>1.826282</td>\n",
       "      <td>0.095277</td>\n",
       "      <td>-1.092718</td>\n",
       "      <td>0.967850</td>\n",
       "    </tr>\n",
       "    <tr>\n",
       "      <th>C</th>\n",
       "      <td>-0.088599</td>\n",
       "      <td>-0.707378</td>\n",
       "      <td>-0.218671</td>\n",
       "      <td>-0.552458</td>\n",
       "    </tr>\n",
       "  </tbody>\n",
       "</table>\n",
       "</div>"
      ],
      "text/plain": [
       "first          bar       baz       foo       qux\n",
       "second                                          \n",
       "one    A  0.988268 -0.949950 -0.884275  1.889797\n",
       "       B -0.612910 -0.408047  0.323158 -0.864348\n",
       "       C -1.230822  1.362447 -0.334650 -2.347890\n",
       "two    A -0.025548  0.395107 -1.180846 -2.399960\n",
       "       B  1.826282  0.095277 -1.092718  0.967850\n",
       "       C -0.088599 -0.707378 -0.218671 -0.552458"
      ]
     },
     "execution_count": 155,
     "metadata": {},
     "output_type": "execute_result"
    }
   ],
   "source": [
    "unstacked0 = stacked.unstack(0)\n",
    "unstacked0"
   ]
  },
  {
   "cell_type": "code",
   "execution_count": 156,
   "id": "46b6323a-e8c9-49dc-9a21-db5dd8c07895",
   "metadata": {},
   "outputs": [
    {
     "data": {
      "text/html": [
       "<div>\n",
       "<style scoped>\n",
       "    .dataframe tbody tr th:only-of-type {\n",
       "        vertical-align: middle;\n",
       "    }\n",
       "\n",
       "    .dataframe tbody tr th {\n",
       "        vertical-align: top;\n",
       "    }\n",
       "\n",
       "    .dataframe thead th {\n",
       "        text-align: right;\n",
       "    }\n",
       "</style>\n",
       "<table border=\"1\" class=\"dataframe\">\n",
       "  <thead>\n",
       "    <tr style=\"text-align: right;\">\n",
       "      <th></th>\n",
       "      <th>A</th>\n",
       "      <th>B</th>\n",
       "      <th>C</th>\n",
       "      <th>D</th>\n",
       "      <th>E</th>\n",
       "    </tr>\n",
       "  </thead>\n",
       "  <tbody>\n",
       "    <tr>\n",
       "      <th>0</th>\n",
       "      <td>one</td>\n",
       "      <td>A</td>\n",
       "      <td>foo</td>\n",
       "      <td>0.608358</td>\n",
       "      <td>0.648707</td>\n",
       "    </tr>\n",
       "    <tr>\n",
       "      <th>1</th>\n",
       "      <td>one</td>\n",
       "      <td>B</td>\n",
       "      <td>foo</td>\n",
       "      <td>-2.147429</td>\n",
       "      <td>-1.029367</td>\n",
       "    </tr>\n",
       "    <tr>\n",
       "      <th>2</th>\n",
       "      <td>two</td>\n",
       "      <td>C</td>\n",
       "      <td>foo</td>\n",
       "      <td>-0.107501</td>\n",
       "      <td>0.408963</td>\n",
       "    </tr>\n",
       "    <tr>\n",
       "      <th>3</th>\n",
       "      <td>three</td>\n",
       "      <td>A</td>\n",
       "      <td>bar</td>\n",
       "      <td>0.854890</td>\n",
       "      <td>1.396889</td>\n",
       "    </tr>\n",
       "    <tr>\n",
       "      <th>4</th>\n",
       "      <td>one</td>\n",
       "      <td>B</td>\n",
       "      <td>bar</td>\n",
       "      <td>-0.161653</td>\n",
       "      <td>2.788226</td>\n",
       "    </tr>\n",
       "    <tr>\n",
       "      <th>5</th>\n",
       "      <td>one</td>\n",
       "      <td>C</td>\n",
       "      <td>bar</td>\n",
       "      <td>1.184131</td>\n",
       "      <td>-1.216532</td>\n",
       "    </tr>\n",
       "    <tr>\n",
       "      <th>6</th>\n",
       "      <td>two</td>\n",
       "      <td>A</td>\n",
       "      <td>foo</td>\n",
       "      <td>0.424723</td>\n",
       "      <td>-1.482006</td>\n",
       "    </tr>\n",
       "    <tr>\n",
       "      <th>7</th>\n",
       "      <td>three</td>\n",
       "      <td>B</td>\n",
       "      <td>foo</td>\n",
       "      <td>-0.177372</td>\n",
       "      <td>-0.107217</td>\n",
       "    </tr>\n",
       "    <tr>\n",
       "      <th>8</th>\n",
       "      <td>one</td>\n",
       "      <td>C</td>\n",
       "      <td>foo</td>\n",
       "      <td>-1.400107</td>\n",
       "      <td>0.770085</td>\n",
       "    </tr>\n",
       "    <tr>\n",
       "      <th>9</th>\n",
       "      <td>one</td>\n",
       "      <td>A</td>\n",
       "      <td>bar</td>\n",
       "      <td>0.058146</td>\n",
       "      <td>0.850659</td>\n",
       "    </tr>\n",
       "    <tr>\n",
       "      <th>10</th>\n",
       "      <td>two</td>\n",
       "      <td>B</td>\n",
       "      <td>bar</td>\n",
       "      <td>1.476599</td>\n",
       "      <td>-0.576360</td>\n",
       "    </tr>\n",
       "    <tr>\n",
       "      <th>11</th>\n",
       "      <td>three</td>\n",
       "      <td>C</td>\n",
       "      <td>bar</td>\n",
       "      <td>0.260143</td>\n",
       "      <td>0.142179</td>\n",
       "    </tr>\n",
       "  </tbody>\n",
       "</table>\n",
       "</div>"
      ],
      "text/plain": [
       "        A  B    C         D         E\n",
       "0     one  A  foo  0.608358  0.648707\n",
       "1     one  B  foo -2.147429 -1.029367\n",
       "2     two  C  foo -0.107501  0.408963\n",
       "3   three  A  bar  0.854890  1.396889\n",
       "4     one  B  bar -0.161653  2.788226\n",
       "5     one  C  bar  1.184131 -1.216532\n",
       "6     two  A  foo  0.424723 -1.482006\n",
       "7   three  B  foo -0.177372 -0.107217\n",
       "8     one  C  foo -1.400107  0.770085\n",
       "9     one  A  bar  0.058146  0.850659\n",
       "10    two  B  bar  1.476599 -0.576360\n",
       "11  three  C  bar  0.260143  0.142179"
      ]
     },
     "execution_count": 156,
     "metadata": {},
     "output_type": "execute_result"
    }
   ],
   "source": [
    "df = pd.DataFrame(\n",
    "    {\n",
    "        \"A\" : [\"one\", \"one\", \"two\", \"three\"] * 3,\n",
    "        \"B\" : [\"A\", \"B\", \"C\"] * 4,\n",
    "        \"C\" : [\"foo\", \"foo\", \"foo\", \"bar\", \"bar\", \"bar\"] * 2,\n",
    "        \"D\" : np.random.randn(12),\n",
    "        \"E\" : np.random.randn(12)\n",
    "    }\n",
    ")\n",
    "df"
   ]
  },
  {
   "cell_type": "code",
   "execution_count": 157,
   "id": "ff2c09ac-b1d9-4e02-ad90-03d204d6a0e9",
   "metadata": {},
   "outputs": [
    {
     "data": {
      "text/html": [
       "<div>\n",
       "<style scoped>\n",
       "    .dataframe tbody tr th:only-of-type {\n",
       "        vertical-align: middle;\n",
       "    }\n",
       "\n",
       "    .dataframe tbody tr th {\n",
       "        vertical-align: top;\n",
       "    }\n",
       "\n",
       "    .dataframe thead th {\n",
       "        text-align: right;\n",
       "    }\n",
       "</style>\n",
       "<table border=\"1\" class=\"dataframe\">\n",
       "  <thead>\n",
       "    <tr style=\"text-align: right;\">\n",
       "      <th></th>\n",
       "      <th>C</th>\n",
       "      <th>bar</th>\n",
       "      <th>foo</th>\n",
       "    </tr>\n",
       "    <tr>\n",
       "      <th>A</th>\n",
       "      <th>B</th>\n",
       "      <th></th>\n",
       "      <th></th>\n",
       "    </tr>\n",
       "  </thead>\n",
       "  <tbody>\n",
       "    <tr>\n",
       "      <th rowspan=\"3\" valign=\"top\">one</th>\n",
       "      <th>A</th>\n",
       "      <td>0.058146</td>\n",
       "      <td>0.608358</td>\n",
       "    </tr>\n",
       "    <tr>\n",
       "      <th>B</th>\n",
       "      <td>-0.161653</td>\n",
       "      <td>-2.147429</td>\n",
       "    </tr>\n",
       "    <tr>\n",
       "      <th>C</th>\n",
       "      <td>1.184131</td>\n",
       "      <td>-1.400107</td>\n",
       "    </tr>\n",
       "    <tr>\n",
       "      <th rowspan=\"3\" valign=\"top\">three</th>\n",
       "      <th>A</th>\n",
       "      <td>0.854890</td>\n",
       "      <td>NaN</td>\n",
       "    </tr>\n",
       "    <tr>\n",
       "      <th>B</th>\n",
       "      <td>NaN</td>\n",
       "      <td>-0.177372</td>\n",
       "    </tr>\n",
       "    <tr>\n",
       "      <th>C</th>\n",
       "      <td>0.260143</td>\n",
       "      <td>NaN</td>\n",
       "    </tr>\n",
       "    <tr>\n",
       "      <th rowspan=\"3\" valign=\"top\">two</th>\n",
       "      <th>A</th>\n",
       "      <td>NaN</td>\n",
       "      <td>0.424723</td>\n",
       "    </tr>\n",
       "    <tr>\n",
       "      <th>B</th>\n",
       "      <td>1.476599</td>\n",
       "      <td>NaN</td>\n",
       "    </tr>\n",
       "    <tr>\n",
       "      <th>C</th>\n",
       "      <td>NaN</td>\n",
       "      <td>-0.107501</td>\n",
       "    </tr>\n",
       "  </tbody>\n",
       "</table>\n",
       "</div>"
      ],
      "text/plain": [
       "C             bar       foo\n",
       "A     B                    \n",
       "one   A  0.058146  0.608358\n",
       "      B -0.161653 -2.147429\n",
       "      C  1.184131 -1.400107\n",
       "three A  0.854890       NaN\n",
       "      B       NaN -0.177372\n",
       "      C  0.260143       NaN\n",
       "two   A       NaN  0.424723\n",
       "      B  1.476599       NaN\n",
       "      C       NaN -0.107501"
      ]
     },
     "execution_count": 157,
     "metadata": {},
     "output_type": "execute_result"
    }
   ],
   "source": [
    "pt = pd.pivot_table(df, values = \"D\", index = [\"A\", \"B\"], columns = [\"C\"])\n",
    "pt"
   ]
  },
  {
   "cell_type": "code",
   "execution_count": 158,
   "id": "b6f4ac03-dd79-4c5e-a48b-d256a408b23a",
   "metadata": {},
   "outputs": [
    {
     "data": {
      "text/plain": [
       "DatetimeIndex(['2024-01-01 00:00:00', '2024-01-01 00:00:01',\n",
       "               '2024-01-01 00:00:02', '2024-01-01 00:00:03',\n",
       "               '2024-01-01 00:00:04', '2024-01-01 00:00:05',\n",
       "               '2024-01-01 00:00:06', '2024-01-01 00:00:07',\n",
       "               '2024-01-01 00:00:08', '2024-01-01 00:00:09',\n",
       "               '2024-01-01 00:00:10', '2024-01-01 00:00:11',\n",
       "               '2024-01-01 00:00:12', '2024-01-01 00:00:13',\n",
       "               '2024-01-01 00:00:14', '2024-01-01 00:00:15',\n",
       "               '2024-01-01 00:00:16', '2024-01-01 00:00:17',\n",
       "               '2024-01-01 00:00:18', '2024-01-01 00:00:19',\n",
       "               '2024-01-01 00:00:20', '2024-01-01 00:00:21',\n",
       "               '2024-01-01 00:00:22', '2024-01-01 00:00:23',\n",
       "               '2024-01-01 00:00:24', '2024-01-01 00:00:25',\n",
       "               '2024-01-01 00:00:26', '2024-01-01 00:00:27',\n",
       "               '2024-01-01 00:00:28', '2024-01-01 00:00:29',\n",
       "               '2024-01-01 00:00:30', '2024-01-01 00:00:31',\n",
       "               '2024-01-01 00:00:32', '2024-01-01 00:00:33',\n",
       "               '2024-01-01 00:00:34', '2024-01-01 00:00:35',\n",
       "               '2024-01-01 00:00:36', '2024-01-01 00:00:37',\n",
       "               '2024-01-01 00:00:38', '2024-01-01 00:00:39',\n",
       "               '2024-01-01 00:00:40', '2024-01-01 00:00:41',\n",
       "               '2024-01-01 00:00:42', '2024-01-01 00:00:43',\n",
       "               '2024-01-01 00:00:44', '2024-01-01 00:00:45',\n",
       "               '2024-01-01 00:00:46', '2024-01-01 00:00:47',\n",
       "               '2024-01-01 00:00:48', '2024-01-01 00:00:49',\n",
       "               '2024-01-01 00:00:50', '2024-01-01 00:00:51',\n",
       "               '2024-01-01 00:00:52', '2024-01-01 00:00:53',\n",
       "               '2024-01-01 00:00:54', '2024-01-01 00:00:55',\n",
       "               '2024-01-01 00:00:56', '2024-01-01 00:00:57',\n",
       "               '2024-01-01 00:00:58', '2024-01-01 00:00:59',\n",
       "               '2024-01-01 00:01:00', '2024-01-01 00:01:01',\n",
       "               '2024-01-01 00:01:02', '2024-01-01 00:01:03',\n",
       "               '2024-01-01 00:01:04', '2024-01-01 00:01:05',\n",
       "               '2024-01-01 00:01:06', '2024-01-01 00:01:07',\n",
       "               '2024-01-01 00:01:08', '2024-01-01 00:01:09',\n",
       "               '2024-01-01 00:01:10', '2024-01-01 00:01:11',\n",
       "               '2024-01-01 00:01:12', '2024-01-01 00:01:13',\n",
       "               '2024-01-01 00:01:14', '2024-01-01 00:01:15',\n",
       "               '2024-01-01 00:01:16', '2024-01-01 00:01:17',\n",
       "               '2024-01-01 00:01:18', '2024-01-01 00:01:19',\n",
       "               '2024-01-01 00:01:20', '2024-01-01 00:01:21',\n",
       "               '2024-01-01 00:01:22', '2024-01-01 00:01:23',\n",
       "               '2024-01-01 00:01:24', '2024-01-01 00:01:25',\n",
       "               '2024-01-01 00:01:26', '2024-01-01 00:01:27',\n",
       "               '2024-01-01 00:01:28', '2024-01-01 00:01:29',\n",
       "               '2024-01-01 00:01:30', '2024-01-01 00:01:31',\n",
       "               '2024-01-01 00:01:32', '2024-01-01 00:01:33',\n",
       "               '2024-01-01 00:01:34', '2024-01-01 00:01:35',\n",
       "               '2024-01-01 00:01:36', '2024-01-01 00:01:37',\n",
       "               '2024-01-01 00:01:38', '2024-01-01 00:01:39'],\n",
       "              dtype='datetime64[ns]', freq='s')"
      ]
     },
     "execution_count": 158,
     "metadata": {},
     "output_type": "execute_result"
    }
   ],
   "source": [
    "rng = pd.date_range(\"1/1/2024\", periods = 100, freq = \"s\")\n",
    "rng"
   ]
  },
  {
   "cell_type": "code",
   "execution_count": 159,
   "id": "b7a22bd7-2136-404b-a69f-3df0718450a8",
   "metadata": {},
   "outputs": [
    {
     "data": {
      "text/plain": [
       "pandas.core.indexes.datetimes.DatetimeIndex"
      ]
     },
     "execution_count": 159,
     "metadata": {},
     "output_type": "execute_result"
    }
   ],
   "source": [
    "type(rng)"
   ]
  },
  {
   "cell_type": "code",
   "execution_count": 160,
   "id": "68688c2a-a0b6-4a11-b861-2d6e8798fd34",
   "metadata": {},
   "outputs": [
    {
     "data": {
      "text/plain": [
       "2024-01-01 00:00:00    458\n",
       "2024-01-01 00:00:01    263\n",
       "2024-01-01 00:00:02    177\n",
       "2024-01-01 00:00:03    313\n",
       "2024-01-01 00:00:04     11\n",
       "                      ... \n",
       "2024-01-01 00:01:35     11\n",
       "2024-01-01 00:01:36    187\n",
       "2024-01-01 00:01:37    494\n",
       "2024-01-01 00:01:38    282\n",
       "2024-01-01 00:01:39    155\n",
       "Freq: s, Length: 100, dtype: int32"
      ]
     },
     "execution_count": 160,
     "metadata": {},
     "output_type": "execute_result"
    }
   ],
   "source": [
    "ts = pd.Series(np.random.randint(0, 500, len(rng)), rng)\n",
    "ts"
   ]
  },
  {
   "cell_type": "code",
   "execution_count": 161,
   "id": "64e07470-afba-4724-9015-7e13f9d8f12b",
   "metadata": {},
   "outputs": [
    {
     "data": {
      "text/plain": [
       "2024-01-01    24720\n",
       "Freq: 5min, dtype: int32"
      ]
     },
     "execution_count": 161,
     "metadata": {},
     "output_type": "execute_result"
    }
   ],
   "source": [
    "ts.resample(\"5Min\").sum()"
   ]
  },
  {
   "cell_type": "code",
   "execution_count": 162,
   "id": "eaba51a2-036b-41bb-9c9f-d61b8d08b884",
   "metadata": {},
   "outputs": [
    {
     "data": {
      "text/plain": [
       "DatetimeIndex(['2024-03-06', '2024-03-07', '2024-03-08', '2024-03-09',\n",
       "               '2024-03-10'],\n",
       "              dtype='datetime64[ns]', freq='D')"
      ]
     },
     "execution_count": 162,
     "metadata": {},
     "output_type": "execute_result"
    }
   ],
   "source": [
    "rng2 = pd.date_range(\"3/6/2024 00:00\", periods = 5, freq = \"D\")\n",
    "rng2"
   ]
  },
  {
   "cell_type": "code",
   "execution_count": 163,
   "id": "dff79867-f4d0-4541-81eb-473140e35cdb",
   "metadata": {},
   "outputs": [
    {
     "data": {
      "text/plain": [
       "2024-03-06   -0.421065\n",
       "2024-03-07    0.664841\n",
       "2024-03-08   -0.376946\n",
       "2024-03-09    0.959321\n",
       "2024-03-10    0.220258\n",
       "Freq: D, dtype: float64"
      ]
     },
     "execution_count": 163,
     "metadata": {},
     "output_type": "execute_result"
    }
   ],
   "source": [
    "ts = pd.Series(np.random.randn(len(rng2)), rng2)\n",
    "ts"
   ]
  },
  {
   "cell_type": "code",
   "execution_count": 164,
   "id": "31725763-4285-4e5e-b16a-3b16bc8a2103",
   "metadata": {},
   "outputs": [
    {
     "data": {
      "text/plain": [
       "2024-03-06 00:00:00+00:00   -0.421065\n",
       "2024-03-07 00:00:00+00:00    0.664841\n",
       "2024-03-08 00:00:00+00:00   -0.376946\n",
       "2024-03-09 00:00:00+00:00    0.959321\n",
       "2024-03-10 00:00:00+00:00    0.220258\n",
       "Freq: D, dtype: float64"
      ]
     },
     "execution_count": 164,
     "metadata": {},
     "output_type": "execute_result"
    }
   ],
   "source": [
    "ts_utc = ts.tz_localize(\"UTC\")\n",
    "ts_utc"
   ]
  },
  {
   "cell_type": "code",
   "execution_count": 165,
   "id": "29eee742-94ee-4a1d-8852-58e8d3030168",
   "metadata": {},
   "outputs": [
    {
     "data": {
      "text/plain": [
       "2024-03-05 19:00:00-05:00   -0.421065\n",
       "2024-03-06 19:00:00-05:00    0.664841\n",
       "2024-03-07 19:00:00-05:00   -0.376946\n",
       "2024-03-08 19:00:00-05:00    0.959321\n",
       "2024-03-09 19:00:00-05:00    0.220258\n",
       "Freq: D, dtype: float64"
      ]
     },
     "execution_count": 165,
     "metadata": {},
     "output_type": "execute_result"
    }
   ],
   "source": [
    "ts_utc.tz_convert(\"US/Eastern\")"
   ]
  },
  {
   "cell_type": "code",
   "execution_count": 166,
   "id": "08fba1af-0da6-4e4f-a5f2-6a4e0ab8df7e",
   "metadata": {},
   "outputs": [
    {
     "data": {
      "text/plain": [
       "DatetimeIndex(['2024-03-06', '2024-03-07', '2024-03-08', '2024-03-09',\n",
       "               '2024-03-10'],\n",
       "              dtype='datetime64[ns]', freq='D')"
      ]
     },
     "execution_count": 166,
     "metadata": {},
     "output_type": "execute_result"
    }
   ],
   "source": [
    "rng2"
   ]
  },
  {
   "cell_type": "code",
   "execution_count": 174,
   "id": "6a600709-0615-4fd4-b204-0dcd5fe73f06",
   "metadata": {},
   "outputs": [
    {
     "data": {
      "text/plain": [
       "DatetimeIndex(['2024-03-13', '2024-03-14', '2024-03-15', '2024-03-15',\n",
       "               '2024-03-15'],\n",
       "              dtype='datetime64[ns]', freq=None)"
      ]
     },
     "execution_count": 174,
     "metadata": {},
     "output_type": "execute_result"
    }
   ],
   "source": [
    "rng2 + pd.offsets.BusinessDay(5)"
   ]
  },
  {
   "cell_type": "code",
   "execution_count": 176,
   "id": "d0325920-0054-420a-8ef9-068e61562862",
   "metadata": {},
   "outputs": [
    {
     "data": {
      "text/html": [
       "<div>\n",
       "<style scoped>\n",
       "    .dataframe tbody tr th:only-of-type {\n",
       "        vertical-align: middle;\n",
       "    }\n",
       "\n",
       "    .dataframe tbody tr th {\n",
       "        vertical-align: top;\n",
       "    }\n",
       "\n",
       "    .dataframe thead th {\n",
       "        text-align: right;\n",
       "    }\n",
       "</style>\n",
       "<table border=\"1\" class=\"dataframe\">\n",
       "  <thead>\n",
       "    <tr style=\"text-align: right;\">\n",
       "      <th></th>\n",
       "      <th>id</th>\n",
       "      <th>raw_grade</th>\n",
       "    </tr>\n",
       "  </thead>\n",
       "  <tbody>\n",
       "    <tr>\n",
       "      <th>0</th>\n",
       "      <td>1</td>\n",
       "      <td>a</td>\n",
       "    </tr>\n",
       "    <tr>\n",
       "      <th>1</th>\n",
       "      <td>2</td>\n",
       "      <td>b</td>\n",
       "    </tr>\n",
       "    <tr>\n",
       "      <th>2</th>\n",
       "      <td>3</td>\n",
       "      <td>b</td>\n",
       "    </tr>\n",
       "    <tr>\n",
       "      <th>3</th>\n",
       "      <td>4</td>\n",
       "      <td>a</td>\n",
       "    </tr>\n",
       "    <tr>\n",
       "      <th>4</th>\n",
       "      <td>5</td>\n",
       "      <td>a</td>\n",
       "    </tr>\n",
       "    <tr>\n",
       "      <th>5</th>\n",
       "      <td>6</td>\n",
       "      <td>e</td>\n",
       "    </tr>\n",
       "  </tbody>\n",
       "</table>\n",
       "</div>"
      ],
      "text/plain": [
       "   id raw_grade\n",
       "0   1         a\n",
       "1   2         b\n",
       "2   3         b\n",
       "3   4         a\n",
       "4   5         a\n",
       "5   6         e"
      ]
     },
     "execution_count": 176,
     "metadata": {},
     "output_type": "execute_result"
    }
   ],
   "source": [
    "df = pd.DataFrame(\n",
    "    {\"id\" : [1, 2, 3, 4, 5, 6],\n",
    "     \"raw_grade\" : [\"a\", \"b\", \"b\", \"a\", \"a\", \"e\"]\n",
    "    }\n",
    ")\n",
    "df"
   ]
  },
  {
   "cell_type": "code",
   "execution_count": 177,
   "id": "3859486c-31b9-468c-80ef-179b3c66bf88",
   "metadata": {},
   "outputs": [
    {
     "data": {
      "text/plain": [
       "0    a\n",
       "1    b\n",
       "2    b\n",
       "3    a\n",
       "4    a\n",
       "5    e\n",
       "Name: grade, dtype: category\n",
       "Categories (3, object): ['a', 'b', 'e']"
      ]
     },
     "execution_count": 177,
     "metadata": {},
     "output_type": "execute_result"
    }
   ],
   "source": [
    "df[\"grade\"] = df[\"raw_grade\"].astype(\"category\")\n",
    "df[\"grade\"]"
   ]
  },
  {
   "cell_type": "code",
   "execution_count": 178,
   "id": "fc0a692f-f679-4437-b93b-56ec43a90017",
   "metadata": {},
   "outputs": [
    {
     "data": {
      "text/plain": [
       "0    very good\n",
       "1         good\n",
       "2         good\n",
       "3    very good\n",
       "4    very good\n",
       "5     very bad\n",
       "Name: grade, dtype: category\n",
       "Categories (3, object): ['very good', 'good', 'very bad']"
      ]
     },
     "execution_count": 178,
     "metadata": {},
     "output_type": "execute_result"
    }
   ],
   "source": [
    "new_categories = [\"very good\", \"good\", \"very bad\"]\n",
    "df[\"grade\"] = df[\"grade\"].cat.rename_categories(new_categories)\n",
    "df[\"grade\"]"
   ]
  },
  {
   "cell_type": "code",
   "execution_count": 179,
   "id": "0ebb5cb2-4efb-4c0a-8a9b-513126483bc2",
   "metadata": {},
   "outputs": [
    {
     "data": {
      "text/html": [
       "<div>\n",
       "<style scoped>\n",
       "    .dataframe tbody tr th:only-of-type {\n",
       "        vertical-align: middle;\n",
       "    }\n",
       "\n",
       "    .dataframe tbody tr th {\n",
       "        vertical-align: top;\n",
       "    }\n",
       "\n",
       "    .dataframe thead th {\n",
       "        text-align: right;\n",
       "    }\n",
       "</style>\n",
       "<table border=\"1\" class=\"dataframe\">\n",
       "  <thead>\n",
       "    <tr style=\"text-align: right;\">\n",
       "      <th></th>\n",
       "      <th>id</th>\n",
       "      <th>raw_grade</th>\n",
       "      <th>grade</th>\n",
       "    </tr>\n",
       "  </thead>\n",
       "  <tbody>\n",
       "    <tr>\n",
       "      <th>0</th>\n",
       "      <td>1</td>\n",
       "      <td>a</td>\n",
       "      <td>very good</td>\n",
       "    </tr>\n",
       "    <tr>\n",
       "      <th>1</th>\n",
       "      <td>2</td>\n",
       "      <td>b</td>\n",
       "      <td>good</td>\n",
       "    </tr>\n",
       "    <tr>\n",
       "      <th>2</th>\n",
       "      <td>3</td>\n",
       "      <td>b</td>\n",
       "      <td>good</td>\n",
       "    </tr>\n",
       "    <tr>\n",
       "      <th>3</th>\n",
       "      <td>4</td>\n",
       "      <td>a</td>\n",
       "      <td>very good</td>\n",
       "    </tr>\n",
       "    <tr>\n",
       "      <th>4</th>\n",
       "      <td>5</td>\n",
       "      <td>a</td>\n",
       "      <td>very good</td>\n",
       "    </tr>\n",
       "    <tr>\n",
       "      <th>5</th>\n",
       "      <td>6</td>\n",
       "      <td>e</td>\n",
       "      <td>very bad</td>\n",
       "    </tr>\n",
       "  </tbody>\n",
       "</table>\n",
       "</div>"
      ],
      "text/plain": [
       "   id raw_grade      grade\n",
       "0   1         a  very good\n",
       "1   2         b       good\n",
       "2   3         b       good\n",
       "3   4         a  very good\n",
       "4   5         a  very good\n",
       "5   6         e   very bad"
      ]
     },
     "execution_count": 179,
     "metadata": {},
     "output_type": "execute_result"
    }
   ],
   "source": [
    "df"
   ]
  },
  {
   "cell_type": "code",
   "execution_count": 180,
   "id": "e8ceb84e-0319-40a8-8861-86a95b5b5ef2",
   "metadata": {},
   "outputs": [
    {
     "data": {
      "text/plain": [
       "pandas.core.series.Series"
      ]
     },
     "execution_count": 180,
     "metadata": {},
     "output_type": "execute_result"
    }
   ],
   "source": [
    "type(df[\"grade\"])"
   ]
  },
  {
   "cell_type": "code",
   "execution_count": 182,
   "id": "e7ff43c8-a923-4812-a06f-dd44c9998757",
   "metadata": {},
   "outputs": [
    {
     "data": {
      "text/plain": [
       "0    very good\n",
       "1         good\n",
       "2         good\n",
       "3    very good\n",
       "4    very good\n",
       "5     very bad\n",
       "Name: grade, dtype: category\n",
       "Categories (5, object): ['very bad', 'bad', 'medium', 'good', 'very good']"
      ]
     },
     "execution_count": 182,
     "metadata": {},
     "output_type": "execute_result"
    }
   ],
   "source": [
    "df[\"grade\"] = df[\"grade\"].cat.set_categories(\n",
    "    [\"very bad\", \"bad\" ,\"medium\", \"good\", \"very good\"]\n",
    ")\n",
    "df[\"grade\"]"
   ]
  },
  {
   "cell_type": "code",
   "execution_count": 183,
   "id": "a5f2aeda-e55b-4b52-82a1-5a3a6229e309",
   "metadata": {},
   "outputs": [
    {
     "data": {
      "text/html": [
       "<div>\n",
       "<style scoped>\n",
       "    .dataframe tbody tr th:only-of-type {\n",
       "        vertical-align: middle;\n",
       "    }\n",
       "\n",
       "    .dataframe tbody tr th {\n",
       "        vertical-align: top;\n",
       "    }\n",
       "\n",
       "    .dataframe thead th {\n",
       "        text-align: right;\n",
       "    }\n",
       "</style>\n",
       "<table border=\"1\" class=\"dataframe\">\n",
       "  <thead>\n",
       "    <tr style=\"text-align: right;\">\n",
       "      <th></th>\n",
       "      <th>id</th>\n",
       "      <th>raw_grade</th>\n",
       "      <th>grade</th>\n",
       "    </tr>\n",
       "  </thead>\n",
       "  <tbody>\n",
       "    <tr>\n",
       "      <th>0</th>\n",
       "      <td>1</td>\n",
       "      <td>a</td>\n",
       "      <td>very good</td>\n",
       "    </tr>\n",
       "    <tr>\n",
       "      <th>1</th>\n",
       "      <td>2</td>\n",
       "      <td>b</td>\n",
       "      <td>good</td>\n",
       "    </tr>\n",
       "    <tr>\n",
       "      <th>2</th>\n",
       "      <td>3</td>\n",
       "      <td>b</td>\n",
       "      <td>good</td>\n",
       "    </tr>\n",
       "    <tr>\n",
       "      <th>3</th>\n",
       "      <td>4</td>\n",
       "      <td>a</td>\n",
       "      <td>very good</td>\n",
       "    </tr>\n",
       "    <tr>\n",
       "      <th>4</th>\n",
       "      <td>5</td>\n",
       "      <td>a</td>\n",
       "      <td>very good</td>\n",
       "    </tr>\n",
       "    <tr>\n",
       "      <th>5</th>\n",
       "      <td>6</td>\n",
       "      <td>e</td>\n",
       "      <td>very bad</td>\n",
       "    </tr>\n",
       "  </tbody>\n",
       "</table>\n",
       "</div>"
      ],
      "text/plain": [
       "   id raw_grade      grade\n",
       "0   1         a  very good\n",
       "1   2         b       good\n",
       "2   3         b       good\n",
       "3   4         a  very good\n",
       "4   5         a  very good\n",
       "5   6         e   very bad"
      ]
     },
     "execution_count": 183,
     "metadata": {},
     "output_type": "execute_result"
    }
   ],
   "source": [
    "df"
   ]
  },
  {
   "cell_type": "code",
   "execution_count": 184,
   "id": "6134f4d5-6e69-429d-8dde-5b73dcb6c9df",
   "metadata": {},
   "outputs": [
    {
     "data": {
      "text/html": [
       "<div>\n",
       "<style scoped>\n",
       "    .dataframe tbody tr th:only-of-type {\n",
       "        vertical-align: middle;\n",
       "    }\n",
       "\n",
       "    .dataframe tbody tr th {\n",
       "        vertical-align: top;\n",
       "    }\n",
       "\n",
       "    .dataframe thead th {\n",
       "        text-align: right;\n",
       "    }\n",
       "</style>\n",
       "<table border=\"1\" class=\"dataframe\">\n",
       "  <thead>\n",
       "    <tr style=\"text-align: right;\">\n",
       "      <th></th>\n",
       "      <th>id</th>\n",
       "      <th>raw_grade</th>\n",
       "      <th>grade</th>\n",
       "    </tr>\n",
       "  </thead>\n",
       "  <tbody>\n",
       "    <tr>\n",
       "      <th>5</th>\n",
       "      <td>6</td>\n",
       "      <td>e</td>\n",
       "      <td>very bad</td>\n",
       "    </tr>\n",
       "    <tr>\n",
       "      <th>1</th>\n",
       "      <td>2</td>\n",
       "      <td>b</td>\n",
       "      <td>good</td>\n",
       "    </tr>\n",
       "    <tr>\n",
       "      <th>2</th>\n",
       "      <td>3</td>\n",
       "      <td>b</td>\n",
       "      <td>good</td>\n",
       "    </tr>\n",
       "    <tr>\n",
       "      <th>0</th>\n",
       "      <td>1</td>\n",
       "      <td>a</td>\n",
       "      <td>very good</td>\n",
       "    </tr>\n",
       "    <tr>\n",
       "      <th>3</th>\n",
       "      <td>4</td>\n",
       "      <td>a</td>\n",
       "      <td>very good</td>\n",
       "    </tr>\n",
       "    <tr>\n",
       "      <th>4</th>\n",
       "      <td>5</td>\n",
       "      <td>a</td>\n",
       "      <td>very good</td>\n",
       "    </tr>\n",
       "  </tbody>\n",
       "</table>\n",
       "</div>"
      ],
      "text/plain": [
       "   id raw_grade      grade\n",
       "5   6         e   very bad\n",
       "1   2         b       good\n",
       "2   3         b       good\n",
       "0   1         a  very good\n",
       "3   4         a  very good\n",
       "4   5         a  very good"
      ]
     },
     "execution_count": 184,
     "metadata": {},
     "output_type": "execute_result"
    }
   ],
   "source": [
    "df.sort_values(by = \"grade\")"
   ]
  },
  {
   "cell_type": "code",
   "execution_count": 188,
   "id": "4b142ba7-d55b-4657-8d3b-217598820b91",
   "metadata": {},
   "outputs": [
    {
     "data": {
      "text/plain": [
       "grade\n",
       "very bad     1\n",
       "bad          0\n",
       "medium       0\n",
       "good         2\n",
       "very good    3\n",
       "dtype: int64"
      ]
     },
     "execution_count": 188,
     "metadata": {},
     "output_type": "execute_result"
    }
   ],
   "source": [
    "df.groupby(\"grade\", observed = False).size()"
   ]
  },
  {
   "cell_type": "code",
   "execution_count": 187,
   "id": "cdc526a8-612a-4bd0-bcf5-3aa1e28c6040",
   "metadata": {},
   "outputs": [
    {
     "data": {
      "text/plain": [
       "grade\n",
       "very bad     1\n",
       "good         2\n",
       "very good    3\n",
       "dtype: int64"
      ]
     },
     "execution_count": 187,
     "metadata": {},
     "output_type": "execute_result"
    }
   ],
   "source": [
    "df.groupby(\"grade\", observed = True).size()"
   ]
  },
  {
   "cell_type": "markdown",
   "id": "cd92965c-da4e-48b7-a51c-866c2ae3ffd9",
   "metadata": {},
   "source": [
    "## Read , Write and Store Tabular Data"
   ]
  },
  {
   "cell_type": "code",
   "execution_count": 192,
   "id": "6741230d-e6a7-4e6d-a2b8-e410c1cb6181",
   "metadata": {},
   "outputs": [],
   "source": [
    "df.to_csv(\"mycsv.csv\")"
   ]
  },
  {
   "cell_type": "code",
   "execution_count": 193,
   "id": "143fdec3-dacb-4e77-8565-c00b3a8ad49a",
   "metadata": {},
   "outputs": [],
   "source": [
    "mycsv = pd.read_csv(\"mycsv.csv\")"
   ]
  },
  {
   "cell_type": "code",
   "execution_count": 194,
   "id": "d8e9c5ae-c506-4e6e-9838-356c34762e68",
   "metadata": {},
   "outputs": [
    {
     "data": {
      "text/html": [
       "<div>\n",
       "<style scoped>\n",
       "    .dataframe tbody tr th:only-of-type {\n",
       "        vertical-align: middle;\n",
       "    }\n",
       "\n",
       "    .dataframe tbody tr th {\n",
       "        vertical-align: top;\n",
       "    }\n",
       "\n",
       "    .dataframe thead th {\n",
       "        text-align: right;\n",
       "    }\n",
       "</style>\n",
       "<table border=\"1\" class=\"dataframe\">\n",
       "  <thead>\n",
       "    <tr style=\"text-align: right;\">\n",
       "      <th></th>\n",
       "      <th>Unnamed: 0</th>\n",
       "      <th>id</th>\n",
       "      <th>raw_grade</th>\n",
       "      <th>grade</th>\n",
       "    </tr>\n",
       "  </thead>\n",
       "  <tbody>\n",
       "    <tr>\n",
       "      <th>0</th>\n",
       "      <td>0</td>\n",
       "      <td>1</td>\n",
       "      <td>a</td>\n",
       "      <td>very good</td>\n",
       "    </tr>\n",
       "    <tr>\n",
       "      <th>1</th>\n",
       "      <td>1</td>\n",
       "      <td>2</td>\n",
       "      <td>b</td>\n",
       "      <td>good</td>\n",
       "    </tr>\n",
       "    <tr>\n",
       "      <th>2</th>\n",
       "      <td>2</td>\n",
       "      <td>3</td>\n",
       "      <td>b</td>\n",
       "      <td>good</td>\n",
       "    </tr>\n",
       "    <tr>\n",
       "      <th>3</th>\n",
       "      <td>3</td>\n",
       "      <td>4</td>\n",
       "      <td>a</td>\n",
       "      <td>very good</td>\n",
       "    </tr>\n",
       "    <tr>\n",
       "      <th>4</th>\n",
       "      <td>4</td>\n",
       "      <td>5</td>\n",
       "      <td>a</td>\n",
       "      <td>very good</td>\n",
       "    </tr>\n",
       "    <tr>\n",
       "      <th>5</th>\n",
       "      <td>5</td>\n",
       "      <td>6</td>\n",
       "      <td>e</td>\n",
       "      <td>very bad</td>\n",
       "    </tr>\n",
       "  </tbody>\n",
       "</table>\n",
       "</div>"
      ],
      "text/plain": [
       "   Unnamed: 0  id raw_grade      grade\n",
       "0           0   1         a  very good\n",
       "1           1   2         b       good\n",
       "2           2   3         b       good\n",
       "3           3   4         a  very good\n",
       "4           4   5         a  very good\n",
       "5           5   6         e   very bad"
      ]
     },
     "execution_count": 194,
     "metadata": {},
     "output_type": "execute_result"
    }
   ],
   "source": [
    "mycsv"
   ]
  },
  {
   "cell_type": "code",
   "execution_count": 195,
   "id": "666a4825-abc2-47fe-af5d-df27084dedf5",
   "metadata": {},
   "outputs": [
    {
     "data": {
      "text/html": [
       "<div>\n",
       "<style scoped>\n",
       "    .dataframe tbody tr th:only-of-type {\n",
       "        vertical-align: middle;\n",
       "    }\n",
       "\n",
       "    .dataframe tbody tr th {\n",
       "        vertical-align: top;\n",
       "    }\n",
       "\n",
       "    .dataframe thead th {\n",
       "        text-align: right;\n",
       "    }\n",
       "</style>\n",
       "<table border=\"1\" class=\"dataframe\">\n",
       "  <thead>\n",
       "    <tr style=\"text-align: right;\">\n",
       "      <th></th>\n",
       "      <th>id</th>\n",
       "      <th>raw_grade</th>\n",
       "      <th>grade</th>\n",
       "    </tr>\n",
       "  </thead>\n",
       "  <tbody>\n",
       "    <tr>\n",
       "      <th>0</th>\n",
       "      <td>1</td>\n",
       "      <td>a</td>\n",
       "      <td>very good</td>\n",
       "    </tr>\n",
       "    <tr>\n",
       "      <th>1</th>\n",
       "      <td>2</td>\n",
       "      <td>b</td>\n",
       "      <td>good</td>\n",
       "    </tr>\n",
       "    <tr>\n",
       "      <th>2</th>\n",
       "      <td>3</td>\n",
       "      <td>b</td>\n",
       "      <td>good</td>\n",
       "    </tr>\n",
       "    <tr>\n",
       "      <th>3</th>\n",
       "      <td>4</td>\n",
       "      <td>a</td>\n",
       "      <td>very good</td>\n",
       "    </tr>\n",
       "    <tr>\n",
       "      <th>4</th>\n",
       "      <td>5</td>\n",
       "      <td>a</td>\n",
       "      <td>very good</td>\n",
       "    </tr>\n",
       "    <tr>\n",
       "      <th>5</th>\n",
       "      <td>6</td>\n",
       "      <td>e</td>\n",
       "      <td>very bad</td>\n",
       "    </tr>\n",
       "  </tbody>\n",
       "</table>\n",
       "</div>"
      ],
      "text/plain": [
       "   id raw_grade      grade\n",
       "0   1         a  very good\n",
       "1   2         b       good\n",
       "2   3         b       good\n",
       "3   4         a  very good\n",
       "4   5         a  very good\n",
       "5   6         e   very bad"
      ]
     },
     "execution_count": 195,
     "metadata": {},
     "output_type": "execute_result"
    }
   ],
   "source": [
    "df"
   ]
  },
  {
   "cell_type": "code",
   "execution_count": 196,
   "id": "6a9dfc2e-fde3-4420-a293-10e8beace985",
   "metadata": {},
   "outputs": [],
   "source": [
    "df.to_excel(\"myexcel.xlsx\")"
   ]
  },
  {
   "cell_type": "code",
   "execution_count": 198,
   "id": "e1d63456-0154-4eab-9e56-05e839c714b1",
   "metadata": {},
   "outputs": [],
   "source": [
    "myexcel = pd.read_excel(\"myexcel.xlsx\")"
   ]
  },
  {
   "cell_type": "code",
   "execution_count": 199,
   "id": "f5685cdb-c5e1-4569-a5a9-fc8119ee2e48",
   "metadata": {},
   "outputs": [
    {
     "data": {
      "text/html": [
       "<div>\n",
       "<style scoped>\n",
       "    .dataframe tbody tr th:only-of-type {\n",
       "        vertical-align: middle;\n",
       "    }\n",
       "\n",
       "    .dataframe tbody tr th {\n",
       "        vertical-align: top;\n",
       "    }\n",
       "\n",
       "    .dataframe thead th {\n",
       "        text-align: right;\n",
       "    }\n",
       "</style>\n",
       "<table border=\"1\" class=\"dataframe\">\n",
       "  <thead>\n",
       "    <tr style=\"text-align: right;\">\n",
       "      <th></th>\n",
       "      <th>Unnamed: 0</th>\n",
       "      <th>id</th>\n",
       "      <th>raw_grade</th>\n",
       "      <th>grade</th>\n",
       "    </tr>\n",
       "  </thead>\n",
       "  <tbody>\n",
       "    <tr>\n",
       "      <th>0</th>\n",
       "      <td>0</td>\n",
       "      <td>1</td>\n",
       "      <td>a</td>\n",
       "      <td>very good</td>\n",
       "    </tr>\n",
       "    <tr>\n",
       "      <th>1</th>\n",
       "      <td>1</td>\n",
       "      <td>2</td>\n",
       "      <td>b</td>\n",
       "      <td>good</td>\n",
       "    </tr>\n",
       "    <tr>\n",
       "      <th>2</th>\n",
       "      <td>2</td>\n",
       "      <td>3</td>\n",
       "      <td>b</td>\n",
       "      <td>good</td>\n",
       "    </tr>\n",
       "    <tr>\n",
       "      <th>3</th>\n",
       "      <td>3</td>\n",
       "      <td>4</td>\n",
       "      <td>a</td>\n",
       "      <td>very good</td>\n",
       "    </tr>\n",
       "    <tr>\n",
       "      <th>4</th>\n",
       "      <td>4</td>\n",
       "      <td>5</td>\n",
       "      <td>a</td>\n",
       "      <td>very good</td>\n",
       "    </tr>\n",
       "    <tr>\n",
       "      <th>5</th>\n",
       "      <td>5</td>\n",
       "      <td>6</td>\n",
       "      <td>e</td>\n",
       "      <td>very bad</td>\n",
       "    </tr>\n",
       "  </tbody>\n",
       "</table>\n",
       "</div>"
      ],
      "text/plain": [
       "   Unnamed: 0  id raw_grade      grade\n",
       "0           0   1         a  very good\n",
       "1           1   2         b       good\n",
       "2           2   3         b       good\n",
       "3           3   4         a  very good\n",
       "4           4   5         a  very good\n",
       "5           5   6         e   very bad"
      ]
     },
     "execution_count": 199,
     "metadata": {},
     "output_type": "execute_result"
    }
   ],
   "source": [
    "myexcel"
   ]
  },
  {
   "cell_type": "code",
   "execution_count": 200,
   "id": "a8520177-3c0a-4d4e-8df6-9b4d75e1fc9d",
   "metadata": {},
   "outputs": [
    {
     "data": {
      "text/plain": [
       "pandas.core.frame.DataFrame"
      ]
     },
     "execution_count": 200,
     "metadata": {},
     "output_type": "execute_result"
    }
   ],
   "source": [
    "type(mycsv)"
   ]
  },
  {
   "cell_type": "code",
   "execution_count": 201,
   "id": "76f8d9aa-f42b-411b-a149-411d7d0ac09d",
   "metadata": {},
   "outputs": [
    {
     "data": {
      "text/plain": [
       "pandas.core.frame.DataFrame"
      ]
     },
     "execution_count": 201,
     "metadata": {},
     "output_type": "execute_result"
    }
   ],
   "source": [
    "type(myexcel)"
   ]
  },
  {
   "cell_type": "code",
   "execution_count": null,
   "id": "70af8d42-4e1c-4ce4-ad51-062ac2660b8c",
   "metadata": {},
   "outputs": [],
   "source": []
  }
 ],
 "metadata": {
  "kernelspec": {
   "display_name": "Python 3 (ipykernel)",
   "language": "python",
   "name": "python3"
  },
  "language_info": {
   "codemirror_mode": {
    "name": "ipython",
    "version": 3
   },
   "file_extension": ".py",
   "mimetype": "text/x-python",
   "name": "python",
   "nbconvert_exporter": "python",
   "pygments_lexer": "ipython3",
   "version": "3.11.5"
  }
 },
 "nbformat": 4,
 "nbformat_minor": 5
}
